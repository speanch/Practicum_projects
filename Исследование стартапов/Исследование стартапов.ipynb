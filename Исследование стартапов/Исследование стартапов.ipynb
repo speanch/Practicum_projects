{
 "cells": [
  {
   "cell_type": "markdown",
   "metadata": {
    "id": "4mJbK1knrJgz"
   },
   "source": [
    "# Проект: Исследовательский анализ стартапов\n",
    "- Автор: Сумароков Сергей\n",
    "- Дата: 25.02.2025"
   ]
  },
  {
   "cell_type": "markdown",
   "metadata": {
    "id": "P6j0r3worJg0"
   },
   "source": [
    "## Введение"
   ]
  },
  {
   "cell_type": "markdown",
   "metadata": {
    "id": "8lQtbsIUyFG6"
   },
   "source": [
    "Финансовая компания ищет выход на инвестиционный рынок для покупки, развития и последующей перепродажи стартапов. В условиях высокой конкуренции ей требуются глубокие аналитические исследования данных о стартапах для выявления прибыльных закономерностей. Необходимость в аутсорсинговых аналитиках обусловлена недостатком внутреннего опыта и неполнотой данных.\n",
    "\n",
    "### Цели  и задачи проекта:\n",
    "\n",
    "1. Подготовить датасет и проверить, что данные в нём соответствуют здравому смыслу \n",
    "2. Проверить достоверность информации о сотрудниках и их образовании.\n",
    "3. Исследовать аномалии, такие как покупки за 0 или 1 доллар, и выяснить причины их появления.\n",
    "4. Оценить влияние факторов (категория стартапов, количество раундов финансирования) на цену перед покупкой.\n",
    "5. Разработать методику визуализации численных показателей и трендов на рынке.\n",
    "6. Выявить ключевые показатели, увеличивающие вероятность успешной сделки.\n",
    "\n",
    "### Содержимое проекта:\n",
    "1. Загрузка данных и знакомство с ними.\n",
    "2. Предобработка данных, предварительное исследование.\n",
    "3. Исследовательский анализ данных объединенных таблиц.\n",
    "4. Итоговые выводы.\n",
    "\n",
    "---"
   ]
  },
  {
   "cell_type": "markdown",
   "metadata": {
    "id": "xqr6uttCrJg0"
   },
   "source": [
    "\n",
    "## Шаг 1. Знакомство с данными: загрузка и первичная предобработка\n",
    "\n",
    "Для анализа данных представлены следующие датасеты:\n",
    "* acquisition.csv - информация о покупках одними компаниями других компаний.\n",
    "* company_and_rounds.csv - информация о компаниях и раундах финансирования.\n",
    "* degrees.csv - информация о типе образования сотрудника.\n",
    "* education.csv - информация об образовании сотрудника\n",
    "* fund.csv - информация о фондах.\n",
    "* investment.csv - информация о раундах инвестирования.\n",
    "* people.csv - информация о сотрудниках.\n",
    "\n",
    "Они находятся в папке datasets, если вы выполняете работу на платформе. В случае, если вы делаете работу локально, доступ к файлам в папке можно получить по адресу `https://code.s3.yandex.net/datasets/` + имя файла.\n",
    "\n",
    "### Вывод общей информации, исправление названия столбцов"
   ]
  },
  {
   "cell_type": "markdown",
   "metadata": {},
   "source": [
    "Импортируем необходимые библиотеки:"
   ]
  },
  {
   "cell_type": "code",
   "execution_count": 1,
   "metadata": {},
   "outputs": [],
   "source": [
    "import pandas as pd\n",
    "import numpy as np\n",
    "import matplotlib.pyplot as plt\n",
    "import seaborn as sns"
   ]
  },
  {
   "cell_type": "code",
   "execution_count": 2,
   "metadata": {},
   "outputs": [
    {
     "name": "stdout",
     "output_type": "stream",
     "text": [
      "Requirement already satisfied: phik==0.11.1 in c:\\users\\sereg\\appdata\\local\\programs\\python\\python313\\lib\\site-packages (0.11.1)\n",
      "Requirement already satisfied: numpy>=1.18.0 in c:\\users\\sereg\\appdata\\local\\programs\\python\\python313\\lib\\site-packages (from phik==0.11.1) (2.2.2)\n",
      "Requirement already satisfied: scipy>=1.5.2 in c:\\users\\sereg\\appdata\\local\\programs\\python\\python313\\lib\\site-packages (from phik==0.11.1) (1.15.1)\n",
      "Requirement already satisfied: pandas>=0.25.1 in c:\\users\\sereg\\appdata\\local\\programs\\python\\python313\\lib\\site-packages (from phik==0.11.1) (2.2.3)\n",
      "Requirement already satisfied: matplotlib>=2.2.3 in c:\\users\\sereg\\appdata\\local\\programs\\python\\python313\\lib\\site-packages (from phik==0.11.1) (3.10.0)\n",
      "Requirement already satisfied: joblib>=0.14.1 in c:\\users\\sereg\\appdata\\local\\programs\\python\\python313\\lib\\site-packages (from phik==0.11.1) (1.4.2)\n",
      "Requirement already satisfied: contourpy>=1.0.1 in c:\\users\\sereg\\appdata\\local\\programs\\python\\python313\\lib\\site-packages (from matplotlib>=2.2.3->phik==0.11.1) (1.3.1)\n",
      "Requirement already satisfied: cycler>=0.10 in c:\\users\\sereg\\appdata\\local\\programs\\python\\python313\\lib\\site-packages (from matplotlib>=2.2.3->phik==0.11.1) (0.12.1)\n",
      "Requirement already satisfied: fonttools>=4.22.0 in c:\\users\\sereg\\appdata\\local\\programs\\python\\python313\\lib\\site-packages (from matplotlib>=2.2.3->phik==0.11.1) (4.56.0)\n",
      "Requirement already satisfied: kiwisolver>=1.3.1 in c:\\users\\sereg\\appdata\\local\\programs\\python\\python313\\lib\\site-packages (from matplotlib>=2.2.3->phik==0.11.1) (1.4.8)\n",
      "Requirement already satisfied: packaging>=20.0 in c:\\users\\sereg\\appdata\\local\\programs\\python\\python313\\lib\\site-packages (from matplotlib>=2.2.3->phik==0.11.1) (24.2)\n",
      "Requirement already satisfied: pillow>=8 in c:\\users\\sereg\\appdata\\local\\programs\\python\\python313\\lib\\site-packages (from matplotlib>=2.2.3->phik==0.11.1) (11.1.0)\n",
      "Requirement already satisfied: pyparsing>=2.3.1 in c:\\users\\sereg\\appdata\\local\\programs\\python\\python313\\lib\\site-packages (from matplotlib>=2.2.3->phik==0.11.1) (3.2.1)\n",
      "Requirement already satisfied: python-dateutil>=2.7 in c:\\users\\sereg\\appdata\\local\\programs\\python\\python313\\lib\\site-packages (from matplotlib>=2.2.3->phik==0.11.1) (2.9.0.post0)\n",
      "Requirement already satisfied: pytz>=2020.1 in c:\\users\\sereg\\appdata\\local\\programs\\python\\python313\\lib\\site-packages (from pandas>=0.25.1->phik==0.11.1) (2025.1)\n",
      "Requirement already satisfied: tzdata>=2022.7 in c:\\users\\sereg\\appdata\\local\\programs\\python\\python313\\lib\\site-packages (from pandas>=0.25.1->phik==0.11.1) (2025.1)\n",
      "Requirement already satisfied: six>=1.5 in c:\\users\\sereg\\appdata\\local\\programs\\python\\python313\\lib\\site-packages (from python-dateutil>=2.7->matplotlib>=2.2.3->phik==0.11.1) (1.17.0)\n"
     ]
    }
   ],
   "source": [
    "!pip install phik==0.11.1"
   ]
  },
  {
   "cell_type": "markdown",
   "metadata": {},
   "source": [
    "Загрузим данные по проекту. Чтобы не прописывать каждый раз метод read_csv создадим функцию `read_csv(dataset)`, которая будет возвращать объект DataFrame:"
   ]
  },
  {
   "cell_type": "code",
   "execution_count": 3,
   "metadata": {},
   "outputs": [],
   "source": [
    "# Функция read_csv принимает параметр dataset - файл .csv \n",
    "# и возвращает объект DataFrame\n",
    "\n",
    "def read_csv(df):\n",
    "    return pd.read_csv('datasets/' + df)"
   ]
  },
  {
   "cell_type": "markdown",
   "metadata": {},
   "source": [
    "Прочитаем все библиотеки и запишем в переменные:"
   ]
  },
  {
   "cell_type": "code",
   "execution_count": 4,
   "metadata": {},
   "outputs": [],
   "source": [
    "acquisition = read_csv('acquisition.csv')\n",
    "company_and_rounds = read_csv('company_and_rounds.csv')\n",
    "degrees = read_csv('degrees.csv')\n",
    "education = read_csv('education.csv')\n",
    "fund = read_csv('fund.csv')\n",
    "investment = read_csv('investment.csv')\n",
    "people = read_csv('people.csv')"
   ]
  },
  {
   "cell_type": "markdown",
   "metadata": {},
   "source": [
    "Занесем все переменные в список для дальнейшего использования в циклах `for`:"
   ]
  },
  {
   "cell_type": "code",
   "execution_count": 5,
   "metadata": {},
   "outputs": [],
   "source": [
    "df_list = [acquisition,\n",
    "           company_and_rounds,\n",
    "           education,\n",
    "           people,\n",
    "           degrees,\n",
    "           fund,\n",
    "           investment]"
   ]
  },
  {
   "cell_type": "markdown",
   "metadata": {},
   "source": [
    "Проверим названия столбцов всех датафреймов:"
   ]
  },
  {
   "cell_type": "code",
   "execution_count": 6,
   "metadata": {},
   "outputs": [
    {
     "name": "stdout",
     "output_type": "stream",
     "text": [
      "\n",
      "Index(['id', 'acquiring_company_id', 'acquired_company_id', 'term_code',\n",
      "       'price_amount', 'acquired_at'],\n",
      "      dtype='object')\n",
      "\n",
      "Index(['company  ID', 'name', 'category  code', 'status', 'founded  at',\n",
      "       'closed  at', 'domain', 'network  username', 'country  code',\n",
      "       'investment  rounds', 'funding  rounds', 'funding  total', 'milestones',\n",
      "       'funding  round  id', 'company  id', 'funded  at',\n",
      "       'funding  round  type', 'raised  amount', 'pre  money  valuation',\n",
      "       'participants', 'is  first  round', 'is  last  round'],\n",
      "      dtype='object')\n",
      "\n",
      "Index(['id', 'person_id', 'instituition', 'graduated_at'], dtype='object')\n",
      "\n",
      "Index(['id', 'first_name', 'last_name', 'company_id', 'network_username'], dtype='object')\n",
      "\n",
      "Index(['id', 'object_id', 'degree_type', 'subject'], dtype='object')\n",
      "\n",
      "Index(['id', 'name', 'founded_at', 'domain', 'network_username',\n",
      "       'country_code', 'investment_rounds', 'invested_companies',\n",
      "       'milestones'],\n",
      "      dtype='object')\n",
      "\n",
      "Index(['id', 'funding_round_id', 'company_id', 'fund_id'], dtype='object')\n"
     ]
    }
   ],
   "source": [
    "# Используем цикл for для вывода информации обо всех столбцах датафреймов\n",
    "for df in df_list:\n",
    "    print()\n",
    "    print(df.columns)"
   ]
  },
  {
   "cell_type": "markdown",
   "metadata": {},
   "source": [
    "В датафрейме `company_and_rounds` находятся два одинаковых столбца `company ID` и `company id`, скорее всего этот датафрейм состоит из двух датасетов, которые соеденили по `company_id`. Чтобы в дальнейшем не было ошибок, удалим второй столбец:"
   ]
  },
  {
   "cell_type": "code",
   "execution_count": 7,
   "metadata": {},
   "outputs": [],
   "source": [
    "company_and_rounds.drop('company  id', axis=1, inplace=True)"
   ]
  },
  {
   "cell_type": "markdown",
   "metadata": {},
   "source": [
    "Названия всех столбцов стоит привести к стилю написания snake_case, а также привести их к ниженму регистру. Напишем функцию `snake_case`, которая будет приводить названия столбцов датафрема к корректному виду:"
   ]
  },
  {
   "cell_type": "code",
   "execution_count": 8,
   "metadata": {},
   "outputs": [],
   "source": [
    "# Функция snake_case принимает столбец датафрейма и заменяет в его названии\n",
    "# пробелы на \"_\", а также приводит название к нижнему регистру\n",
    "\n",
    "def snake_case(column):\n",
    "    return column.lower().replace(' ', '_')"
   ]
  },
  {
   "cell_type": "code",
   "execution_count": 9,
   "metadata": {},
   "outputs": [
    {
     "name": "stdout",
     "output_type": "stream",
     "text": [
      "\n",
      "Index(['id', 'acquiring_company_id', 'acquired_company_id', 'term_code',\n",
      "       'price_amount', 'acquired_at'],\n",
      "      dtype='object')\n",
      "\n",
      "Index(['company__id', 'name', 'category__code', 'status', 'founded__at',\n",
      "       'closed__at', 'domain', 'network__username', 'country__code',\n",
      "       'investment__rounds', 'funding__rounds', 'funding__total', 'milestones',\n",
      "       'funding__round__id', 'funded__at', 'funding__round__type',\n",
      "       'raised__amount', 'pre__money__valuation', 'participants',\n",
      "       'is__first__round', 'is__last__round'],\n",
      "      dtype='object')\n",
      "\n",
      "Index(['id', 'person_id', 'instituition', 'graduated_at'], dtype='object')\n",
      "\n",
      "Index(['id', 'first_name', 'last_name', 'company_id', 'network_username'], dtype='object')\n",
      "\n",
      "Index(['id', 'object_id', 'degree_type', 'subject'], dtype='object')\n",
      "\n",
      "Index(['id', 'name', 'founded_at', 'domain', 'network_username',\n",
      "       'country_code', 'investment_rounds', 'invested_companies',\n",
      "       'milestones'],\n",
      "      dtype='object')\n",
      "\n",
      "Index(['id', 'funding_round_id', 'company_id', 'fund_id'], dtype='object')\n"
     ]
    }
   ],
   "source": [
    "# Цикл перебирает все датафреймы\n",
    "for df in df_list:\n",
    "    \n",
    "    # Цикл перебирает названия всех столбцов\n",
    "    # и приводит их к корректному формату с помощью\n",
    "    # функции snake_case\n",
    "    df.columns = [snake_case(col) for col in df.columns]\n",
    "        \n",
    "    print()\n",
    "    print(df.columns)"
   ]
  },
  {
   "cell_type": "markdown",
   "metadata": {},
   "source": [
    "Функция сработала, но похоже во втором датафрейме было два пробела. Применим функцию `.str.replace()` чтобы заменить два нижних подчеркивания на одно:"
   ]
  },
  {
   "cell_type": "code",
   "execution_count": 10,
   "metadata": {},
   "outputs": [],
   "source": [
    "company_and_rounds.columns = company_and_rounds.columns.str.replace('__', '_')"
   ]
  },
  {
   "cell_type": "markdown",
   "metadata": {},
   "source": [
    "Проверим столбцы в `company_and_rounds`:"
   ]
  },
  {
   "cell_type": "code",
   "execution_count": 11,
   "metadata": {},
   "outputs": [
    {
     "data": {
      "text/plain": [
       "Index(['company_id', 'name', 'category_code', 'status', 'founded_at',\n",
       "       'closed_at', 'domain', 'network_username', 'country_code',\n",
       "       'investment_rounds', 'funding_rounds', 'funding_total', 'milestones',\n",
       "       'funding_round_id', 'funded_at', 'funding_round_type', 'raised_amount',\n",
       "       'pre_money_valuation', 'participants', 'is_first_round',\n",
       "       'is_last_round'],\n",
       "      dtype='object')"
      ]
     },
     "execution_count": 11,
     "metadata": {},
     "output_type": "execute_result"
    }
   ],
   "source": [
    "company_and_rounds.columns"
   ]
  },
  {
   "cell_type": "markdown",
   "metadata": {},
   "source": [
    "Названия всех столбцов корректны. "
   ]
  },
  {
   "cell_type": "markdown",
   "metadata": {},
   "source": [
    "\n",
    "* Выведите информацию, которая необходима вам для принятия решений о предобработке, для каждого из датасетов."
   ]
  },
  {
   "cell_type": "markdown",
   "metadata": {},
   "source": [
    "Выведем основную информацию о всех датасетах с помощью `info()` и первые 5 строк с помошью `head()`:"
   ]
  },
  {
   "cell_type": "code",
   "execution_count": 12,
   "metadata": {
    "id": "4u9np9gSnyqT",
    "scrolled": true
   },
   "outputs": [
    {
     "name": "stdout",
     "output_type": "stream",
     "text": [
      "======== ДАТАФРЕЙМ № 1 =========\n",
      "<class 'pandas.core.frame.DataFrame'>\n",
      "RangeIndex: 9407 entries, 0 to 9406\n",
      "Data columns (total 6 columns):\n",
      " #   Column                Non-Null Count  Dtype \n",
      "---  ------                --------------  ----- \n",
      " 0   id                    9407 non-null   int64 \n",
      " 1   acquiring_company_id  9407 non-null   int64 \n",
      " 2   acquired_company_id   9407 non-null   int64 \n",
      " 3   term_code             1831 non-null   object\n",
      " 4   price_amount          9407 non-null   int64 \n",
      " 5   acquired_at           9378 non-null   object\n",
      "dtypes: int64(4), object(2)\n",
      "memory usage: 441.1+ KB\n",
      "None\n",
      "   id  acquiring_company_id  acquired_company_id term_code  price_amount  \\\n",
      "0   1                    11                   10       NaN      20000000   \n",
      "1   7                    59                   72      cash      60000000   \n",
      "2   8                    24                  132      cash     280000000   \n",
      "3   9                    59                  155      cash     100000000   \n",
      "4  10                   212                  215      cash      25000000   \n",
      "\n",
      "  acquired_at  \n",
      "0  2007-05-30  \n",
      "1  2007-07-01  \n",
      "2  2007-05-01  \n",
      "3  2007-06-01  \n",
      "4  2007-07-01  \n",
      "\n",
      "\n",
      "======== ДАТАФРЕЙМ № 2 =========\n",
      "<class 'pandas.core.frame.DataFrame'>\n",
      "RangeIndex: 217774 entries, 0 to 217773\n",
      "Data columns (total 21 columns):\n",
      " #   Column               Non-Null Count   Dtype  \n",
      "---  ------               --------------   -----  \n",
      " 0   company_id           217472 non-null  float64\n",
      " 1   name                 217471 non-null  object \n",
      " 2   category_code        143886 non-null  object \n",
      " 3   status               217472 non-null  object \n",
      " 4   founded_at           109956 non-null  object \n",
      " 5   closed_at            3449 non-null    object \n",
      " 6   domain               147159 non-null  object \n",
      " 7   network_username     95534 non-null   object \n",
      " 8   country_code         108607 non-null  object \n",
      " 9   investment_rounds    217472 non-null  float64\n",
      " 10  funding_rounds       217472 non-null  float64\n",
      " 11  funding_total        217472 non-null  float64\n",
      " 12  milestones           217472 non-null  float64\n",
      " 13  funding_round_id     52928 non-null   float64\n",
      " 14  funded_at            52680 non-null   object \n",
      " 15  funding_round_type   52928 non-null   object \n",
      " 16  raised_amount        52928 non-null   float64\n",
      " 17  pre_money_valuation  52928 non-null   float64\n",
      " 18  participants         52928 non-null   float64\n",
      " 19  is_first_round       52928 non-null   float64\n",
      " 20  is_last_round        52928 non-null   float64\n",
      "dtypes: float64(11), object(10)\n",
      "memory usage: 34.9+ MB\n",
      "None\n",
      "   company_id      name category_code     status  founded_at closed_at  \\\n",
      "0         1.0  Wetpaint           web  operating  2005-10-17       NaN   \n",
      "1         1.0  Wetpaint           web  operating  2005-10-17       NaN   \n",
      "2         1.0  Wetpaint           web  operating  2005-10-17       NaN   \n",
      "3        10.0   Flektor   games_video   acquired         NaN       NaN   \n",
      "4       100.0     There   games_video   acquired         NaN       NaN   \n",
      "\n",
      "             domain network_username country_code  investment_rounds  ...  \\\n",
      "0  wetpaint-inc.com  BachelrWetpaint          USA                0.0  ...   \n",
      "1  wetpaint-inc.com  BachelrWetpaint          USA                0.0  ...   \n",
      "2  wetpaint-inc.com  BachelrWetpaint          USA                0.0  ...   \n",
      "3       flektor.com              NaN          USA                0.0  ...   \n",
      "4         there.com              NaN          USA                0.0  ...   \n",
      "\n",
      "   funding_total  milestones  funding_round_id   funded_at funding_round_type  \\\n",
      "0     39750000.0         5.0             888.0  2005-10-01           series-a   \n",
      "1     39750000.0         5.0             889.0  2007-01-01           series-b   \n",
      "2     39750000.0         5.0            2312.0  2008-05-19          series-c+   \n",
      "3            0.0         0.0               NaN         NaN                NaN   \n",
      "4            0.0         4.0               NaN         NaN                NaN   \n",
      "\n",
      "  raised_amount  pre_money_valuation  participants  is_first_round  \\\n",
      "0     5250000.0                  0.0           2.0             0.0   \n",
      "1     9500000.0                  0.0           3.0             0.0   \n",
      "2    25000000.0                  0.0           4.0             1.0   \n",
      "3           NaN                  NaN           NaN             NaN   \n",
      "4           NaN                  NaN           NaN             NaN   \n",
      "\n",
      "   is_last_round  \n",
      "0            1.0  \n",
      "1            0.0  \n",
      "2            0.0  \n",
      "3            NaN  \n",
      "4            NaN  \n",
      "\n",
      "[5 rows x 21 columns]\n",
      "\n",
      "\n",
      "======== ДАТАФРЕЙМ № 3 =========\n",
      "<class 'pandas.core.frame.DataFrame'>\n",
      "RangeIndex: 109610 entries, 0 to 109609\n",
      "Data columns (total 4 columns):\n",
      " #   Column        Non-Null Count   Dtype \n",
      "---  ------        --------------   ----- \n",
      " 0   id            109610 non-null  int64 \n",
      " 1   person_id     109610 non-null  int64 \n",
      " 2   instituition  109555 non-null  object\n",
      " 3   graduated_at  58054 non-null   object\n",
      "dtypes: int64(2), object(2)\n",
      "memory usage: 3.3+ MB\n",
      "None\n",
      "   id  person_id                      instituition graduated_at\n",
      "0   1       6117                               NaN          NaN\n",
      "1   2       6136  Washington University, St. Louis   1990-01-01\n",
      "2   3       6136                 Boston University   1992-01-01\n",
      "3   4       6005           University of Greenwich   2006-01-01\n",
      "4   5       5832                   Rice University          NaN\n",
      "\n",
      "\n",
      "======== ДАТАФРЕЙМ № 4 =========\n",
      "<class 'pandas.core.frame.DataFrame'>\n",
      "RangeIndex: 226709 entries, 0 to 226708\n",
      "Data columns (total 5 columns):\n",
      " #   Column            Non-Null Count   Dtype  \n",
      "---  ------            --------------   -----  \n",
      " 0   id                226709 non-null  int64  \n",
      " 1   first_name        226700 non-null  object \n",
      " 2   last_name         226705 non-null  object \n",
      " 3   company_id        34615 non-null   float64\n",
      " 4   network_username  38867 non-null   object \n",
      "dtypes: float64(1), int64(1), object(3)\n",
      "memory usage: 8.6+ MB\n",
      "None\n",
      "       id  first_name    last_name  company_id network_username\n",
      "0      10        Mark   Zuckerberg         5.0              NaN\n",
      "1     100       Peter       Lester        27.0              NaN\n",
      "2    1000  Dr. Steven  E. Saunders       292.0              NaN\n",
      "3   10000        Neil        Capel      2526.0              NaN\n",
      "4  100000         Sue       Pilsch         NaN              NaN\n",
      "\n",
      "\n",
      "======== ДАТАФРЕЙМ № 5 =========\n",
      "<class 'pandas.core.frame.DataFrame'>\n",
      "RangeIndex: 109610 entries, 0 to 109609\n",
      "Data columns (total 4 columns):\n",
      " #   Column       Non-Null Count   Dtype \n",
      "---  ------       --------------   ----- \n",
      " 0   id           109610 non-null  int64 \n",
      " 1   object_id    109610 non-null  object\n",
      " 2   degree_type  98389 non-null   object\n",
      " 3   subject      81298 non-null   object\n",
      "dtypes: int64(1), object(3)\n",
      "memory usage: 3.3+ MB\n",
      "None\n",
      "   id object_id degree_type                       subject\n",
      "0   1    p:6117         MBA                           NaN\n",
      "1   2    p:6136          BA               English, French\n",
      "2   3    p:6136          MS            Mass Communication\n",
      "3   4    p:6005          MS           Internet Technology\n",
      "4   5    p:5832         BCS  Computer Science, Psychology\n",
      "\n",
      "\n",
      "======== ДАТАФРЕЙМ № 6 =========\n",
      "<class 'pandas.core.frame.DataFrame'>\n",
      "RangeIndex: 11652 entries, 0 to 11651\n",
      "Data columns (total 9 columns):\n",
      " #   Column              Non-Null Count  Dtype \n",
      "---  ------              --------------  ----- \n",
      " 0   id                  11652 non-null  int64 \n",
      " 1   name                11649 non-null  object\n",
      " 2   founded_at          4605 non-null   object\n",
      " 3   domain              7362 non-null   object\n",
      " 4   network_username    2149 non-null   object\n",
      " 5   country_code        7053 non-null   object\n",
      " 6   investment_rounds   11652 non-null  int64 \n",
      " 7   invested_companies  11652 non-null  int64 \n",
      " 8   milestones          11652 non-null  int64 \n",
      "dtypes: int64(4), object(5)\n",
      "memory usage: 819.4+ KB\n",
      "None\n",
      "      id                     name  founded_at               domain  \\\n",
      "0  13131                      NaN         NaN                  NaN   \n",
      "1      1        Greylock Partners  1965-01-01         greylock.com   \n",
      "2     10         Mission Ventures  1996-01-01  missionventures.com   \n",
      "3    100  Kapor Enterprises, Inc.         NaN              kei.com   \n",
      "4   1000           Speed Ventures         NaN                  NaN   \n",
      "\n",
      "  network_username country_code  investment_rounds  invested_companies  \\\n",
      "0              NaN          NaN                  0                   0   \n",
      "1       greylockvc          USA                307                 196   \n",
      "2              NaN          USA                 58                  33   \n",
      "3              NaN          USA                  2                   1   \n",
      "4              NaN          NaN                  0                   0   \n",
      "\n",
      "   milestones  \n",
      "0           0  \n",
      "1           0  \n",
      "2           0  \n",
      "3           0  \n",
      "4           1  \n",
      "\n",
      "\n",
      "======== ДАТАФРЕЙМ № 7 =========\n",
      "<class 'pandas.core.frame.DataFrame'>\n",
      "RangeIndex: 61403 entries, 0 to 61402\n",
      "Data columns (total 4 columns):\n",
      " #   Column            Non-Null Count  Dtype\n",
      "---  ------            --------------  -----\n",
      " 0   id                61403 non-null  int64\n",
      " 1   funding_round_id  61403 non-null  int64\n",
      " 2   company_id        61403 non-null  int64\n",
      " 3   fund_id           61403 non-null  int64\n",
      "dtypes: int64(4)\n",
      "memory usage: 1.9 MB\n",
      "None\n",
      "   id  funding_round_id  company_id  fund_id\n",
      "0   1                 1           4        1\n",
      "1   2                 1           4        2\n",
      "2   3                 3           5        4\n",
      "3   4                 4           5        1\n",
      "4   5                 4           5        5\n",
      "\n",
      "\n"
     ]
    }
   ],
   "source": [
    "# Счетчик для разделения датафреймов по порядковому номеру\n",
    "n = 1\n",
    "\n",
    "# Цикл перебирает все датафреймы\n",
    "for df in df_list:\n",
    "\n",
    "    \n",
    "    # Выводим информацию о каждом датафрейме\n",
    "    print(f'======== ДАТАФРЕЙМ № {n} =========')\n",
    "    \n",
    "    print(df.info())\n",
    "    print(df.head())\n",
    "    \n",
    "    print()\n",
    "    print()\n",
    "   \n",
    "    n+=1 # увеличиваем счетчик на 1"
   ]
  },
  {
   "cell_type": "markdown",
   "metadata": {
    "id": "W_W4jRazrJg0"
   },
   "source": [
    "В датафрейме `acquisition` 9407 строк и 6 стобцов.\n",
    "\n",
    "В датафрейме `company_and_rounds` 217774 строк и 22 столбца.\n",
    "\n",
    "В датафрейме `degrees` 109610 строк и 4 столбца.\n",
    "\n",
    "в датафрейме `education` 109610 строк и 4 столбца.\n",
    "\n",
    "В датафрейме `fund` 11652 строки и 9 столбцов.\n",
    "\n",
    "В датафрейме `investment` 61403 строки и 4 столбца.\n",
    "\n",
    "В датафрейме `people` 226709 строк и 5 столбцов.\n",
    "\n",
    "**Промежуточные выводы:**\n",
    "- Почти во всех датафреймах замечены пропуски. В датафрейме `investment` пропусков нет.\n",
    "- В датафреймах используются типы данных `object`, `float` и `int`. Столбцы с датами стоит привести к типу `datetime`. Некоторые столбцы с разными id, при необходимости, можно присвоить к целочисленному типу данных.\n",
    "- В датафрейме `company_and_rounds` были замечены повторяющиеся столбцы `company ID` и `company id`. Для дальнейшей работы столбец `company id` был удален."
   ]
  },
  {
   "cell_type": "markdown",
   "metadata": {
    "id": "mg2gEwh0rJg0"
   },
   "source": [
    "### Смена типов и анализ пропусков\n",
    "\n",
    "* Обработайте типы данных в столбцах, которые хранят значения даты и времени, если это необходимо."
   ]
  },
  {
   "cell_type": "markdown",
   "metadata": {},
   "source": [
    "Приведем столбцы с датами в нужных для анализа датафреймах:"
   ]
  },
  {
   "cell_type": "code",
   "execution_count": 13,
   "metadata": {},
   "outputs": [],
   "source": [
    "acquisition['acquired_at'] = pd.to_datetime(acquisition['acquired_at'])\n",
    "\n",
    "company_and_rounds['founded_at'] = pd.to_datetime(company_and_rounds['founded_at'])\n",
    "company_and_rounds['closed_at'] = pd.to_datetime(company_and_rounds['closed_at'])\n",
    "company_and_rounds['funded_at'] = pd.to_datetime(company_and_rounds['funded_at'])\n",
    "\n",
    "education['graduated_at'] = pd.to_datetime(education['graduated_at'])"
   ]
  },
  {
   "cell_type": "markdown",
   "metadata": {},
   "source": [
    "Проверим типы данных:"
   ]
  },
  {
   "cell_type": "code",
   "execution_count": 14,
   "metadata": {
    "scrolled": true
   },
   "outputs": [
    {
     "name": "stdout",
     "output_type": "stream",
     "text": [
      "datetime64[ns]\n",
      "founded_at    datetime64[ns]\n",
      "closed_at     datetime64[ns]\n",
      "funded_at     datetime64[ns]\n",
      "dtype: object\n",
      "datetime64[ns]\n"
     ]
    }
   ],
   "source": [
    "print(acquisition['acquired_at'].dtypes)\n",
    "print(company_and_rounds[['founded_at', 'closed_at', 'funded_at']].dtypes)\n",
    "print(education['graduated_at'].dtypes)"
   ]
  },
  {
   "cell_type": "markdown",
   "metadata": {},
   "source": [
    "\n",
    "* Оцените полноту данных — сделайте предварительный вывод, достаточно ли данных для решения задач проекта."
   ]
  },
  {
   "cell_type": "markdown",
   "metadata": {},
   "source": [
    "Чтобы оценить полноту данных оценим количество пропусков в каждом датафрейме:"
   ]
  },
  {
   "cell_type": "code",
   "execution_count": 15,
   "metadata": {
    "id": "FsL0A8RBrJg1"
   },
   "outputs": [
    {
     "name": "stdout",
     "output_type": "stream",
     "text": [
      "========== ДАТАФРЕЙМ № 1 ==========\n",
      "id                       0.00\n",
      "acquiring_company_id     0.00\n",
      "acquired_company_id      0.00\n",
      "term_code               80.54\n",
      "price_amount             0.00\n",
      "acquired_at              0.31\n",
      "dtype: float64\n",
      "========== ДАТАФРЕЙМ № 2 ==========\n",
      "company_id              0.14\n",
      "name                    0.14\n",
      "category_code          33.93\n",
      "status                  0.14\n",
      "founded_at             49.51\n",
      "closed_at              98.42\n",
      "domain                 32.43\n",
      "network_username       56.13\n",
      "country_code           50.13\n",
      "investment_rounds       0.14\n",
      "funding_rounds          0.14\n",
      "funding_total           0.14\n",
      "milestones              0.14\n",
      "funding_round_id       75.70\n",
      "funded_at              75.81\n",
      "funding_round_type     75.70\n",
      "raised_amount          75.70\n",
      "pre_money_valuation    75.70\n",
      "participants           75.70\n",
      "is_first_round         75.70\n",
      "is_last_round          75.70\n",
      "dtype: float64\n",
      "========== ДАТАФРЕЙМ № 3 ==========\n",
      "id               0.00\n",
      "person_id        0.00\n",
      "instituition     0.05\n",
      "graduated_at    47.04\n",
      "dtype: float64\n",
      "========== ДАТАФРЕЙМ № 4 ==========\n",
      "id                   0.00\n",
      "first_name           0.00\n",
      "last_name            0.00\n",
      "company_id          84.73\n",
      "network_username    82.86\n",
      "dtype: float64\n",
      "========== ДАТАФРЕЙМ № 5 ==========\n",
      "id              0.00\n",
      "object_id       0.00\n",
      "degree_type    10.24\n",
      "subject        25.83\n",
      "dtype: float64\n",
      "========== ДАТАФРЕЙМ № 6 ==========\n",
      "id                     0.00\n",
      "name                   0.03\n",
      "founded_at            60.48\n",
      "domain                36.82\n",
      "network_username      81.56\n",
      "country_code          39.47\n",
      "investment_rounds      0.00\n",
      "invested_companies     0.00\n",
      "milestones             0.00\n",
      "dtype: float64\n",
      "========== ДАТАФРЕЙМ № 7 ==========\n",
      "id                  0.0\n",
      "funding_round_id    0.0\n",
      "company_id          0.0\n",
      "fund_id             0.0\n",
      "dtype: float64\n"
     ]
    }
   ],
   "source": [
    "n = 1 # Счетчик для разделения датафреймов по порядковому номеру\n",
    "\n",
    "# Перебираем датафреймы\n",
    "for df in df_list:\n",
    "    # Делим датафреймы на блоки\n",
    "    print(f'========== ДАТАФРЕЙМ № {n} ==========')\n",
    "    \n",
    "    # Находим длину датафрейма\n",
    "    len_df = len(df) \n",
    "    # Находим долю пропусков в процентах\n",
    "    result = (df.isna().sum() / len_df * 100).round(2)\n",
    "    \n",
    "    print(result)\n",
    "    n+=1"
   ]
  },
  {
   "cell_type": "markdown",
   "metadata": {},
   "source": [
    "Рассмотрим только те датафреймы, которые необходимы для исследовательского анализа. \n",
    "\n",
    "В датафрейме `acquisition` большая часть пропусков находится в столбце `term_code`. Данный столбец содержит информацию о видах расчета и не принципиален для анализа."
   ]
  },
  {
   "cell_type": "markdown",
   "metadata": {},
   "source": [
    "В датафрейме `company_and_rounds` большая часть пропусков замечена в столбцах `category_code`, `founded_at`, `closed_at`, `domain`, `network_username`, `country_code`. В этих столбцах находится информация о категории области деятельности компании, датах начала и конца инвестирования, официальный сайт компании, её ник в сети интернет и код страны компании. Эти данные не являются важными для анализа, поэтому пропуски можно оставить.\n",
    "\n",
    "Так же в этом датафрейме есть столбцы (с `funding_round_id` по `is_last_round`) с одинаковой долей пропусков (примерно 75.7 %) Можно предположить, что эти столбцы были присоединены из другого датафрейма с указанием параметра left."
   ]
  },
  {
   "cell_type": "markdown",
   "metadata": {},
   "source": [
    "В датафрейме `education` значимые пропуски замечены в столбце `graduated_at`, который содержит информацию о дате получения образования сотрудника, что не является важной информацией."
   ]
  },
  {
   "cell_type": "markdown",
   "metadata": {},
   "source": [
    "В датафрейме `people` значимые пропуски замечены в столбцах `company_id` и `network_username`, которые содержат идентификатор компании и никнейм в интернете, что не является важнными данными для анализа."
   ]
  },
  {
   "cell_type": "markdown",
   "metadata": {},
   "source": [
    "В датафрейме `degrees` значимые пропуски замечены в столбцах `degree_type` и `subject`, которые содержат тип образования и специальность сотрудника "
   ]
  },
  {
   "cell_type": "markdown",
   "metadata": {},
   "source": [
    "Датафреймы `fund` и `investment` не нужны для исследований, поэтому пропуски в них нас не интересуют."
   ]
  },
  {
   "cell_type": "markdown",
   "metadata": {},
   "source": [
    "**Промежуточный вывод:**\n",
    "Во всех датафреймах столбцы с пропусками не несут важную информацию для дальнейшего анализа. При этом, их количество больше 10%, поэтому удалить их не получится. Решено пока оставить пропуски как есть."
   ]
  },
  {
   "cell_type": "markdown",
   "metadata": {
    "id": "u60cHsn6rJg1"
   },
   "source": [
    "## Шаг 2. Предобработка данных, предварительное исследование"
   ]
  },
  {
   "cell_type": "markdown",
   "metadata": {
    "id": "g2bHIIjcrJg1"
   },
   "source": [
    "\n",
    "### Раунды финансирования по годам\n",
    "\n",
    "Задание необходимо выполнить без объединения и дополнительной предобработки на основе датасета `company_and_rounds.csv`.\n",
    "\n",
    "* Составьте сводную таблицу по годам, в которой на основании столбца `raised_amount` для каждого года указан:\n",
    "\n",
    "  * типичный размер средств, выделяемый в рамках одного раунда;\n",
    "  * общее количество раундов финансирования за этот год.\n",
    "\n",
    "* Оставьте в таблице информацию только для тех лет, для которых есть информация о более чем 50 раундах финансирования.\n",
    "\n",
    "* На основе получившейся таблицы постройте график, который будет отражать динамику типичного размера средств, которые стартапы получали в рамках одного раунда финансирования.\n",
    "\n",
    "На основе полученных данных ответьте на вопросы:\n",
    "\n",
    "* В каком году типичный размер собранных в рамках одного раунда средств был максимален?\n",
    "\n",
    "* Какая тенденция по количеству раундов и выделяемых в рамках каждого раунда средств наблюдалась в 2013 году?"
   ]
  },
  {
   "cell_type": "markdown",
   "metadata": {},
   "source": [
    "Составим сводную таблицу с помощью группировки и агрегирующих функций:"
   ]
  },
  {
   "cell_type": "code",
   "execution_count": 16,
   "metadata": {},
   "outputs": [],
   "source": [
    "# Сделаем копию исходного датафрейма\n",
    "df_car = company_and_rounds.copy()\n",
    "\n",
    "# Создаем отдельный столбец `year_month` с извлеченным годом и месяцем из полной даты\n",
    "df_car['year_month'] = df_car['funded_at'].dt.to_period('M')"
   ]
  },
  {
   "cell_type": "code",
   "execution_count": 17,
   "metadata": {},
   "outputs": [
    {
     "name": "stdout",
     "output_type": "stream",
     "text": [
      "    year_month  raised_amount  funding_rounds  round_amount  year\n",
      "0      1999-01   3.593788e+07            58.0  6.196186e+05  1999\n",
      "1      2000-01   2.964910e+08            95.0  3.120958e+06  2000\n",
      "2      2001-01   2.033246e+08            90.0  2.259163e+06  2001\n",
      "3      2002-01   1.632932e+08           106.0  1.540502e+06  2002\n",
      "4      2003-01   1.807699e+08           101.0  1.789801e+06  2003\n",
      "..         ...            ...             ...           ...   ...\n",
      "121    2013-08   7.195909e+09          1937.0  3.714976e+06  2013\n",
      "122    2013-09   1.062991e+10          2165.0  4.909891e+06  2013\n",
      "123    2013-10   8.349775e+09          2323.0  3.594393e+06  2013\n",
      "124    2013-11   9.294021e+09          1943.0  4.783335e+06  2013\n",
      "125    2013-12   5.849636e+09           923.0  6.337634e+06  2013\n",
      "\n",
      "[126 rows x 5 columns]\n"
     ]
    }
   ],
   "source": [
    "# Создаем сводную таблицу с помощью группировки и агрегирующих функций\n",
    "pivot_table = df_car.groupby('year_month').agg({\n",
    "    'raised_amount' : 'sum',\n",
    "    'funding_rounds' : 'sum'\n",
    "})\n",
    "\n",
    "# Расчитаем типичный размер средств, выделяемый в рамках одного раунда\n",
    "pivot_table['round_amount'] = pivot_table['raised_amount'] / pivot_table['funding_rounds']\n",
    "\n",
    "# Отфильтруем строки, где количество раундов финансирования больше 50\n",
    "pivot_table = pivot_table[pivot_table['funding_rounds'] >= 50]\n",
    "\n",
    "# Сбросим индексы строк\n",
    "pivot_table.reset_index(inplace=True)\n",
    "\n",
    "# Выделим год из столбца year_month для дальнейшего анализа\n",
    "pivot_table['year'] = pivot_table['year_month'].dt.year\n",
    "\n",
    "# Выведем полученную таблицу\n",
    "print(pivot_table)"
   ]
  },
  {
   "cell_type": "markdown",
   "metadata": {},
   "source": [
    "Чтобы найти ответ на первый вопрос, сгруппируем данные по годам и посчитаем суммарный размер собранных средств в рамках одного раунда:"
   ]
  },
  {
   "cell_type": "code",
   "execution_count": 18,
   "metadata": {
    "scrolled": true
   },
   "outputs": [
    {
     "name": "stdout",
     "output_type": "stream",
     "text": [
      "year\n",
      "2013    3.855891e+06\n",
      "2008    3.802599e+06\n",
      "2007    3.559085e+06\n",
      "2005    3.478772e+06\n",
      "2006    3.222750e+06\n",
      "2000    3.120958e+06\n",
      "2009    2.952906e+06\n",
      "2011    2.894777e+06\n",
      "2010    2.789682e+06\n",
      "2012    2.435603e+06\n",
      "2001    2.259163e+06\n",
      "2004    1.818390e+06\n",
      "2003    1.789801e+06\n",
      "2002    1.540502e+06\n",
      "1999    6.196186e+05\n",
      "Name: round_amount, dtype: float64\n"
     ]
    }
   ],
   "source": [
    "# Сгруппируем данные по годам\n",
    "first_que = pivot_table.groupby('year')['round_amount'].median()\n",
    "\n",
    "# Отсортируем данные\n",
    "print(first_que.sort_values(ascending=False))"
   ]
  },
  {
   "cell_type": "markdown",
   "metadata": {},
   "source": [
    "Построим график:"
   ]
  },
  {
   "cell_type": "code",
   "execution_count": 19,
   "metadata": {},
   "outputs": [
    {
     "data": {
      "image/png": "[encoded data removed]",
      "text/plain": [
       "<Figure size 1000x500 with 1 Axes>"
      ]
     },
     "metadata": {},
     "output_type": "display_data"
    }
   ],
   "source": [
    "first_que.plot(kind='bar',\n",
    "               title='Типичный размер средств в рамках одного раунда по годам',\n",
    "               figsize=(10,5)\n",
    ")\n",
    "\n",
    "plt.xlabel('Год')\n",
    "plt.ylabel('Размер средств')\n",
    "\n",
    "plt.show()"
   ]
  },
  {
   "cell_type": "markdown",
   "metadata": {},
   "source": [
    "Чтобы ответить на второй вопрос, выделим из сводной таблицы только 2013 год и построим графики количества раундов и выделяемых в рамках каждого раунда средств:"
   ]
  },
  {
   "cell_type": "code",
   "execution_count": 20,
   "metadata": {},
   "outputs": [
    {
     "name": "stdout",
     "output_type": "stream",
     "text": [
      "   year_month  funding_rounds  round_amount\n",
      "0     2013-01          2363.0  2.791223e+06\n",
      "1     2013-02          1700.0  2.826080e+06\n",
      "2     2013-03          1861.0  3.996805e+06\n",
      "3     2013-04          2197.0  2.368667e+06\n",
      "4     2013-05          2134.0  3.357996e+06\n",
      "5     2013-06          2228.0  5.087180e+06\n",
      "6     2013-07          2204.0  4.486526e+06\n",
      "7     2013-08          1937.0  3.714976e+06\n",
      "8     2013-09          2165.0  4.909891e+06\n",
      "9     2013-10          2323.0  3.594393e+06\n",
      "10    2013-11          1943.0  4.783335e+06\n",
      "11    2013-12           923.0  6.337634e+06\n"
     ]
    }
   ],
   "source": [
    "second_que = pivot_table[pivot_table['year']==2013]\n",
    "\n",
    "second_que = second_que.groupby('year_month').agg({\n",
    "    'funding_rounds' : 'sum',\n",
    "    'round_amount' : 'sum'\n",
    "}).reset_index()\n",
    "\n",
    "print(second_que)"
   ]
  },
  {
   "cell_type": "markdown",
   "metadata": {},
   "source": [
    "Построим график:"
   ]
  },
  {
   "cell_type": "code",
   "execution_count": 21,
   "metadata": {},
   "outputs": [
    {
     "data": {
      "image/png": "[encoded data removed]",
      "text/plain": [
       "<Figure size 1000x500 with 1 Axes>"
      ]
     },
     "metadata": {},
     "output_type": "display_data"
    },
    {
     "data": {
      "image/png": "[encoded data removed]",
      "text/plain": [
       "<Figure size 1000x500 with 1 Axes>"
      ]
     },
     "metadata": {},
     "output_type": "display_data"
    }
   ],
   "source": [
    "second_que.plot(kind='bar',\n",
    "                x='year_month',\n",
    "                y='funding_rounds',\n",
    "                figsize=(10,5),\n",
    "                legend=False\n",
    ")\n",
    "\n",
    "plt.title('Количество раундов за 2013 год')\n",
    "plt.xlabel('Месяц')\n",
    "plt.ylabel('Количество раундов')\n",
    "\n",
    "plt.show()\n",
    "\n",
    "second_que.plot(kind='line',\n",
    "                subplots=True,\n",
    "                x='year_month',\n",
    "                y='round_amount',\n",
    "                figsize=(10,5),\n",
    "                legend=False,\n",
    "                sharex=True,\n",
    "                sharey=False,\n",
    "                title='Сумма средств в рамках одного раунда')\n",
    "\n",
    "plt.xlabel('Месяц')\n",
    "plt.ylabel('Сумма средств')\n",
    "\n",
    "plt.show()"
   ]
  },
  {
   "cell_type": "markdown",
   "metadata": {},
   "source": [
    "**Ответы на вопросы:**\n",
    "\n",
    "1. Максимальный типичный размер средств, выделенный в рамках одного раунда зафиксирован в 2013 году (примерно 3.9 млн).\n",
    "\n",
    "2. В течении 2013 года количество раундов было стабильно выше 1500, однако, в декабре замечено резкое падение количество раундов. Сумма средств в рамках одного раунда растет в течение года. Резкое увеличение привлеченных средств замечено в марте, июне, сентябре и декабре - каждые три месяца. В декабре отмечена самое большое количество привлеченных средств (6.34 млн)."
   ]
  },
  {
   "cell_type": "markdown",
   "metadata": {
    "id": "45if1en1rJg2"
   },
   "source": [
    "\n",
    "### Люди и их образование\n",
    "\n",
    "Заказчик хочет понять, зависит ли полнота сведений о сотрудниках (например, об их образовании) от размера компаний.\n",
    "\n",
    "* Оцените, насколько информация об образовании сотрудников полна. Используя датасеты `people.csv` и `education.csv`, разделите все компании на несколько групп по количеству сотрудников и оцените среднюю долю сотрудников без информации об образовании в каждой из групп. Обоснуйте выбранные границы групп.\n",
    "\n",
    "* Оцените, возможно ли для выполнения задания присоединить к этим таблицам ещё и таблицу `degrees.csv`."
   ]
  },
  {
   "cell_type": "markdown",
   "metadata": {},
   "source": [
    "Столбцы, по которым нужно произвести соединение, называются по разному. Чтобы объединить датафреймы, используем метод `merge`:"
   ]
  },
  {
   "cell_type": "code",
   "execution_count": 22,
   "metadata": {
    "id": "psPO7C4MrJg2"
   },
   "outputs": [
    {
     "data": {
      "text/html": [
       "<div>\n",
       "<style scoped>\n",
       "    .dataframe tbody tr th:only-of-type {\n",
       "        vertical-align: middle;\n",
       "    }\n",
       "\n",
       "    .dataframe tbody tr th {\n",
       "        vertical-align: top;\n",
       "    }\n",
       "\n",
       "    .dataframe thead th {\n",
       "        text-align: right;\n",
       "    }\n",
       "</style>\n",
       "<table border=\"1\" class=\"dataframe\">\n",
       "  <thead>\n",
       "    <tr style=\"text-align: right;\">\n",
       "      <th></th>\n",
       "      <th>id_x</th>\n",
       "      <th>first_name</th>\n",
       "      <th>last_name</th>\n",
       "      <th>company_id</th>\n",
       "      <th>network_username</th>\n",
       "      <th>id_y</th>\n",
       "      <th>person_id</th>\n",
       "      <th>instituition</th>\n",
       "      <th>graduated_at</th>\n",
       "    </tr>\n",
       "  </thead>\n",
       "  <tbody>\n",
       "    <tr>\n",
       "      <th>0</th>\n",
       "      <td>10</td>\n",
       "      <td>Mark</td>\n",
       "      <td>Zuckerberg</td>\n",
       "      <td>5.0</td>\n",
       "      <td>NaN</td>\n",
       "      <td>2415.0</td>\n",
       "      <td>10.0</td>\n",
       "      <td>Harvard University</td>\n",
       "      <td>NaT</td>\n",
       "    </tr>\n",
       "    <tr>\n",
       "      <th>1</th>\n",
       "      <td>100</td>\n",
       "      <td>Peter</td>\n",
       "      <td>Lester</td>\n",
       "      <td>27.0</td>\n",
       "      <td>NaN</td>\n",
       "      <td>NaN</td>\n",
       "      <td>NaN</td>\n",
       "      <td>NaN</td>\n",
       "      <td>NaT</td>\n",
       "    </tr>\n",
       "    <tr>\n",
       "      <th>2</th>\n",
       "      <td>1000</td>\n",
       "      <td>Dr. Steven</td>\n",
       "      <td>E. Saunders</td>\n",
       "      <td>292.0</td>\n",
       "      <td>NaN</td>\n",
       "      <td>NaN</td>\n",
       "      <td>NaN</td>\n",
       "      <td>NaN</td>\n",
       "      <td>NaT</td>\n",
       "    </tr>\n",
       "    <tr>\n",
       "      <th>3</th>\n",
       "      <td>10000</td>\n",
       "      <td>Neil</td>\n",
       "      <td>Capel</td>\n",
       "      <td>2526.0</td>\n",
       "      <td>NaN</td>\n",
       "      <td>NaN</td>\n",
       "      <td>NaN</td>\n",
       "      <td>NaN</td>\n",
       "      <td>NaT</td>\n",
       "    </tr>\n",
       "    <tr>\n",
       "      <th>4</th>\n",
       "      <td>100000</td>\n",
       "      <td>Sue</td>\n",
       "      <td>Pilsch</td>\n",
       "      <td>NaN</td>\n",
       "      <td>NaN</td>\n",
       "      <td>NaN</td>\n",
       "      <td>NaN</td>\n",
       "      <td>NaN</td>\n",
       "      <td>NaT</td>\n",
       "    </tr>\n",
       "    <tr>\n",
       "      <th>...</th>\n",
       "      <td>...</td>\n",
       "      <td>...</td>\n",
       "      <td>...</td>\n",
       "      <td>...</td>\n",
       "      <td>...</td>\n",
       "      <td>...</td>\n",
       "      <td>...</td>\n",
       "      <td>...</td>\n",
       "      <td>...</td>\n",
       "    </tr>\n",
       "    <tr>\n",
       "      <th>267689</th>\n",
       "      <td>99999</td>\n",
       "      <td>Ramon</td>\n",
       "      <td>Peypoch</td>\n",
       "      <td>NaN</td>\n",
       "      <td>NaN</td>\n",
       "      <td>NaN</td>\n",
       "      <td>NaN</td>\n",
       "      <td>NaN</td>\n",
       "      <td>NaT</td>\n",
       "    </tr>\n",
       "    <tr>\n",
       "      <th>267690</th>\n",
       "      <td>174088</td>\n",
       "      <td>Dr. Ray</td>\n",
       "      <td>Woods</td>\n",
       "      <td>188200.0</td>\n",
       "      <td>network</td>\n",
       "      <td>25958.0</td>\n",
       "      <td>174088.0</td>\n",
       "      <td>Sydney University Medical School</td>\n",
       "      <td>1982-01-01</td>\n",
       "    </tr>\n",
       "    <tr>\n",
       "      <th>267691</th>\n",
       "      <td>118386</td>\n",
       "      <td>Ricardo</td>\n",
       "      <td>Durand</td>\n",
       "      <td>143419.0</td>\n",
       "      <td>itechsocialnet</td>\n",
       "      <td>18871.0</td>\n",
       "      <td>118386.0</td>\n",
       "      <td>ESCS</td>\n",
       "      <td>2004-01-01</td>\n",
       "    </tr>\n",
       "    <tr>\n",
       "      <th>267692</th>\n",
       "      <td>175827</td>\n",
       "      <td>mahesh</td>\n",
       "      <td>kumar</td>\n",
       "      <td>NaN</td>\n",
       "      <td>socialnethubs</td>\n",
       "      <td>NaN</td>\n",
       "      <td>NaN</td>\n",
       "      <td>NaN</td>\n",
       "      <td>NaT</td>\n",
       "    </tr>\n",
       "    <tr>\n",
       "      <th>267693</th>\n",
       "      <td>178190</td>\n",
       "      <td>Alex</td>\n",
       "      <td>Smith</td>\n",
       "      <td>NaN</td>\n",
       "      <td>esocialnetlike</td>\n",
       "      <td>NaN</td>\n",
       "      <td>NaN</td>\n",
       "      <td>NaN</td>\n",
       "      <td>NaT</td>\n",
       "    </tr>\n",
       "  </tbody>\n",
       "</table>\n",
       "<p>267694 rows × 9 columns</p>\n",
       "</div>"
      ],
      "text/plain": [
       "          id_x  first_name    last_name  company_id network_username     id_y  \\\n",
       "0           10        Mark   Zuckerberg         5.0              NaN   2415.0   \n",
       "1          100       Peter       Lester        27.0              NaN      NaN   \n",
       "2         1000  Dr. Steven  E. Saunders       292.0              NaN      NaN   \n",
       "3        10000        Neil        Capel      2526.0              NaN      NaN   \n",
       "4       100000         Sue       Pilsch         NaN              NaN      NaN   \n",
       "...        ...         ...          ...         ...              ...      ...   \n",
       "267689   99999       Ramon      Peypoch         NaN              NaN      NaN   \n",
       "267690  174088     Dr. Ray        Woods    188200.0          network  25958.0   \n",
       "267691  118386     Ricardo       Durand    143419.0   itechsocialnet  18871.0   \n",
       "267692  175827      mahesh        kumar         NaN    socialnethubs      NaN   \n",
       "267693  178190        Alex        Smith         NaN   esocialnetlike      NaN   \n",
       "\n",
       "        person_id                      instituition graduated_at  \n",
       "0            10.0                Harvard University          NaT  \n",
       "1             NaN                               NaN          NaT  \n",
       "2             NaN                               NaN          NaT  \n",
       "3             NaN                               NaN          NaT  \n",
       "4             NaN                               NaN          NaT  \n",
       "...           ...                               ...          ...  \n",
       "267689        NaN                               NaN          NaT  \n",
       "267690   174088.0  Sydney University Medical School   1982-01-01  \n",
       "267691   118386.0                              ESCS   2004-01-01  \n",
       "267692        NaN                               NaN          NaT  \n",
       "267693        NaN                               NaN          NaT  \n",
       "\n",
       "[267694 rows x 9 columns]"
      ]
     },
     "metadata": {},
     "output_type": "display_data"
    }
   ],
   "source": [
    "# Произведем объединение датафреймов\n",
    "merge_group = pd.merge(people, education, left_on='id', right_on='person_id', how='left')\n",
    "\n",
    "# Выведем полученный датафрейм\n",
    "display(merge_group)"
   ]
  },
  {
   "cell_type": "markdown",
   "metadata": {},
   "source": [
    "Теперь попробуем присоединить таблицу `degrees`. В ней содержится более подробная информация об образовании работников, которая не должна повлиять на дальнейший анализ."
   ]
  },
  {
   "cell_type": "code",
   "execution_count": 23,
   "metadata": {},
   "outputs": [
    {
     "data": {
      "text/html": [
       "<div>\n",
       "<style scoped>\n",
       "    .dataframe tbody tr th:only-of-type {\n",
       "        vertical-align: middle;\n",
       "    }\n",
       "\n",
       "    .dataframe tbody tr th {\n",
       "        vertical-align: top;\n",
       "    }\n",
       "\n",
       "    .dataframe thead th {\n",
       "        text-align: right;\n",
       "    }\n",
       "</style>\n",
       "<table border=\"1\" class=\"dataframe\">\n",
       "  <thead>\n",
       "    <tr style=\"text-align: right;\">\n",
       "      <th></th>\n",
       "      <th>id_x</th>\n",
       "      <th>first_name</th>\n",
       "      <th>last_name</th>\n",
       "      <th>company_id</th>\n",
       "      <th>network_username</th>\n",
       "      <th>id_y</th>\n",
       "      <th>person_id</th>\n",
       "      <th>instituition</th>\n",
       "      <th>graduated_at</th>\n",
       "      <th>id</th>\n",
       "      <th>object_id</th>\n",
       "      <th>degree_type</th>\n",
       "      <th>subject</th>\n",
       "    </tr>\n",
       "  </thead>\n",
       "  <tbody>\n",
       "    <tr>\n",
       "      <th>0</th>\n",
       "      <td>10</td>\n",
       "      <td>Mark</td>\n",
       "      <td>Zuckerberg</td>\n",
       "      <td>5.0</td>\n",
       "      <td>NaN</td>\n",
       "      <td>2415.0</td>\n",
       "      <td>10.0</td>\n",
       "      <td>Harvard University</td>\n",
       "      <td>NaT</td>\n",
       "      <td>10.0</td>\n",
       "      <td>p:6265</td>\n",
       "      <td>BS</td>\n",
       "      <td>Economics</td>\n",
       "    </tr>\n",
       "    <tr>\n",
       "      <th>1</th>\n",
       "      <td>100</td>\n",
       "      <td>Peter</td>\n",
       "      <td>Lester</td>\n",
       "      <td>27.0</td>\n",
       "      <td>NaN</td>\n",
       "      <td>NaN</td>\n",
       "      <td>NaN</td>\n",
       "      <td>NaN</td>\n",
       "      <td>NaT</td>\n",
       "      <td>100.0</td>\n",
       "      <td>p:938</td>\n",
       "      <td>BS</td>\n",
       "      <td>Computer Science</td>\n",
       "    </tr>\n",
       "    <tr>\n",
       "      <th>2</th>\n",
       "      <td>1000</td>\n",
       "      <td>Dr. Steven</td>\n",
       "      <td>E. Saunders</td>\n",
       "      <td>292.0</td>\n",
       "      <td>NaN</td>\n",
       "      <td>NaN</td>\n",
       "      <td>NaN</td>\n",
       "      <td>NaN</td>\n",
       "      <td>NaT</td>\n",
       "      <td>1000.0</td>\n",
       "      <td>p:13098</td>\n",
       "      <td>MBA</td>\n",
       "      <td>NaN</td>\n",
       "    </tr>\n",
       "    <tr>\n",
       "      <th>3</th>\n",
       "      <td>10000</td>\n",
       "      <td>Neil</td>\n",
       "      <td>Capel</td>\n",
       "      <td>2526.0</td>\n",
       "      <td>NaN</td>\n",
       "      <td>NaN</td>\n",
       "      <td>NaN</td>\n",
       "      <td>NaN</td>\n",
       "      <td>NaT</td>\n",
       "      <td>10000.0</td>\n",
       "      <td>p:74038</td>\n",
       "      <td>MS</td>\n",
       "      <td>Applied Mathematics</td>\n",
       "    </tr>\n",
       "    <tr>\n",
       "      <th>4</th>\n",
       "      <td>100000</td>\n",
       "      <td>Sue</td>\n",
       "      <td>Pilsch</td>\n",
       "      <td>NaN</td>\n",
       "      <td>NaN</td>\n",
       "      <td>NaN</td>\n",
       "      <td>NaN</td>\n",
       "      <td>NaN</td>\n",
       "      <td>NaT</td>\n",
       "      <td>100000.0</td>\n",
       "      <td>p:89666</td>\n",
       "      <td>MS</td>\n",
       "      <td>Computer Science</td>\n",
       "    </tr>\n",
       "    <tr>\n",
       "      <th>...</th>\n",
       "      <td>...</td>\n",
       "      <td>...</td>\n",
       "      <td>...</td>\n",
       "      <td>...</td>\n",
       "      <td>...</td>\n",
       "      <td>...</td>\n",
       "      <td>...</td>\n",
       "      <td>...</td>\n",
       "      <td>...</td>\n",
       "      <td>...</td>\n",
       "      <td>...</td>\n",
       "      <td>...</td>\n",
       "      <td>...</td>\n",
       "    </tr>\n",
       "    <tr>\n",
       "      <th>267689</th>\n",
       "      <td>99999</td>\n",
       "      <td>Ramon</td>\n",
       "      <td>Peypoch</td>\n",
       "      <td>NaN</td>\n",
       "      <td>NaN</td>\n",
       "      <td>NaN</td>\n",
       "      <td>NaN</td>\n",
       "      <td>NaN</td>\n",
       "      <td>NaT</td>\n",
       "      <td>99999.0</td>\n",
       "      <td>p:257599</td>\n",
       "      <td>BS</td>\n",
       "      <td>Electrical Engineering</td>\n",
       "    </tr>\n",
       "    <tr>\n",
       "      <th>267690</th>\n",
       "      <td>174088</td>\n",
       "      <td>Dr. Ray</td>\n",
       "      <td>Woods</td>\n",
       "      <td>188200.0</td>\n",
       "      <td>network</td>\n",
       "      <td>25958.0</td>\n",
       "      <td>174088.0</td>\n",
       "      <td>Sydney University Medical School</td>\n",
       "      <td>1982-01-01</td>\n",
       "      <td>NaN</td>\n",
       "      <td>NaN</td>\n",
       "      <td>NaN</td>\n",
       "      <td>NaN</td>\n",
       "    </tr>\n",
       "    <tr>\n",
       "      <th>267691</th>\n",
       "      <td>118386</td>\n",
       "      <td>Ricardo</td>\n",
       "      <td>Durand</td>\n",
       "      <td>143419.0</td>\n",
       "      <td>itechsocialnet</td>\n",
       "      <td>18871.0</td>\n",
       "      <td>118386.0</td>\n",
       "      <td>ESCS</td>\n",
       "      <td>2004-01-01</td>\n",
       "      <td>NaN</td>\n",
       "      <td>NaN</td>\n",
       "      <td>NaN</td>\n",
       "      <td>NaN</td>\n",
       "    </tr>\n",
       "    <tr>\n",
       "      <th>267692</th>\n",
       "      <td>175827</td>\n",
       "      <td>mahesh</td>\n",
       "      <td>kumar</td>\n",
       "      <td>NaN</td>\n",
       "      <td>socialnethubs</td>\n",
       "      <td>NaN</td>\n",
       "      <td>NaN</td>\n",
       "      <td>NaN</td>\n",
       "      <td>NaT</td>\n",
       "      <td>NaN</td>\n",
       "      <td>NaN</td>\n",
       "      <td>NaN</td>\n",
       "      <td>NaN</td>\n",
       "    </tr>\n",
       "    <tr>\n",
       "      <th>267693</th>\n",
       "      <td>178190</td>\n",
       "      <td>Alex</td>\n",
       "      <td>Smith</td>\n",
       "      <td>NaN</td>\n",
       "      <td>esocialnetlike</td>\n",
       "      <td>NaN</td>\n",
       "      <td>NaN</td>\n",
       "      <td>NaN</td>\n",
       "      <td>NaT</td>\n",
       "      <td>NaN</td>\n",
       "      <td>NaN</td>\n",
       "      <td>NaN</td>\n",
       "      <td>NaN</td>\n",
       "    </tr>\n",
       "  </tbody>\n",
       "</table>\n",
       "<p>267694 rows × 13 columns</p>\n",
       "</div>"
      ],
      "text/plain": [
       "          id_x  first_name    last_name  company_id network_username     id_y  \\\n",
       "0           10        Mark   Zuckerberg         5.0              NaN   2415.0   \n",
       "1          100       Peter       Lester        27.0              NaN      NaN   \n",
       "2         1000  Dr. Steven  E. Saunders       292.0              NaN      NaN   \n",
       "3        10000        Neil        Capel      2526.0              NaN      NaN   \n",
       "4       100000         Sue       Pilsch         NaN              NaN      NaN   \n",
       "...        ...         ...          ...         ...              ...      ...   \n",
       "267689   99999       Ramon      Peypoch         NaN              NaN      NaN   \n",
       "267690  174088     Dr. Ray        Woods    188200.0          network  25958.0   \n",
       "267691  118386     Ricardo       Durand    143419.0   itechsocialnet  18871.0   \n",
       "267692  175827      mahesh        kumar         NaN    socialnethubs      NaN   \n",
       "267693  178190        Alex        Smith         NaN   esocialnetlike      NaN   \n",
       "\n",
       "        person_id                      instituition graduated_at        id  \\\n",
       "0            10.0                Harvard University          NaT      10.0   \n",
       "1             NaN                               NaN          NaT     100.0   \n",
       "2             NaN                               NaN          NaT    1000.0   \n",
       "3             NaN                               NaN          NaT   10000.0   \n",
       "4             NaN                               NaN          NaT  100000.0   \n",
       "...           ...                               ...          ...       ...   \n",
       "267689        NaN                               NaN          NaT   99999.0   \n",
       "267690   174088.0  Sydney University Medical School   1982-01-01       NaN   \n",
       "267691   118386.0                              ESCS   2004-01-01       NaN   \n",
       "267692        NaN                               NaN          NaT       NaN   \n",
       "267693        NaN                               NaN          NaT       NaN   \n",
       "\n",
       "       object_id degree_type                 subject  \n",
       "0         p:6265          BS               Economics  \n",
       "1          p:938          BS        Computer Science  \n",
       "2        p:13098         MBA                     NaN  \n",
       "3        p:74038          MS     Applied Mathematics  \n",
       "4        p:89666          MS        Computer Science  \n",
       "...          ...         ...                     ...  \n",
       "267689  p:257599          BS  Electrical Engineering  \n",
       "267690       NaN         NaN                     NaN  \n",
       "267691       NaN         NaN                     NaN  \n",
       "267692       NaN         NaN                     NaN  \n",
       "267693       NaN         NaN                     NaN  \n",
       "\n",
       "[267694 rows x 13 columns]"
      ]
     },
     "metadata": {},
     "output_type": "display_data"
    }
   ],
   "source": [
    "# Присоединим таблицу degrees\n",
    "merge_group = merge_group.merge(degrees, left_on='id_x', right_on='id', how='left')\n",
    "\n",
    "# Выведем итоговый датафрейм\n",
    "display(merge_group)"
   ]
  },
  {
   "cell_type": "markdown",
   "metadata": {},
   "source": [
    "Введем столбец `not_graduated`, в котором будем отображать есть ли у работника образование:"
   ]
  },
  {
   "cell_type": "code",
   "execution_count": 24,
   "metadata": {},
   "outputs": [],
   "source": [
    "def not_graduated(x):\n",
    "    if x >= 0:\n",
    "        return False\n",
    "    else:\n",
    "        return True\n",
    "\n",
    "merge_group['not_graduated'] = merge_group['id_y'].apply(not_graduated)"
   ]
  },
  {
   "cell_type": "code",
   "execution_count": 25,
   "metadata": {},
   "outputs": [
    {
     "data": {
      "text/html": [
       "<div>\n",
       "<style scoped>\n",
       "    .dataframe tbody tr th:only-of-type {\n",
       "        vertical-align: middle;\n",
       "    }\n",
       "\n",
       "    .dataframe tbody tr th {\n",
       "        vertical-align: top;\n",
       "    }\n",
       "\n",
       "    .dataframe thead th {\n",
       "        text-align: right;\n",
       "    }\n",
       "</style>\n",
       "<table border=\"1\" class=\"dataframe\">\n",
       "  <thead>\n",
       "    <tr style=\"text-align: right;\">\n",
       "      <th></th>\n",
       "      <th>id_x</th>\n",
       "      <th>first_name</th>\n",
       "      <th>last_name</th>\n",
       "      <th>company_id</th>\n",
       "      <th>network_username</th>\n",
       "      <th>id_y</th>\n",
       "      <th>person_id</th>\n",
       "      <th>instituition</th>\n",
       "      <th>graduated_at</th>\n",
       "      <th>id</th>\n",
       "      <th>object_id</th>\n",
       "      <th>degree_type</th>\n",
       "      <th>subject</th>\n",
       "      <th>not_graduated</th>\n",
       "    </tr>\n",
       "  </thead>\n",
       "  <tbody>\n",
       "    <tr>\n",
       "      <th>0</th>\n",
       "      <td>10</td>\n",
       "      <td>Mark</td>\n",
       "      <td>Zuckerberg</td>\n",
       "      <td>5.0</td>\n",
       "      <td>NaN</td>\n",
       "      <td>2415.0</td>\n",
       "      <td>10.0</td>\n",
       "      <td>Harvard University</td>\n",
       "      <td>NaT</td>\n",
       "      <td>10.0</td>\n",
       "      <td>p:6265</td>\n",
       "      <td>BS</td>\n",
       "      <td>Economics</td>\n",
       "      <td>False</td>\n",
       "    </tr>\n",
       "    <tr>\n",
       "      <th>1</th>\n",
       "      <td>100</td>\n",
       "      <td>Peter</td>\n",
       "      <td>Lester</td>\n",
       "      <td>27.0</td>\n",
       "      <td>NaN</td>\n",
       "      <td>NaN</td>\n",
       "      <td>NaN</td>\n",
       "      <td>NaN</td>\n",
       "      <td>NaT</td>\n",
       "      <td>100.0</td>\n",
       "      <td>p:938</td>\n",
       "      <td>BS</td>\n",
       "      <td>Computer Science</td>\n",
       "      <td>True</td>\n",
       "    </tr>\n",
       "    <tr>\n",
       "      <th>2</th>\n",
       "      <td>1000</td>\n",
       "      <td>Dr. Steven</td>\n",
       "      <td>E. Saunders</td>\n",
       "      <td>292.0</td>\n",
       "      <td>NaN</td>\n",
       "      <td>NaN</td>\n",
       "      <td>NaN</td>\n",
       "      <td>NaN</td>\n",
       "      <td>NaT</td>\n",
       "      <td>1000.0</td>\n",
       "      <td>p:13098</td>\n",
       "      <td>MBA</td>\n",
       "      <td>NaN</td>\n",
       "      <td>True</td>\n",
       "    </tr>\n",
       "    <tr>\n",
       "      <th>3</th>\n",
       "      <td>10000</td>\n",
       "      <td>Neil</td>\n",
       "      <td>Capel</td>\n",
       "      <td>2526.0</td>\n",
       "      <td>NaN</td>\n",
       "      <td>NaN</td>\n",
       "      <td>NaN</td>\n",
       "      <td>NaN</td>\n",
       "      <td>NaT</td>\n",
       "      <td>10000.0</td>\n",
       "      <td>p:74038</td>\n",
       "      <td>MS</td>\n",
       "      <td>Applied Mathematics</td>\n",
       "      <td>True</td>\n",
       "    </tr>\n",
       "    <tr>\n",
       "      <th>4</th>\n",
       "      <td>100000</td>\n",
       "      <td>Sue</td>\n",
       "      <td>Pilsch</td>\n",
       "      <td>NaN</td>\n",
       "      <td>NaN</td>\n",
       "      <td>NaN</td>\n",
       "      <td>NaN</td>\n",
       "      <td>NaN</td>\n",
       "      <td>NaT</td>\n",
       "      <td>100000.0</td>\n",
       "      <td>p:89666</td>\n",
       "      <td>MS</td>\n",
       "      <td>Computer Science</td>\n",
       "      <td>True</td>\n",
       "    </tr>\n",
       "    <tr>\n",
       "      <th>...</th>\n",
       "      <td>...</td>\n",
       "      <td>...</td>\n",
       "      <td>...</td>\n",
       "      <td>...</td>\n",
       "      <td>...</td>\n",
       "      <td>...</td>\n",
       "      <td>...</td>\n",
       "      <td>...</td>\n",
       "      <td>...</td>\n",
       "      <td>...</td>\n",
       "      <td>...</td>\n",
       "      <td>...</td>\n",
       "      <td>...</td>\n",
       "      <td>...</td>\n",
       "    </tr>\n",
       "    <tr>\n",
       "      <th>267689</th>\n",
       "      <td>99999</td>\n",
       "      <td>Ramon</td>\n",
       "      <td>Peypoch</td>\n",
       "      <td>NaN</td>\n",
       "      <td>NaN</td>\n",
       "      <td>NaN</td>\n",
       "      <td>NaN</td>\n",
       "      <td>NaN</td>\n",
       "      <td>NaT</td>\n",
       "      <td>99999.0</td>\n",
       "      <td>p:257599</td>\n",
       "      <td>BS</td>\n",
       "      <td>Electrical Engineering</td>\n",
       "      <td>True</td>\n",
       "    </tr>\n",
       "    <tr>\n",
       "      <th>267690</th>\n",
       "      <td>174088</td>\n",
       "      <td>Dr. Ray</td>\n",
       "      <td>Woods</td>\n",
       "      <td>188200.0</td>\n",
       "      <td>network</td>\n",
       "      <td>25958.0</td>\n",
       "      <td>174088.0</td>\n",
       "      <td>Sydney University Medical School</td>\n",
       "      <td>1982-01-01</td>\n",
       "      <td>NaN</td>\n",
       "      <td>NaN</td>\n",
       "      <td>NaN</td>\n",
       "      <td>NaN</td>\n",
       "      <td>False</td>\n",
       "    </tr>\n",
       "    <tr>\n",
       "      <th>267691</th>\n",
       "      <td>118386</td>\n",
       "      <td>Ricardo</td>\n",
       "      <td>Durand</td>\n",
       "      <td>143419.0</td>\n",
       "      <td>itechsocialnet</td>\n",
       "      <td>18871.0</td>\n",
       "      <td>118386.0</td>\n",
       "      <td>ESCS</td>\n",
       "      <td>2004-01-01</td>\n",
       "      <td>NaN</td>\n",
       "      <td>NaN</td>\n",
       "      <td>NaN</td>\n",
       "      <td>NaN</td>\n",
       "      <td>False</td>\n",
       "    </tr>\n",
       "    <tr>\n",
       "      <th>267692</th>\n",
       "      <td>175827</td>\n",
       "      <td>mahesh</td>\n",
       "      <td>kumar</td>\n",
       "      <td>NaN</td>\n",
       "      <td>socialnethubs</td>\n",
       "      <td>NaN</td>\n",
       "      <td>NaN</td>\n",
       "      <td>NaN</td>\n",
       "      <td>NaT</td>\n",
       "      <td>NaN</td>\n",
       "      <td>NaN</td>\n",
       "      <td>NaN</td>\n",
       "      <td>NaN</td>\n",
       "      <td>True</td>\n",
       "    </tr>\n",
       "    <tr>\n",
       "      <th>267693</th>\n",
       "      <td>178190</td>\n",
       "      <td>Alex</td>\n",
       "      <td>Smith</td>\n",
       "      <td>NaN</td>\n",
       "      <td>esocialnetlike</td>\n",
       "      <td>NaN</td>\n",
       "      <td>NaN</td>\n",
       "      <td>NaN</td>\n",
       "      <td>NaT</td>\n",
       "      <td>NaN</td>\n",
       "      <td>NaN</td>\n",
       "      <td>NaN</td>\n",
       "      <td>NaN</td>\n",
       "      <td>True</td>\n",
       "    </tr>\n",
       "  </tbody>\n",
       "</table>\n",
       "<p>267694 rows × 14 columns</p>\n",
       "</div>"
      ],
      "text/plain": [
       "          id_x  first_name    last_name  company_id network_username     id_y  \\\n",
       "0           10        Mark   Zuckerberg         5.0              NaN   2415.0   \n",
       "1          100       Peter       Lester        27.0              NaN      NaN   \n",
       "2         1000  Dr. Steven  E. Saunders       292.0              NaN      NaN   \n",
       "3        10000        Neil        Capel      2526.0              NaN      NaN   \n",
       "4       100000         Sue       Pilsch         NaN              NaN      NaN   \n",
       "...        ...         ...          ...         ...              ...      ...   \n",
       "267689   99999       Ramon      Peypoch         NaN              NaN      NaN   \n",
       "267690  174088     Dr. Ray        Woods    188200.0          network  25958.0   \n",
       "267691  118386     Ricardo       Durand    143419.0   itechsocialnet  18871.0   \n",
       "267692  175827      mahesh        kumar         NaN    socialnethubs      NaN   \n",
       "267693  178190        Alex        Smith         NaN   esocialnetlike      NaN   \n",
       "\n",
       "        person_id                      instituition graduated_at        id  \\\n",
       "0            10.0                Harvard University          NaT      10.0   \n",
       "1             NaN                               NaN          NaT     100.0   \n",
       "2             NaN                               NaN          NaT    1000.0   \n",
       "3             NaN                               NaN          NaT   10000.0   \n",
       "4             NaN                               NaN          NaT  100000.0   \n",
       "...           ...                               ...          ...       ...   \n",
       "267689        NaN                               NaN          NaT   99999.0   \n",
       "267690   174088.0  Sydney University Medical School   1982-01-01       NaN   \n",
       "267691   118386.0                              ESCS   2004-01-01       NaN   \n",
       "267692        NaN                               NaN          NaT       NaN   \n",
       "267693        NaN                               NaN          NaT       NaN   \n",
       "\n",
       "       object_id degree_type                 subject  not_graduated  \n",
       "0         p:6265          BS               Economics          False  \n",
       "1          p:938          BS        Computer Science           True  \n",
       "2        p:13098         MBA                     NaN           True  \n",
       "3        p:74038          MS     Applied Mathematics           True  \n",
       "4        p:89666          MS        Computer Science           True  \n",
       "...          ...         ...                     ...            ...  \n",
       "267689  p:257599          BS  Electrical Engineering           True  \n",
       "267690       NaN         NaN                     NaN          False  \n",
       "267691       NaN         NaN                     NaN          False  \n",
       "267692       NaN         NaN                     NaN           True  \n",
       "267693       NaN         NaN                     NaN           True  \n",
       "\n",
       "[267694 rows x 14 columns]"
      ]
     },
     "metadata": {},
     "output_type": "display_data"
    }
   ],
   "source": [
    "display(merge_group)"
   ]
  },
  {
   "cell_type": "markdown",
   "metadata": {},
   "source": [
    "Теперь произведем группировку по компаниям и посчитаем общее количество сотрудников и количество сотрудников без информации об образовании:"
   ]
  },
  {
   "cell_type": "code",
   "execution_count": 26,
   "metadata": {},
   "outputs": [
    {
     "data": {
      "text/html": [
       "<div>\n",
       "<style scoped>\n",
       "    .dataframe tbody tr th:only-of-type {\n",
       "        vertical-align: middle;\n",
       "    }\n",
       "\n",
       "    .dataframe tbody tr th {\n",
       "        vertical-align: top;\n",
       "    }\n",
       "\n",
       "    .dataframe thead th {\n",
       "        text-align: right;\n",
       "    }\n",
       "</style>\n",
       "<table border=\"1\" class=\"dataframe\">\n",
       "  <thead>\n",
       "    <tr style=\"text-align: right;\">\n",
       "      <th></th>\n",
       "      <th>company_id</th>\n",
       "      <th>id_x</th>\n",
       "      <th>not_graduated</th>\n",
       "      <th>not_graduated_percent</th>\n",
       "    </tr>\n",
       "  </thead>\n",
       "  <tbody>\n",
       "    <tr>\n",
       "      <th>0</th>\n",
       "      <td>1.0</td>\n",
       "      <td>3</td>\n",
       "      <td>1</td>\n",
       "      <td>33.33</td>\n",
       "    </tr>\n",
       "    <tr>\n",
       "      <th>1</th>\n",
       "      <td>2.0</td>\n",
       "      <td>1</td>\n",
       "      <td>0</td>\n",
       "      <td>0.00</td>\n",
       "    </tr>\n",
       "    <tr>\n",
       "      <th>2</th>\n",
       "      <td>3.0</td>\n",
       "      <td>5</td>\n",
       "      <td>1</td>\n",
       "      <td>20.00</td>\n",
       "    </tr>\n",
       "    <tr>\n",
       "      <th>3</th>\n",
       "      <td>4.0</td>\n",
       "      <td>18</td>\n",
       "      <td>1</td>\n",
       "      <td>5.56</td>\n",
       "    </tr>\n",
       "    <tr>\n",
       "      <th>4</th>\n",
       "      <td>5.0</td>\n",
       "      <td>84</td>\n",
       "      <td>16</td>\n",
       "      <td>19.05</td>\n",
       "    </tr>\n",
       "    <tr>\n",
       "      <th>...</th>\n",
       "      <td>...</td>\n",
       "      <td>...</td>\n",
       "      <td>...</td>\n",
       "      <td>...</td>\n",
       "    </tr>\n",
       "    <tr>\n",
       "      <th>22917</th>\n",
       "      <td>285897.0</td>\n",
       "      <td>2</td>\n",
       "      <td>0</td>\n",
       "      <td>0.00</td>\n",
       "    </tr>\n",
       "    <tr>\n",
       "      <th>22918</th>\n",
       "      <td>285953.0</td>\n",
       "      <td>1</td>\n",
       "      <td>1</td>\n",
       "      <td>100.00</td>\n",
       "    </tr>\n",
       "    <tr>\n",
       "      <th>22919</th>\n",
       "      <td>285972.0</td>\n",
       "      <td>2</td>\n",
       "      <td>1</td>\n",
       "      <td>50.00</td>\n",
       "    </tr>\n",
       "    <tr>\n",
       "      <th>22920</th>\n",
       "      <td>285996.0</td>\n",
       "      <td>1</td>\n",
       "      <td>0</td>\n",
       "      <td>0.00</td>\n",
       "    </tr>\n",
       "    <tr>\n",
       "      <th>22921</th>\n",
       "      <td>286091.0</td>\n",
       "      <td>7</td>\n",
       "      <td>2</td>\n",
       "      <td>28.57</td>\n",
       "    </tr>\n",
       "  </tbody>\n",
       "</table>\n",
       "<p>22922 rows × 4 columns</p>\n",
       "</div>"
      ],
      "text/plain": [
       "       company_id  id_x  not_graduated  not_graduated_percent\n",
       "0             1.0     3              1                  33.33\n",
       "1             2.0     1              0                   0.00\n",
       "2             3.0     5              1                  20.00\n",
       "3             4.0    18              1                   5.56\n",
       "4             5.0    84             16                  19.05\n",
       "...           ...   ...            ...                    ...\n",
       "22917    285897.0     2              0                   0.00\n",
       "22918    285953.0     1              1                 100.00\n",
       "22919    285972.0     2              1                  50.00\n",
       "22920    285996.0     1              0                   0.00\n",
       "22921    286091.0     7              2                  28.57\n",
       "\n",
       "[22922 rows x 4 columns]"
      ]
     },
     "metadata": {},
     "output_type": "display_data"
    }
   ],
   "source": [
    "# Произведем группировку по company_id \n",
    "\n",
    "grouped = merge_group.groupby('company_id').agg({\n",
    "    'id_x' : 'count', # Посчитаем всех сотрудников в компании по id_x\n",
    "    'not_graduated' : 'sum' # Найдем количество сотрудников без образования not_graduated\n",
    "}).reset_index()\n",
    "\n",
    "# Найдем долю сотрудников без образования от общего количества\n",
    "grouped['not_graduated_percent'] = (grouped['not_graduated'] / grouped['id_x'] * 100).round(2)\n",
    "\n",
    "display(grouped)"
   ]
  },
  {
   "cell_type": "markdown",
   "metadata": {},
   "source": [
    "Чтобы выделить группы компаний по количеству сотрудников выведем описательную статистику методом `describe`:"
   ]
  },
  {
   "cell_type": "code",
   "execution_count": 27,
   "metadata": {},
   "outputs": [
    {
     "name": "stdout",
     "output_type": "stream",
     "text": [
      "count    22922.000000\n",
      "mean         1.953974\n",
      "std          4.087373\n",
      "min          1.000000\n",
      "25%          1.000000\n",
      "50%          1.000000\n",
      "75%          2.000000\n",
      "max        376.000000\n",
      "Name: id_x, dtype: float64\n"
     ]
    }
   ],
   "source": [
    "print(grouped['id_x'].describe())"
   ]
  },
  {
   "cell_type": "markdown",
   "metadata": {},
   "source": [
    "Теперь попорбуем визуализировать разброс категорий:"
   ]
  },
  {
   "cell_type": "code",
   "execution_count": 28,
   "metadata": {},
   "outputs": [
    {
     "data": {
      "image/png": "[encoded data removed]",
      "text/plain": [
       "<Figure size 1200x500 with 1 Axes>"
      ]
     },
     "metadata": {},
     "output_type": "display_data"
    }
   ],
   "source": [
    "grouped.boxplot(column='id_x',\n",
    "               vert=False,\n",
    "               figsize=(12,5))\n",
    "\n",
    "plt.show()"
   ]
  },
  {
   "cell_type": "markdown",
   "metadata": {},
   "source": [
    "Согласно данным описательной статистики больше половины данных в исходных датафреймах содержат информацию только об одном или двух сотрудниках. Опираясь на разброс, попробуем выделить такие категории:\n",
    "- от 1 до 2 сотрудников\n",
    "- от 3 до 50 сотрудников\n",
    "- от 50 до 100 сотрудников\n",
    "- от 100 сотрудников\n",
    "\n",
    "Чтобы разделить выборку на группы, напишем функцию `category`:"
   ]
  },
  {
   "cell_type": "code",
   "execution_count": 29,
   "metadata": {},
   "outputs": [
    {
     "data": {
      "text/html": [
       "<div>\n",
       "<style scoped>\n",
       "    .dataframe tbody tr th:only-of-type {\n",
       "        vertical-align: middle;\n",
       "    }\n",
       "\n",
       "    .dataframe tbody tr th {\n",
       "        vertical-align: top;\n",
       "    }\n",
       "\n",
       "    .dataframe thead th {\n",
       "        text-align: right;\n",
       "    }\n",
       "</style>\n",
       "<table border=\"1\" class=\"dataframe\">\n",
       "  <thead>\n",
       "    <tr style=\"text-align: right;\">\n",
       "      <th></th>\n",
       "      <th>company_id</th>\n",
       "      <th>id_x</th>\n",
       "      <th>not_graduated</th>\n",
       "      <th>not_graduated_percent</th>\n",
       "      <th>category</th>\n",
       "    </tr>\n",
       "  </thead>\n",
       "  <tbody>\n",
       "    <tr>\n",
       "      <th>0</th>\n",
       "      <td>1.0</td>\n",
       "      <td>3</td>\n",
       "      <td>1</td>\n",
       "      <td>33.33</td>\n",
       "      <td>от 3 до 50 сотрудников</td>\n",
       "    </tr>\n",
       "    <tr>\n",
       "      <th>1</th>\n",
       "      <td>2.0</td>\n",
       "      <td>1</td>\n",
       "      <td>0</td>\n",
       "      <td>0.00</td>\n",
       "      <td>от 1 до 2 сотрудников</td>\n",
       "    </tr>\n",
       "    <tr>\n",
       "      <th>2</th>\n",
       "      <td>3.0</td>\n",
       "      <td>5</td>\n",
       "      <td>1</td>\n",
       "      <td>20.00</td>\n",
       "      <td>от 3 до 50 сотрудников</td>\n",
       "    </tr>\n",
       "    <tr>\n",
       "      <th>3</th>\n",
       "      <td>4.0</td>\n",
       "      <td>18</td>\n",
       "      <td>1</td>\n",
       "      <td>5.56</td>\n",
       "      <td>от 3 до 50 сотрудников</td>\n",
       "    </tr>\n",
       "    <tr>\n",
       "      <th>4</th>\n",
       "      <td>5.0</td>\n",
       "      <td>84</td>\n",
       "      <td>16</td>\n",
       "      <td>19.05</td>\n",
       "      <td>от 50 до 100 сотрудников</td>\n",
       "    </tr>\n",
       "    <tr>\n",
       "      <th>...</th>\n",
       "      <td>...</td>\n",
       "      <td>...</td>\n",
       "      <td>...</td>\n",
       "      <td>...</td>\n",
       "      <td>...</td>\n",
       "    </tr>\n",
       "    <tr>\n",
       "      <th>22917</th>\n",
       "      <td>285897.0</td>\n",
       "      <td>2</td>\n",
       "      <td>0</td>\n",
       "      <td>0.00</td>\n",
       "      <td>от 1 до 2 сотрудников</td>\n",
       "    </tr>\n",
       "    <tr>\n",
       "      <th>22918</th>\n",
       "      <td>285953.0</td>\n",
       "      <td>1</td>\n",
       "      <td>1</td>\n",
       "      <td>100.00</td>\n",
       "      <td>от 1 до 2 сотрудников</td>\n",
       "    </tr>\n",
       "    <tr>\n",
       "      <th>22919</th>\n",
       "      <td>285972.0</td>\n",
       "      <td>2</td>\n",
       "      <td>1</td>\n",
       "      <td>50.00</td>\n",
       "      <td>от 1 до 2 сотрудников</td>\n",
       "    </tr>\n",
       "    <tr>\n",
       "      <th>22920</th>\n",
       "      <td>285996.0</td>\n",
       "      <td>1</td>\n",
       "      <td>0</td>\n",
       "      <td>0.00</td>\n",
       "      <td>от 1 до 2 сотрудников</td>\n",
       "    </tr>\n",
       "    <tr>\n",
       "      <th>22921</th>\n",
       "      <td>286091.0</td>\n",
       "      <td>7</td>\n",
       "      <td>2</td>\n",
       "      <td>28.57</td>\n",
       "      <td>от 3 до 50 сотрудников</td>\n",
       "    </tr>\n",
       "  </tbody>\n",
       "</table>\n",
       "<p>22922 rows × 5 columns</p>\n",
       "</div>"
      ],
      "text/plain": [
       "       company_id  id_x  not_graduated  not_graduated_percent  \\\n",
       "0             1.0     3              1                  33.33   \n",
       "1             2.0     1              0                   0.00   \n",
       "2             3.0     5              1                  20.00   \n",
       "3             4.0    18              1                   5.56   \n",
       "4             5.0    84             16                  19.05   \n",
       "...           ...   ...            ...                    ...   \n",
       "22917    285897.0     2              0                   0.00   \n",
       "22918    285953.0     1              1                 100.00   \n",
       "22919    285972.0     2              1                  50.00   \n",
       "22920    285996.0     1              0                   0.00   \n",
       "22921    286091.0     7              2                  28.57   \n",
       "\n",
       "                       category  \n",
       "0        от 3 до 50 сотрудников  \n",
       "1         от 1 до 2 сотрудников  \n",
       "2        от 3 до 50 сотрудников  \n",
       "3        от 3 до 50 сотрудников  \n",
       "4      от 50 до 100 сотрудников  \n",
       "...                         ...  \n",
       "22917     от 1 до 2 сотрудников  \n",
       "22918     от 1 до 2 сотрудников  \n",
       "22919     от 1 до 2 сотрудников  \n",
       "22920     от 1 до 2 сотрудников  \n",
       "22921    от 3 до 50 сотрудников  \n",
       "\n",
       "[22922 rows x 5 columns]"
      ]
     },
     "metadata": {},
     "output_type": "display_data"
    }
   ],
   "source": [
    "# Функция category присваивает категорию\n",
    "# в зависимости от количества сотрудников\n",
    "def category(x):\n",
    "    if 1 <= x <= 2:\n",
    "        return 'от 1 до 2 сотрудников'\n",
    "    elif 2 < x <= 50:\n",
    "        return 'от 3 до 50 сотрудников'\n",
    "    elif 50 <= x < 99:\n",
    "        return 'от 50 до 100 сотрудников'\n",
    "    elif 100 <= x:\n",
    "        return 'от 100 сотрудников'\n",
    "    \n",
    "# Применим функцию для создания столбца category\n",
    "grouped['category'] = grouped['id_x'].apply(category)\n",
    "\n",
    "# Проверим как сработала функция\n",
    "display(grouped)"
   ]
  },
  {
   "cell_type": "markdown",
   "metadata": {},
   "source": [
    "Теперь сгруппируем данные по полученным категориям и посчитаем среднюю долю работников, не имеющих информации об образовании: "
   ]
  },
  {
   "cell_type": "code",
   "execution_count": 30,
   "metadata": {},
   "outputs": [
    {
     "data": {
      "text/html": [
       "<div>\n",
       "<style scoped>\n",
       "    .dataframe tbody tr th:only-of-type {\n",
       "        vertical-align: middle;\n",
       "    }\n",
       "\n",
       "    .dataframe tbody tr th {\n",
       "        vertical-align: top;\n",
       "    }\n",
       "\n",
       "    .dataframe thead th {\n",
       "        text-align: right;\n",
       "    }\n",
       "</style>\n",
       "<table border=\"1\" class=\"dataframe\">\n",
       "  <thead>\n",
       "    <tr style=\"text-align: right;\">\n",
       "      <th></th>\n",
       "      <th>category</th>\n",
       "      <th>not_graduated_percent</th>\n",
       "    </tr>\n",
       "  </thead>\n",
       "  <tbody>\n",
       "    <tr>\n",
       "      <th>1</th>\n",
       "      <td>от 100 сотрудников</td>\n",
       "      <td>17.547500</td>\n",
       "    </tr>\n",
       "    <tr>\n",
       "      <th>3</th>\n",
       "      <td>от 50 до 100 сотрудников</td>\n",
       "      <td>18.298000</td>\n",
       "    </tr>\n",
       "    <tr>\n",
       "      <th>2</th>\n",
       "      <td>от 3 до 50 сотрудников</td>\n",
       "      <td>26.062806</td>\n",
       "    </tr>\n",
       "    <tr>\n",
       "      <th>0</th>\n",
       "      <td>от 1 до 2 сотрудников</td>\n",
       "      <td>50.060895</td>\n",
       "    </tr>\n",
       "  </tbody>\n",
       "</table>\n",
       "</div>"
      ],
      "text/plain": [
       "                   category  not_graduated_percent\n",
       "1        от 100 сотрудников              17.547500\n",
       "3  от 50 до 100 сотрудников              18.298000\n",
       "2    от 3 до 50 сотрудников              26.062806\n",
       "0     от 1 до 2 сотрудников              50.060895"
      ]
     },
     "metadata": {},
     "output_type": "display_data"
    }
   ],
   "source": [
    "# Группируем данные по category и находим среднее по not_graduated_percent\n",
    "grouped_category = grouped.groupby('category')['not_graduated_percent'].mean().reset_index().sort_values(by='not_graduated_percent')\n",
    "\n",
    "# Выводим полученную выборку\n",
    "display(grouped_category)"
   ]
  },
  {
   "cell_type": "markdown",
   "metadata": {},
   "source": [
    "Теперь построим график распределения доли сотрудников, по которым нет информации об их образовании:"
   ]
  },
  {
   "cell_type": "code",
   "execution_count": 31,
   "metadata": {},
   "outputs": [
    {
     "data": {
      "image/png": "[encoded data removed]",
      "text/plain": [
       "<Figure size 1000x500 with 1 Axes>"
      ]
     },
     "metadata": {},
     "output_type": "display_data"
    }
   ],
   "source": [
    "grouped_category.sort_values(by='not_graduated_percent').plot(kind='barh',\n",
    "                                                              x='category',\n",
    "                                                              figsize=(10,5),\n",
    "                                                              legend=False)\n",
    "\n",
    "plt.title('Доля сотрудников, по которым нет информации об их образовании')\n",
    "plt.xlabel('Процент')\n",
    "plt.ylabel('Категория')\n",
    "\n",
    "plt.show()"
   ]
  },
  {
   "cell_type": "markdown",
   "metadata": {},
   "source": [
    "Из графика видно, что самый большой средний процент (59.2%) отсуствия образования у сотрудников есть в компаниях, где информация представлена всего об одном человеке. Самый низкий процент (17.5%) отмечен в самых больших кампаниях."
   ]
  },
  {
   "cell_type": "markdown",
   "metadata": {},
   "source": [
    "**Вывод:** \n",
    "- Можно установить зависимость - чем больше компания, тем меньше в ней доля сотрудников без информации об образовании. \n",
    "- Датафрейм `degrees` можно подключить для решения данной задачи, но особой необходимости в этом нет."
   ]
  },
  {
   "cell_type": "markdown",
   "metadata": {},
   "source": [
    "### Объединять или не объединять — вот в чём вопрос\n",
    "\n",
    "Некоторые названия столбцов встречаются в датасетах чаще других. И, например, в результате предварительной проверки датасетов было выяснено, что столбец `company_id` подходит для объединения данных, так как большая часть значений встречается в разных датасетах не один, а несколько раз. Этот столбец может быть использован для объединения данных.\n",
    "\n",
    "* Установите, подходит ли для объединения данных столбец `network_username`, который встречается в нескольких датасетах. Нам необходимо понимать, дублируется ли для разных датасетов информация в столбцах с таким названием, и если да — то насколько часто.\n",
    "\n",
    "* Оцените, можно ли использовать столбцы с именем `network_username` для объединения данных."
   ]
  },
  {
   "cell_type": "markdown",
   "metadata": {
    "id": "Cf5IjfOQrJg1"
   },
   "source": [
    "Столбец `network_username` встречается в двух датасетах: `company_and_rounds` и `people`. Чтобы понять, подходит ли этот столбец, посчитаем  уникальных значений в датасетах и сравним результаты."
   ]
  },
  {
   "cell_type": "code",
   "execution_count": 32,
   "metadata": {
    "id": "CilOkz-inz37"
   },
   "outputs": [
    {
     "name": "stdout",
     "output_type": "stream",
     "text": [
      "Кол-во уникальных значений в company_and_rounds - 79571\n",
      "Кол-во уникальных значений в people - 38421\n",
      "Доля повторяющихся значений 48.29 %\n"
     ]
    }
   ],
   "source": [
    "car_username_count = company_and_rounds['network_username'].nunique()\n",
    "print(f'Кол-во уникальных значений в company_and_rounds - {car_username_count}')\n",
    "\n",
    "p_username_count = people['network_username'].nunique()\n",
    "print(f'Кол-во уникальных значений в people - {p_username_count}')\n",
    "\n",
    "duplicate_percent = p_username_count / car_username_count * 100\n",
    "print(f'Доля повторяющихся значений {round(duplicate_percent,2)} %')"
   ]
  },
  {
   "cell_type": "markdown",
   "metadata": {},
   "source": [
    "**Вывод:**\n",
    "Доля повторяющихся значений почти 50% - это весомая часть. \n",
    "\n",
    "Если стоит цель подключить к `people` таблицу `company_and_rounds`, то для объединения можно использовать столбец `network_username` с указанием параметра 'left', т.к данных в таблице `company_and_rounds` больше, чем в `people`. "
   ]
  },
  {
   "cell_type": "markdown",
   "metadata": {
    "id": "EHcODomVrJg1"
   },
   "source": [
    "\n",
    "### Проблемный датасет и причина возникновения пропусков\n",
    "\n",
    "Во время собственного анализа данных у заказчика больше всего вопросов возникло к датасету `company_and_rounds.csv`. В нём много пропусков как раз в информации о раундах, которая заказчику важна. Хотя информация об общем объёме финансирования по раундам присутствует в других датасетах, заказчик считает данные `company_and_rounds.csv` о размере средств наиболее верными.\n",
    "\n",
    "* Любым удобным способом приведите данные в вид, который позволяет проводить анализ в разрезе отдельных компаний. Можно изменять форму данных, порядок их хранения. Обратите внимание на структуру датасета, порядок и названия столбцов, проанализируйте значения.\n",
    "\n",
    "По гипотезе заказчика данные по компаниям из этой таблицы раньше хранились иначе, более удобным для исследования образом.\n",
    "\n",
    "* Максимальным образом сохраняя данные, сохранив их связность и исключив возможные возникающие при этом ошибки, подготовьте данные так, чтобы удобно было отобрать компании по параметрам и рассчитать показатели из расчёта на одну компанию."
   ]
  },
  {
   "cell_type": "markdown",
   "metadata": {},
   "source": [
    "Попробуем разделить датафрейм `company_and_rounds` на два датасета. В одном будет содержаться вся информация о компаниях, а во втором информация о компаниях и их этапах финансирования:"
   ]
  },
  {
   "cell_type": "code",
   "execution_count": 33,
   "metadata": {},
   "outputs": [],
   "source": [
    "# Настроим отображение всех колонок\n",
    "pd.set_option('display.max_columns', None)\n",
    "\n",
    "# Датафрейм, содержащий всю информацию о компаниях\n",
    "df_company = company_and_rounds[['company_id', 'name', 'category_code', 'status', \n",
    "                                 'founded_at', 'closed_at',\n",
    "                                 'domain', 'network_username', \n",
    "                                 'country_code', 'investment_rounds',\n",
    "                                 'funding_rounds', 'funding_total', 'milestones']].copy()\n",
    "\n",
    "# Датафрейм, содержаший информацию о раундах финансирования\n",
    "df_rounds = company_and_rounds[['funding_round_id', 'company_id', 'funded_at', \n",
    "                                'funding_round_type', 'raised_amount', 'pre_money_valuation', \n",
    "                                'participants', 'is_first_round', 'is_last_round']].copy()\n",
    "\n",
    "# Удалим возможные явные дубликаты\n",
    "df_company.drop_duplicates(inplace=True)\n",
    "df_rounds.drop_duplicates(inplace=True)\n",
    "\n",
    "# Удалим строки, в которых нет информации о компаниях\n",
    "df_company.dropna(subset=['company_id', 'name'], inplace=True)\n",
    "df_rounds.dropna(subset=['funding_round_id','company_id'], inplace=True)\n",
    "\n",
    "# Сбросим порядок индексов\n",
    "df_company = df_company.reset_index(drop=True)\n",
    "df_rounds = df_rounds.reset_index(drop=True)"
   ]
  },
  {
   "cell_type": "markdown",
   "metadata": {},
   "source": [
    "Посмортим как теперь выглядят отдельные датафреймы:"
   ]
  },
  {
   "cell_type": "code",
   "execution_count": 34,
   "metadata": {
    "id": "SFfUmzron0Tc"
   },
   "outputs": [
    {
     "data": {
      "text/html": [
       "<div>\n",
       "<style scoped>\n",
       "    .dataframe tbody tr th:only-of-type {\n",
       "        vertical-align: middle;\n",
       "    }\n",
       "\n",
       "    .dataframe tbody tr th {\n",
       "        vertical-align: top;\n",
       "    }\n",
       "\n",
       "    .dataframe thead th {\n",
       "        text-align: right;\n",
       "    }\n",
       "</style>\n",
       "<table border=\"1\" class=\"dataframe\">\n",
       "  <thead>\n",
       "    <tr style=\"text-align: right;\">\n",
       "      <th></th>\n",
       "      <th>company_id</th>\n",
       "      <th>name</th>\n",
       "      <th>category_code</th>\n",
       "      <th>status</th>\n",
       "      <th>founded_at</th>\n",
       "      <th>closed_at</th>\n",
       "      <th>domain</th>\n",
       "      <th>network_username</th>\n",
       "      <th>country_code</th>\n",
       "      <th>investment_rounds</th>\n",
       "      <th>funding_rounds</th>\n",
       "      <th>funding_total</th>\n",
       "      <th>milestones</th>\n",
       "    </tr>\n",
       "  </thead>\n",
       "  <tbody>\n",
       "    <tr>\n",
       "      <th>0</th>\n",
       "      <td>1.0</td>\n",
       "      <td>Wetpaint</td>\n",
       "      <td>web</td>\n",
       "      <td>operating</td>\n",
       "      <td>2005-10-17</td>\n",
       "      <td>NaT</td>\n",
       "      <td>wetpaint-inc.com</td>\n",
       "      <td>BachelrWetpaint</td>\n",
       "      <td>USA</td>\n",
       "      <td>0.0</td>\n",
       "      <td>3.0</td>\n",
       "      <td>39750000.0</td>\n",
       "      <td>5.0</td>\n",
       "    </tr>\n",
       "    <tr>\n",
       "      <th>1</th>\n",
       "      <td>10.0</td>\n",
       "      <td>Flektor</td>\n",
       "      <td>games_video</td>\n",
       "      <td>acquired</td>\n",
       "      <td>NaT</td>\n",
       "      <td>NaT</td>\n",
       "      <td>flektor.com</td>\n",
       "      <td>NaN</td>\n",
       "      <td>USA</td>\n",
       "      <td>0.0</td>\n",
       "      <td>0.0</td>\n",
       "      <td>0.0</td>\n",
       "      <td>0.0</td>\n",
       "    </tr>\n",
       "    <tr>\n",
       "      <th>2</th>\n",
       "      <td>100.0</td>\n",
       "      <td>There</td>\n",
       "      <td>games_video</td>\n",
       "      <td>acquired</td>\n",
       "      <td>NaT</td>\n",
       "      <td>NaT</td>\n",
       "      <td>there.com</td>\n",
       "      <td>NaN</td>\n",
       "      <td>USA</td>\n",
       "      <td>0.0</td>\n",
       "      <td>0.0</td>\n",
       "      <td>0.0</td>\n",
       "      <td>4.0</td>\n",
       "    </tr>\n",
       "    <tr>\n",
       "      <th>3</th>\n",
       "      <td>10000.0</td>\n",
       "      <td>MYWEBBO</td>\n",
       "      <td>network_hosting</td>\n",
       "      <td>operating</td>\n",
       "      <td>2008-07-26</td>\n",
       "      <td>NaT</td>\n",
       "      <td>mywebbo.com</td>\n",
       "      <td>NaN</td>\n",
       "      <td>NaN</td>\n",
       "      <td>0.0</td>\n",
       "      <td>0.0</td>\n",
       "      <td>0.0</td>\n",
       "      <td>0.0</td>\n",
       "    </tr>\n",
       "    <tr>\n",
       "      <th>4</th>\n",
       "      <td>10001.0</td>\n",
       "      <td>THE Movie Streamer</td>\n",
       "      <td>games_video</td>\n",
       "      <td>operating</td>\n",
       "      <td>2008-07-26</td>\n",
       "      <td>NaT</td>\n",
       "      <td>themoviestreamer.com</td>\n",
       "      <td>NaN</td>\n",
       "      <td>NaN</td>\n",
       "      <td>0.0</td>\n",
       "      <td>0.0</td>\n",
       "      <td>0.0</td>\n",
       "      <td>0.0</td>\n",
       "    </tr>\n",
       "    <tr>\n",
       "      <th>...</th>\n",
       "      <td>...</td>\n",
       "      <td>...</td>\n",
       "      <td>...</td>\n",
       "      <td>...</td>\n",
       "      <td>...</td>\n",
       "      <td>...</td>\n",
       "      <td>...</td>\n",
       "      <td>...</td>\n",
       "      <td>...</td>\n",
       "      <td>...</td>\n",
       "      <td>...</td>\n",
       "      <td>...</td>\n",
       "      <td>...</td>\n",
       "    </tr>\n",
       "    <tr>\n",
       "      <th>196547</th>\n",
       "      <td>183352.0</td>\n",
       "      <td>Mattress Source</td>\n",
       "      <td>NaN</td>\n",
       "      <td>operating</td>\n",
       "      <td>NaT</td>\n",
       "      <td>NaT</td>\n",
       "      <td>mattresssourcestl.com</td>\n",
       "      <td>network</td>\n",
       "      <td>NaN</td>\n",
       "      <td>0.0</td>\n",
       "      <td>0.0</td>\n",
       "      <td>0.0</td>\n",
       "      <td>0.0</td>\n",
       "    </tr>\n",
       "    <tr>\n",
       "      <th>196548</th>\n",
       "      <td>3429.0</td>\n",
       "      <td>Zend Technologies</td>\n",
       "      <td>software</td>\n",
       "      <td>operating</td>\n",
       "      <td>1999-01-01</td>\n",
       "      <td>NaT</td>\n",
       "      <td>zend.com</td>\n",
       "      <td>networkzend</td>\n",
       "      <td>USA</td>\n",
       "      <td>0.0</td>\n",
       "      <td>4.0</td>\n",
       "      <td>44000000.0</td>\n",
       "      <td>6.0</td>\n",
       "    </tr>\n",
       "    <tr>\n",
       "      <th>196549</th>\n",
       "      <td>7748.0</td>\n",
       "      <td>Flowgram</td>\n",
       "      <td>web</td>\n",
       "      <td>closed</td>\n",
       "      <td>2007-06-01</td>\n",
       "      <td>2008-06-11</td>\n",
       "      <td>flowgram.com</td>\n",
       "      <td>network</td>\n",
       "      <td>USA</td>\n",
       "      <td>0.0</td>\n",
       "      <td>1.0</td>\n",
       "      <td>1300000.0</td>\n",
       "      <td>3.0</td>\n",
       "    </tr>\n",
       "    <tr>\n",
       "      <th>196550</th>\n",
       "      <td>174536.0</td>\n",
       "      <td>Pphotonet</td>\n",
       "      <td>games_video</td>\n",
       "      <td>operating</td>\n",
       "      <td>2012-05-01</td>\n",
       "      <td>NaT</td>\n",
       "      <td>pPhotonet.co</td>\n",
       "      <td>pPhotonet</td>\n",
       "      <td>NaN</td>\n",
       "      <td>0.0</td>\n",
       "      <td>0.0</td>\n",
       "      <td>0.0</td>\n",
       "      <td>0.0</td>\n",
       "    </tr>\n",
       "    <tr>\n",
       "      <th>196551</th>\n",
       "      <td>43233.0</td>\n",
       "      <td>Photonet</td>\n",
       "      <td>photo_video</td>\n",
       "      <td>acquired</td>\n",
       "      <td>2010-03-01</td>\n",
       "      <td>NaT</td>\n",
       "      <td>Photonet.com</td>\n",
       "      <td>Photonet</td>\n",
       "      <td>USA</td>\n",
       "      <td>0.0</td>\n",
       "      <td>3.0</td>\n",
       "      <td>57500000.0</td>\n",
       "      <td>3.0</td>\n",
       "    </tr>\n",
       "  </tbody>\n",
       "</table>\n",
       "<p>196552 rows × 13 columns</p>\n",
       "</div>"
      ],
      "text/plain": [
       "        company_id                name    category_code     status founded_at  \\\n",
       "0              1.0            Wetpaint              web  operating 2005-10-17   \n",
       "1             10.0             Flektor      games_video   acquired        NaT   \n",
       "2            100.0               There      games_video   acquired        NaT   \n",
       "3          10000.0             MYWEBBO  network_hosting  operating 2008-07-26   \n",
       "4          10001.0  THE Movie Streamer      games_video  operating 2008-07-26   \n",
       "...            ...                 ...              ...        ...        ...   \n",
       "196547    183352.0     Mattress Source              NaN  operating        NaT   \n",
       "196548      3429.0   Zend Technologies         software  operating 1999-01-01   \n",
       "196549      7748.0            Flowgram              web     closed 2007-06-01   \n",
       "196550    174536.0           Pphotonet      games_video  operating 2012-05-01   \n",
       "196551     43233.0            Photonet      photo_video   acquired 2010-03-01   \n",
       "\n",
       "        closed_at                 domain network_username country_code  \\\n",
       "0             NaT       wetpaint-inc.com  BachelrWetpaint          USA   \n",
       "1             NaT            flektor.com              NaN          USA   \n",
       "2             NaT              there.com              NaN          USA   \n",
       "3             NaT            mywebbo.com              NaN          NaN   \n",
       "4             NaT   themoviestreamer.com              NaN          NaN   \n",
       "...           ...                    ...              ...          ...   \n",
       "196547        NaT  mattresssourcestl.com          network          NaN   \n",
       "196548        NaT               zend.com      networkzend          USA   \n",
       "196549 2008-06-11           flowgram.com          network          USA   \n",
       "196550        NaT           pPhotonet.co        pPhotonet          NaN   \n",
       "196551        NaT           Photonet.com         Photonet          USA   \n",
       "\n",
       "        investment_rounds  funding_rounds  funding_total  milestones  \n",
       "0                     0.0             3.0     39750000.0         5.0  \n",
       "1                     0.0             0.0            0.0         0.0  \n",
       "2                     0.0             0.0            0.0         4.0  \n",
       "3                     0.0             0.0            0.0         0.0  \n",
       "4                     0.0             0.0            0.0         0.0  \n",
       "...                   ...             ...            ...         ...  \n",
       "196547                0.0             0.0            0.0         0.0  \n",
       "196548                0.0             4.0     44000000.0         6.0  \n",
       "196549                0.0             1.0      1300000.0         3.0  \n",
       "196550                0.0             0.0            0.0         0.0  \n",
       "196551                0.0             3.0     57500000.0         3.0  \n",
       "\n",
       "[196552 rows x 13 columns]"
      ]
     },
     "metadata": {},
     "output_type": "display_data"
    }
   ],
   "source": [
    "display(df_company)"
   ]
  },
  {
   "cell_type": "code",
   "execution_count": 35,
   "metadata": {},
   "outputs": [
    {
     "data": {
      "text/html": [
       "<div>\n",
       "<style scoped>\n",
       "    .dataframe tbody tr th:only-of-type {\n",
       "        vertical-align: middle;\n",
       "    }\n",
       "\n",
       "    .dataframe tbody tr th {\n",
       "        vertical-align: top;\n",
       "    }\n",
       "\n",
       "    .dataframe thead th {\n",
       "        text-align: right;\n",
       "    }\n",
       "</style>\n",
       "<table border=\"1\" class=\"dataframe\">\n",
       "  <thead>\n",
       "    <tr style=\"text-align: right;\">\n",
       "      <th></th>\n",
       "      <th>funding_round_id</th>\n",
       "      <th>company_id</th>\n",
       "      <th>funded_at</th>\n",
       "      <th>funding_round_type</th>\n",
       "      <th>raised_amount</th>\n",
       "      <th>pre_money_valuation</th>\n",
       "      <th>participants</th>\n",
       "      <th>is_first_round</th>\n",
       "      <th>is_last_round</th>\n",
       "    </tr>\n",
       "  </thead>\n",
       "  <tbody>\n",
       "    <tr>\n",
       "      <th>0</th>\n",
       "      <td>888.0</td>\n",
       "      <td>1.0</td>\n",
       "      <td>2005-10-01</td>\n",
       "      <td>series-a</td>\n",
       "      <td>5250000.0</td>\n",
       "      <td>0.0</td>\n",
       "      <td>2.0</td>\n",
       "      <td>0.0</td>\n",
       "      <td>1.0</td>\n",
       "    </tr>\n",
       "    <tr>\n",
       "      <th>1</th>\n",
       "      <td>889.0</td>\n",
       "      <td>1.0</td>\n",
       "      <td>2007-01-01</td>\n",
       "      <td>series-b</td>\n",
       "      <td>9500000.0</td>\n",
       "      <td>0.0</td>\n",
       "      <td>3.0</td>\n",
       "      <td>0.0</td>\n",
       "      <td>0.0</td>\n",
       "    </tr>\n",
       "    <tr>\n",
       "      <th>2</th>\n",
       "      <td>2312.0</td>\n",
       "      <td>1.0</td>\n",
       "      <td>2008-05-19</td>\n",
       "      <td>series-c+</td>\n",
       "      <td>25000000.0</td>\n",
       "      <td>0.0</td>\n",
       "      <td>4.0</td>\n",
       "      <td>1.0</td>\n",
       "      <td>0.0</td>\n",
       "    </tr>\n",
       "    <tr>\n",
       "      <th>3</th>\n",
       "      <td>1644.0</td>\n",
       "      <td>1001.0</td>\n",
       "      <td>2008-02-26</td>\n",
       "      <td>series-a</td>\n",
       "      <td>5000000.0</td>\n",
       "      <td>0.0</td>\n",
       "      <td>3.0</td>\n",
       "      <td>1.0</td>\n",
       "      <td>1.0</td>\n",
       "    </tr>\n",
       "    <tr>\n",
       "      <th>4</th>\n",
       "      <td>6682.0</td>\n",
       "      <td>10014.0</td>\n",
       "      <td>2008-09-01</td>\n",
       "      <td>angel</td>\n",
       "      <td>0.0</td>\n",
       "      <td>0.0</td>\n",
       "      <td>1.0</td>\n",
       "      <td>1.0</td>\n",
       "      <td>1.0</td>\n",
       "    </tr>\n",
       "    <tr>\n",
       "      <th>...</th>\n",
       "      <td>...</td>\n",
       "      <td>...</td>\n",
       "      <td>...</td>\n",
       "      <td>...</td>\n",
       "      <td>...</td>\n",
       "      <td>...</td>\n",
       "      <td>...</td>\n",
       "      <td>...</td>\n",
       "      <td>...</td>\n",
       "    </tr>\n",
       "    <tr>\n",
       "      <th>52621</th>\n",
       "      <td>20896.0</td>\n",
       "      <td>3429.0</td>\n",
       "      <td>2011-01-10</td>\n",
       "      <td>venture</td>\n",
       "      <td>7000000.0</td>\n",
       "      <td>0.0</td>\n",
       "      <td>1.0</td>\n",
       "      <td>1.0</td>\n",
       "      <td>0.0</td>\n",
       "    </tr>\n",
       "    <tr>\n",
       "      <th>52622</th>\n",
       "      <td>2836.0</td>\n",
       "      <td>7748.0</td>\n",
       "      <td>2008-01-31</td>\n",
       "      <td>angel</td>\n",
       "      <td>1300000.0</td>\n",
       "      <td>0.0</td>\n",
       "      <td>8.0</td>\n",
       "      <td>1.0</td>\n",
       "      <td>1.0</td>\n",
       "    </tr>\n",
       "    <tr>\n",
       "      <th>52623</th>\n",
       "      <td>12687.0</td>\n",
       "      <td>43233.0</td>\n",
       "      <td>2010-03-05</td>\n",
       "      <td>angel</td>\n",
       "      <td>500000.0</td>\n",
       "      <td>0.0</td>\n",
       "      <td>2.0</td>\n",
       "      <td>0.0</td>\n",
       "      <td>1.0</td>\n",
       "    </tr>\n",
       "    <tr>\n",
       "      <th>52624</th>\n",
       "      <td>21259.0</td>\n",
       "      <td>43233.0</td>\n",
       "      <td>2011-02-02</td>\n",
       "      <td>series-a</td>\n",
       "      <td>7000000.0</td>\n",
       "      <td>0.0</td>\n",
       "      <td>5.0</td>\n",
       "      <td>0.0</td>\n",
       "      <td>0.0</td>\n",
       "    </tr>\n",
       "    <tr>\n",
       "      <th>52625</th>\n",
       "      <td>28645.0</td>\n",
       "      <td>43233.0</td>\n",
       "      <td>2012-04-05</td>\n",
       "      <td>series-b</td>\n",
       "      <td>50000000.0</td>\n",
       "      <td>0.0</td>\n",
       "      <td>5.0</td>\n",
       "      <td>1.0</td>\n",
       "      <td>0.0</td>\n",
       "    </tr>\n",
       "  </tbody>\n",
       "</table>\n",
       "<p>52626 rows × 9 columns</p>\n",
       "</div>"
      ],
      "text/plain": [
       "       funding_round_id  company_id  funded_at funding_round_type  \\\n",
       "0                 888.0         1.0 2005-10-01           series-a   \n",
       "1                 889.0         1.0 2007-01-01           series-b   \n",
       "2                2312.0         1.0 2008-05-19          series-c+   \n",
       "3                1644.0      1001.0 2008-02-26           series-a   \n",
       "4                6682.0     10014.0 2008-09-01              angel   \n",
       "...                 ...         ...        ...                ...   \n",
       "52621           20896.0      3429.0 2011-01-10            venture   \n",
       "52622            2836.0      7748.0 2008-01-31              angel   \n",
       "52623           12687.0     43233.0 2010-03-05              angel   \n",
       "52624           21259.0     43233.0 2011-02-02           series-a   \n",
       "52625           28645.0     43233.0 2012-04-05           series-b   \n",
       "\n",
       "       raised_amount  pre_money_valuation  participants  is_first_round  \\\n",
       "0          5250000.0                  0.0           2.0             0.0   \n",
       "1          9500000.0                  0.0           3.0             0.0   \n",
       "2         25000000.0                  0.0           4.0             1.0   \n",
       "3          5000000.0                  0.0           3.0             1.0   \n",
       "4                0.0                  0.0           1.0             1.0   \n",
       "...              ...                  ...           ...             ...   \n",
       "52621      7000000.0                  0.0           1.0             1.0   \n",
       "52622      1300000.0                  0.0           8.0             1.0   \n",
       "52623       500000.0                  0.0           2.0             0.0   \n",
       "52624      7000000.0                  0.0           5.0             0.0   \n",
       "52625     50000000.0                  0.0           5.0             1.0   \n",
       "\n",
       "       is_last_round  \n",
       "0                1.0  \n",
       "1                0.0  \n",
       "2                0.0  \n",
       "3                1.0  \n",
       "4                1.0  \n",
       "...              ...  \n",
       "52621            0.0  \n",
       "52622            1.0  \n",
       "52623            1.0  \n",
       "52624            0.0  \n",
       "52625            0.0  \n",
       "\n",
       "[52626 rows x 9 columns]"
      ]
     },
     "metadata": {},
     "output_type": "display_data"
    }
   ],
   "source": [
    "display(df_rounds)"
   ]
  },
  {
   "cell_type": "markdown",
   "metadata": {},
   "source": [
    "Стало намного нагляднее. После удаления всех явных дубликатов из обоих датасетов можно посмотреть на количество пустых ячеек:\n"
   ]
  },
  {
   "cell_type": "code",
   "execution_count": 36,
   "metadata": {},
   "outputs": [
    {
     "name": "stdout",
     "output_type": "stream",
     "text": [
      "<class 'pandas.core.frame.DataFrame'>\n",
      "RangeIndex: 196552 entries, 0 to 196551\n",
      "Data columns (total 13 columns):\n",
      " #   Column             Non-Null Count   Dtype         \n",
      "---  ------             --------------   -----         \n",
      " 0   company_id         196552 non-null  float64       \n",
      " 1   name               196552 non-null  object        \n",
      " 2   category_code      123186 non-null  object        \n",
      " 3   status             196552 non-null  object        \n",
      " 4   founded_at         91226 non-null   datetime64[ns]\n",
      " 5   closed_at          2619 non-null    datetime64[ns]\n",
      " 6   domain             126545 non-null  object        \n",
      " 7   network_username   80591 non-null   object        \n",
      " 8   country_code       87990 non-null   object        \n",
      " 9   investment_rounds  196552 non-null  float64       \n",
      " 10  funding_rounds     196552 non-null  float64       \n",
      " 11  funding_total      196552 non-null  float64       \n",
      " 12  milestones         196552 non-null  float64       \n",
      "dtypes: datetime64[ns](2), float64(5), object(6)\n",
      "memory usage: 19.5+ MB\n"
     ]
    }
   ],
   "source": [
    "df_company.info()"
   ]
  },
  {
   "cell_type": "markdown",
   "metadata": {},
   "source": [
    "Пропуски замечены в столбцах, которая не сильно важна для заказчика."
   ]
  },
  {
   "cell_type": "code",
   "execution_count": 37,
   "metadata": {
    "scrolled": true
   },
   "outputs": [
    {
     "name": "stdout",
     "output_type": "stream",
     "text": [
      "<class 'pandas.core.frame.DataFrame'>\n",
      "RangeIndex: 52626 entries, 0 to 52625\n",
      "Data columns (total 9 columns):\n",
      " #   Column               Non-Null Count  Dtype         \n",
      "---  ------               --------------  -----         \n",
      " 0   funding_round_id     52626 non-null  float64       \n",
      " 1   company_id           52626 non-null  float64       \n",
      " 2   funded_at            52382 non-null  datetime64[ns]\n",
      " 3   funding_round_type   52626 non-null  object        \n",
      " 4   raised_amount        52626 non-null  float64       \n",
      " 5   pre_money_valuation  52626 non-null  float64       \n",
      " 6   participants         52626 non-null  float64       \n",
      " 7   is_first_round       52626 non-null  float64       \n",
      " 8   is_last_round        52626 non-null  float64       \n",
      "dtypes: datetime64[ns](1), float64(7), object(1)\n",
      "memory usage: 3.6+ MB\n"
     ]
    }
   ],
   "source": [
    "df_rounds.info()"
   ]
  },
  {
   "cell_type": "markdown",
   "metadata": {},
   "source": [
    "В этом датафрейме полностью отсутсвуют пропуски."
   ]
  },
  {
   "cell_type": "markdown",
   "metadata": {},
   "source": [
    "**Вывод:**\n",
    "Заказчику было важно сохранить данные о размерах средств. Видно, что пропуски в нужных столбцах отсутсвуют, а значит теория о том, что изначальный датафрейм состоял из двух датасетов подтвердилась. \n",
    "\n",
    "В дальнейшем можно выводить интересующую информацию о конкретной компании и проводить исследовательский анализ зная только её `company_id`."
   ]
  },
  {
   "cell_type": "markdown",
   "metadata": {
    "id": "bmVYhphNrJg2"
   },
   "source": [
    "\n",
    "## Шаг 3. Исследовательский анализ объединённых таблиц"
   ]
  },
  {
   "cell_type": "markdown",
   "metadata": {
    "id": "3Di6tCT3rJg2"
   },
   "source": [
    "\n",
    "### Объединение данных\n",
    "\n",
    "Объедините данные для ответа на вопросы заказчика, которые касаются интересующих его компаний.\n",
    "\n",
    "В качестве основы для объединённой таблицы возьмите данные из обработанного датасета `company_and_rounds.csv` — выберите только те компании, у которых указаны значения `funding_rounds` или `investment_rounds` больше нуля, или те, у которых в колонке `status` указано `acquired`.\n",
    "\n",
    "Далее работайте только с этими данными."
   ]
  },
  {
   "cell_type": "markdown",
   "metadata": {
    "id": "mGYqoHS7rJg2"
   },
   "source": [
    "Выберем компании из датасета в соотвествии с условиями фильтрации:"
   ]
  },
  {
   "cell_type": "code",
   "execution_count": 38,
   "metadata": {
    "id": "vJZ4mO2Un1yt"
   },
   "outputs": [
    {
     "data": {
      "text/html": [
       "<div>\n",
       "<style scoped>\n",
       "    .dataframe tbody tr th:only-of-type {\n",
       "        vertical-align: middle;\n",
       "    }\n",
       "\n",
       "    .dataframe tbody tr th {\n",
       "        vertical-align: top;\n",
       "    }\n",
       "\n",
       "    .dataframe thead th {\n",
       "        text-align: right;\n",
       "    }\n",
       "</style>\n",
       "<table border=\"1\" class=\"dataframe\">\n",
       "  <thead>\n",
       "    <tr style=\"text-align: right;\">\n",
       "      <th></th>\n",
       "      <th>company_id</th>\n",
       "      <th>name</th>\n",
       "      <th>category_code</th>\n",
       "      <th>status</th>\n",
       "      <th>founded_at</th>\n",
       "      <th>closed_at</th>\n",
       "      <th>domain</th>\n",
       "      <th>network_username</th>\n",
       "      <th>country_code</th>\n",
       "      <th>investment_rounds</th>\n",
       "      <th>funding_rounds</th>\n",
       "      <th>funding_total</th>\n",
       "      <th>milestones</th>\n",
       "    </tr>\n",
       "  </thead>\n",
       "  <tbody>\n",
       "    <tr>\n",
       "      <th>0</th>\n",
       "      <td>1.0</td>\n",
       "      <td>Wetpaint</td>\n",
       "      <td>web</td>\n",
       "      <td>operating</td>\n",
       "      <td>2005-10-17</td>\n",
       "      <td>NaT</td>\n",
       "      <td>wetpaint-inc.com</td>\n",
       "      <td>BachelrWetpaint</td>\n",
       "      <td>USA</td>\n",
       "      <td>0.0</td>\n",
       "      <td>3.0</td>\n",
       "      <td>39750000.0</td>\n",
       "      <td>5.0</td>\n",
       "    </tr>\n",
       "    <tr>\n",
       "      <th>1</th>\n",
       "      <td>10.0</td>\n",
       "      <td>Flektor</td>\n",
       "      <td>games_video</td>\n",
       "      <td>acquired</td>\n",
       "      <td>NaT</td>\n",
       "      <td>NaT</td>\n",
       "      <td>flektor.com</td>\n",
       "      <td>NaN</td>\n",
       "      <td>USA</td>\n",
       "      <td>0.0</td>\n",
       "      <td>0.0</td>\n",
       "      <td>0.0</td>\n",
       "      <td>0.0</td>\n",
       "    </tr>\n",
       "    <tr>\n",
       "      <th>2</th>\n",
       "      <td>100.0</td>\n",
       "      <td>There</td>\n",
       "      <td>games_video</td>\n",
       "      <td>acquired</td>\n",
       "      <td>NaT</td>\n",
       "      <td>NaT</td>\n",
       "      <td>there.com</td>\n",
       "      <td>NaN</td>\n",
       "      <td>USA</td>\n",
       "      <td>0.0</td>\n",
       "      <td>0.0</td>\n",
       "      <td>0.0</td>\n",
       "      <td>4.0</td>\n",
       "    </tr>\n",
       "    <tr>\n",
       "      <th>13</th>\n",
       "      <td>1001.0</td>\n",
       "      <td>FriendFeed</td>\n",
       "      <td>web</td>\n",
       "      <td>acquired</td>\n",
       "      <td>2007-10-01</td>\n",
       "      <td>NaT</td>\n",
       "      <td>friendfeed.com</td>\n",
       "      <td>friendfeed</td>\n",
       "      <td>USA</td>\n",
       "      <td>0.0</td>\n",
       "      <td>1.0</td>\n",
       "      <td>5000000.0</td>\n",
       "      <td>3.0</td>\n",
       "    </tr>\n",
       "    <tr>\n",
       "      <th>18</th>\n",
       "      <td>10014.0</td>\n",
       "      <td>Mobclix</td>\n",
       "      <td>mobile</td>\n",
       "      <td>acquired</td>\n",
       "      <td>2008-03-01</td>\n",
       "      <td>NaT</td>\n",
       "      <td>mobclix.com</td>\n",
       "      <td>mobclix</td>\n",
       "      <td>USA</td>\n",
       "      <td>0.0</td>\n",
       "      <td>1.0</td>\n",
       "      <td>0.0</td>\n",
       "      <td>4.0</td>\n",
       "    </tr>\n",
       "    <tr>\n",
       "      <th>...</th>\n",
       "      <td>...</td>\n",
       "      <td>...</td>\n",
       "      <td>...</td>\n",
       "      <td>...</td>\n",
       "      <td>...</td>\n",
       "      <td>...</td>\n",
       "      <td>...</td>\n",
       "      <td>...</td>\n",
       "      <td>...</td>\n",
       "      <td>...</td>\n",
       "      <td>...</td>\n",
       "      <td>...</td>\n",
       "      <td>...</td>\n",
       "    </tr>\n",
       "    <tr>\n",
       "      <th>196543</th>\n",
       "      <td>1344.0</td>\n",
       "      <td>Vobile</td>\n",
       "      <td>web</td>\n",
       "      <td>operating</td>\n",
       "      <td>2005-01-01</td>\n",
       "      <td>NaT</td>\n",
       "      <td>vobileinc.com</td>\n",
       "      <td>networkmobile</td>\n",
       "      <td>USA</td>\n",
       "      <td>0.0</td>\n",
       "      <td>1.0</td>\n",
       "      <td>10000000.0</td>\n",
       "      <td>0.0</td>\n",
       "    </tr>\n",
       "    <tr>\n",
       "      <th>196544</th>\n",
       "      <td>142181.0</td>\n",
       "      <td>Stop Being Watched</td>\n",
       "      <td>software</td>\n",
       "      <td>operating</td>\n",
       "      <td>2010-06-10</td>\n",
       "      <td>NaT</td>\n",
       "      <td>stopbeingwatched.com</td>\n",
       "      <td>SBWinfonetwork</td>\n",
       "      <td>USA</td>\n",
       "      <td>0.0</td>\n",
       "      <td>1.0</td>\n",
       "      <td>500000.0</td>\n",
       "      <td>1.0</td>\n",
       "    </tr>\n",
       "    <tr>\n",
       "      <th>196548</th>\n",
       "      <td>3429.0</td>\n",
       "      <td>Zend Technologies</td>\n",
       "      <td>software</td>\n",
       "      <td>operating</td>\n",
       "      <td>1999-01-01</td>\n",
       "      <td>NaT</td>\n",
       "      <td>zend.com</td>\n",
       "      <td>networkzend</td>\n",
       "      <td>USA</td>\n",
       "      <td>0.0</td>\n",
       "      <td>4.0</td>\n",
       "      <td>44000000.0</td>\n",
       "      <td>6.0</td>\n",
       "    </tr>\n",
       "    <tr>\n",
       "      <th>196549</th>\n",
       "      <td>7748.0</td>\n",
       "      <td>Flowgram</td>\n",
       "      <td>web</td>\n",
       "      <td>closed</td>\n",
       "      <td>2007-06-01</td>\n",
       "      <td>2008-06-11</td>\n",
       "      <td>flowgram.com</td>\n",
       "      <td>network</td>\n",
       "      <td>USA</td>\n",
       "      <td>0.0</td>\n",
       "      <td>1.0</td>\n",
       "      <td>1300000.0</td>\n",
       "      <td>3.0</td>\n",
       "    </tr>\n",
       "    <tr>\n",
       "      <th>196551</th>\n",
       "      <td>43233.0</td>\n",
       "      <td>Photonet</td>\n",
       "      <td>photo_video</td>\n",
       "      <td>acquired</td>\n",
       "      <td>2010-03-01</td>\n",
       "      <td>NaT</td>\n",
       "      <td>Photonet.com</td>\n",
       "      <td>Photonet</td>\n",
       "      <td>USA</td>\n",
       "      <td>0.0</td>\n",
       "      <td>3.0</td>\n",
       "      <td>57500000.0</td>\n",
       "      <td>3.0</td>\n",
       "    </tr>\n",
       "  </tbody>\n",
       "</table>\n",
       "<p>40747 rows × 13 columns</p>\n",
       "</div>"
      ],
      "text/plain": [
       "        company_id                name category_code     status founded_at  \\\n",
       "0              1.0            Wetpaint           web  operating 2005-10-17   \n",
       "1             10.0             Flektor   games_video   acquired        NaT   \n",
       "2            100.0               There   games_video   acquired        NaT   \n",
       "13          1001.0          FriendFeed           web   acquired 2007-10-01   \n",
       "18         10014.0             Mobclix        mobile   acquired 2008-03-01   \n",
       "...            ...                 ...           ...        ...        ...   \n",
       "196543      1344.0              Vobile           web  operating 2005-01-01   \n",
       "196544    142181.0  Stop Being Watched      software  operating 2010-06-10   \n",
       "196548      3429.0   Zend Technologies      software  operating 1999-01-01   \n",
       "196549      7748.0            Flowgram           web     closed 2007-06-01   \n",
       "196551     43233.0            Photonet   photo_video   acquired 2010-03-01   \n",
       "\n",
       "        closed_at                domain network_username country_code  \\\n",
       "0             NaT      wetpaint-inc.com  BachelrWetpaint          USA   \n",
       "1             NaT           flektor.com              NaN          USA   \n",
       "2             NaT             there.com              NaN          USA   \n",
       "13            NaT        friendfeed.com       friendfeed          USA   \n",
       "18            NaT           mobclix.com          mobclix          USA   \n",
       "...           ...                   ...              ...          ...   \n",
       "196543        NaT         vobileinc.com    networkmobile          USA   \n",
       "196544        NaT  stopbeingwatched.com   SBWinfonetwork          USA   \n",
       "196548        NaT              zend.com      networkzend          USA   \n",
       "196549 2008-06-11          flowgram.com          network          USA   \n",
       "196551        NaT          Photonet.com         Photonet          USA   \n",
       "\n",
       "        investment_rounds  funding_rounds  funding_total  milestones  \n",
       "0                     0.0             3.0     39750000.0         5.0  \n",
       "1                     0.0             0.0            0.0         0.0  \n",
       "2                     0.0             0.0            0.0         4.0  \n",
       "13                    0.0             1.0      5000000.0         3.0  \n",
       "18                    0.0             1.0            0.0         4.0  \n",
       "...                   ...             ...            ...         ...  \n",
       "196543                0.0             1.0     10000000.0         0.0  \n",
       "196544                0.0             1.0       500000.0         1.0  \n",
       "196548                0.0             4.0     44000000.0         6.0  \n",
       "196549                0.0             1.0      1300000.0         3.0  \n",
       "196551                0.0             3.0     57500000.0         3.0  \n",
       "\n",
       "[40747 rows x 13 columns]"
      ]
     },
     "metadata": {},
     "output_type": "display_data"
    }
   ],
   "source": [
    "# Создаем копию датасета \n",
    "df_acquired = df_company.copy()\n",
    "\n",
    "# Произведем фильрацию по стобцам\n",
    "df_acquired = df_acquired[(df_company['funding_rounds'] > 0) |\n",
    "                          (df_company['investment_rounds'] > 0) |\n",
    "                          (df_company['status'] == 'acquired')\n",
    "]\n",
    "\n",
    "# Выведем полученный датафрейм\n",
    "display(df_acquired)"
   ]
  },
  {
   "cell_type": "markdown",
   "metadata": {},
   "source": [
    "Мы получили отфильтрованный датафрейм."
   ]
  },
  {
   "cell_type": "markdown",
   "metadata": {
    "id": "DFHINkV3rJg2"
   },
   "source": [
    "\n",
    "### Анализ выбросов\n",
    "\n",
    "Заказчика интересует обычный для рассматриваемого периода размер средств, который предоставлялся компаниям.\n",
    "\n",
    "* По предобработанному столбцу `funding_total` графическим способом оцените, какой размер общего финансирования для одной компании будет типичным, а какой — выбивающимся.\n",
    "\n",
    "* В процессе расчёта значений обратите внимание, например, на показатели, возвращаемые методом `.describe()`, — объясните их. Применимы ли к таким данным обычные способы нахождения типичных значений?"
   ]
  },
  {
   "cell_type": "markdown",
   "metadata": {},
   "source": [
    "Чтобы оценить разброс размеров средств финансирования компаний построим гистрограмму распределения значений столбца `funding total`. На ней мы увидим какие числовые значение чаще всего встречаются:"
   ]
  },
  {
   "cell_type": "code",
   "execution_count": 39,
   "metadata": {
    "id": "8jm75fKXrJg2"
   },
   "outputs": [
    {
     "data": {
      "image/png": "[encoded data removed]",
      "text/plain": [
       "<Figure size 1000x500 with 1 Axes>"
      ]
     },
     "metadata": {},
     "output_type": "display_data"
    }
   ],
   "source": [
    "# Задаем размеры графика\n",
    "plt.figure(figsize=(10,5))\n",
    "\n",
    "# Строим диаграмму\n",
    "sns.histplot(data=df_acquired,\n",
    "             x='funding_total',\n",
    "             bins=100)\n",
    "\n",
    "# Задаем название графика и его осей\n",
    "plt.title('Распределение данных столбца funding total')\n",
    "plt.xlabel('Сумма финансирования')\n",
    "plt.ylabel('Частота значений')\n",
    "\n",
    "# Отображаем график\n",
    "plt.show()"
   ]
  },
  {
   "cell_type": "markdown",
   "metadata": {},
   "source": [
    "На диаграмме видно, что чаще всего в датасете встречаются компании с нулевой суммой финансирования. Построим диаграмму размаха, чтобы отобразить другие малозаметные значенния столбца:"
   ]
  },
  {
   "cell_type": "code",
   "execution_count": 40,
   "metadata": {},
   "outputs": [
    {
     "data": {
      "image/png": "[encoded data removed]",
      "text/plain": [
       "<Figure size 1000x500 with 1 Axes>"
      ]
     },
     "metadata": {},
     "output_type": "display_data"
    }
   ],
   "source": [
    "# Строим диаграмму\n",
    "df_acquired.boxplot(column='funding_total',\n",
    "                    vert=False,\n",
    "                    figsize=(10,5))\n",
    "\n",
    "# Задаем название графика и его осей\n",
    "plt.title('Симметричность распределения значений столбца funding_total')\n",
    "plt.xlabel('Сумма финансирования')\n",
    "\n",
    "# Отображаем график\n",
    "plt.show()"
   ]
  },
  {
   "cell_type": "markdown",
   "metadata": {},
   "source": [
    "В датафрейме присутсвует множество разных сумм финансирования, однако их количество крайне мало, из-за чего их не было видно на первом графике. Выведем статистические показатели столбца `funding total` для детального анализа:"
   ]
  },
  {
   "cell_type": "code",
   "execution_count": 41,
   "metadata": {
    "id": "dIWqyEomn2MU"
   },
   "outputs": [
    {
     "name": "stdout",
     "output_type": "stream",
     "text": [
      "Статистические показатели столбца describe \n",
      "count    4.074700e+04\n",
      "mean     1.013561e+07\n",
      "std      5.646436e+07\n",
      "min      0.000000e+00\n",
      "25%      0.000000e+00\n",
      "50%      6.000000e+05\n",
      "75%      5.650650e+06\n",
      "max      5.700000e+09\n",
      "Name: funding_total, dtype: float64\n"
     ]
    }
   ],
   "source": [
    "# Расчитаем статистические показатели столбца\n",
    "describe = df_acquired['funding_total'].describe()\n",
    "print(f'Статистические показатели столбца describe \\n{describe}')"
   ]
  },
  {
   "cell_type": "markdown",
   "metadata": {},
   "source": [
    "**Промежуточные выводы:**\n",
    "- Минимальное значение 0, максимальное 5.7 млрд.\n",
    "- Среднее значение - 10.14 млн, стандартное отклонение - 56 млн. Это говорит о том, что значения в столбце сильно варьируются от среднего.\n",
    "- В данных присутсвуют выпросы - доля нулевых значений в столбце 25%.\n",
    "\n",
    "В столбце `funding total` присутсвует большое количество нулевых значений, а максимальное значение сильно больше среднего. Следует учитывать это при нахождении типичных значений."
   ]
  },
  {
   "cell_type": "markdown",
   "metadata": {
    "id": "JqkRAQrIrJg2"
   },
   "source": [
    "\n",
    "### Куплены забесплатно?\n",
    "\n",
    "* Исследуйте компании, которые были проданы за ноль или за один доллар, и при этом известно, что у них был ненулевой общий объём финансирования.\n",
    "\n",
    "* Рассчитайте аналитически верхнюю и нижнюю границу выбросов для столбца `funding_total` и укажите, каким процентилям границы соответствуют. Учитывая озвученные выше предпосылки и собственные соображения, сделайте выводы о корректности планируемой заказчиком замены нижней и верхней границы выбросов на значения, рассчитанные по процентилям."
   ]
  },
  {
   "cell_type": "markdown",
   "metadata": {},
   "source": [
    "Чтобы ответить на вопрос нам потребуется датасет `acquisition` с информацией о проданных компаниях и суммах сделки. Присоединим его с помощью `merge`. При присоединении выберем только необходимые столбцы для анализа:"
   ]
  },
  {
   "cell_type": "code",
   "execution_count": 42,
   "metadata": {
    "id": "wJHXCBwwrJg2"
   },
   "outputs": [
    {
     "data": {
      "text/html": [
       "<div>\n",
       "<style scoped>\n",
       "    .dataframe tbody tr th:only-of-type {\n",
       "        vertical-align: middle;\n",
       "    }\n",
       "\n",
       "    .dataframe tbody tr th {\n",
       "        vertical-align: top;\n",
       "    }\n",
       "\n",
       "    .dataframe thead th {\n",
       "        text-align: right;\n",
       "    }\n",
       "</style>\n",
       "<table border=\"1\" class=\"dataframe\">\n",
       "  <thead>\n",
       "    <tr style=\"text-align: right;\">\n",
       "      <th></th>\n",
       "      <th>company_id</th>\n",
       "      <th>name</th>\n",
       "      <th>category_code</th>\n",
       "      <th>status</th>\n",
       "      <th>founded_at</th>\n",
       "      <th>closed_at</th>\n",
       "      <th>domain</th>\n",
       "      <th>network_username</th>\n",
       "      <th>country_code</th>\n",
       "      <th>investment_rounds</th>\n",
       "      <th>funding_rounds</th>\n",
       "      <th>funding_total</th>\n",
       "      <th>milestones</th>\n",
       "      <th>acquired_company_id</th>\n",
       "      <th>price_amount</th>\n",
       "    </tr>\n",
       "  </thead>\n",
       "  <tbody>\n",
       "    <tr>\n",
       "      <th>25</th>\n",
       "      <td>10054.0</td>\n",
       "      <td>Jumptap</td>\n",
       "      <td>mobile</td>\n",
       "      <td>acquired</td>\n",
       "      <td>2005-01-01</td>\n",
       "      <td>NaT</td>\n",
       "      <td>jumptap.com</td>\n",
       "      <td>jumptap</td>\n",
       "      <td>USA</td>\n",
       "      <td>0.0</td>\n",
       "      <td>7.0</td>\n",
       "      <td>121500000.0</td>\n",
       "      <td>3.0</td>\n",
       "      <td>10054.0</td>\n",
       "      <td>0.0</td>\n",
       "    </tr>\n",
       "    <tr>\n",
       "      <th>63</th>\n",
       "      <td>101312.0</td>\n",
       "      <td>SideTour</td>\n",
       "      <td>web</td>\n",
       "      <td>acquired</td>\n",
       "      <td>2011-06-01</td>\n",
       "      <td>NaT</td>\n",
       "      <td>sidetour.com</td>\n",
       "      <td>sidetour</td>\n",
       "      <td>USA</td>\n",
       "      <td>0.0</td>\n",
       "      <td>3.0</td>\n",
       "      <td>4000000.0</td>\n",
       "      <td>2.0</td>\n",
       "      <td>101312.0</td>\n",
       "      <td>0.0</td>\n",
       "    </tr>\n",
       "    <tr>\n",
       "      <th>66</th>\n",
       "      <td>101340.0</td>\n",
       "      <td>ChoicePass</td>\n",
       "      <td>enterprise</td>\n",
       "      <td>acquired</td>\n",
       "      <td>2011-07-01</td>\n",
       "      <td>NaT</td>\n",
       "      <td>choicepass.com</td>\n",
       "      <td>choicepass</td>\n",
       "      <td>USA</td>\n",
       "      <td>0.0</td>\n",
       "      <td>1.0</td>\n",
       "      <td>250000.0</td>\n",
       "      <td>1.0</td>\n",
       "      <td>101340.0</td>\n",
       "      <td>0.0</td>\n",
       "    </tr>\n",
       "    <tr>\n",
       "      <th>67</th>\n",
       "      <td>10137.0</td>\n",
       "      <td>Producteev</td>\n",
       "      <td>software</td>\n",
       "      <td>acquired</td>\n",
       "      <td>2008-07-08</td>\n",
       "      <td>NaT</td>\n",
       "      <td>producteev.com</td>\n",
       "      <td>producteev</td>\n",
       "      <td>USA</td>\n",
       "      <td>0.0</td>\n",
       "      <td>3.0</td>\n",
       "      <td>1310000.0</td>\n",
       "      <td>2.0</td>\n",
       "      <td>10137.0</td>\n",
       "      <td>0.0</td>\n",
       "    </tr>\n",
       "    <tr>\n",
       "      <th>68</th>\n",
       "      <td>10139.0</td>\n",
       "      <td>TradeCard</td>\n",
       "      <td>enterprise</td>\n",
       "      <td>acquired</td>\n",
       "      <td>1999-01-01</td>\n",
       "      <td>NaT</td>\n",
       "      <td>tradecard.com</td>\n",
       "      <td>TradeCard</td>\n",
       "      <td>USA</td>\n",
       "      <td>0.0</td>\n",
       "      <td>2.0</td>\n",
       "      <td>44925000.0</td>\n",
       "      <td>1.0</td>\n",
       "      <td>10139.0</td>\n",
       "      <td>0.0</td>\n",
       "    </tr>\n",
       "    <tr>\n",
       "      <th>...</th>\n",
       "      <td>...</td>\n",
       "      <td>...</td>\n",
       "      <td>...</td>\n",
       "      <td>...</td>\n",
       "      <td>...</td>\n",
       "      <td>...</td>\n",
       "      <td>...</td>\n",
       "      <td>...</td>\n",
       "      <td>...</td>\n",
       "      <td>...</td>\n",
       "      <td>...</td>\n",
       "      <td>...</td>\n",
       "      <td>...</td>\n",
       "      <td>...</td>\n",
       "      <td>...</td>\n",
       "    </tr>\n",
       "    <tr>\n",
       "      <th>40834</th>\n",
       "      <td>99.0</td>\n",
       "      <td>Amie Street</td>\n",
       "      <td>web</td>\n",
       "      <td>acquired</td>\n",
       "      <td>2011-07-04</td>\n",
       "      <td>NaT</td>\n",
       "      <td>amiestreet.com</td>\n",
       "      <td>amiestreet_logs</td>\n",
       "      <td>USA</td>\n",
       "      <td>0.0</td>\n",
       "      <td>2.0</td>\n",
       "      <td>3900000.0</td>\n",
       "      <td>0.0</td>\n",
       "      <td>99.0</td>\n",
       "      <td>0.0</td>\n",
       "    </tr>\n",
       "    <tr>\n",
       "      <th>40836</th>\n",
       "      <td>9905.0</td>\n",
       "      <td>UBmatrix</td>\n",
       "      <td>software</td>\n",
       "      <td>acquired</td>\n",
       "      <td>2005-01-01</td>\n",
       "      <td>NaT</td>\n",
       "      <td>ubmatrix.com</td>\n",
       "      <td>NaN</td>\n",
       "      <td>USA</td>\n",
       "      <td>0.0</td>\n",
       "      <td>2.0</td>\n",
       "      <td>5172350.0</td>\n",
       "      <td>0.0</td>\n",
       "      <td>9905.0</td>\n",
       "      <td>0.0</td>\n",
       "    </tr>\n",
       "    <tr>\n",
       "      <th>40840</th>\n",
       "      <td>992.0</td>\n",
       "      <td>wunderloop</td>\n",
       "      <td>advertising</td>\n",
       "      <td>acquired</td>\n",
       "      <td>1999-01-01</td>\n",
       "      <td>NaT</td>\n",
       "      <td>wunderloop.com</td>\n",
       "      <td>NaN</td>\n",
       "      <td>USA</td>\n",
       "      <td>0.0</td>\n",
       "      <td>1.0</td>\n",
       "      <td>10000000.0</td>\n",
       "      <td>1.0</td>\n",
       "      <td>992.0</td>\n",
       "      <td>0.0</td>\n",
       "    </tr>\n",
       "    <tr>\n",
       "      <th>40854</th>\n",
       "      <td>997.0</td>\n",
       "      <td>Zimbra</td>\n",
       "      <td>enterprise</td>\n",
       "      <td>acquired</td>\n",
       "      <td>2003-01-01</td>\n",
       "      <td>NaT</td>\n",
       "      <td>zimbra.com</td>\n",
       "      <td>zimbra</td>\n",
       "      <td>USA</td>\n",
       "      <td>0.0</td>\n",
       "      <td>1.0</td>\n",
       "      <td>14500000.0</td>\n",
       "      <td>3.0</td>\n",
       "      <td>997.0</td>\n",
       "      <td>0.0</td>\n",
       "    </tr>\n",
       "    <tr>\n",
       "      <th>40872</th>\n",
       "      <td>153326.0</td>\n",
       "      <td>Yoke</td>\n",
       "      <td>web</td>\n",
       "      <td>acquired</td>\n",
       "      <td>NaT</td>\n",
       "      <td>NaT</td>\n",
       "      <td>apps.socialnet.com::yokeapp</td>\n",
       "      <td>NaN</td>\n",
       "      <td>NaN</td>\n",
       "      <td>0.0</td>\n",
       "      <td>1.0</td>\n",
       "      <td>500000.0</td>\n",
       "      <td>1.0</td>\n",
       "      <td>153326.0</td>\n",
       "      <td>0.0</td>\n",
       "    </tr>\n",
       "  </tbody>\n",
       "</table>\n",
       "<p>1618 rows × 15 columns</p>\n",
       "</div>"
      ],
      "text/plain": [
       "       company_id         name category_code    status founded_at closed_at  \\\n",
       "25        10054.0      Jumptap        mobile  acquired 2005-01-01       NaT   \n",
       "63       101312.0     SideTour           web  acquired 2011-06-01       NaT   \n",
       "66       101340.0   ChoicePass    enterprise  acquired 2011-07-01       NaT   \n",
       "67        10137.0   Producteev      software  acquired 2008-07-08       NaT   \n",
       "68        10139.0    TradeCard    enterprise  acquired 1999-01-01       NaT   \n",
       "...           ...          ...           ...       ...        ...       ...   \n",
       "40834        99.0  Amie Street           web  acquired 2011-07-04       NaT   \n",
       "40836      9905.0     UBmatrix      software  acquired 2005-01-01       NaT   \n",
       "40840       992.0   wunderloop   advertising  acquired 1999-01-01       NaT   \n",
       "40854       997.0       Zimbra    enterprise  acquired 2003-01-01       NaT   \n",
       "40872    153326.0         Yoke           web  acquired        NaT       NaT   \n",
       "\n",
       "                            domain network_username country_code  \\\n",
       "25                     jumptap.com          jumptap          USA   \n",
       "63                    sidetour.com         sidetour          USA   \n",
       "66                  choicepass.com       choicepass          USA   \n",
       "67                  producteev.com       producteev          USA   \n",
       "68                   tradecard.com        TradeCard          USA   \n",
       "...                            ...              ...          ...   \n",
       "40834               amiestreet.com  amiestreet_logs          USA   \n",
       "40836                 ubmatrix.com              NaN          USA   \n",
       "40840               wunderloop.com              NaN          USA   \n",
       "40854                   zimbra.com           zimbra          USA   \n",
       "40872  apps.socialnet.com::yokeapp              NaN          NaN   \n",
       "\n",
       "       investment_rounds  funding_rounds  funding_total  milestones  \\\n",
       "25                   0.0             7.0    121500000.0         3.0   \n",
       "63                   0.0             3.0      4000000.0         2.0   \n",
       "66                   0.0             1.0       250000.0         1.0   \n",
       "67                   0.0             3.0      1310000.0         2.0   \n",
       "68                   0.0             2.0     44925000.0         1.0   \n",
       "...                  ...             ...            ...         ...   \n",
       "40834                0.0             2.0      3900000.0         0.0   \n",
       "40836                0.0             2.0      5172350.0         0.0   \n",
       "40840                0.0             1.0     10000000.0         1.0   \n",
       "40854                0.0             1.0     14500000.0         3.0   \n",
       "40872                0.0             1.0       500000.0         1.0   \n",
       "\n",
       "       acquired_company_id  price_amount  \n",
       "25                 10054.0           0.0  \n",
       "63                101312.0           0.0  \n",
       "66                101340.0           0.0  \n",
       "67                 10137.0           0.0  \n",
       "68                 10139.0           0.0  \n",
       "...                    ...           ...  \n",
       "40834                 99.0           0.0  \n",
       "40836               9905.0           0.0  \n",
       "40840                992.0           0.0  \n",
       "40854                997.0           0.0  \n",
       "40872             153326.0           0.0  \n",
       "\n",
       "[1618 rows x 15 columns]"
      ]
     },
     "metadata": {},
     "output_type": "display_data"
    }
   ],
   "source": [
    "# Создаем копию датафрейма\n",
    "df_free = df_acquired.copy()\n",
    "\n",
    "# Присоединим информацию о купленных компаниях\n",
    "df_free = df_free.merge(acquisition[['acquired_company_id', 'price_amount']], \n",
    "                        left_on='company_id',\n",
    "                        right_on='acquired_company_id',\n",
    "                        how='left')\n",
    "\n",
    "# Отфильтруем датафрейм\n",
    "df_free = df_free[\n",
    "    ((df_free['price_amount'] == 0) | (df_free['price_amount'] == 1)) &\n",
    "    (df_free['funding_total'] > 0)\n",
    "    \n",
    "]\n",
    "\n",
    "# Выведем полученный результат\n",
    "display(df_free)"
   ]
  },
  {
   "cell_type": "markdown",
   "metadata": {},
   "source": [
    "Датафрейм присоединился корректно, теперь выведем информацию методом `describe()`:"
   ]
  },
  {
   "cell_type": "code",
   "execution_count": 43,
   "metadata": {
    "scrolled": true
   },
   "outputs": [
    {
     "data": {
      "text/plain": [
       "count    1.618000e+03\n",
       "mean     1.815296e+07\n",
       "std      1.445030e+08\n",
       "min      3.750000e+03\n",
       "25%      2.000000e+06\n",
       "50%      6.000000e+06\n",
       "75%      1.550000e+07\n",
       "max      5.700000e+09\n",
       "Name: funding_total, dtype: float64"
      ]
     },
     "execution_count": 43,
     "metadata": {},
     "output_type": "execute_result"
    }
   ],
   "source": [
    "df_free['funding_total'].describe()"
   ]
  },
  {
   "cell_type": "markdown",
   "metadata": {},
   "source": [
    "Мы избавились от нулевых выбросов, 25-й процентиль теперь имеет данные о финансировании. Однако, стандартное отклонение все еще на порядок выше, чем среднее - скорее всего в столбце еще остались выбросы. Построим диаграмму размаха, чтобы оценить выбросы:"
   ]
  },
  {
   "cell_type": "code",
   "execution_count": 44,
   "metadata": {},
   "outputs": [
    {
     "data": {
      "image/png": "[encoded data removed]",
      "text/plain": [
       "<Figure size 1200x500 with 1 Axes>"
      ]
     },
     "metadata": {},
     "output_type": "display_data"
    }
   ],
   "source": [
    "df_free.boxplot(column='funding_total',\n",
    "                vert=False,\n",
    "                figsize=(12,5))\n",
    "\n",
    "plt.title('Симметричность распределения значений столбца funding_total')\n",
    "plt.xlabel('Сумма финансиорования')\n",
    "\n",
    "\n",
    "plt.show()"
   ]
  },
  {
   "cell_type": "markdown",
   "metadata": {},
   "source": [
    "Диаграмма сохраняет вид правоассиметричного распределения из-за выброса в 5.7 млрд долларов. Попробуем избавиться от него с помощью фильтрации значений столбца `funding total` по 99-му процентилю:"
   ]
  },
  {
   "cell_type": "code",
   "execution_count": 45,
   "metadata": {},
   "outputs": [
    {
     "name": "stdout",
     "output_type": "stream",
     "text": [
      "99-й процентиль: 151552930.0\n"
     ]
    }
   ],
   "source": [
    "# Найдем 99-й процентиль \n",
    "quantile99 = df_free['funding_total'].quantile(0.99)\n",
    "\n",
    "# Выведем результат\n",
    "print(f'99-й процентиль: {round(quantile99,2)}')"
   ]
  },
  {
   "cell_type": "markdown",
   "metadata": {},
   "source": [
    "Установим верхнюю границу значений по 99-му процентилю и выведем размах данных с помощью `describe()`:"
   ]
  },
  {
   "cell_type": "code",
   "execution_count": 46,
   "metadata": {},
   "outputs": [
    {
     "data": {
      "text/plain": [
       "count    1.601000e+03\n",
       "mean     1.223055e+07\n",
       "std      1.652237e+07\n",
       "min      3.750000e+03\n",
       "25%      2.000000e+06\n",
       "50%      6.000000e+06\n",
       "75%      1.505000e+07\n",
       "max      1.500000e+08\n",
       "Name: funding_total, dtype: float64"
      ]
     },
     "execution_count": 46,
     "metadata": {},
     "output_type": "execute_result"
    }
   ],
   "source": [
    "# Отбираем данные по 99-му процентилю \n",
    "df_free = df_free.loc[df_free['funding_total'] < quantile99]\n",
    "\n",
    "# Выводим статистику столбца\n",
    "df_free['funding_total'].describe()"
   ]
  },
  {
   "cell_type": "markdown",
   "metadata": {},
   "source": [
    "Теперь среднее заметно значение к стандартному отклонению и данные выглядят намного симметричнее. Построим диаграмму размаха, чтобы оценить новое распределение данных:"
   ]
  },
  {
   "cell_type": "code",
   "execution_count": 47,
   "metadata": {},
   "outputs": [
    {
     "data": {
      "image/png": "[encoded data removed]",
      "text/plain": [
       "<Figure size 1200x500 with 1 Axes>"
      ]
     },
     "metadata": {},
     "output_type": "display_data"
    }
   ],
   "source": [
    "df_free.boxplot(column='funding_total',\n",
    "                vert=False,\n",
    "                figsize=(12,5))\n",
    "\n",
    "plt.title('Симметричность распределения значений столбца funding_total')\n",
    "plt.xlabel('Сумма финансиорования')\n",
    "\n",
    "\n",
    "plt.show()"
   ]
  },
  {
   "cell_type": "markdown",
   "metadata": {},
   "source": [
    "Данные столбца `funding_total` выглядят корректными. Можно устновить новые верхние и нижние границы:"
   ]
  },
  {
   "cell_type": "code",
   "execution_count": 48,
   "metadata": {},
   "outputs": [
    {
     "name": "stdout",
     "output_type": "stream",
     "text": [
      "25-ый процентиль - 2.0 млн $\n",
      "75-ый процентиль - 15.05 млн $\n"
     ]
    }
   ],
   "source": [
    "# Установим нижнюю и верхнюю границы\n",
    "low_border = df_free['funding_total'].quantile(0.25)\n",
    "up_border = df_free['funding_total'].quantile(0.75)\n",
    "\n",
    "# Выведем полученные границы\n",
    "print(f'25-ый процентиль - {low_border / 1e6} млн $')\n",
    "print(f'75-ый процентиль - {up_border / 1e6} млн $')"
   ]
  },
  {
   "cell_type": "markdown",
   "metadata": {},
   "source": [
    "**Промежуточный вывод:**\n",
    "\n",
    "Подключение датасета `acquisition` помогло в рассчете верхней и нижней границы суммы финансирования. \n",
    "\n",
    "Установление новых границ возможно, если принять во внимание допущение, что сумма финансирования в 5.7 млрд долларов действительно является выбросом. Так, рассчитанные по проценталям граничные значения для столбца `funding total` выглядят уместно:\n",
    "\n",
    " - нижняя граница: 2 млн долларов.\n",
    " - верхняя граница: 15.05 млн долларов."
   ]
  },
  {
   "cell_type": "markdown",
   "metadata": {
    "id": "mEiWpROjrJg2"
   },
   "source": [
    "\n",
    "### Цены стартапов по категориям\n",
    "\n",
    "Категории стартапов с наибольшими ценами и значительным разбросом цен могут быть наиболее привлекательными для крупных инвесторов, которые готовы к высоким рискам ради потенциально больших доходов. Среди категорий стартапов выделите категории стартапов, характеризующиеся:\n",
    "\n",
    "* наибольшими ценами;\n",
    "* и наибольшим разбросом цен за стартап.\n",
    "\n",
    "Объясните, почему решили составить топ именно из такого числа категорий и почему рассчитывали именно так."
   ]
  },
  {
   "cell_type": "markdown",
   "metadata": {},
   "source": [
    "Будем выделять топ категорий на основе изначального датафрейма `df_acquired`. Т.к в нем присутсвуют выбросы в столбце `funding total` отфильтруем его по новым границам, найденным в предыдущем задании:"
   ]
  },
  {
   "cell_type": "code",
   "execution_count": 49,
   "metadata": {},
   "outputs": [],
   "source": [
    "# Копируем датафрейм\n",
    "df_border = df_acquired.copy()\n",
    "\n",
    "# Задаем новые граничные значения\n",
    "df_border = df_border[\n",
    "    (df_border['funding_total'] >= 2 * 1e6) & \n",
    "    (df_border['funding_total'] <= 15.05 * 1e6)\n",
    "]"
   ]
  },
  {
   "cell_type": "markdown",
   "metadata": {},
   "source": [
    "Чтобы определить топ категорий, которые будут соотвествовать сразу двум условиям, рассчитаем медианные значения и стандартные отклонения по столбцу `funding_total` для каждой категории поотдельности, а потом соединим полученные результаты и выведем общий топ:"
   ]
  },
  {
   "cell_type": "code",
   "execution_count": 50,
   "metadata": {
    "id": "jQ09dYUWrJg2",
    "scrolled": true
   },
   "outputs": [
    {
     "name": "stdout",
     "output_type": "stream",
     "text": [
      "                     median           std\n",
      "category_code                            \n",
      "semiconductor     8000000.0  3.923002e+06\n",
      "public_relations  6370000.0  3.849770e+06\n",
      "automotive        6050000.0  3.905275e+06\n",
      "security          6049170.0  3.916951e+06\n",
      "finance           6000000.0  3.787676e+06\n",
      "network_hosting   6000000.0  3.785947e+06\n",
      "cleantech         6000000.0  3.857546e+06\n",
      "transportation    5908655.0  3.450091e+06\n",
      "hardware          5810155.0  3.533689e+06\n",
      "advertising       5800000.0  3.688715e+06\n",
      "enterprise        5700000.0  3.892282e+06\n",
      "biotech           5656945.0  3.656463e+06\n",
      "medical           5550000.0  3.716677e+06\n",
      "software          5500000.0  3.683905e+06\n",
      "legal             5160800.0  3.327400e+06\n",
      "analytics         5117500.0  3.471020e+06\n",
      "nanotech          5115960.0  4.095801e+06\n",
      "mobile            5114765.0  3.585808e+06\n",
      "real_estate       5010000.0  3.784055e+06\n",
      "games_video       5000000.0  3.708359e+06\n",
      "ecommerce         5000000.0  3.562980e+06\n",
      "consulting        5000000.0  3.554172e+06\n",
      "web               5000000.0  3.452399e+06\n",
      "health            5000000.0  3.451050e+06\n",
      "manufacturing     5000000.0  3.735468e+06\n",
      "fashion           5000000.0  3.400689e+06\n",
      "nonprofit         5000000.0  3.251961e+06\n",
      "search            5000000.0  3.545742e+06\n",
      "other             4999830.0  3.787334e+06\n",
      "messaging         4758500.0  3.607298e+06\n",
      "pets              4750000.0  4.427198e+06\n",
      "music             4750000.0  2.552550e+06\n",
      "education         4617500.0  3.629261e+06\n",
      "hospitality       4501550.0  3.110351e+06\n",
      "news              4425785.0  3.683199e+06\n",
      "design            4000000.0  2.195227e+06\n",
      "travel            4000000.0  3.766349e+06\n",
      "photo_video       3900000.0  3.274075e+06\n",
      "government        3650000.0  2.333452e+06\n",
      "social            3600000.0  3.219425e+06\n",
      "local             3500000.0  4.151676e+06\n",
      "sports            3000000.0  2.207306e+06\n"
     ]
    }
   ],
   "source": [
    "# Сгруппируем данные по категориям \n",
    "# и рассчитаем медиану и стандартное отклонение\n",
    "grouped_price = df_border.groupby('category_code')['funding_total'].agg(['median', 'std'])\n",
    "\n",
    "# Распределим сгруппированные данные по медианному значению \n",
    "# и стандартному отклонению\n",
    "sort_median = grouped_price['median'].sort_values(ascending=False)\n",
    "sort_std = grouped_price['std'].sort_values(ascending=False)\n",
    "\n",
    "# Объеденим две выборки по категории и самым большим \n",
    "# медианному значению и стандартному отклонению\n",
    "top = pd.merge(sort_median, sort_std, on='category_code')\n",
    "\n",
    "# Выведем топ категорий \n",
    "print(top)"
   ]
  },
  {
   "cell_type": "markdown",
   "metadata": {},
   "source": [
    "Получилось 42 категории, выведем топ-5 категорий, т.к первые 5 значений максимально вариативны по медианному значению:"
   ]
  },
  {
   "cell_type": "code",
   "execution_count": 51,
   "metadata": {},
   "outputs": [
    {
     "name": "stdout",
     "output_type": "stream",
     "text": [
      "                     median           std\n",
      "category_code                            \n",
      "semiconductor     8000000.0  3.923002e+06\n",
      "public_relations  6370000.0  3.849770e+06\n",
      "automotive        6050000.0  3.905275e+06\n",
      "security          6049170.0  3.916951e+06\n",
      "finance           6000000.0  3.787676e+06\n"
     ]
    }
   ],
   "source": [
    "print(top.head())"
   ]
  },
  {
   "cell_type": "markdown",
   "metadata": {
    "id": "MFONscXPn29F"
   },
   "source": [
    "**Промежуточный вывод:**\n",
    "Самой выгодной категорией, с точки зрения большой стоимости и большим разбросом цен является `semiconductor`."
   ]
  },
  {
   "cell_type": "markdown",
   "metadata": {
    "id": "ADOfyVY_rJg3"
   },
   "source": [
    "\n",
    "### Сколько раундов продержится стартап перед покупкой\n",
    "\n",
    "* Необходимо проанализировать столбец `funding_rounds`. Исследуйте значения столбца. Заказчика интересует типичное значение количества раундов для каждого возможного статуса стартапа.\n",
    "\n",
    "* Постройте график, который отображает, сколько в среднем раундов финансирования проходило для стартапов из каждой группы. Сделайте выводы."
   ]
  },
  {
   "cell_type": "markdown",
   "metadata": {},
   "source": [
    "Выведем статистические показатели столбца `funding_rounds`:"
   ]
  },
  {
   "cell_type": "code",
   "execution_count": 52,
   "metadata": {
    "scrolled": true
   },
   "outputs": [
    {
     "name": "stdout",
     "output_type": "stream",
     "text": [
      "count    9847.000000\n",
      "mean        1.700924\n",
      "std         1.018128\n",
      "min         1.000000\n",
      "25%         1.000000\n",
      "50%         1.000000\n",
      "75%         2.000000\n",
      "max        13.000000\n",
      "Name: funding_rounds, dtype: float64\n"
     ]
    }
   ],
   "source": [
    "print(df_border['funding_rounds'].describe())"
   ]
  },
  {
   "cell_type": "markdown",
   "metadata": {},
   "source": [
    "- В большинстве случаев у каждого статуса стартапа всего 1 раунд. \n",
    "- Минимальное значение - 1 раунд, максимальное значение - 13 раундов.\n",
    "- Среднее количество раундов - 1.7\n",
    "\n",
    "Теперь выведем типичное значение количества раундов для каждого возможного статуса стартапа:"
   ]
  },
  {
   "cell_type": "code",
   "execution_count": 53,
   "metadata": {
    "id": "hgXMPC4WrJg3",
    "scrolled": true
   },
   "outputs": [
    {
     "name": "stdout",
     "output_type": "stream",
     "text": [
      "status\n",
      "acquired     1.0\n",
      "closed       1.0\n",
      "ipo          1.0\n",
      "operating    1.0\n",
      "Name: funding_rounds, dtype: float64\n"
     ]
    }
   ],
   "source": [
    "# Копируем датафрейм\n",
    "status_round = df_border.copy()\n",
    "\n",
    "# Выберем только те компании, у котороых было больше 0 раундов\n",
    "status_round = status_round[status_round['funding_rounds'] > 0]\n",
    "\n",
    "# Группируем данные\n",
    "status_round = df_border.groupby('status')['funding_rounds'].median().sort_values(ascending=False).round(2)\n",
    "\n",
    "# Выводим результат\n",
    "print(status_round)"
   ]
  },
  {
   "cell_type": "markdown",
   "metadata": {},
   "source": [
    "Типичное значение для кадого статуса стартапа - 1 раунд."
   ]
  },
  {
   "cell_type": "markdown",
   "metadata": {},
   "source": [
    "Построим график распределения среднего количества раундов для каждого статуса стартапа:"
   ]
  },
  {
   "cell_type": "code",
   "execution_count": 54,
   "metadata": {
    "scrolled": true
   },
   "outputs": [
    {
     "data": {
      "image/png": "[encoded data removed]",
      "text/plain": [
       "<Figure size 1000x500 with 1 Axes>"
      ]
     },
     "metadata": {},
     "output_type": "display_data"
    }
   ],
   "source": [
    "status_round_graph = df_border.groupby('status')['funding_rounds'].mean().sort_values(ascending=False).round(2)\n",
    "\n",
    "plt.figure(figsize=(10,5))\n",
    "\n",
    "status_round_graph.plot(kind='bar',\n",
    "                        rot=0)\n",
    "\n",
    "plt.title('Среднее количество раундов для каждого статуса стартапа')\n",
    "plt.xlabel('Статус')\n",
    "plt.ylabel('Среднее значение')\n",
    "\n",
    "plt.show()"
   ]
  },
  {
   "cell_type": "markdown",
   "metadata": {},
   "source": [
    "**Промежуточный вывод:**\n",
    "На графике видно, что чем ближе компания к закрытию, тем меньше среднее значение количества раундов для компании. "
   ]
  },
  {
   "cell_type": "markdown",
   "metadata": {
    "id": "VAFEZ2HBrJg3"
   },
   "source": [
    "\n",
    "## Шаг 4. Итоговый вывод и рекомендации\n",
    "\n",
    "Максимальный размер средств, привлеченных в рамках одного раунда, зафиксирован в 2013 году. Несмотря на это, было замечено резкое падение количества раундов в декабре, что может указывать на изменение рыночной ситуации или уменьшение интереса инвесторов к новым проектам.\n",
    "\n",
    "Периодические всплески финансирования в марте, июне, сентябре и декабре могут сигнализировать о сезонных факторах, оказывающих влияние на решения инвесторов. Особенно стоит обратить внимание на декабрь, когда зафиксировано максимальное количество привлеченных средств.\n",
    "\n",
    "- При рассмотрении компании к покупке следует обращать внимание на сезонность.\n",
    "   \n",
    "В небольших компаниях наблюдается большая доля сотрудников без информации об образовании. Это может указывать на меньшую структурированность и формализованность в таких компаниях. Подтверждением этой зависимости является тот факт, что в крупных компаниях более тщательно следят за образованием сотрудников.\n",
    "\n",
    "При выполнение проекта был проведен анализ всех данных, в частности, столбца `funding total` датафрейма `company_and_rounds`. Было обнаружено, что данные характеризуются значительными колебаниями: минимальное значение составляет 0, максимальное — 5.7 млрд долларов, что говорит о наличии больших выбросов. Среднее значение финансирования составляет 10.14 млн долларов с стандартным отклонением 56 млн долларов, что подтверждает высокую степень вариативности в данных.\n",
    "\n",
    "- Большая доля пропусков сигнализирует о некачественных исходных данных. Анализ на их основе может быть некорректен для принятия успешных стратегических решений.\n",
    "\n",
    "Необходимо отметить, что 25% значений в столбце `funding total` являются нулевыми, что также указывает на проблемы с полнотой данных. Была рассмотрена возможность применения датасета `acquisition`, который помог определить более точные границы для оценки суммы финансирования. При принятии в расчет допущения, связанного с выбросом в размере 5.7 млрд долларов, были установлены новые граничные значения: нижняя граница составляет 2 млн долларов, а верхняя — 15.05 млн долларов\n",
    "\n",
    "- Установленные новые границы финансирования (нижняя граница 2 млн, верхняя граница 15.05 млн) позволяют лучше классифицировать и анализировать данные по раундам. Следует учитывать возможные выбросы при проведении дальнейших анализов.\n",
    "\n",
    "Так же анализ различных категорий показал, что наиболее выгодной с точки зрения стоимости и разброса является категория `semiconductor`.\n",
    "\n",
    "На графике было продемонстрировано, что успешность компаний, приближающихся к закрытию, сопровождается уменьшением среднего количества раундов финансирования."
   ]
  }
 ],
 "metadata": {
  "ExecuteTimeLog": [
   {
    "duration": 1612,
    "start_time": "2025-02-21T13:16:27.441Z"
   },
   {
    "duration": 1778,
    "start_time": "2025-02-21T13:16:47.044Z"
   },
   {
    "duration": 4824,
    "start_time": "2025-02-21T13:16:51.857Z"
   },
   {
    "duration": 316,
    "start_time": "2025-02-21T13:16:59.301Z"
   },
   {
    "duration": 3,
    "start_time": "2025-02-21T13:18:23.788Z"
   },
   {
    "duration": 62,
    "start_time": "2025-02-21T13:29:16.008Z"
   },
   {
    "duration": 189,
    "start_time": "2025-02-21T13:36:40.963Z"
   },
   {
    "duration": 79,
    "start_time": "2025-02-21T13:36:44.621Z"
   },
   {
    "duration": 3,
    "start_time": "2025-02-21T13:36:57.335Z"
   },
   {
    "duration": 56,
    "start_time": "2025-02-21T13:36:58.704Z"
   },
   {
    "duration": 84,
    "start_time": "2025-02-21T13:39:54.399Z"
   },
   {
    "duration": 3237,
    "start_time": "2025-02-21T13:41:40.083Z"
   },
   {
    "duration": 16,
    "start_time": "2025-02-21T13:48:14.594Z"
   },
   {
    "duration": 5,
    "start_time": "2025-02-21T13:48:38.345Z"
   },
   {
    "duration": 2764,
    "start_time": "2025-02-21T13:48:42.626Z"
   },
   {
    "duration": 9,
    "start_time": "2025-02-21T13:48:46.770Z"
   },
   {
    "duration": 6,
    "start_time": "2025-02-21T13:50:17.182Z"
   },
   {
    "duration": 3,
    "start_time": "2025-02-21T13:50:22.662Z"
   },
   {
    "duration": 3,
    "start_time": "2025-02-21T13:50:43.165Z"
   },
   {
    "duration": 3268,
    "start_time": "2025-02-21T13:50:44.393Z"
   },
   {
    "duration": 3,
    "start_time": "2025-02-21T13:50:48.625Z"
   },
   {
    "duration": 2536,
    "start_time": "2025-02-21T13:51:36.556Z"
   },
   {
    "duration": 3,
    "start_time": "2025-02-21T13:51:41.664Z"
   },
   {
    "duration": 3,
    "start_time": "2025-02-21T13:52:05.261Z"
   },
   {
    "duration": 3,
    "start_time": "2025-02-21T13:52:06.417Z"
   },
   {
    "duration": 2693,
    "start_time": "2025-02-21T13:52:12.142Z"
   },
   {
    "duration": 4,
    "start_time": "2025-02-21T13:52:15.513Z"
   },
   {
    "duration": 4,
    "start_time": "2025-02-21T13:52:43.185Z"
   },
   {
    "duration": 2341,
    "start_time": "2025-02-21T13:52:44.261Z"
   },
   {
    "duration": 4,
    "start_time": "2025-02-21T13:52:53.608Z"
   },
   {
    "duration": 2947,
    "start_time": "2025-02-21T13:52:54.835Z"
   },
   {
    "duration": 11,
    "start_time": "2025-02-21T13:52:59.234Z"
   },
   {
    "duration": 243,
    "start_time": "2025-02-21T13:53:15.555Z"
   },
   {
    "duration": 5,
    "start_time": "2025-02-21T13:53:39.897Z"
   },
   {
    "duration": 102,
    "start_time": "2025-02-21T13:54:18.193Z"
   },
   {
    "duration": 14,
    "start_time": "2025-02-21T13:54:38.772Z"
   },
   {
    "duration": 95,
    "start_time": "2025-02-21T13:56:25.218Z"
   },
   {
    "duration": 9,
    "start_time": "2025-02-21T13:56:35.797Z"
   },
   {
    "duration": 60,
    "start_time": "2025-02-21T14:16:02.007Z"
   },
   {
    "duration": 3,
    "start_time": "2025-02-21T14:16:04.342Z"
   },
   {
    "duration": 92,
    "start_time": "2025-02-21T14:16:05.846Z"
   },
   {
    "duration": 62,
    "start_time": "2025-02-21T14:16:16.769Z"
   },
   {
    "duration": 8,
    "start_time": "2025-02-21T14:16:26.370Z"
   },
   {
    "duration": 5,
    "start_time": "2025-02-21T14:21:45.595Z"
   },
   {
    "duration": 9,
    "start_time": "2025-02-21T14:22:02.317Z"
   },
   {
    "duration": 1247,
    "start_time": "2025-02-21T14:22:44.511Z"
   },
   {
    "duration": 2735,
    "start_time": "2025-02-21T14:22:45.761Z"
   },
   {
    "duration": 251,
    "start_time": "2025-02-21T14:22:48.498Z"
   },
   {
    "duration": 2,
    "start_time": "2025-02-21T14:22:48.752Z"
   },
   {
    "duration": 2678,
    "start_time": "2025-02-21T14:22:48.756Z"
   },
   {
    "duration": 6,
    "start_time": "2025-02-21T14:22:51.436Z"
   },
   {
    "duration": 5,
    "start_time": "2025-02-21T14:22:51.444Z"
   },
   {
    "duration": 23,
    "start_time": "2025-02-21T14:22:51.451Z"
   },
   {
    "duration": 5,
    "start_time": "2025-02-21T14:22:51.476Z"
   },
   {
    "duration": 1319,
    "start_time": "2025-02-21T14:57:41.942Z"
   },
   {
    "duration": 3083,
    "start_time": "2025-02-21T14:57:43.263Z"
   },
   {
    "duration": 266,
    "start_time": "2025-02-21T14:57:46.348Z"
   },
   {
    "duration": 3,
    "start_time": "2025-02-21T14:57:46.617Z"
   },
   {
    "duration": 2770,
    "start_time": "2025-02-21T14:57:46.622Z"
   },
   {
    "duration": 8,
    "start_time": "2025-02-21T14:57:49.394Z"
   },
   {
    "duration": 15,
    "start_time": "2025-02-21T14:57:49.404Z"
   },
   {
    "duration": 12,
    "start_time": "2025-02-21T14:57:49.421Z"
   },
   {
    "duration": 9,
    "start_time": "2025-02-21T14:57:49.434Z"
   },
   {
    "duration": 7,
    "start_time": "2025-02-21T14:58:42.545Z"
   },
   {
    "duration": 222,
    "start_time": "2025-02-21T15:01:16.164Z"
   },
   {
    "duration": 49,
    "start_time": "2025-02-22T04:04:46.142Z"
   },
   {
    "duration": 1480,
    "start_time": "2025-02-22T04:04:54.039Z"
   },
   {
    "duration": 4320,
    "start_time": "2025-02-22T04:04:55.521Z"
   },
   {
    "duration": 256,
    "start_time": "2025-02-22T04:04:59.843Z"
   },
   {
    "duration": 3,
    "start_time": "2025-02-22T04:05:00.101Z"
   },
   {
    "duration": 2931,
    "start_time": "2025-02-22T04:05:00.106Z"
   },
   {
    "duration": 7,
    "start_time": "2025-02-22T04:05:03.039Z"
   },
   {
    "duration": 13,
    "start_time": "2025-02-22T04:05:03.048Z"
   },
   {
    "duration": 7,
    "start_time": "2025-02-22T04:05:03.063Z"
   },
   {
    "duration": 26,
    "start_time": "2025-02-22T04:05:03.072Z"
   },
   {
    "duration": 12,
    "start_time": "2025-02-22T04:05:03.100Z"
   },
   {
    "duration": 214,
    "start_time": "2025-02-22T04:05:03.114Z"
   },
   {
    "duration": 191,
    "start_time": "2025-02-22T04:14:30.996Z"
   },
   {
    "duration": 221,
    "start_time": "2025-02-22T04:15:51.789Z"
   },
   {
    "duration": 302,
    "start_time": "2025-02-22T04:16:06.200Z"
   },
   {
    "duration": 313,
    "start_time": "2025-02-22T04:16:13.856Z"
   },
   {
    "duration": 322,
    "start_time": "2025-02-22T04:16:21.059Z"
   },
   {
    "duration": 291,
    "start_time": "2025-02-22T04:16:29.032Z"
   },
   {
    "duration": 288,
    "start_time": "2025-02-22T04:23:08.091Z"
   },
   {
    "duration": 284,
    "start_time": "2025-02-22T04:23:24.783Z"
   },
   {
    "duration": 274,
    "start_time": "2025-02-22T04:23:32.042Z"
   },
   {
    "duration": 228,
    "start_time": "2025-02-22T04:23:37.195Z"
   },
   {
    "duration": 232,
    "start_time": "2025-02-22T04:24:19.987Z"
   },
   {
    "duration": 235,
    "start_time": "2025-02-22T04:24:31.127Z"
   },
   {
    "duration": 226,
    "start_time": "2025-02-22T04:24:39.532Z"
   },
   {
    "duration": 2,
    "start_time": "2025-02-22T04:27:41.059Z"
   },
   {
    "duration": 5,
    "start_time": "2025-02-22T04:27:53.579Z"
   },
   {
    "duration": 7,
    "start_time": "2025-02-22T04:28:01.909Z"
   },
   {
    "duration": 228,
    "start_time": "2025-02-22T04:28:10.938Z"
   },
   {
    "duration": 204,
    "start_time": "2025-02-22T04:28:52.693Z"
   },
   {
    "duration": 229,
    "start_time": "2025-02-22T04:29:08.090Z"
   },
   {
    "duration": 257,
    "start_time": "2025-02-22T04:30:07.179Z"
   },
   {
    "duration": 235,
    "start_time": "2025-02-22T04:30:17.575Z"
   },
   {
    "duration": 227,
    "start_time": "2025-02-22T04:37:44.616Z"
   },
   {
    "duration": 238,
    "start_time": "2025-02-22T04:37:59.274Z"
   },
   {
    "duration": 252,
    "start_time": "2025-02-22T04:38:14.980Z"
   },
   {
    "duration": 244,
    "start_time": "2025-02-22T04:38:32.161Z"
   },
   {
    "duration": 238,
    "start_time": "2025-02-22T04:38:57.455Z"
   },
   {
    "duration": 247,
    "start_time": "2025-02-22T04:39:57.967Z"
   },
   {
    "duration": 232,
    "start_time": "2025-02-22T04:40:18.650Z"
   },
   {
    "duration": 232,
    "start_time": "2025-02-22T04:40:21.372Z"
   },
   {
    "duration": 225,
    "start_time": "2025-02-22T04:43:15.286Z"
   },
   {
    "duration": 1277,
    "start_time": "2025-02-22T05:21:27.166Z"
   },
   {
    "duration": 2769,
    "start_time": "2025-02-22T05:21:28.446Z"
   },
   {
    "duration": 260,
    "start_time": "2025-02-22T05:21:31.218Z"
   },
   {
    "duration": 3,
    "start_time": "2025-02-22T05:21:31.480Z"
   },
   {
    "duration": 2858,
    "start_time": "2025-02-22T05:21:31.486Z"
   },
   {
    "duration": 3,
    "start_time": "2025-02-22T05:21:34.346Z"
   },
   {
    "duration": 30,
    "start_time": "2025-02-22T05:21:34.351Z"
   },
   {
    "duration": 16,
    "start_time": "2025-02-22T05:21:34.383Z"
   },
   {
    "duration": 29,
    "start_time": "2025-02-22T05:21:34.401Z"
   },
   {
    "duration": 4,
    "start_time": "2025-02-22T05:21:34.431Z"
   },
   {
    "duration": 6,
    "start_time": "2025-02-22T05:21:34.438Z"
   },
   {
    "duration": 274,
    "start_time": "2025-02-22T05:21:34.446Z"
   },
   {
    "duration": 6,
    "start_time": "2025-02-22T05:22:22.970Z"
   },
   {
    "duration": 135,
    "start_time": "2025-02-22T05:41:48.495Z"
   },
   {
    "duration": 23,
    "start_time": "2025-02-22T05:42:28.380Z"
   },
   {
    "duration": 15,
    "start_time": "2025-02-22T05:42:40.941Z"
   },
   {
    "duration": 215,
    "start_time": "2025-02-22T05:42:46.965Z"
   },
   {
    "duration": 85,
    "start_time": "2025-02-22T05:43:06.311Z"
   },
   {
    "duration": 4,
    "start_time": "2025-02-22T05:43:20.138Z"
   },
   {
    "duration": 14,
    "start_time": "2025-02-22T05:43:23.912Z"
   },
   {
    "duration": 10,
    "start_time": "2025-02-22T05:43:54.451Z"
   },
   {
    "duration": 11,
    "start_time": "2025-02-22T05:44:00.915Z"
   },
   {
    "duration": 5,
    "start_time": "2025-02-22T05:44:02.823Z"
   },
   {
    "duration": 4,
    "start_time": "2025-02-22T05:44:59.270Z"
   },
   {
    "duration": 3,
    "start_time": "2025-02-22T05:45:17.313Z"
   },
   {
    "duration": 18,
    "start_time": "2025-02-22T05:45:46.306Z"
   },
   {
    "duration": 7,
    "start_time": "2025-02-22T05:46:54.467Z"
   },
   {
    "duration": 6,
    "start_time": "2025-02-22T05:46:58.158Z"
   },
   {
    "duration": 7,
    "start_time": "2025-02-22T05:47:16.142Z"
   },
   {
    "duration": 48,
    "start_time": "2025-02-22T09:53:26.578Z"
   },
   {
    "duration": 1393,
    "start_time": "2025-02-22T09:53:32.706Z"
   },
   {
    "duration": 4144,
    "start_time": "2025-02-22T09:53:34.101Z"
   },
   {
    "duration": 241,
    "start_time": "2025-02-22T09:53:38.247Z"
   },
   {
    "duration": 4,
    "start_time": "2025-02-22T09:53:38.490Z"
   },
   {
    "duration": 1972,
    "start_time": "2025-02-22T09:53:38.495Z"
   },
   {
    "duration": 3,
    "start_time": "2025-02-22T09:53:40.469Z"
   },
   {
    "duration": 14,
    "start_time": "2025-02-22T09:53:40.474Z"
   },
   {
    "duration": 4,
    "start_time": "2025-02-22T09:53:40.490Z"
   },
   {
    "duration": 23,
    "start_time": "2025-02-22T09:53:40.495Z"
   },
   {
    "duration": 3,
    "start_time": "2025-02-22T09:53:40.521Z"
   },
   {
    "duration": 4,
    "start_time": "2025-02-22T09:53:40.526Z"
   },
   {
    "duration": 246,
    "start_time": "2025-02-22T09:53:40.532Z"
   },
   {
    "duration": 217,
    "start_time": "2025-02-22T09:53:40.780Z"
   },
   {
    "duration": 13,
    "start_time": "2025-02-22T09:53:40.999Z"
   },
   {
    "duration": 6,
    "start_time": "2025-02-22T09:53:41.013Z"
   },
   {
    "duration": 119,
    "start_time": "2025-02-22T09:54:57.659Z"
   },
   {
    "duration": 9,
    "start_time": "2025-02-22T09:55:02.885Z"
   },
   {
    "duration": 31,
    "start_time": "2025-02-22T09:55:20.432Z"
   },
   {
    "duration": 19,
    "start_time": "2025-02-22T09:56:48.531Z"
   },
   {
    "duration": 148,
    "start_time": "2025-02-22T09:59:59.105Z"
   },
   {
    "duration": 19,
    "start_time": "2025-02-22T10:01:13.822Z"
   },
   {
    "duration": 449,
    "start_time": "2025-02-22T10:01:28.884Z"
   },
   {
    "duration": 590,
    "start_time": "2025-02-22T10:01:40.423Z"
   },
   {
    "duration": 145,
    "start_time": "2025-02-22T10:01:58.585Z"
   },
   {
    "duration": 586,
    "start_time": "2025-02-22T10:02:04.976Z"
   },
   {
    "duration": 144,
    "start_time": "2025-02-22T10:02:26.198Z"
   },
   {
    "duration": 136,
    "start_time": "2025-02-22T10:03:16.141Z"
   },
   {
    "duration": 162,
    "start_time": "2025-02-22T10:03:22.222Z"
   },
   {
    "duration": 140,
    "start_time": "2025-02-22T10:09:19.866Z"
   },
   {
    "duration": 14,
    "start_time": "2025-02-22T10:09:38.970Z"
   },
   {
    "duration": 147,
    "start_time": "2025-02-22T10:09:43.299Z"
   },
   {
    "duration": 162,
    "start_time": "2025-02-22T10:10:08.876Z"
   },
   {
    "duration": 141,
    "start_time": "2025-02-22T10:11:14.257Z"
   },
   {
    "duration": 60,
    "start_time": "2025-02-22T10:11:30.026Z"
   },
   {
    "duration": 142,
    "start_time": "2025-02-22T10:11:34.563Z"
   },
   {
    "duration": 139,
    "start_time": "2025-02-22T10:11:40.868Z"
   },
   {
    "duration": 143,
    "start_time": "2025-02-22T10:11:47.632Z"
   },
   {
    "duration": 1186,
    "start_time": "2025-02-22T11:41:03.446Z"
   },
   {
    "duration": 2522,
    "start_time": "2025-02-22T11:41:04.634Z"
   },
   {
    "duration": 230,
    "start_time": "2025-02-22T11:41:07.158Z"
   },
   {
    "duration": 3,
    "start_time": "2025-02-22T11:41:07.390Z"
   },
   {
    "duration": 2297,
    "start_time": "2025-02-22T11:41:07.395Z"
   },
   {
    "duration": 3,
    "start_time": "2025-02-22T11:41:09.694Z"
   },
   {
    "duration": 14,
    "start_time": "2025-02-22T11:41:09.698Z"
   },
   {
    "duration": 7,
    "start_time": "2025-02-22T11:41:09.713Z"
   },
   {
    "duration": 10,
    "start_time": "2025-02-22T11:41:09.721Z"
   },
   {
    "duration": 16,
    "start_time": "2025-02-22T11:41:09.733Z"
   },
   {
    "duration": 16,
    "start_time": "2025-02-22T11:41:09.750Z"
   },
   {
    "duration": 222,
    "start_time": "2025-02-22T11:41:09.767Z"
   },
   {
    "duration": 196,
    "start_time": "2025-02-22T11:41:09.991Z"
   },
   {
    "duration": 8,
    "start_time": "2025-02-22T11:41:10.189Z"
   },
   {
    "duration": 141,
    "start_time": "2025-02-22T11:41:10.209Z"
   },
   {
    "duration": 9,
    "start_time": "2025-02-22T12:17:20.823Z"
   },
   {
    "duration": 165,
    "start_time": "2025-02-22T12:17:35.367Z"
   },
   {
    "duration": 85,
    "start_time": "2025-02-22T12:17:59.935Z"
   },
   {
    "duration": 115,
    "start_time": "2025-02-22T12:30:21.543Z"
   },
   {
    "duration": 29,
    "start_time": "2025-02-22T12:30:35.926Z"
   },
   {
    "duration": 51,
    "start_time": "2025-02-22T12:30:42.822Z"
   },
   {
    "duration": 18,
    "start_time": "2025-02-22T12:32:34.742Z"
   },
   {
    "duration": 177,
    "start_time": "2025-02-22T12:36:14.982Z"
   },
   {
    "duration": 27,
    "start_time": "2025-02-22T12:37:57.695Z"
   },
   {
    "duration": 18,
    "start_time": "2025-02-22T12:39:58.007Z"
   },
   {
    "duration": 18,
    "start_time": "2025-02-22T12:43:00.583Z"
   },
   {
    "duration": 18,
    "start_time": "2025-02-22T12:43:07.544Z"
   },
   {
    "duration": 16,
    "start_time": "2025-02-22T12:48:27.754Z"
   },
   {
    "duration": 12,
    "start_time": "2025-02-22T12:48:53.034Z"
   },
   {
    "duration": 37,
    "start_time": "2025-02-22T12:48:58.962Z"
   },
   {
    "duration": 18,
    "start_time": "2025-02-22T12:53:17.672Z"
   },
   {
    "duration": 15,
    "start_time": "2025-02-22T12:57:17.785Z"
   },
   {
    "duration": 17,
    "start_time": "2025-02-22T12:57:24.234Z"
   },
   {
    "duration": 57,
    "start_time": "2025-02-22T12:57:40.458Z"
   },
   {
    "duration": 57,
    "start_time": "2025-02-22T12:57:44.241Z"
   },
   {
    "duration": 16,
    "start_time": "2025-02-22T12:57:49.835Z"
   },
   {
    "duration": 42,
    "start_time": "2025-02-22T12:58:13.913Z"
   },
   {
    "duration": 19,
    "start_time": "2025-02-22T13:00:51.752Z"
   },
   {
    "duration": 19,
    "start_time": "2025-02-22T13:01:36.391Z"
   },
   {
    "duration": 18,
    "start_time": "2025-02-22T13:03:16.383Z"
   },
   {
    "duration": 18,
    "start_time": "2025-02-22T13:03:23.431Z"
   },
   {
    "duration": 19,
    "start_time": "2025-02-22T13:03:35.232Z"
   },
   {
    "duration": 24,
    "start_time": "2025-02-22T13:04:14.314Z"
   },
   {
    "duration": 22,
    "start_time": "2025-02-22T13:05:43.103Z"
   },
   {
    "duration": 27,
    "start_time": "2025-02-22T13:05:44.479Z"
   },
   {
    "duration": 16,
    "start_time": "2025-02-22T13:05:56.391Z"
   },
   {
    "duration": 26,
    "start_time": "2025-02-22T13:05:57.441Z"
   },
   {
    "duration": 1284,
    "start_time": "2025-02-23T15:56:06.946Z"
   },
   {
    "duration": 8542,
    "start_time": "2025-02-23T15:56:08.232Z"
   },
   {
    "duration": 249,
    "start_time": "2025-02-23T15:56:16.776Z"
   },
   {
    "duration": 3,
    "start_time": "2025-02-23T15:56:17.026Z"
   },
   {
    "duration": 2006,
    "start_time": "2025-02-23T15:56:17.032Z"
   },
   {
    "duration": 3,
    "start_time": "2025-02-23T15:56:19.039Z"
   },
   {
    "duration": 29,
    "start_time": "2025-02-23T15:56:19.044Z"
   },
   {
    "duration": 2,
    "start_time": "2025-02-23T15:56:19.075Z"
   },
   {
    "duration": 7,
    "start_time": "2025-02-23T15:56:19.079Z"
   },
   {
    "duration": 3,
    "start_time": "2025-02-23T15:56:19.087Z"
   },
   {
    "duration": 4,
    "start_time": "2025-02-23T15:56:19.092Z"
   },
   {
    "duration": 233,
    "start_time": "2025-02-23T15:56:19.098Z"
   },
   {
    "duration": 206,
    "start_time": "2025-02-23T15:56:19.332Z"
   },
   {
    "duration": 9,
    "start_time": "2025-02-23T15:56:19.540Z"
   },
   {
    "duration": 149,
    "start_time": "2025-02-23T15:56:19.551Z"
   },
   {
    "duration": 15,
    "start_time": "2025-02-23T15:56:19.702Z"
   },
   {
    "duration": 35,
    "start_time": "2025-02-23T15:56:19.718Z"
   },
   {
    "duration": 17,
    "start_time": "2025-02-23T16:02:24.947Z"
   },
   {
    "duration": 15,
    "start_time": "2025-02-23T16:03:50.122Z"
   },
   {
    "duration": 18,
    "start_time": "2025-02-23T16:03:53.460Z"
   },
   {
    "duration": 66,
    "start_time": "2025-02-23T16:07:01.497Z"
   },
   {
    "duration": 1249,
    "start_time": "2025-02-23T16:07:09.635Z"
   },
   {
    "duration": 994,
    "start_time": "2025-02-23T16:07:42.898Z"
   },
   {
    "duration": 1070,
    "start_time": "2025-02-23T16:07:51.397Z"
   },
   {
    "duration": 20,
    "start_time": "2025-02-23T16:08:14.597Z"
   },
   {
    "duration": 152,
    "start_time": "2025-02-23T16:08:16.736Z"
   },
   {
    "duration": 13,
    "start_time": "2025-02-23T16:09:47.623Z"
   },
   {
    "duration": 151,
    "start_time": "2025-02-23T16:10:14.635Z"
   },
   {
    "duration": 245,
    "start_time": "2025-02-23T16:10:42.523Z"
   },
   {
    "duration": 222,
    "start_time": "2025-02-23T16:10:52.048Z"
   },
   {
    "duration": 81,
    "start_time": "2025-02-23T16:11:56.173Z"
   },
   {
    "duration": 19,
    "start_time": "2025-02-23T16:12:38.387Z"
   },
   {
    "duration": 212,
    "start_time": "2025-02-23T16:12:40.936Z"
   },
   {
    "duration": 157,
    "start_time": "2025-02-23T16:13:30.436Z"
   },
   {
    "duration": 205,
    "start_time": "2025-02-23T16:13:35.177Z"
   },
   {
    "duration": 217,
    "start_time": "2025-02-23T16:23:28.404Z"
   },
   {
    "duration": 413,
    "start_time": "2025-02-23T16:23:29.678Z"
   },
   {
    "duration": 30,
    "start_time": "2025-02-23T16:23:56.445Z"
   },
   {
    "duration": 207,
    "start_time": "2025-02-23T16:24:50.228Z"
   },
   {
    "duration": 78,
    "start_time": "2025-02-23T16:24:51.903Z"
   },
   {
    "duration": 951,
    "start_time": "2025-02-23T16:24:54.203Z"
   },
   {
    "duration": 1798,
    "start_time": "2025-02-23T16:25:05.978Z"
   },
   {
    "duration": 156,
    "start_time": "2025-02-23T16:25:50.478Z"
   },
   {
    "duration": 1872,
    "start_time": "2025-02-23T16:26:01.291Z"
   },
   {
    "duration": 246,
    "start_time": "2025-02-23T16:28:17.854Z"
   },
   {
    "duration": 244,
    "start_time": "2025-02-23T16:29:48.204Z"
   },
   {
    "duration": 248,
    "start_time": "2025-02-23T16:30:08.028Z"
   },
   {
    "duration": 263,
    "start_time": "2025-02-23T16:30:56.092Z"
   },
   {
    "duration": 249,
    "start_time": "2025-02-23T16:31:25.217Z"
   },
   {
    "duration": 234,
    "start_time": "2025-02-23T16:31:56.291Z"
   },
   {
    "duration": 254,
    "start_time": "2025-02-23T16:32:03.767Z"
   },
   {
    "duration": 283,
    "start_time": "2025-02-23T16:32:29.018Z"
   },
   {
    "duration": 272,
    "start_time": "2025-02-23T16:32:55.041Z"
   },
   {
    "duration": 285,
    "start_time": "2025-02-23T16:32:59.342Z"
   },
   {
    "duration": 1619,
    "start_time": "2025-02-23T16:33:20.967Z"
   },
   {
    "duration": 14,
    "start_time": "2025-02-23T16:50:44.801Z"
   },
   {
    "duration": 21,
    "start_time": "2025-02-23T16:50:46.176Z"
   },
   {
    "duration": 21,
    "start_time": "2025-02-23T16:51:03.214Z"
   },
   {
    "duration": 20,
    "start_time": "2025-02-23T16:51:40.052Z"
   },
   {
    "duration": 23,
    "start_time": "2025-02-23T16:51:43.051Z"
   },
   {
    "duration": 20,
    "start_time": "2025-02-23T16:51:44.727Z"
   },
   {
    "duration": 4,
    "start_time": "2025-02-23T16:55:29.028Z"
   },
   {
    "duration": 175,
    "start_time": "2025-02-23T16:56:01.359Z"
   },
   {
    "duration": 174,
    "start_time": "2025-02-23T16:56:24.678Z"
   },
   {
    "duration": 751,
    "start_time": "2025-02-23T16:59:33.455Z"
   },
   {
    "duration": 4,
    "start_time": "2025-02-23T16:59:43.367Z"
   },
   {
    "duration": 175,
    "start_time": "2025-02-23T16:59:46.567Z"
   },
   {
    "duration": 6,
    "start_time": "2025-02-23T17:00:09.442Z"
   },
   {
    "duration": 5,
    "start_time": "2025-02-23T17:00:26.667Z"
   },
   {
    "duration": 6,
    "start_time": "2025-02-23T17:00:35.255Z"
   },
   {
    "duration": 5,
    "start_time": "2025-02-23T17:00:57.243Z"
   },
   {
    "duration": 802,
    "start_time": "2025-02-23T17:01:16.104Z"
   },
   {
    "duration": 6,
    "start_time": "2025-02-23T17:01:25.254Z"
   },
   {
    "duration": 4,
    "start_time": "2025-02-23T17:05:15.480Z"
   },
   {
    "duration": 11,
    "start_time": "2025-02-23T17:07:02.355Z"
   },
   {
    "duration": 197,
    "start_time": "2025-02-23T17:07:29.868Z"
   },
   {
    "duration": 291,
    "start_time": "2025-02-23T17:08:42.782Z"
   },
   {
    "duration": 80,
    "start_time": "2025-02-23T17:09:16.931Z"
   },
   {
    "duration": 1051,
    "start_time": "2025-02-23T17:09:21.232Z"
   },
   {
    "duration": 902,
    "start_time": "2025-02-23T17:09:32.819Z"
   },
   {
    "duration": 11,
    "start_time": "2025-02-23T17:09:47.732Z"
   },
   {
    "duration": 180,
    "start_time": "2025-02-23T17:09:49.882Z"
   },
   {
    "duration": 186,
    "start_time": "2025-02-23T17:10:01.920Z"
   },
   {
    "duration": 172,
    "start_time": "2025-02-23T17:10:08.444Z"
   },
   {
    "duration": 178,
    "start_time": "2025-02-23T17:10:24.169Z"
   },
   {
    "duration": 10,
    "start_time": "2025-02-23T17:11:02.920Z"
   },
   {
    "duration": 12,
    "start_time": "2025-02-23T17:11:09.669Z"
   },
   {
    "duration": 171,
    "start_time": "2025-02-23T17:11:11.082Z"
   },
   {
    "duration": 11,
    "start_time": "2025-02-23T17:12:00.033Z"
   },
   {
    "duration": 188,
    "start_time": "2025-02-23T17:12:01.394Z"
   },
   {
    "duration": 198,
    "start_time": "2025-02-23T17:12:21.695Z"
   },
   {
    "duration": 56,
    "start_time": "2025-02-23T17:14:02.670Z"
   },
   {
    "duration": 344,
    "start_time": "2025-02-23T17:14:06.282Z"
   },
   {
    "duration": 342,
    "start_time": "2025-02-23T17:14:30.233Z"
   },
   {
    "duration": 455,
    "start_time": "2025-02-23T17:14:37.220Z"
   },
   {
    "duration": 319,
    "start_time": "2025-02-23T17:15:07.920Z"
   },
   {
    "duration": 326,
    "start_time": "2025-02-23T17:15:33.708Z"
   },
   {
    "duration": 55,
    "start_time": "2025-02-23T17:15:55.508Z"
   },
   {
    "duration": 365,
    "start_time": "2025-02-23T17:15:59.495Z"
   },
   {
    "duration": 365,
    "start_time": "2025-02-23T17:18:05.009Z"
   },
   {
    "duration": 362,
    "start_time": "2025-02-23T17:18:52.897Z"
   },
   {
    "duration": 365,
    "start_time": "2025-02-23T17:19:15.733Z"
   },
   {
    "duration": 494,
    "start_time": "2025-02-23T17:20:02.633Z"
   },
   {
    "duration": 372,
    "start_time": "2025-02-23T17:20:22.759Z"
   },
   {
    "duration": 384,
    "start_time": "2025-02-23T17:20:42.284Z"
   },
   {
    "duration": 5,
    "start_time": "2025-02-23T17:22:37.734Z"
   },
   {
    "duration": 4,
    "start_time": "2025-02-23T17:22:46.235Z"
   },
   {
    "duration": 391,
    "start_time": "2025-02-23T17:23:39.144Z"
   },
   {
    "duration": 373,
    "start_time": "2025-02-23T17:23:55.375Z"
   },
   {
    "duration": 379,
    "start_time": "2025-02-23T17:24:28.059Z"
   },
   {
    "duration": 482,
    "start_time": "2025-02-23T17:24:31.222Z"
   },
   {
    "duration": 385,
    "start_time": "2025-02-23T17:24:37.650Z"
   },
   {
    "duration": 21,
    "start_time": "2025-02-23T18:07:26.490Z"
   },
   {
    "duration": 6,
    "start_time": "2025-02-23T18:07:45.014Z"
   },
   {
    "duration": 170,
    "start_time": "2025-02-23T18:08:01.603Z"
   },
   {
    "duration": 185,
    "start_time": "2025-02-23T18:08:33.364Z"
   },
   {
    "duration": 1138,
    "start_time": "2025-02-23T18:40:33.379Z"
   },
   {
    "duration": 2365,
    "start_time": "2025-02-23T18:40:34.518Z"
   },
   {
    "duration": 225,
    "start_time": "2025-02-23T18:40:36.885Z"
   },
   {
    "duration": 3,
    "start_time": "2025-02-23T18:40:37.112Z"
   },
   {
    "duration": 1931,
    "start_time": "2025-02-23T18:40:37.117Z"
   },
   {
    "duration": 3,
    "start_time": "2025-02-23T18:40:39.050Z"
   },
   {
    "duration": 7,
    "start_time": "2025-02-23T18:40:39.054Z"
   },
   {
    "duration": 8,
    "start_time": "2025-02-23T18:40:39.062Z"
   },
   {
    "duration": 8,
    "start_time": "2025-02-23T18:40:39.071Z"
   },
   {
    "duration": 4,
    "start_time": "2025-02-23T18:40:39.081Z"
   },
   {
    "duration": 24,
    "start_time": "2025-02-23T18:40:39.086Z"
   },
   {
    "duration": 224,
    "start_time": "2025-02-23T18:40:39.111Z"
   },
   {
    "duration": 202,
    "start_time": "2025-02-23T18:40:39.337Z"
   },
   {
    "duration": 9,
    "start_time": "2025-02-23T18:40:39.540Z"
   },
   {
    "duration": 154,
    "start_time": "2025-02-23T18:40:39.550Z"
   },
   {
    "duration": 12,
    "start_time": "2025-02-23T18:40:39.708Z"
   },
   {
    "duration": 24,
    "start_time": "2025-02-23T18:40:39.722Z"
   },
   {
    "duration": 5,
    "start_time": "2025-02-23T18:40:39.748Z"
   },
   {
    "duration": 213,
    "start_time": "2025-02-23T18:40:39.754Z"
   },
   {
    "duration": 11,
    "start_time": "2025-02-23T18:40:39.968Z"
   },
   {
    "duration": 458,
    "start_time": "2025-02-23T18:40:39.980Z"
   },
   {
    "duration": 346,
    "start_time": "2025-02-23T18:40:53.401Z"
   },
   {
    "duration": 56,
    "start_time": "2025-02-23T18:41:03.614Z"
   },
   {
    "duration": 368,
    "start_time": "2025-02-23T18:41:05.300Z"
   },
   {
    "duration": 13,
    "start_time": "2025-02-23T18:50:31.692Z"
   },
   {
    "duration": 12,
    "start_time": "2025-02-23T18:51:14.128Z"
   },
   {
    "duration": 14,
    "start_time": "2025-02-23T18:51:40.489Z"
   },
   {
    "duration": 116,
    "start_time": "2025-02-23T18:53:03.478Z"
   },
   {
    "duration": 3,
    "start_time": "2025-02-23T18:53:28.052Z"
   },
   {
    "duration": 17,
    "start_time": "2025-02-23T18:56:46.632Z"
   },
   {
    "duration": 23,
    "start_time": "2025-02-23T18:57:42.466Z"
   },
   {
    "duration": 3,
    "start_time": "2025-02-23T19:03:01.303Z"
   },
   {
    "duration": 13,
    "start_time": "2025-02-23T19:04:35.040Z"
   },
   {
    "duration": 3,
    "start_time": "2025-02-23T19:04:47.265Z"
   },
   {
    "duration": 3,
    "start_time": "2025-02-23T19:04:56.479Z"
   },
   {
    "duration": 6,
    "start_time": "2025-02-23T19:04:57.690Z"
   },
   {
    "duration": 13,
    "start_time": "2025-02-23T19:05:07.402Z"
   },
   {
    "duration": 5,
    "start_time": "2025-02-23T19:05:18.315Z"
   },
   {
    "duration": 4,
    "start_time": "2025-02-23T19:05:30.703Z"
   },
   {
    "duration": 908,
    "start_time": "2025-02-23T19:09:24.341Z"
   },
   {
    "duration": 174,
    "start_time": "2025-02-23T19:09:37.878Z"
   },
   {
    "duration": 21,
    "start_time": "2025-02-23T19:09:51.103Z"
   },
   {
    "duration": 3,
    "start_time": "2025-02-23T19:12:20.030Z"
   },
   {
    "duration": 13,
    "start_time": "2025-02-23T19:12:21.493Z"
   },
   {
    "duration": 3,
    "start_time": "2025-02-23T19:12:33.519Z"
   },
   {
    "duration": 13,
    "start_time": "2025-02-23T19:12:34.534Z"
   },
   {
    "duration": 3,
    "start_time": "2025-02-23T19:12:40.329Z"
   },
   {
    "duration": 1473,
    "start_time": "2025-02-23T19:12:41.967Z"
   },
   {
    "duration": 3,
    "start_time": "2025-02-23T19:12:50.780Z"
   },
   {
    "duration": 480,
    "start_time": "2025-02-23T19:12:51.780Z"
   },
   {
    "duration": 3,
    "start_time": "2025-02-23T19:13:06.630Z"
   },
   {
    "duration": 956,
    "start_time": "2025-02-23T19:13:07.680Z"
   },
   {
    "duration": 361,
    "start_time": "2025-02-23T19:13:09.879Z"
   },
   {
    "duration": 234,
    "start_time": "2025-02-23T19:13:10.993Z"
   },
   {
    "duration": 3,
    "start_time": "2025-02-23T19:14:12.118Z"
   },
   {
    "duration": 853,
    "start_time": "2025-02-23T19:14:13.306Z"
   },
   {
    "duration": 236,
    "start_time": "2025-02-23T19:14:15.693Z"
   },
   {
    "duration": 3,
    "start_time": "2025-02-23T19:14:42.218Z"
   },
   {
    "duration": 13,
    "start_time": "2025-02-23T19:14:43.293Z"
   },
   {
    "duration": 3,
    "start_time": "2025-02-23T19:14:47.518Z"
   },
   {
    "duration": 857,
    "start_time": "2025-02-23T19:14:48.457Z"
   },
   {
    "duration": 4,
    "start_time": "2025-02-23T19:17:08.220Z"
   },
   {
    "duration": 24,
    "start_time": "2025-02-23T19:17:12.032Z"
   },
   {
    "duration": 3,
    "start_time": "2025-02-23T19:21:54.686Z"
   },
   {
    "duration": 19,
    "start_time": "2025-02-23T19:21:55.898Z"
   },
   {
    "duration": 1149,
    "start_time": "2025-02-23T19:22:27.791Z"
   },
   {
    "duration": 2356,
    "start_time": "2025-02-23T19:22:28.942Z"
   },
   {
    "duration": 220,
    "start_time": "2025-02-23T19:22:31.300Z"
   },
   {
    "duration": 3,
    "start_time": "2025-02-23T19:22:31.522Z"
   },
   {
    "duration": 2392,
    "start_time": "2025-02-23T19:22:31.526Z"
   },
   {
    "duration": 3,
    "start_time": "2025-02-23T19:22:33.920Z"
   },
   {
    "duration": 27,
    "start_time": "2025-02-23T19:22:33.924Z"
   },
   {
    "duration": 19,
    "start_time": "2025-02-23T19:22:33.953Z"
   },
   {
    "duration": 6,
    "start_time": "2025-02-23T19:22:33.974Z"
   },
   {
    "duration": 17,
    "start_time": "2025-02-23T19:22:33.983Z"
   },
   {
    "duration": 7,
    "start_time": "2025-02-23T19:22:34.002Z"
   },
   {
    "duration": 244,
    "start_time": "2025-02-23T19:22:34.010Z"
   },
   {
    "duration": 3,
    "start_time": "2025-02-23T19:22:34.256Z"
   },
   {
    "duration": 182,
    "start_time": "2025-02-23T19:22:34.260Z"
   },
   {
    "duration": 0,
    "start_time": "2025-02-23T19:22:34.444Z"
   },
   {
    "duration": 0,
    "start_time": "2025-02-23T19:22:34.445Z"
   },
   {
    "duration": 0,
    "start_time": "2025-02-23T19:22:34.446Z"
   },
   {
    "duration": 0,
    "start_time": "2025-02-23T19:22:34.448Z"
   },
   {
    "duration": 0,
    "start_time": "2025-02-23T19:22:34.449Z"
   },
   {
    "duration": 0,
    "start_time": "2025-02-23T19:22:34.450Z"
   },
   {
    "duration": 0,
    "start_time": "2025-02-23T19:22:34.451Z"
   },
   {
    "duration": 0,
    "start_time": "2025-02-23T19:22:34.452Z"
   },
   {
    "duration": 0,
    "start_time": "2025-02-23T19:22:34.453Z"
   },
   {
    "duration": 0,
    "start_time": "2025-02-23T19:22:34.455Z"
   },
   {
    "duration": 0,
    "start_time": "2025-02-23T19:22:34.456Z"
   },
   {
    "duration": 0,
    "start_time": "2025-02-23T19:22:34.457Z"
   },
   {
    "duration": 3,
    "start_time": "2025-02-23T19:24:47.185Z"
   },
   {
    "duration": 16,
    "start_time": "2025-02-23T19:24:48.510Z"
   },
   {
    "duration": 3,
    "start_time": "2025-02-23T19:25:33.498Z"
   },
   {
    "duration": 18,
    "start_time": "2025-02-23T19:25:35.152Z"
   },
   {
    "duration": 1105,
    "start_time": "2025-02-23T19:25:40.913Z"
   },
   {
    "duration": 2369,
    "start_time": "2025-02-23T19:25:42.020Z"
   },
   {
    "duration": 217,
    "start_time": "2025-02-23T19:25:44.391Z"
   },
   {
    "duration": 2,
    "start_time": "2025-02-23T19:25:44.610Z"
   },
   {
    "duration": 2225,
    "start_time": "2025-02-23T19:25:44.614Z"
   },
   {
    "duration": 2,
    "start_time": "2025-02-23T19:25:46.841Z"
   },
   {
    "duration": 10,
    "start_time": "2025-02-23T19:25:46.845Z"
   },
   {
    "duration": 14,
    "start_time": "2025-02-23T19:25:46.857Z"
   },
   {
    "duration": 10,
    "start_time": "2025-02-23T19:25:46.873Z"
   },
   {
    "duration": 9,
    "start_time": "2025-02-23T19:25:46.885Z"
   },
   {
    "duration": 6,
    "start_time": "2025-02-23T19:25:46.896Z"
   },
   {
    "duration": 224,
    "start_time": "2025-02-23T19:25:46.908Z"
   },
   {
    "duration": 3,
    "start_time": "2025-02-23T19:25:47.133Z"
   },
   {
    "duration": 177,
    "start_time": "2025-02-23T19:25:47.137Z"
   },
   {
    "duration": 0,
    "start_time": "2025-02-23T19:25:47.316Z"
   },
   {
    "duration": 0,
    "start_time": "2025-02-23T19:25:47.317Z"
   },
   {
    "duration": 0,
    "start_time": "2025-02-23T19:25:47.318Z"
   },
   {
    "duration": 0,
    "start_time": "2025-02-23T19:25:47.320Z"
   },
   {
    "duration": 0,
    "start_time": "2025-02-23T19:25:47.321Z"
   },
   {
    "duration": 0,
    "start_time": "2025-02-23T19:25:47.322Z"
   },
   {
    "duration": 0,
    "start_time": "2025-02-23T19:25:47.323Z"
   },
   {
    "duration": 0,
    "start_time": "2025-02-23T19:25:47.324Z"
   },
   {
    "duration": 0,
    "start_time": "2025-02-23T19:25:47.325Z"
   },
   {
    "duration": 0,
    "start_time": "2025-02-23T19:25:47.326Z"
   },
   {
    "duration": 0,
    "start_time": "2025-02-23T19:25:47.327Z"
   },
   {
    "duration": 0,
    "start_time": "2025-02-23T19:25:47.328Z"
   },
   {
    "duration": 62,
    "start_time": "2025-02-23T19:27:55.597Z"
   },
   {
    "duration": 3,
    "start_time": "2025-02-23T19:28:01.454Z"
   },
   {
    "duration": 16,
    "start_time": "2025-02-23T19:28:02.460Z"
   },
   {
    "duration": 16,
    "start_time": "2025-02-23T19:28:26.898Z"
   },
   {
    "duration": 3,
    "start_time": "2025-02-23T19:28:42.059Z"
   },
   {
    "duration": 17,
    "start_time": "2025-02-23T19:28:44.947Z"
   },
   {
    "duration": 8,
    "start_time": "2025-02-23T19:29:14.397Z"
   },
   {
    "duration": 1283,
    "start_time": "2025-02-23T19:29:22.934Z"
   },
   {
    "duration": 1056,
    "start_time": "2025-02-23T19:30:24.268Z"
   },
   {
    "duration": 2334,
    "start_time": "2025-02-23T19:30:25.326Z"
   },
   {
    "duration": 222,
    "start_time": "2025-02-23T19:30:27.662Z"
   },
   {
    "duration": 3,
    "start_time": "2025-02-23T19:30:27.886Z"
   },
   {
    "duration": 1978,
    "start_time": "2025-02-23T19:30:27.891Z"
   },
   {
    "duration": 4,
    "start_time": "2025-02-23T19:30:29.870Z"
   },
   {
    "duration": 16,
    "start_time": "2025-02-23T19:30:29.875Z"
   },
   {
    "duration": 4,
    "start_time": "2025-02-23T19:30:29.893Z"
   },
   {
    "duration": 25,
    "start_time": "2025-02-23T19:30:29.898Z"
   },
   {
    "duration": 5,
    "start_time": "2025-02-23T19:30:29.925Z"
   },
   {
    "duration": 12,
    "start_time": "2025-02-23T19:30:29.931Z"
   },
   {
    "duration": 214,
    "start_time": "2025-02-23T19:30:29.944Z"
   },
   {
    "duration": 196,
    "start_time": "2025-02-23T19:30:30.160Z"
   },
   {
    "duration": 3,
    "start_time": "2025-02-23T19:30:30.358Z"
   },
   {
    "duration": 198,
    "start_time": "2025-02-23T19:30:30.362Z"
   },
   {
    "duration": 144,
    "start_time": "2025-02-23T19:30:30.562Z"
   },
   {
    "duration": 0,
    "start_time": "2025-02-23T19:30:30.709Z"
   },
   {
    "duration": 0,
    "start_time": "2025-02-23T19:30:30.711Z"
   },
   {
    "duration": 0,
    "start_time": "2025-02-23T19:30:30.712Z"
   },
   {
    "duration": 0,
    "start_time": "2025-02-23T19:30:30.713Z"
   },
   {
    "duration": 0,
    "start_time": "2025-02-23T19:30:30.714Z"
   },
   {
    "duration": 0,
    "start_time": "2025-02-23T19:30:30.715Z"
   },
   {
    "duration": 0,
    "start_time": "2025-02-23T19:30:30.716Z"
   },
   {
    "duration": 0,
    "start_time": "2025-02-23T19:30:30.717Z"
   },
   {
    "duration": 0,
    "start_time": "2025-02-23T19:30:30.718Z"
   },
   {
    "duration": 0,
    "start_time": "2025-02-23T19:30:30.719Z"
   },
   {
    "duration": 7,
    "start_time": "2025-02-23T19:31:35.701Z"
   },
   {
    "duration": 3,
    "start_time": "2025-02-23T19:31:52.327Z"
   },
   {
    "duration": 6,
    "start_time": "2025-02-23T19:31:53.451Z"
   },
   {
    "duration": 1091,
    "start_time": "2025-02-23T19:31:57.125Z"
   },
   {
    "duration": 2347,
    "start_time": "2025-02-23T19:31:58.218Z"
   },
   {
    "duration": 323,
    "start_time": "2025-02-23T19:32:00.567Z"
   },
   {
    "duration": 3,
    "start_time": "2025-02-23T19:32:00.892Z"
   },
   {
    "duration": 1857,
    "start_time": "2025-02-23T19:32:00.897Z"
   },
   {
    "duration": 4,
    "start_time": "2025-02-23T19:32:02.756Z"
   },
   {
    "duration": 14,
    "start_time": "2025-02-23T19:32:02.762Z"
   },
   {
    "duration": 5,
    "start_time": "2025-02-23T19:32:02.777Z"
   },
   {
    "duration": 14,
    "start_time": "2025-02-23T19:32:02.784Z"
   },
   {
    "duration": 3,
    "start_time": "2025-02-23T19:32:02.810Z"
   },
   {
    "duration": 24,
    "start_time": "2025-02-23T19:32:02.814Z"
   },
   {
    "duration": 233,
    "start_time": "2025-02-23T19:32:02.839Z"
   },
   {
    "duration": 220,
    "start_time": "2025-02-23T19:32:03.074Z"
   },
   {
    "duration": 4,
    "start_time": "2025-02-23T19:32:03.296Z"
   },
   {
    "duration": 625,
    "start_time": "2025-02-23T19:32:03.301Z"
   },
   {
    "duration": 0,
    "start_time": "2025-02-23T19:32:03.928Z"
   },
   {
    "duration": 0,
    "start_time": "2025-02-23T19:32:03.930Z"
   },
   {
    "duration": 0,
    "start_time": "2025-02-23T19:32:03.932Z"
   },
   {
    "duration": 0,
    "start_time": "2025-02-23T19:32:03.933Z"
   },
   {
    "duration": 0,
    "start_time": "2025-02-23T19:32:03.935Z"
   },
   {
    "duration": 0,
    "start_time": "2025-02-23T19:32:03.936Z"
   },
   {
    "duration": 0,
    "start_time": "2025-02-23T19:32:03.938Z"
   },
   {
    "duration": 0,
    "start_time": "2025-02-23T19:32:03.940Z"
   },
   {
    "duration": 0,
    "start_time": "2025-02-23T19:32:03.941Z"
   },
   {
    "duration": 0,
    "start_time": "2025-02-23T19:32:03.942Z"
   },
   {
    "duration": 0,
    "start_time": "2025-02-23T19:32:03.944Z"
   },
   {
    "duration": 0,
    "start_time": "2025-02-23T19:32:03.945Z"
   },
   {
    "duration": 1103,
    "start_time": "2025-02-23T19:33:22.816Z"
   },
   {
    "duration": 2404,
    "start_time": "2025-02-23T19:33:23.921Z"
   },
   {
    "duration": 212,
    "start_time": "2025-02-23T19:33:26.327Z"
   },
   {
    "duration": 2,
    "start_time": "2025-02-23T19:33:26.541Z"
   },
   {
    "duration": 1911,
    "start_time": "2025-02-23T19:33:26.544Z"
   },
   {
    "duration": 3,
    "start_time": "2025-02-23T19:33:28.456Z"
   },
   {
    "duration": 15,
    "start_time": "2025-02-23T19:33:28.461Z"
   },
   {
    "duration": 3,
    "start_time": "2025-02-23T19:33:28.477Z"
   },
   {
    "duration": 9,
    "start_time": "2025-02-23T19:33:28.481Z"
   },
   {
    "duration": 18,
    "start_time": "2025-02-23T19:33:28.492Z"
   },
   {
    "duration": 17,
    "start_time": "2025-02-23T19:33:28.511Z"
   },
   {
    "duration": 217,
    "start_time": "2025-02-23T19:33:28.530Z"
   },
   {
    "duration": 227,
    "start_time": "2025-02-23T19:33:28.748Z"
   },
   {
    "duration": 9,
    "start_time": "2025-02-23T19:33:28.976Z"
   },
   {
    "duration": 147,
    "start_time": "2025-02-23T19:33:28.987Z"
   },
   {
    "duration": 12,
    "start_time": "2025-02-23T19:33:29.136Z"
   },
   {
    "duration": 86,
    "start_time": "2025-02-23T19:33:29.149Z"
   },
   {
    "duration": 5,
    "start_time": "2025-02-23T19:33:29.237Z"
   },
   {
    "duration": 197,
    "start_time": "2025-02-23T19:33:29.243Z"
   },
   {
    "duration": 10,
    "start_time": "2025-02-23T19:33:29.441Z"
   },
   {
    "duration": 429,
    "start_time": "2025-02-23T19:33:29.453Z"
   },
   {
    "duration": 13,
    "start_time": "2025-02-23T19:33:29.883Z"
   },
   {
    "duration": 65,
    "start_time": "2025-02-23T19:36:03.925Z"
   },
   {
    "duration": 22,
    "start_time": "2025-02-23T19:36:12.874Z"
   },
   {
    "duration": 47,
    "start_time": "2025-02-24T04:21:49.029Z"
   },
   {
    "duration": 1326,
    "start_time": "2025-02-24T04:21:56.656Z"
   },
   {
    "duration": 4104,
    "start_time": "2025-02-24T04:21:57.984Z"
   },
   {
    "duration": 242,
    "start_time": "2025-02-24T04:22:02.090Z"
   },
   {
    "duration": 3,
    "start_time": "2025-02-24T04:22:02.334Z"
   },
   {
    "duration": 2696,
    "start_time": "2025-02-24T04:22:02.338Z"
   },
   {
    "duration": 4,
    "start_time": "2025-02-24T04:22:05.036Z"
   },
   {
    "duration": 20,
    "start_time": "2025-02-24T04:22:05.042Z"
   },
   {
    "duration": 4,
    "start_time": "2025-02-24T04:22:05.064Z"
   },
   {
    "duration": 8,
    "start_time": "2025-02-24T04:22:05.069Z"
   },
   {
    "duration": 4,
    "start_time": "2025-02-24T04:22:05.080Z"
   },
   {
    "duration": 4,
    "start_time": "2025-02-24T04:22:05.086Z"
   },
   {
    "duration": 276,
    "start_time": "2025-02-24T04:22:05.092Z"
   },
   {
    "duration": 210,
    "start_time": "2025-02-24T04:22:05.370Z"
   },
   {
    "duration": 9,
    "start_time": "2025-02-24T04:22:05.581Z"
   },
   {
    "duration": 154,
    "start_time": "2025-02-24T04:22:05.591Z"
   },
   {
    "duration": 21,
    "start_time": "2025-02-24T04:22:05.746Z"
   },
   {
    "duration": 24,
    "start_time": "2025-02-24T04:22:05.769Z"
   },
   {
    "duration": 6,
    "start_time": "2025-02-24T04:22:05.794Z"
   },
   {
    "duration": 210,
    "start_time": "2025-02-24T04:22:05.802Z"
   },
   {
    "duration": 11,
    "start_time": "2025-02-24T04:22:06.013Z"
   },
   {
    "duration": 432,
    "start_time": "2025-02-24T04:22:06.025Z"
   },
   {
    "duration": 85,
    "start_time": "2025-02-24T04:22:06.459Z"
   },
   {
    "duration": 31,
    "start_time": "2025-02-24T04:22:06.545Z"
   },
   {
    "duration": 39,
    "start_time": "2025-02-24T04:27:47.720Z"
   },
   {
    "duration": 95,
    "start_time": "2025-02-24T04:27:51.271Z"
   },
   {
    "duration": 19,
    "start_time": "2025-02-24T04:27:52.547Z"
   },
   {
    "duration": 1437,
    "start_time": "2025-02-24T04:29:21.583Z"
   },
   {
    "duration": 1243,
    "start_time": "2025-02-24T04:29:32.352Z"
   },
   {
    "duration": 2437,
    "start_time": "2025-02-24T04:29:33.597Z"
   },
   {
    "duration": 236,
    "start_time": "2025-02-24T04:29:36.035Z"
   },
   {
    "duration": 3,
    "start_time": "2025-02-24T04:29:36.272Z"
   },
   {
    "duration": 2305,
    "start_time": "2025-02-24T04:29:36.277Z"
   },
   {
    "duration": 3,
    "start_time": "2025-02-24T04:29:38.583Z"
   },
   {
    "duration": 10,
    "start_time": "2025-02-24T04:29:38.588Z"
   },
   {
    "duration": 2,
    "start_time": "2025-02-24T04:29:38.600Z"
   },
   {
    "duration": 6,
    "start_time": "2025-02-24T04:29:38.604Z"
   },
   {
    "duration": 3,
    "start_time": "2025-02-24T04:29:38.612Z"
   },
   {
    "duration": 4,
    "start_time": "2025-02-24T04:29:38.616Z"
   },
   {
    "duration": 257,
    "start_time": "2025-02-24T04:29:38.622Z"
   },
   {
    "duration": 205,
    "start_time": "2025-02-24T04:29:38.881Z"
   },
   {
    "duration": 9,
    "start_time": "2025-02-24T04:29:39.089Z"
   },
   {
    "duration": 152,
    "start_time": "2025-02-24T04:29:39.099Z"
   },
   {
    "duration": 12,
    "start_time": "2025-02-24T04:29:39.253Z"
   },
   {
    "duration": 22,
    "start_time": "2025-02-24T04:29:39.266Z"
   },
   {
    "duration": 5,
    "start_time": "2025-02-24T04:29:39.290Z"
   },
   {
    "duration": 220,
    "start_time": "2025-02-24T04:29:39.297Z"
   },
   {
    "duration": 11,
    "start_time": "2025-02-24T04:29:39.519Z"
   },
   {
    "duration": 439,
    "start_time": "2025-02-24T04:29:39.531Z"
   },
   {
    "duration": 1316,
    "start_time": "2025-02-24T04:29:39.972Z"
   },
   {
    "duration": 0,
    "start_time": "2025-02-24T04:29:41.290Z"
   },
   {
    "duration": 0,
    "start_time": "2025-02-24T04:29:41.291Z"
   },
   {
    "duration": 14,
    "start_time": "2025-02-24T04:30:27.879Z"
   },
   {
    "duration": 1217,
    "start_time": "2025-02-24T04:31:23.292Z"
   },
   {
    "duration": 1406,
    "start_time": "2025-02-24T04:31:32.830Z"
   },
   {
    "duration": 12,
    "start_time": "2025-02-24T04:32:16.767Z"
   },
   {
    "duration": 1429,
    "start_time": "2025-02-24T04:32:39.716Z"
   },
   {
    "duration": 1326,
    "start_time": "2025-02-24T04:32:51.204Z"
   },
   {
    "duration": 12,
    "start_time": "2025-02-24T04:33:05.830Z"
   },
   {
    "duration": 9,
    "start_time": "2025-02-24T04:40:26.858Z"
   },
   {
    "duration": 11,
    "start_time": "2025-02-24T04:41:13.408Z"
   },
   {
    "duration": 12,
    "start_time": "2025-02-24T04:41:15.283Z"
   },
   {
    "duration": 90,
    "start_time": "2025-02-24T04:41:19.770Z"
   },
   {
    "duration": 18,
    "start_time": "2025-02-24T04:41:21.407Z"
   },
   {
    "duration": 25,
    "start_time": "2025-02-24T04:43:07.882Z"
   },
   {
    "duration": 109,
    "start_time": "2025-02-24T04:43:21.346Z"
   },
   {
    "duration": 20,
    "start_time": "2025-02-24T04:43:22.895Z"
   },
   {
    "duration": 1147,
    "start_time": "2025-02-24T04:43:28.588Z"
   },
   {
    "duration": 2409,
    "start_time": "2025-02-24T04:43:29.737Z"
   },
   {
    "duration": 235,
    "start_time": "2025-02-24T04:43:32.148Z"
   },
   {
    "duration": 3,
    "start_time": "2025-02-24T04:43:32.385Z"
   },
   {
    "duration": 2996,
    "start_time": "2025-02-24T04:43:32.389Z"
   },
   {
    "duration": 3,
    "start_time": "2025-02-24T04:43:35.386Z"
   },
   {
    "duration": 11,
    "start_time": "2025-02-24T04:43:35.390Z"
   },
   {
    "duration": 4,
    "start_time": "2025-02-24T04:43:35.402Z"
   },
   {
    "duration": 8,
    "start_time": "2025-02-24T04:43:35.408Z"
   },
   {
    "duration": 4,
    "start_time": "2025-02-24T04:43:35.417Z"
   },
   {
    "duration": 4,
    "start_time": "2025-02-24T04:43:35.422Z"
   },
   {
    "duration": 245,
    "start_time": "2025-02-24T04:43:35.427Z"
   },
   {
    "duration": 189,
    "start_time": "2025-02-24T04:43:35.674Z"
   },
   {
    "duration": 9,
    "start_time": "2025-02-24T04:43:35.866Z"
   },
   {
    "duration": 144,
    "start_time": "2025-02-24T04:43:35.877Z"
   },
   {
    "duration": 11,
    "start_time": "2025-02-24T04:43:36.023Z"
   },
   {
    "duration": 42,
    "start_time": "2025-02-24T04:43:36.036Z"
   },
   {
    "duration": 10,
    "start_time": "2025-02-24T04:43:36.080Z"
   },
   {
    "duration": 199,
    "start_time": "2025-02-24T04:43:36.091Z"
   },
   {
    "duration": 11,
    "start_time": "2025-02-24T04:43:36.292Z"
   },
   {
    "duration": 440,
    "start_time": "2025-02-24T04:43:36.304Z"
   },
   {
    "duration": 100,
    "start_time": "2025-02-24T04:43:36.746Z"
   },
   {
    "duration": 28,
    "start_time": "2025-02-24T04:43:36.848Z"
   },
   {
    "duration": 83,
    "start_time": "2025-02-24T04:44:02.583Z"
   },
   {
    "duration": 17,
    "start_time": "2025-02-24T04:44:04.597Z"
   },
   {
    "duration": 109,
    "start_time": "2025-02-24T04:45:47.122Z"
   },
   {
    "duration": 9,
    "start_time": "2025-02-24T04:46:00.497Z"
   },
   {
    "duration": 6,
    "start_time": "2025-02-24T04:46:04.671Z"
   },
   {
    "duration": 6,
    "start_time": "2025-02-24T04:46:18.134Z"
   },
   {
    "duration": 131,
    "start_time": "2025-02-24T04:46:37.010Z"
   },
   {
    "duration": 131,
    "start_time": "2025-02-24T04:47:17.847Z"
   },
   {
    "duration": 131,
    "start_time": "2025-02-24T04:47:24.584Z"
   },
   {
    "duration": 235,
    "start_time": "2025-02-24T04:47:35.247Z"
   },
   {
    "duration": 5,
    "start_time": "2025-02-24T04:47:56.884Z"
   },
   {
    "duration": 1357,
    "start_time": "2025-02-24T04:50:24.323Z"
   },
   {
    "duration": 8,
    "start_time": "2025-02-24T04:59:59.263Z"
   },
   {
    "duration": 42,
    "start_time": "2025-02-24T05:01:12.577Z"
   },
   {
    "duration": 11,
    "start_time": "2025-02-24T05:02:08.291Z"
   },
   {
    "duration": 7,
    "start_time": "2025-02-24T05:02:13.915Z"
   },
   {
    "duration": 83,
    "start_time": "2025-02-24T05:02:48.179Z"
   },
   {
    "duration": 19,
    "start_time": "2025-02-24T05:02:50.142Z"
   },
   {
    "duration": 11,
    "start_time": "2025-02-24T05:02:54.079Z"
   },
   {
    "duration": 8,
    "start_time": "2025-02-24T05:02:55.415Z"
   },
   {
    "duration": 88,
    "start_time": "2025-02-24T05:05:11.781Z"
   },
   {
    "duration": 21,
    "start_time": "2025-02-24T05:05:13.706Z"
   },
   {
    "duration": 11,
    "start_time": "2025-02-24T05:05:19.730Z"
   },
   {
    "duration": 7,
    "start_time": "2025-02-24T05:05:21.018Z"
   },
   {
    "duration": 65,
    "start_time": "2025-02-24T05:07:04.594Z"
   },
   {
    "duration": 19,
    "start_time": "2025-02-24T05:07:06.407Z"
   },
   {
    "duration": 78,
    "start_time": "2025-02-24T05:07:22.782Z"
   },
   {
    "duration": 104,
    "start_time": "2025-02-24T05:07:30.156Z"
   },
   {
    "duration": 97,
    "start_time": "2025-02-24T05:07:46.707Z"
   },
   {
    "duration": 92,
    "start_time": "2025-02-24T05:08:54.546Z"
   },
   {
    "duration": 95,
    "start_time": "2025-02-24T05:09:11.272Z"
   },
   {
    "duration": 7,
    "start_time": "2025-02-24T05:11:12.758Z"
   },
   {
    "duration": 10,
    "start_time": "2025-02-24T05:26:44.928Z"
   },
   {
    "duration": 92,
    "start_time": "2025-02-24T05:27:55.277Z"
   },
   {
    "duration": 21,
    "start_time": "2025-02-24T05:28:01.027Z"
   },
   {
    "duration": 16,
    "start_time": "2025-02-24T05:28:06.290Z"
   },
   {
    "duration": 696,
    "start_time": "2025-02-24T05:28:40.652Z"
   },
   {
    "duration": 96,
    "start_time": "2025-02-24T05:28:52.602Z"
   },
   {
    "duration": 26,
    "start_time": "2025-02-24T05:28:56.177Z"
   },
   {
    "duration": 5,
    "start_time": "2025-02-24T05:29:09.116Z"
   },
   {
    "duration": 90,
    "start_time": "2025-02-24T05:29:21.367Z"
   },
   {
    "duration": 13,
    "start_time": "2025-02-24T05:29:28.936Z"
   },
   {
    "duration": 13,
    "start_time": "2025-02-24T05:29:31.639Z"
   },
   {
    "duration": 93,
    "start_time": "2025-02-24T05:29:39.491Z"
   },
   {
    "duration": 13,
    "start_time": "2025-02-24T05:29:40.691Z"
   },
   {
    "duration": 92,
    "start_time": "2025-02-24T05:29:49.265Z"
   },
   {
    "duration": 12,
    "start_time": "2025-02-24T05:29:50.716Z"
   },
   {
    "duration": 20,
    "start_time": "2025-02-24T05:29:56.940Z"
   },
   {
    "duration": 12,
    "start_time": "2025-02-24T05:30:31.127Z"
   },
   {
    "duration": 6,
    "start_time": "2025-02-24T05:30:34.614Z"
   },
   {
    "duration": 15,
    "start_time": "2025-02-24T05:31:28.551Z"
   },
   {
    "duration": 17,
    "start_time": "2025-02-24T05:31:48.052Z"
   },
   {
    "duration": 19,
    "start_time": "2025-02-24T05:32:12.766Z"
   },
   {
    "duration": 12,
    "start_time": "2025-02-24T05:32:21.673Z"
   },
   {
    "duration": 15,
    "start_time": "2025-02-24T05:32:29.140Z"
   },
   {
    "duration": 7,
    "start_time": "2025-02-24T05:32:30.814Z"
   },
   {
    "duration": 20,
    "start_time": "2025-02-24T05:34:44.116Z"
   },
   {
    "duration": 7,
    "start_time": "2025-02-24T05:34:55.579Z"
   },
   {
    "duration": 23,
    "start_time": "2025-02-24T05:37:21.119Z"
   },
   {
    "duration": 21,
    "start_time": "2025-02-24T05:37:34.244Z"
   },
   {
    "duration": 22,
    "start_time": "2025-02-24T05:37:41.019Z"
   },
   {
    "duration": 21,
    "start_time": "2025-02-24T05:37:54.644Z"
   },
   {
    "duration": 92,
    "start_time": "2025-02-24T05:39:05.820Z"
   },
   {
    "duration": 21,
    "start_time": "2025-02-24T05:39:09.883Z"
   },
   {
    "duration": 23,
    "start_time": "2025-02-24T06:31:56.925Z"
   },
   {
    "duration": 1174,
    "start_time": "2025-02-24T06:33:12.273Z"
   },
   {
    "duration": 2427,
    "start_time": "2025-02-24T06:33:13.449Z"
   },
   {
    "duration": 233,
    "start_time": "2025-02-24T06:33:15.879Z"
   },
   {
    "duration": 3,
    "start_time": "2025-02-24T06:33:16.114Z"
   },
   {
    "duration": 2306,
    "start_time": "2025-02-24T06:33:16.120Z"
   },
   {
    "duration": 3,
    "start_time": "2025-02-24T06:33:18.428Z"
   },
   {
    "duration": 10,
    "start_time": "2025-02-24T06:33:18.432Z"
   },
   {
    "duration": 3,
    "start_time": "2025-02-24T06:33:18.457Z"
   },
   {
    "duration": 75,
    "start_time": "2025-02-24T06:33:18.462Z"
   },
   {
    "duration": 21,
    "start_time": "2025-02-24T06:33:18.538Z"
   },
   {
    "duration": 16,
    "start_time": "2025-02-24T06:33:18.560Z"
   },
   {
    "duration": 268,
    "start_time": "2025-02-24T06:33:18.578Z"
   },
   {
    "duration": 197,
    "start_time": "2025-02-24T06:33:18.858Z"
   },
   {
    "duration": 9,
    "start_time": "2025-02-24T06:33:19.058Z"
   },
   {
    "duration": 152,
    "start_time": "2025-02-24T06:33:19.068Z"
   },
   {
    "duration": 12,
    "start_time": "2025-02-24T06:33:19.221Z"
   },
   {
    "duration": 40,
    "start_time": "2025-02-24T06:33:19.234Z"
   },
   {
    "duration": 6,
    "start_time": "2025-02-24T06:33:19.275Z"
   },
   {
    "duration": 219,
    "start_time": "2025-02-24T06:33:19.282Z"
   },
   {
    "duration": 11,
    "start_time": "2025-02-24T06:33:19.502Z"
   },
   {
    "duration": 453,
    "start_time": "2025-02-24T06:33:19.515Z"
   },
   {
    "duration": 119,
    "start_time": "2025-02-24T06:33:19.969Z"
   },
   {
    "duration": 106,
    "start_time": "2025-02-24T06:33:20.089Z"
   },
   {
    "duration": 22,
    "start_time": "2025-02-24T06:33:20.197Z"
   },
   {
    "duration": 40,
    "start_time": "2025-02-24T06:33:20.221Z"
   },
   {
    "duration": 7,
    "start_time": "2025-02-24T06:33:20.263Z"
   },
   {
    "duration": 87,
    "start_time": "2025-02-24T06:33:39.040Z"
   },
   {
    "duration": 38,
    "start_time": "2025-02-24T06:33:42.740Z"
   },
   {
    "duration": 20,
    "start_time": "2025-02-24T06:33:44.552Z"
   },
   {
    "duration": 112,
    "start_time": "2025-02-24T06:33:53.528Z"
   },
   {
    "duration": 110,
    "start_time": "2025-02-24T06:33:55.445Z"
   },
   {
    "duration": 23,
    "start_time": "2025-02-24T06:33:57.829Z"
   },
   {
    "duration": 130,
    "start_time": "2025-02-24T06:35:09.527Z"
   },
   {
    "duration": 27,
    "start_time": "2025-02-24T06:35:19.827Z"
   },
   {
    "duration": 95,
    "start_time": "2025-02-24T06:36:15.827Z"
   },
   {
    "duration": 22,
    "start_time": "2025-02-24T06:36:17.314Z"
   },
   {
    "duration": 1156,
    "start_time": "2025-02-24T06:36:22.869Z"
   },
   {
    "duration": 2443,
    "start_time": "2025-02-24T06:36:24.027Z"
   },
   {
    "duration": 231,
    "start_time": "2025-02-24T06:36:26.472Z"
   },
   {
    "duration": 3,
    "start_time": "2025-02-24T06:36:26.706Z"
   },
   {
    "duration": 2049,
    "start_time": "2025-02-24T06:36:26.710Z"
   },
   {
    "duration": 4,
    "start_time": "2025-02-24T06:36:28.761Z"
   },
   {
    "duration": 11,
    "start_time": "2025-02-24T06:36:28.766Z"
   },
   {
    "duration": 62,
    "start_time": "2025-02-24T06:36:28.779Z"
   },
   {
    "duration": 88,
    "start_time": "2025-02-24T06:36:28.843Z"
   },
   {
    "duration": 3,
    "start_time": "2025-02-24T06:36:28.935Z"
   },
   {
    "duration": 8,
    "start_time": "2025-02-24T06:36:28.940Z"
   },
   {
    "duration": 221,
    "start_time": "2025-02-24T06:36:28.949Z"
   },
   {
    "duration": 213,
    "start_time": "2025-02-24T06:36:29.172Z"
   },
   {
    "duration": 9,
    "start_time": "2025-02-24T06:36:29.386Z"
   },
   {
    "duration": 150,
    "start_time": "2025-02-24T06:36:29.397Z"
   },
   {
    "duration": 16,
    "start_time": "2025-02-24T06:36:29.548Z"
   },
   {
    "duration": 21,
    "start_time": "2025-02-24T06:36:29.566Z"
   },
   {
    "duration": 6,
    "start_time": "2025-02-24T06:36:29.588Z"
   },
   {
    "duration": 220,
    "start_time": "2025-02-24T06:36:29.595Z"
   },
   {
    "duration": 10,
    "start_time": "2025-02-24T06:36:29.817Z"
   },
   {
    "duration": 444,
    "start_time": "2025-02-24T06:36:29.828Z"
   },
   {
    "duration": 114,
    "start_time": "2025-02-24T06:36:30.274Z"
   },
   {
    "duration": 100,
    "start_time": "2025-02-24T06:36:30.390Z"
   },
   {
    "duration": 23,
    "start_time": "2025-02-24T06:36:30.491Z"
   },
   {
    "duration": 171,
    "start_time": "2025-02-24T06:36:30.515Z"
   },
   {
    "duration": 0,
    "start_time": "2025-02-24T06:36:30.688Z"
   },
   {
    "duration": 57,
    "start_time": "2025-02-24T06:37:03.849Z"
   },
   {
    "duration": 22,
    "start_time": "2025-02-24T06:37:07.276Z"
   },
   {
    "duration": 56,
    "start_time": "2025-02-24T06:37:22.623Z"
   },
   {
    "duration": 20,
    "start_time": "2025-02-24T06:37:24.136Z"
   },
   {
    "duration": 14,
    "start_time": "2025-02-24T06:37:31.836Z"
   },
   {
    "duration": 25,
    "start_time": "2025-02-24T06:37:40.660Z"
   },
   {
    "duration": 22,
    "start_time": "2025-02-24T06:37:55.698Z"
   },
   {
    "duration": 1771,
    "start_time": "2025-02-24T06:43:00.785Z"
   },
   {
    "duration": 19,
    "start_time": "2025-02-24T06:43:18.609Z"
   },
   {
    "duration": 28,
    "start_time": "2025-02-24T06:43:28.396Z"
   },
   {
    "duration": 27,
    "start_time": "2025-02-24T06:43:41.871Z"
   },
   {
    "duration": 28,
    "start_time": "2025-02-24T06:44:00.597Z"
   },
   {
    "duration": 30,
    "start_time": "2025-02-24T06:44:03.933Z"
   },
   {
    "duration": 1298,
    "start_time": "2025-02-24T07:00:25.619Z"
   },
   {
    "duration": 7,
    "start_time": "2025-02-24T07:00:42.758Z"
   },
   {
    "duration": 8,
    "start_time": "2025-02-24T07:01:00.595Z"
   },
   {
    "duration": 7,
    "start_time": "2025-02-24T07:01:16.857Z"
   },
   {
    "duration": 14,
    "start_time": "2025-02-24T07:41:05.592Z"
   },
   {
    "duration": 13,
    "start_time": "2025-02-24T07:41:15.555Z"
   },
   {
    "duration": 13,
    "start_time": "2025-02-24T07:41:35.318Z"
   },
   {
    "duration": 12,
    "start_time": "2025-02-24T07:42:02.680Z"
   },
   {
    "duration": 6,
    "start_time": "2025-02-24T07:42:16.617Z"
   },
   {
    "duration": 17,
    "start_time": "2025-02-24T07:42:22.605Z"
   },
   {
    "duration": 5,
    "start_time": "2025-02-24T07:42:28.477Z"
   },
   {
    "duration": 19,
    "start_time": "2025-02-24T07:42:37.930Z"
   },
   {
    "duration": 19,
    "start_time": "2025-02-24T07:42:45.055Z"
   },
   {
    "duration": 15,
    "start_time": "2025-02-24T07:42:58.905Z"
   },
   {
    "duration": 16,
    "start_time": "2025-02-24T07:43:01.956Z"
   },
   {
    "duration": 17,
    "start_time": "2025-02-24T07:43:10.068Z"
   },
   {
    "duration": 10,
    "start_time": "2025-02-24T07:50:41.488Z"
   },
   {
    "duration": 3,
    "start_time": "2025-02-24T07:50:43.776Z"
   },
   {
    "duration": 18,
    "start_time": "2025-02-24T07:50:45.038Z"
   },
   {
    "duration": 8,
    "start_time": "2025-02-24T07:51:55.362Z"
   },
   {
    "duration": 126,
    "start_time": "2025-02-24T07:52:10.863Z"
   },
   {
    "duration": 125,
    "start_time": "2025-02-24T07:52:15.813Z"
   },
   {
    "duration": 9,
    "start_time": "2025-02-24T07:52:31.276Z"
   },
   {
    "duration": 14,
    "start_time": "2025-02-24T07:52:47.414Z"
   },
   {
    "duration": 134,
    "start_time": "2025-02-24T07:52:51.563Z"
   },
   {
    "duration": 13,
    "start_time": "2025-02-24T07:52:53.788Z"
   },
   {
    "duration": 10,
    "start_time": "2025-02-24T07:52:55.176Z"
   },
   {
    "duration": 123,
    "start_time": "2025-02-24T07:52:56.875Z"
   },
   {
    "duration": 8,
    "start_time": "2025-02-24T07:53:07.538Z"
   },
   {
    "duration": 135,
    "start_time": "2025-02-24T07:53:09.038Z"
   },
   {
    "duration": 136,
    "start_time": "2025-02-24T07:53:33.901Z"
   },
   {
    "duration": 127,
    "start_time": "2025-02-24T07:53:38.551Z"
   },
   {
    "duration": 152,
    "start_time": "2025-02-24T07:54:45.389Z"
   },
   {
    "duration": 153,
    "start_time": "2025-02-24T07:54:51.801Z"
   },
   {
    "duration": 20,
    "start_time": "2025-02-24T08:01:36.329Z"
   },
   {
    "duration": 8,
    "start_time": "2025-02-24T08:03:13.954Z"
   },
   {
    "duration": 142,
    "start_time": "2025-02-24T08:09:12.167Z"
   },
   {
    "duration": 20,
    "start_time": "2025-02-24T08:20:07.342Z"
   },
   {
    "duration": 7,
    "start_time": "2025-02-24T08:20:09.404Z"
   },
   {
    "duration": 142,
    "start_time": "2025-02-24T08:20:14.441Z"
   },
   {
    "duration": 1235,
    "start_time": "2025-02-24T08:20:26.439Z"
   },
   {
    "duration": 2409,
    "start_time": "2025-02-24T08:20:27.676Z"
   },
   {
    "duration": 231,
    "start_time": "2025-02-24T08:20:30.087Z"
   },
   {
    "duration": 3,
    "start_time": "2025-02-24T08:20:30.321Z"
   },
   {
    "duration": 2227,
    "start_time": "2025-02-24T08:20:30.325Z"
   },
   {
    "duration": 3,
    "start_time": "2025-02-24T08:20:32.554Z"
   },
   {
    "duration": 17,
    "start_time": "2025-02-24T08:20:32.559Z"
   },
   {
    "duration": 18,
    "start_time": "2025-02-24T08:20:32.578Z"
   },
   {
    "duration": 10,
    "start_time": "2025-02-24T08:20:32.598Z"
   },
   {
    "duration": 4,
    "start_time": "2025-02-24T08:20:32.610Z"
   },
   {
    "duration": 7,
    "start_time": "2025-02-24T08:20:32.615Z"
   },
   {
    "duration": 240,
    "start_time": "2025-02-24T08:20:32.623Z"
   },
   {
    "duration": 193,
    "start_time": "2025-02-24T08:20:32.864Z"
   },
   {
    "duration": 8,
    "start_time": "2025-02-24T08:20:33.059Z"
   },
   {
    "duration": 151,
    "start_time": "2025-02-24T08:20:33.069Z"
   },
   {
    "duration": 13,
    "start_time": "2025-02-24T08:20:33.221Z"
   },
   {
    "duration": 53,
    "start_time": "2025-02-24T08:20:33.236Z"
   },
   {
    "duration": 5,
    "start_time": "2025-02-24T08:20:33.291Z"
   },
   {
    "duration": 201,
    "start_time": "2025-02-24T08:20:33.298Z"
   },
   {
    "duration": 11,
    "start_time": "2025-02-24T08:20:33.500Z"
   },
   {
    "duration": 459,
    "start_time": "2025-02-24T08:20:33.513Z"
   },
   {
    "duration": 120,
    "start_time": "2025-02-24T08:20:33.974Z"
   },
   {
    "duration": 64,
    "start_time": "2025-02-24T08:20:34.096Z"
   },
   {
    "duration": 21,
    "start_time": "2025-02-24T08:20:34.161Z"
   },
   {
    "duration": 30,
    "start_time": "2025-02-24T08:20:34.183Z"
   },
   {
    "duration": 6,
    "start_time": "2025-02-24T08:20:34.214Z"
   },
   {
    "duration": 47,
    "start_time": "2025-02-24T08:20:34.222Z"
   },
   {
    "duration": 10,
    "start_time": "2025-02-24T08:20:34.272Z"
   },
   {
    "duration": 160,
    "start_time": "2025-02-24T08:20:34.283Z"
   },
   {
    "duration": 118,
    "start_time": "2025-02-24T08:21:02.005Z"
   },
   {
    "duration": 8,
    "start_time": "2025-02-24T08:21:54.845Z"
   },
   {
    "duration": 145,
    "start_time": "2025-02-24T08:22:00.567Z"
   },
   {
    "duration": 8,
    "start_time": "2025-02-24T08:22:09.029Z"
   },
   {
    "duration": 150,
    "start_time": "2025-02-24T08:22:15.767Z"
   },
   {
    "duration": 8,
    "start_time": "2025-02-24T08:22:32.267Z"
   },
   {
    "duration": 12,
    "start_time": "2025-02-24T08:22:39.779Z"
   },
   {
    "duration": 11,
    "start_time": "2025-02-24T08:22:49.278Z"
   },
   {
    "duration": 1241,
    "start_time": "2025-02-24T08:23:06.843Z"
   },
   {
    "duration": 2399,
    "start_time": "2025-02-24T08:23:08.086Z"
   },
   {
    "duration": 240,
    "start_time": "2025-02-24T08:23:10.487Z"
   },
   {
    "duration": 3,
    "start_time": "2025-02-24T08:23:10.729Z"
   },
   {
    "duration": 2283,
    "start_time": "2025-02-24T08:23:10.734Z"
   },
   {
    "duration": 3,
    "start_time": "2025-02-24T08:23:13.019Z"
   },
   {
    "duration": 26,
    "start_time": "2025-02-24T08:23:13.024Z"
   },
   {
    "duration": 3,
    "start_time": "2025-02-24T08:23:13.051Z"
   },
   {
    "duration": 7,
    "start_time": "2025-02-24T08:23:13.057Z"
   },
   {
    "duration": 4,
    "start_time": "2025-02-24T08:23:13.067Z"
   },
   {
    "duration": 5,
    "start_time": "2025-02-24T08:23:13.072Z"
   },
   {
    "duration": 236,
    "start_time": "2025-02-24T08:23:13.078Z"
   },
   {
    "duration": 203,
    "start_time": "2025-02-24T08:23:13.316Z"
   },
   {
    "duration": 9,
    "start_time": "2025-02-24T08:23:13.521Z"
   },
   {
    "duration": 152,
    "start_time": "2025-02-24T08:23:13.531Z"
   },
   {
    "duration": 13,
    "start_time": "2025-02-24T08:23:13.685Z"
   },
   {
    "duration": 26,
    "start_time": "2025-02-24T08:23:13.700Z"
   },
   {
    "duration": 6,
    "start_time": "2025-02-24T08:23:13.728Z"
   },
   {
    "duration": 235,
    "start_time": "2025-02-24T08:23:13.736Z"
   },
   {
    "duration": 11,
    "start_time": "2025-02-24T08:23:13.973Z"
   },
   {
    "duration": 456,
    "start_time": "2025-02-24T08:23:13.985Z"
   },
   {
    "duration": 116,
    "start_time": "2025-02-24T08:23:14.442Z"
   },
   {
    "duration": 57,
    "start_time": "2025-02-24T08:23:14.560Z"
   },
   {
    "duration": 23,
    "start_time": "2025-02-24T08:23:14.618Z"
   },
   {
    "duration": 30,
    "start_time": "2025-02-24T08:23:14.658Z"
   },
   {
    "duration": 7,
    "start_time": "2025-02-24T08:23:14.690Z"
   },
   {
    "duration": 18,
    "start_time": "2025-02-24T08:23:14.698Z"
   },
   {
    "duration": 131,
    "start_time": "2025-02-24T08:23:14.719Z"
   },
   {
    "duration": 153,
    "start_time": "2025-02-24T08:23:14.852Z"
   },
   {
    "duration": 11,
    "start_time": "2025-02-24T08:23:25.205Z"
   },
   {
    "duration": 152,
    "start_time": "2025-02-24T08:23:27.118Z"
   },
   {
    "duration": 159,
    "start_time": "2025-02-24T08:23:41.643Z"
   },
   {
    "duration": 154,
    "start_time": "2025-02-24T08:23:48.518Z"
   },
   {
    "duration": 149,
    "start_time": "2025-02-24T08:23:52.168Z"
   },
   {
    "duration": 135,
    "start_time": "2025-02-24T08:24:06.943Z"
   },
   {
    "duration": 91,
    "start_time": "2025-02-24T08:24:22.355Z"
   },
   {
    "duration": 145,
    "start_time": "2025-02-24T08:24:24.905Z"
   },
   {
    "duration": 116,
    "start_time": "2025-02-24T10:23:57.981Z"
   },
   {
    "duration": 213,
    "start_time": "2025-02-24T10:24:08.504Z"
   },
   {
    "duration": 217,
    "start_time": "2025-02-24T10:24:19.603Z"
   },
   {
    "duration": 212,
    "start_time": "2025-02-24T10:24:59.540Z"
   },
   {
    "duration": 156,
    "start_time": "2025-02-24T10:26:12.933Z"
   },
   {
    "duration": 7455,
    "start_time": "2025-02-24T10:26:26.359Z"
   },
   {
    "duration": 8570,
    "start_time": "2025-02-24T10:26:40.932Z"
   },
   {
    "duration": 147,
    "start_time": "2025-02-24T10:26:50.332Z"
   },
   {
    "duration": 268,
    "start_time": "2025-02-24T10:26:54.858Z"
   },
   {
    "duration": 120,
    "start_time": "2025-02-24T10:27:49.273Z"
   },
   {
    "duration": 120,
    "start_time": "2025-02-24T10:28:10.683Z"
   },
   {
    "duration": 136,
    "start_time": "2025-02-24T10:28:20.050Z"
   },
   {
    "duration": 115,
    "start_time": "2025-02-24T10:28:22.470Z"
   },
   {
    "duration": 125,
    "start_time": "2025-02-24T10:28:33.345Z"
   },
   {
    "duration": 126,
    "start_time": "2025-02-24T10:31:49.834Z"
   },
   {
    "duration": 157,
    "start_time": "2025-02-24T10:34:55.782Z"
   },
   {
    "duration": 10,
    "start_time": "2025-02-24T10:35:02.308Z"
   },
   {
    "duration": 152,
    "start_time": "2025-02-24T10:35:16.284Z"
   },
   {
    "duration": 14,
    "start_time": "2025-02-24T10:36:43.068Z"
   },
   {
    "duration": 11,
    "start_time": "2025-02-24T10:36:54.832Z"
   },
   {
    "duration": 19,
    "start_time": "2025-02-24T10:45:22.532Z"
   },
   {
    "duration": 11,
    "start_time": "2025-02-24T10:45:26.393Z"
   },
   {
    "duration": 167,
    "start_time": "2025-02-24T10:45:29.944Z"
   },
   {
    "duration": 1174,
    "start_time": "2025-02-24T10:45:42.720Z"
   },
   {
    "duration": 2455,
    "start_time": "2025-02-24T10:45:43.896Z"
   },
   {
    "duration": 238,
    "start_time": "2025-02-24T10:45:46.353Z"
   },
   {
    "duration": 3,
    "start_time": "2025-02-24T10:45:46.594Z"
   },
   {
    "duration": 2539,
    "start_time": "2025-02-24T10:45:46.599Z"
   },
   {
    "duration": 3,
    "start_time": "2025-02-24T10:45:49.139Z"
   },
   {
    "duration": 18,
    "start_time": "2025-02-24T10:45:49.144Z"
   },
   {
    "duration": 3,
    "start_time": "2025-02-24T10:45:49.163Z"
   },
   {
    "duration": 17,
    "start_time": "2025-02-24T10:45:49.167Z"
   },
   {
    "duration": 21,
    "start_time": "2025-02-24T10:45:49.187Z"
   },
   {
    "duration": 11,
    "start_time": "2025-02-24T10:45:49.210Z"
   },
   {
    "duration": 262,
    "start_time": "2025-02-24T10:45:49.223Z"
   },
   {
    "duration": 214,
    "start_time": "2025-02-24T10:45:49.487Z"
   },
   {
    "duration": 8,
    "start_time": "2025-02-24T10:45:49.703Z"
   },
   {
    "duration": 201,
    "start_time": "2025-02-24T10:45:49.713Z"
   },
   {
    "duration": 13,
    "start_time": "2025-02-24T10:45:49.915Z"
   },
   {
    "duration": 40,
    "start_time": "2025-02-24T10:45:49.929Z"
   },
   {
    "duration": 5,
    "start_time": "2025-02-24T10:45:49.971Z"
   },
   {
    "duration": 206,
    "start_time": "2025-02-24T10:45:49.978Z"
   },
   {
    "duration": 12,
    "start_time": "2025-02-24T10:45:50.186Z"
   },
   {
    "duration": 439,
    "start_time": "2025-02-24T10:45:50.200Z"
   },
   {
    "duration": 112,
    "start_time": "2025-02-24T10:45:50.641Z"
   },
   {
    "duration": 55,
    "start_time": "2025-02-24T10:45:50.754Z"
   },
   {
    "duration": 49,
    "start_time": "2025-02-24T10:45:50.811Z"
   },
   {
    "duration": 36,
    "start_time": "2025-02-24T10:45:50.861Z"
   },
   {
    "duration": 7,
    "start_time": "2025-02-24T10:45:50.898Z"
   },
   {
    "duration": 146,
    "start_time": "2025-02-24T10:45:50.906Z"
   },
   {
    "duration": 21,
    "start_time": "2025-02-24T10:45:51.059Z"
   },
   {
    "duration": 97,
    "start_time": "2025-02-24T10:45:51.082Z"
   },
   {
    "duration": 226,
    "start_time": "2025-02-24T10:45:51.180Z"
   },
   {
    "duration": 1236,
    "start_time": "2025-02-24T10:47:07.143Z"
   },
   {
    "duration": 2399,
    "start_time": "2025-02-24T10:47:08.381Z"
   },
   {
    "duration": 456,
    "start_time": "2025-02-24T10:47:10.782Z"
   },
   {
    "duration": 3,
    "start_time": "2025-02-24T10:47:11.240Z"
   },
   {
    "duration": 1989,
    "start_time": "2025-02-24T10:47:11.245Z"
   },
   {
    "duration": 3,
    "start_time": "2025-02-24T10:47:13.236Z"
   },
   {
    "duration": 8,
    "start_time": "2025-02-24T10:47:13.240Z"
   },
   {
    "duration": 9,
    "start_time": "2025-02-24T10:47:13.250Z"
   },
   {
    "duration": 9,
    "start_time": "2025-02-24T10:47:13.261Z"
   },
   {
    "duration": 4,
    "start_time": "2025-02-24T10:47:13.272Z"
   },
   {
    "duration": 4,
    "start_time": "2025-02-24T10:47:13.277Z"
   },
   {
    "duration": 239,
    "start_time": "2025-02-24T10:47:13.283Z"
   },
   {
    "duration": 217,
    "start_time": "2025-02-24T10:47:13.524Z"
   },
   {
    "duration": 15,
    "start_time": "2025-02-24T10:47:13.743Z"
   },
   {
    "duration": 147,
    "start_time": "2025-02-24T10:47:13.760Z"
   },
   {
    "duration": 13,
    "start_time": "2025-02-24T10:47:13.908Z"
   },
   {
    "duration": 36,
    "start_time": "2025-02-24T10:47:13.923Z"
   },
   {
    "duration": 6,
    "start_time": "2025-02-24T10:47:13.961Z"
   },
   {
    "duration": 214,
    "start_time": "2025-02-24T10:47:13.968Z"
   },
   {
    "duration": 11,
    "start_time": "2025-02-24T10:47:14.183Z"
   },
   {
    "duration": 440,
    "start_time": "2025-02-24T10:47:14.196Z"
   },
   {
    "duration": 108,
    "start_time": "2025-02-24T10:47:14.638Z"
   },
   {
    "duration": 55,
    "start_time": "2025-02-24T10:47:14.748Z"
   },
   {
    "duration": 20,
    "start_time": "2025-02-24T10:47:14.805Z"
   },
   {
    "duration": 45,
    "start_time": "2025-02-24T10:47:14.826Z"
   },
   {
    "duration": 8,
    "start_time": "2025-02-24T10:47:14.872Z"
   },
   {
    "duration": 140,
    "start_time": "2025-02-24T10:47:14.881Z"
   },
   {
    "duration": 20,
    "start_time": "2025-02-24T10:47:15.024Z"
   },
   {
    "duration": 126,
    "start_time": "2025-02-24T10:47:15.045Z"
   },
   {
    "duration": 172,
    "start_time": "2025-02-24T10:47:15.173Z"
   },
   {
    "duration": 19,
    "start_time": "2025-02-24T10:50:35.884Z"
   },
   {
    "duration": 1203,
    "start_time": "2025-02-24T10:50:41.858Z"
   },
   {
    "duration": 2412,
    "start_time": "2025-02-24T10:50:43.063Z"
   },
   {
    "duration": 254,
    "start_time": "2025-02-24T10:50:45.477Z"
   },
   {
    "duration": 2,
    "start_time": "2025-02-24T10:50:45.733Z"
   },
   {
    "duration": 1996,
    "start_time": "2025-02-24T10:50:45.737Z"
   },
   {
    "duration": 3,
    "start_time": "2025-02-24T10:50:47.734Z"
   },
   {
    "duration": 49,
    "start_time": "2025-02-24T10:50:47.739Z"
   },
   {
    "duration": 3,
    "start_time": "2025-02-24T10:50:47.789Z"
   },
   {
    "duration": 12,
    "start_time": "2025-02-24T10:50:47.794Z"
   },
   {
    "duration": 3,
    "start_time": "2025-02-24T10:50:47.809Z"
   },
   {
    "duration": 6,
    "start_time": "2025-02-24T10:50:47.813Z"
   },
   {
    "duration": 248,
    "start_time": "2025-02-24T10:50:47.820Z"
   },
   {
    "duration": 203,
    "start_time": "2025-02-24T10:50:48.070Z"
   },
   {
    "duration": 8,
    "start_time": "2025-02-24T10:50:48.275Z"
   },
   {
    "duration": 151,
    "start_time": "2025-02-24T10:50:48.284Z"
   },
   {
    "duration": 21,
    "start_time": "2025-02-24T10:50:48.437Z"
   },
   {
    "duration": 22,
    "start_time": "2025-02-24T10:50:48.460Z"
   },
   {
    "duration": 5,
    "start_time": "2025-02-24T10:50:48.483Z"
   },
   {
    "duration": 211,
    "start_time": "2025-02-24T10:50:48.490Z"
   },
   {
    "duration": 11,
    "start_time": "2025-02-24T10:50:48.703Z"
   },
   {
    "duration": 450,
    "start_time": "2025-02-24T10:50:48.716Z"
   },
   {
    "duration": 105,
    "start_time": "2025-02-24T10:50:49.168Z"
   },
   {
    "duration": 56,
    "start_time": "2025-02-24T10:50:49.275Z"
   },
   {
    "duration": 38,
    "start_time": "2025-02-24T10:50:49.333Z"
   },
   {
    "duration": 28,
    "start_time": "2025-02-24T10:50:49.373Z"
   },
   {
    "duration": 8,
    "start_time": "2025-02-24T10:50:49.402Z"
   },
   {
    "duration": 198,
    "start_time": "2025-02-24T10:50:49.411Z"
   },
   {
    "duration": 21,
    "start_time": "2025-02-24T10:50:49.612Z"
   },
   {
    "duration": 54,
    "start_time": "2025-02-24T10:50:49.634Z"
   },
   {
    "duration": 210,
    "start_time": "2025-02-24T10:50:49.690Z"
   },
   {
    "duration": 11,
    "start_time": "2025-02-24T10:55:28.707Z"
   },
   {
    "duration": 14,
    "start_time": "2025-02-24T10:56:17.958Z"
   },
   {
    "duration": 22,
    "start_time": "2025-02-24T10:56:24.658Z"
   },
   {
    "duration": 14,
    "start_time": "2025-02-24T10:56:30.009Z"
   },
   {
    "duration": 11,
    "start_time": "2025-02-24T10:56:34.711Z"
   },
   {
    "duration": 110,
    "start_time": "2025-02-24T11:05:52.826Z"
   },
   {
    "duration": 1468,
    "start_time": "2025-02-24T11:06:01.410Z"
   },
   {
    "duration": 2690,
    "start_time": "2025-02-24T11:06:02.880Z"
   },
   {
    "duration": 246,
    "start_time": "2025-02-24T11:06:05.572Z"
   },
   {
    "duration": 3,
    "start_time": "2025-02-24T11:06:05.820Z"
   },
   {
    "duration": 2295,
    "start_time": "2025-02-24T11:06:05.824Z"
   },
   {
    "duration": 3,
    "start_time": "2025-02-24T11:06:08.121Z"
   },
   {
    "duration": 6,
    "start_time": "2025-02-24T11:06:08.126Z"
   },
   {
    "duration": 4,
    "start_time": "2025-02-24T11:06:08.133Z"
   },
   {
    "duration": 22,
    "start_time": "2025-02-24T11:06:08.139Z"
   },
   {
    "duration": 4,
    "start_time": "2025-02-24T11:06:08.163Z"
   },
   {
    "duration": 3,
    "start_time": "2025-02-24T11:06:08.168Z"
   },
   {
    "duration": 237,
    "start_time": "2025-02-24T11:06:08.173Z"
   },
   {
    "duration": 218,
    "start_time": "2025-02-24T11:06:08.412Z"
   },
   {
    "duration": 9,
    "start_time": "2025-02-24T11:06:08.631Z"
   },
   {
    "duration": 148,
    "start_time": "2025-02-24T11:06:08.642Z"
   },
   {
    "duration": 13,
    "start_time": "2025-02-24T11:06:08.791Z"
   },
   {
    "duration": 22,
    "start_time": "2025-02-24T11:06:08.805Z"
   },
   {
    "duration": 5,
    "start_time": "2025-02-24T11:06:08.828Z"
   },
   {
    "duration": 264,
    "start_time": "2025-02-24T11:06:08.835Z"
   },
   {
    "duration": 11,
    "start_time": "2025-02-24T11:06:09.100Z"
   },
   {
    "duration": 509,
    "start_time": "2025-02-24T11:06:09.113Z"
   },
   {
    "duration": 109,
    "start_time": "2025-02-24T11:06:09.624Z"
   },
   {
    "duration": 63,
    "start_time": "2025-02-24T11:06:09.735Z"
   },
   {
    "duration": 74,
    "start_time": "2025-02-24T11:06:09.800Z"
   },
   {
    "duration": 28,
    "start_time": "2025-02-24T11:06:09.876Z"
   },
   {
    "duration": 7,
    "start_time": "2025-02-24T11:06:09.907Z"
   },
   {
    "duration": 145,
    "start_time": "2025-02-24T11:06:09.916Z"
   },
   {
    "duration": 20,
    "start_time": "2025-02-24T11:06:10.066Z"
   },
   {
    "duration": 15,
    "start_time": "2025-02-24T11:06:10.088Z"
   },
   {
    "duration": 160,
    "start_time": "2025-02-24T11:06:10.104Z"
   },
   {
    "duration": 12,
    "start_time": "2025-02-24T11:06:10.266Z"
   },
   {
    "duration": 22,
    "start_time": "2025-02-24T11:06:10.279Z"
   },
   {
    "duration": 120,
    "start_time": "2025-02-24T11:08:10.183Z"
   },
   {
    "duration": 119,
    "start_time": "2025-02-24T11:08:34.659Z"
   },
   {
    "duration": 74,
    "start_time": "2025-02-24T11:14:22.013Z"
   },
   {
    "duration": 113,
    "start_time": "2025-02-24T11:14:31.873Z"
   },
   {
    "duration": 109,
    "start_time": "2025-02-24T11:15:45.962Z"
   },
   {
    "duration": 94,
    "start_time": "2025-02-24T11:16:15.437Z"
   },
   {
    "duration": 90,
    "start_time": "2025-02-24T11:17:11.978Z"
   },
   {
    "duration": 44,
    "start_time": "2025-02-24T11:17:21.337Z"
   },
   {
    "duration": 1158,
    "start_time": "2025-02-24T11:17:48.796Z"
   },
   {
    "duration": 2554,
    "start_time": "2025-02-24T11:17:49.958Z"
   },
   {
    "duration": 234,
    "start_time": "2025-02-24T11:17:52.514Z"
   },
   {
    "duration": 3,
    "start_time": "2025-02-24T11:17:52.750Z"
   },
   {
    "duration": 1902,
    "start_time": "2025-02-24T11:17:52.758Z"
   },
   {
    "duration": 3,
    "start_time": "2025-02-24T11:17:54.661Z"
   },
   {
    "duration": 5,
    "start_time": "2025-02-24T11:17:54.666Z"
   },
   {
    "duration": 4,
    "start_time": "2025-02-24T11:17:54.672Z"
   },
   {
    "duration": 7,
    "start_time": "2025-02-24T11:17:54.677Z"
   },
   {
    "duration": 10,
    "start_time": "2025-02-24T11:17:54.686Z"
   },
   {
    "duration": 8,
    "start_time": "2025-02-24T11:17:54.698Z"
   },
   {
    "duration": 251,
    "start_time": "2025-02-24T11:17:54.707Z"
   },
   {
    "duration": 221,
    "start_time": "2025-02-24T11:17:54.960Z"
   },
   {
    "duration": 12,
    "start_time": "2025-02-24T11:17:55.183Z"
   },
   {
    "duration": 176,
    "start_time": "2025-02-24T11:17:55.197Z"
   },
   {
    "duration": 12,
    "start_time": "2025-02-24T11:17:55.375Z"
   },
   {
    "duration": 21,
    "start_time": "2025-02-24T11:17:55.389Z"
   },
   {
    "duration": 5,
    "start_time": "2025-02-24T11:17:55.412Z"
   },
   {
    "duration": 227,
    "start_time": "2025-02-24T11:17:55.418Z"
   },
   {
    "duration": 15,
    "start_time": "2025-02-24T11:17:55.646Z"
   },
   {
    "duration": 456,
    "start_time": "2025-02-24T11:17:55.663Z"
   },
   {
    "duration": 115,
    "start_time": "2025-02-24T11:17:56.121Z"
   },
   {
    "duration": 90,
    "start_time": "2025-02-24T11:17:56.238Z"
   },
   {
    "duration": 37,
    "start_time": "2025-02-24T11:17:56.330Z"
   },
   {
    "duration": 24,
    "start_time": "2025-02-24T11:17:56.368Z"
   },
   {
    "duration": 21,
    "start_time": "2025-02-24T11:17:56.393Z"
   },
   {
    "duration": 7,
    "start_time": "2025-02-24T11:17:56.415Z"
   },
   {
    "duration": 135,
    "start_time": "2025-02-24T11:17:56.425Z"
   },
   {
    "duration": 18,
    "start_time": "2025-02-24T11:17:56.562Z"
   },
   {
    "duration": 11,
    "start_time": "2025-02-24T11:17:56.581Z"
   },
   {
    "duration": 166,
    "start_time": "2025-02-24T11:17:56.593Z"
   },
   {
    "duration": 84,
    "start_time": "2025-02-24T11:18:24.369Z"
   },
   {
    "duration": 56,
    "start_time": "2025-02-24T11:18:27.181Z"
   },
   {
    "duration": 1161,
    "start_time": "2025-02-24T11:18:37.918Z"
   },
   {
    "duration": 2417,
    "start_time": "2025-02-24T11:18:39.082Z"
   },
   {
    "duration": 244,
    "start_time": "2025-02-24T11:18:41.501Z"
   },
   {
    "duration": 3,
    "start_time": "2025-02-24T11:18:41.747Z"
   },
   {
    "duration": 2219,
    "start_time": "2025-02-24T11:18:41.751Z"
   },
   {
    "duration": 3,
    "start_time": "2025-02-24T11:18:43.972Z"
   },
   {
    "duration": 6,
    "start_time": "2025-02-24T11:18:43.977Z"
   },
   {
    "duration": 3,
    "start_time": "2025-02-24T11:18:43.984Z"
   },
   {
    "duration": 6,
    "start_time": "2025-02-24T11:18:43.989Z"
   },
   {
    "duration": 3,
    "start_time": "2025-02-24T11:18:43.998Z"
   },
   {
    "duration": 4,
    "start_time": "2025-02-24T11:18:44.003Z"
   },
   {
    "duration": 257,
    "start_time": "2025-02-24T11:18:44.008Z"
   },
   {
    "duration": 205,
    "start_time": "2025-02-24T11:18:44.267Z"
   },
   {
    "duration": 8,
    "start_time": "2025-02-24T11:18:44.474Z"
   },
   {
    "duration": 147,
    "start_time": "2025-02-24T11:18:44.484Z"
   },
   {
    "duration": 13,
    "start_time": "2025-02-24T11:18:44.632Z"
   },
   {
    "duration": 31,
    "start_time": "2025-02-24T11:18:44.646Z"
   },
   {
    "duration": 6,
    "start_time": "2025-02-24T11:18:44.679Z"
   },
   {
    "duration": 219,
    "start_time": "2025-02-24T11:18:44.686Z"
   },
   {
    "duration": 12,
    "start_time": "2025-02-24T11:18:44.907Z"
   },
   {
    "duration": 477,
    "start_time": "2025-02-24T11:18:44.921Z"
   },
   {
    "duration": 92,
    "start_time": "2025-02-24T11:18:45.400Z"
   },
   {
    "duration": 52,
    "start_time": "2025-02-24T11:18:45.493Z"
   },
   {
    "duration": 53,
    "start_time": "2025-02-24T11:18:45.546Z"
   },
   {
    "duration": 21,
    "start_time": "2025-02-24T11:18:45.601Z"
   },
   {
    "duration": 20,
    "start_time": "2025-02-24T11:18:45.623Z"
   },
   {
    "duration": 8,
    "start_time": "2025-02-24T11:18:45.645Z"
   },
   {
    "duration": 103,
    "start_time": "2025-02-24T11:18:45.656Z"
   },
   {
    "duration": 17,
    "start_time": "2025-02-24T11:18:45.761Z"
   },
   {
    "duration": 16,
    "start_time": "2025-02-24T11:18:45.780Z"
   },
   {
    "duration": 158,
    "start_time": "2025-02-24T11:18:45.797Z"
   },
   {
    "duration": 101,
    "start_time": "2025-02-24T11:19:07.644Z"
   },
   {
    "duration": 1248,
    "start_time": "2025-02-24T11:19:35.964Z"
   },
   {
    "duration": 2453,
    "start_time": "2025-02-24T11:19:37.214Z"
   },
   {
    "duration": 244,
    "start_time": "2025-02-24T11:19:39.669Z"
   },
   {
    "duration": 3,
    "start_time": "2025-02-24T11:19:39.915Z"
   },
   {
    "duration": 2179,
    "start_time": "2025-02-24T11:19:39.919Z"
   },
   {
    "duration": 3,
    "start_time": "2025-02-24T11:19:42.099Z"
   },
   {
    "duration": 25,
    "start_time": "2025-02-24T11:19:42.103Z"
   },
   {
    "duration": 4,
    "start_time": "2025-02-24T11:19:42.129Z"
   },
   {
    "duration": 9,
    "start_time": "2025-02-24T11:19:42.135Z"
   },
   {
    "duration": 21,
    "start_time": "2025-02-24T11:19:42.147Z"
   },
   {
    "duration": 4,
    "start_time": "2025-02-24T11:19:42.170Z"
   },
   {
    "duration": 226,
    "start_time": "2025-02-24T11:19:42.175Z"
   },
   {
    "duration": 210,
    "start_time": "2025-02-24T11:19:42.402Z"
   },
   {
    "duration": 8,
    "start_time": "2025-02-24T11:19:42.614Z"
   },
   {
    "duration": 151,
    "start_time": "2025-02-24T11:19:42.623Z"
   },
   {
    "duration": 12,
    "start_time": "2025-02-24T11:19:42.776Z"
   },
   {
    "duration": 21,
    "start_time": "2025-02-24T11:19:42.790Z"
   },
   {
    "duration": 6,
    "start_time": "2025-02-24T11:19:42.812Z"
   },
   {
    "duration": 221,
    "start_time": "2025-02-24T11:19:42.819Z"
   },
   {
    "duration": 18,
    "start_time": "2025-02-24T11:19:43.042Z"
   },
   {
    "duration": 440,
    "start_time": "2025-02-24T11:19:43.062Z"
   },
   {
    "duration": 126,
    "start_time": "2025-02-24T11:19:43.504Z"
   },
   {
    "duration": 92,
    "start_time": "2025-02-24T11:19:43.632Z"
   },
   {
    "duration": 33,
    "start_time": "2025-02-24T11:19:43.725Z"
   },
   {
    "duration": 42,
    "start_time": "2025-02-24T11:19:43.760Z"
   },
   {
    "duration": 23,
    "start_time": "2025-02-24T11:19:43.803Z"
   },
   {
    "duration": 6,
    "start_time": "2025-02-24T11:19:43.829Z"
   },
   {
    "duration": 193,
    "start_time": "2025-02-24T11:19:43.839Z"
   },
   {
    "duration": 29,
    "start_time": "2025-02-24T11:19:44.034Z"
   },
   {
    "duration": 13,
    "start_time": "2025-02-24T11:19:44.065Z"
   },
   {
    "duration": 181,
    "start_time": "2025-02-24T11:19:44.080Z"
   },
   {
    "duration": 64,
    "start_time": "2025-02-24T11:23:14.464Z"
   },
   {
    "duration": 154,
    "start_time": "2025-02-24T11:24:45.628Z"
   },
   {
    "duration": 1187,
    "start_time": "2025-02-24T11:24:51.890Z"
   },
   {
    "duration": 2444,
    "start_time": "2025-02-24T11:24:53.081Z"
   },
   {
    "duration": 236,
    "start_time": "2025-02-24T11:24:55.527Z"
   },
   {
    "duration": 3,
    "start_time": "2025-02-24T11:24:55.765Z"
   },
   {
    "duration": 2276,
    "start_time": "2025-02-24T11:24:55.770Z"
   },
   {
    "duration": 3,
    "start_time": "2025-02-24T11:24:58.048Z"
   },
   {
    "duration": 6,
    "start_time": "2025-02-24T11:24:58.057Z"
   },
   {
    "duration": 4,
    "start_time": "2025-02-24T11:24:58.064Z"
   },
   {
    "duration": 7,
    "start_time": "2025-02-24T11:24:58.069Z"
   },
   {
    "duration": 3,
    "start_time": "2025-02-24T11:24:58.079Z"
   },
   {
    "duration": 12,
    "start_time": "2025-02-24T11:24:58.084Z"
   },
   {
    "duration": 279,
    "start_time": "2025-02-24T11:24:58.098Z"
   },
   {
    "duration": 245,
    "start_time": "2025-02-24T11:24:58.379Z"
   },
   {
    "duration": 9,
    "start_time": "2025-02-24T11:24:58.625Z"
   },
   {
    "duration": 155,
    "start_time": "2025-02-24T11:24:58.636Z"
   },
   {
    "duration": 13,
    "start_time": "2025-02-24T11:24:58.792Z"
   },
   {
    "duration": 21,
    "start_time": "2025-02-24T11:24:58.807Z"
   },
   {
    "duration": 5,
    "start_time": "2025-02-24T11:24:58.830Z"
   },
   {
    "duration": 206,
    "start_time": "2025-02-24T11:24:58.859Z"
   },
   {
    "duration": 11,
    "start_time": "2025-02-24T11:24:59.067Z"
   },
   {
    "duration": 448,
    "start_time": "2025-02-24T11:24:59.080Z"
   },
   {
    "duration": 111,
    "start_time": "2025-02-24T11:24:59.530Z"
   },
   {
    "duration": 128,
    "start_time": "2025-02-24T11:24:59.642Z"
   },
   {
    "duration": 56,
    "start_time": "2025-02-24T11:24:59.772Z"
   },
   {
    "duration": 32,
    "start_time": "2025-02-24T11:24:59.829Z"
   },
   {
    "duration": 88,
    "start_time": "2025-02-24T11:24:59.863Z"
   },
   {
    "duration": 7,
    "start_time": "2025-02-24T11:24:59.953Z"
   },
   {
    "duration": 124,
    "start_time": "2025-02-24T11:24:59.963Z"
   },
   {
    "duration": 20,
    "start_time": "2025-02-24T11:25:00.089Z"
   },
   {
    "duration": 34,
    "start_time": "2025-02-24T11:25:00.111Z"
   },
   {
    "duration": 160,
    "start_time": "2025-02-24T11:25:00.146Z"
   },
   {
    "duration": 1166,
    "start_time": "2025-02-24T12:15:45.180Z"
   },
   {
    "duration": 2406,
    "start_time": "2025-02-24T12:15:46.348Z"
   },
   {
    "duration": 236,
    "start_time": "2025-02-24T12:15:48.756Z"
   },
   {
    "duration": 4,
    "start_time": "2025-02-24T12:15:48.994Z"
   },
   {
    "duration": 2353,
    "start_time": "2025-02-24T12:15:49.000Z"
   },
   {
    "duration": 3,
    "start_time": "2025-02-24T12:15:51.355Z"
   },
   {
    "duration": 35,
    "start_time": "2025-02-24T12:15:51.359Z"
   },
   {
    "duration": 3,
    "start_time": "2025-02-24T12:15:51.396Z"
   },
   {
    "duration": 6,
    "start_time": "2025-02-24T12:15:51.400Z"
   },
   {
    "duration": 105,
    "start_time": "2025-02-24T12:15:51.409Z"
   },
   {
    "duration": 5,
    "start_time": "2025-02-24T12:15:51.516Z"
   },
   {
    "duration": 255,
    "start_time": "2025-02-24T12:15:51.522Z"
   },
   {
    "duration": 189,
    "start_time": "2025-02-24T12:15:51.779Z"
   },
   {
    "duration": 8,
    "start_time": "2025-02-24T12:15:51.970Z"
   },
   {
    "duration": 147,
    "start_time": "2025-02-24T12:15:51.979Z"
   },
   {
    "duration": 12,
    "start_time": "2025-02-24T12:15:52.128Z"
   },
   {
    "duration": 35,
    "start_time": "2025-02-24T12:15:52.142Z"
   },
   {
    "duration": 6,
    "start_time": "2025-02-24T12:15:52.179Z"
   },
   {
    "duration": 213,
    "start_time": "2025-02-24T12:15:52.187Z"
   },
   {
    "duration": 11,
    "start_time": "2025-02-24T12:15:52.402Z"
   },
   {
    "duration": 446,
    "start_time": "2025-02-24T12:15:52.414Z"
   },
   {
    "duration": 110,
    "start_time": "2025-02-24T12:15:52.862Z"
   },
   {
    "duration": 119,
    "start_time": "2025-02-24T12:15:52.973Z"
   },
   {
    "duration": 65,
    "start_time": "2025-02-24T12:15:53.093Z"
   },
   {
    "duration": 25,
    "start_time": "2025-02-24T12:15:53.159Z"
   },
   {
    "duration": 27,
    "start_time": "2025-02-24T12:15:53.185Z"
   },
   {
    "duration": 7,
    "start_time": "2025-02-24T12:15:53.213Z"
   },
   {
    "duration": 150,
    "start_time": "2025-02-24T12:15:53.223Z"
   },
   {
    "duration": 21,
    "start_time": "2025-02-24T12:15:53.374Z"
   },
   {
    "duration": 18,
    "start_time": "2025-02-24T12:15:53.396Z"
   },
   {
    "duration": 213,
    "start_time": "2025-02-24T12:15:53.415Z"
   },
   {
    "duration": 20,
    "start_time": "2025-02-24T12:17:26.775Z"
   },
   {
    "duration": 13,
    "start_time": "2025-02-24T12:17:30.476Z"
   },
   {
    "duration": 158,
    "start_time": "2025-02-24T12:17:33.076Z"
   },
   {
    "duration": 1187,
    "start_time": "2025-02-24T12:18:54.795Z"
   },
   {
    "duration": 2476,
    "start_time": "2025-02-24T12:18:55.984Z"
   },
   {
    "duration": 232,
    "start_time": "2025-02-24T12:18:58.462Z"
   },
   {
    "duration": 2,
    "start_time": "2025-02-24T12:18:58.696Z"
   },
   {
    "duration": 2226,
    "start_time": "2025-02-24T12:18:58.700Z"
   },
   {
    "duration": 3,
    "start_time": "2025-02-24T12:19:00.927Z"
   },
   {
    "duration": 12,
    "start_time": "2025-02-24T12:19:00.932Z"
   },
   {
    "duration": 13,
    "start_time": "2025-02-24T12:19:00.945Z"
   },
   {
    "duration": 7,
    "start_time": "2025-02-24T12:19:00.959Z"
   },
   {
    "duration": 8,
    "start_time": "2025-02-24T12:19:00.969Z"
   },
   {
    "duration": 4,
    "start_time": "2025-02-24T12:19:00.979Z"
   },
   {
    "duration": 245,
    "start_time": "2025-02-24T12:19:00.984Z"
   },
   {
    "duration": 218,
    "start_time": "2025-02-24T12:19:01.230Z"
   },
   {
    "duration": 14,
    "start_time": "2025-02-24T12:19:01.449Z"
   },
   {
    "duration": 204,
    "start_time": "2025-02-24T12:19:01.465Z"
   },
   {
    "duration": 14,
    "start_time": "2025-02-24T12:19:01.670Z"
   },
   {
    "duration": 92,
    "start_time": "2025-02-24T12:19:01.685Z"
   },
   {
    "duration": 9,
    "start_time": "2025-02-24T12:19:01.779Z"
   },
   {
    "duration": 221,
    "start_time": "2025-02-24T12:19:01.790Z"
   },
   {
    "duration": 11,
    "start_time": "2025-02-24T12:19:02.013Z"
   },
   {
    "duration": 555,
    "start_time": "2025-02-24T12:19:02.026Z"
   },
   {
    "duration": 111,
    "start_time": "2025-02-24T12:19:02.582Z"
   },
   {
    "duration": 115,
    "start_time": "2025-02-24T12:19:02.695Z"
   },
   {
    "duration": 64,
    "start_time": "2025-02-24T12:19:02.812Z"
   },
   {
    "duration": 24,
    "start_time": "2025-02-24T12:19:02.877Z"
   },
   {
    "duration": 26,
    "start_time": "2025-02-24T12:19:02.903Z"
   },
   {
    "duration": 27,
    "start_time": "2025-02-24T12:19:02.931Z"
   },
   {
    "duration": 142,
    "start_time": "2025-02-24T12:19:02.961Z"
   },
   {
    "duration": 20,
    "start_time": "2025-02-24T12:19:03.104Z"
   },
   {
    "duration": 11,
    "start_time": "2025-02-24T12:19:03.125Z"
   },
   {
    "duration": 146,
    "start_time": "2025-02-24T12:19:03.159Z"
   },
   {
    "duration": 120,
    "start_time": "2025-02-24T12:28:49.097Z"
   },
   {
    "duration": 16,
    "start_time": "2025-02-24T12:28:56.234Z"
   },
   {
    "duration": 23,
    "start_time": "2025-02-24T12:29:51.136Z"
   },
   {
    "duration": 47,
    "start_time": "2025-02-24T12:31:38.424Z"
   },
   {
    "duration": 45,
    "start_time": "2025-02-24T12:35:23.955Z"
   },
   {
    "duration": 46,
    "start_time": "2025-02-24T12:35:48.915Z"
   },
   {
    "duration": 54,
    "start_time": "2025-02-24T12:35:58.652Z"
   },
   {
    "duration": 46,
    "start_time": "2025-02-24T12:36:07.615Z"
   },
   {
    "duration": 46,
    "start_time": "2025-02-24T12:36:11.728Z"
   },
   {
    "duration": 45,
    "start_time": "2025-02-24T12:36:19.440Z"
   },
   {
    "duration": 45,
    "start_time": "2025-02-24T12:36:28.579Z"
   },
   {
    "duration": 46,
    "start_time": "2025-02-24T12:36:35.565Z"
   },
   {
    "duration": 1440,
    "start_time": "2025-02-25T04:57:57.988Z"
   },
   {
    "duration": 4383,
    "start_time": "2025-02-25T04:57:59.430Z"
   },
   {
    "duration": 256,
    "start_time": "2025-02-25T04:58:03.816Z"
   },
   {
    "duration": 3,
    "start_time": "2025-02-25T04:58:04.073Z"
   },
   {
    "duration": 2851,
    "start_time": "2025-02-25T04:58:04.078Z"
   },
   {
    "duration": 4,
    "start_time": "2025-02-25T04:58:06.930Z"
   },
   {
    "duration": 20,
    "start_time": "2025-02-25T04:58:06.936Z"
   },
   {
    "duration": 5,
    "start_time": "2025-02-25T04:58:06.958Z"
   },
   {
    "duration": 63,
    "start_time": "2025-02-25T04:58:06.965Z"
   },
   {
    "duration": 14,
    "start_time": "2025-02-25T04:58:07.031Z"
   },
   {
    "duration": 5,
    "start_time": "2025-02-25T04:58:07.047Z"
   },
   {
    "duration": 333,
    "start_time": "2025-02-25T04:58:07.054Z"
   },
   {
    "duration": 254,
    "start_time": "2025-02-25T04:58:07.388Z"
   },
   {
    "duration": 10,
    "start_time": "2025-02-25T04:58:07.646Z"
   },
   {
    "duration": 231,
    "start_time": "2025-02-25T04:58:07.658Z"
   },
   {
    "duration": 13,
    "start_time": "2025-02-25T04:58:07.891Z"
   },
   {
    "duration": 62,
    "start_time": "2025-02-25T04:58:07.906Z"
   },
   {
    "duration": 7,
    "start_time": "2025-02-25T04:58:07.970Z"
   },
   {
    "duration": 230,
    "start_time": "2025-02-25T04:58:07.978Z"
   },
   {
    "duration": 12,
    "start_time": "2025-02-25T04:58:08.210Z"
   },
   {
    "duration": 568,
    "start_time": "2025-02-25T04:58:08.224Z"
   },
   {
    "duration": 131,
    "start_time": "2025-02-25T04:58:08.794Z"
   },
   {
    "duration": 133,
    "start_time": "2025-02-25T04:58:08.927Z"
   },
   {
    "duration": 60,
    "start_time": "2025-02-25T04:58:09.061Z"
   },
   {
    "duration": 88,
    "start_time": "2025-02-25T04:58:09.122Z"
   },
   {
    "duration": 61,
    "start_time": "2025-02-25T04:58:09.212Z"
   },
   {
    "duration": 8,
    "start_time": "2025-02-25T04:58:09.276Z"
   },
   {
    "duration": 153,
    "start_time": "2025-02-25T04:58:09.286Z"
   },
   {
    "duration": 29,
    "start_time": "2025-02-25T04:58:09.442Z"
   },
   {
    "duration": 44,
    "start_time": "2025-02-25T04:58:09.472Z"
   },
   {
    "duration": 192,
    "start_time": "2025-02-25T04:58:09.518Z"
   },
   {
    "duration": 59,
    "start_time": "2025-02-25T04:58:09.712Z"
   },
   {
    "duration": 22,
    "start_time": "2025-02-25T05:11:50.352Z"
   },
   {
    "duration": 720,
    "start_time": "2025-02-25T05:13:08.019Z"
   },
   {
    "duration": 1260,
    "start_time": "2025-02-25T05:13:59.889Z"
   },
   {
    "duration": 2747,
    "start_time": "2025-02-25T05:14:01.151Z"
   },
   {
    "duration": 256,
    "start_time": "2025-02-25T05:14:03.900Z"
   },
   {
    "duration": 4,
    "start_time": "2025-02-25T05:14:04.160Z"
   },
   {
    "duration": 2754,
    "start_time": "2025-02-25T05:14:04.166Z"
   },
   {
    "duration": 3,
    "start_time": "2025-02-25T05:14:06.922Z"
   },
   {
    "duration": 160,
    "start_time": "2025-02-25T05:14:06.926Z"
   },
   {
    "duration": 46,
    "start_time": "2025-02-25T05:14:07.088Z"
   },
   {
    "duration": 25,
    "start_time": "2025-02-25T05:14:07.136Z"
   },
   {
    "duration": 112,
    "start_time": "2025-02-25T05:14:07.164Z"
   },
   {
    "duration": 22,
    "start_time": "2025-02-25T05:14:07.277Z"
   },
   {
    "duration": 309,
    "start_time": "2025-02-25T05:14:07.301Z"
   },
   {
    "duration": 230,
    "start_time": "2025-02-25T05:14:07.612Z"
   },
   {
    "duration": 15,
    "start_time": "2025-02-25T05:14:07.844Z"
   },
   {
    "duration": 282,
    "start_time": "2025-02-25T05:14:07.861Z"
   },
   {
    "duration": 14,
    "start_time": "2025-02-25T05:14:08.145Z"
   },
   {
    "duration": 54,
    "start_time": "2025-02-25T05:14:08.161Z"
   },
   {
    "duration": 6,
    "start_time": "2025-02-25T05:14:08.217Z"
   },
   {
    "duration": 230,
    "start_time": "2025-02-25T05:14:08.225Z"
   },
   {
    "duration": 12,
    "start_time": "2025-02-25T05:14:08.457Z"
   },
   {
    "duration": 534,
    "start_time": "2025-02-25T05:14:08.470Z"
   },
   {
    "duration": 140,
    "start_time": "2025-02-25T05:14:09.006Z"
   },
   {
    "duration": 248,
    "start_time": "2025-02-25T05:14:09.148Z"
   },
   {
    "duration": 68,
    "start_time": "2025-02-25T05:14:09.397Z"
   },
   {
    "duration": 27,
    "start_time": "2025-02-25T05:14:09.467Z"
   },
   {
    "duration": 36,
    "start_time": "2025-02-25T05:14:09.496Z"
   },
   {
    "duration": 31,
    "start_time": "2025-02-25T05:14:09.534Z"
   },
   {
    "duration": 177,
    "start_time": "2025-02-25T05:14:09.570Z"
   },
   {
    "duration": 23,
    "start_time": "2025-02-25T05:14:09.755Z"
   },
   {
    "duration": 13,
    "start_time": "2025-02-25T05:14:09.780Z"
   },
   {
    "duration": 174,
    "start_time": "2025-02-25T05:14:09.795Z"
   },
   {
    "duration": 49,
    "start_time": "2025-02-25T05:14:09.971Z"
   },
   {
    "duration": 708,
    "start_time": "2025-02-25T05:14:10.022Z"
   },
   {
    "duration": 21,
    "start_time": "2025-02-25T05:14:36.924Z"
   },
   {
    "duration": 69,
    "start_time": "2025-02-25T05:18:16.575Z"
   },
   {
    "duration": 168,
    "start_time": "2025-02-25T05:19:23.699Z"
   },
   {
    "duration": 117,
    "start_time": "2025-02-25T05:21:10.913Z"
   },
   {
    "duration": 162,
    "start_time": "2025-02-25T05:21:34.712Z"
   },
   {
    "duration": 174,
    "start_time": "2025-02-25T05:21:42.016Z"
   },
   {
    "duration": 97,
    "start_time": "2025-02-25T05:22:39.564Z"
   },
   {
    "duration": 100,
    "start_time": "2025-02-25T05:23:29.903Z"
   },
   {
    "duration": 86,
    "start_time": "2025-02-25T05:23:36.465Z"
   },
   {
    "duration": 109,
    "start_time": "2025-02-25T05:23:44.887Z"
   },
   {
    "duration": 60,
    "start_time": "2025-02-25T05:24:49.532Z"
   },
   {
    "duration": 109,
    "start_time": "2025-02-25T05:24:52.653Z"
   },
   {
    "duration": 107,
    "start_time": "2025-02-25T05:25:01.606Z"
   },
   {
    "duration": 107,
    "start_time": "2025-02-25T05:25:05.514Z"
   },
   {
    "duration": 1255,
    "start_time": "2025-02-25T05:28:15.854Z"
   },
   {
    "duration": 2587,
    "start_time": "2025-02-25T05:28:17.111Z"
   },
   {
    "duration": 250,
    "start_time": "2025-02-25T05:28:19.700Z"
   },
   {
    "duration": 3,
    "start_time": "2025-02-25T05:28:19.954Z"
   },
   {
    "duration": 2512,
    "start_time": "2025-02-25T05:28:19.959Z"
   },
   {
    "duration": 3,
    "start_time": "2025-02-25T05:28:22.473Z"
   },
   {
    "duration": 29,
    "start_time": "2025-02-25T05:28:22.477Z"
   },
   {
    "duration": 37,
    "start_time": "2025-02-25T05:28:22.507Z"
   },
   {
    "duration": 15,
    "start_time": "2025-02-25T05:28:22.546Z"
   },
   {
    "duration": 10,
    "start_time": "2025-02-25T05:28:22.563Z"
   },
   {
    "duration": 33,
    "start_time": "2025-02-25T05:28:22.575Z"
   },
   {
    "duration": 256,
    "start_time": "2025-02-25T05:28:22.610Z"
   },
   {
    "duration": 205,
    "start_time": "2025-02-25T05:28:22.868Z"
   },
   {
    "duration": 14,
    "start_time": "2025-02-25T05:28:23.075Z"
   },
   {
    "duration": 160,
    "start_time": "2025-02-25T05:28:23.091Z"
   },
   {
    "duration": 46,
    "start_time": "2025-02-25T05:28:23.253Z"
   },
   {
    "duration": 86,
    "start_time": "2025-02-25T05:28:23.301Z"
   },
   {
    "duration": 11,
    "start_time": "2025-02-25T05:28:23.389Z"
   },
   {
    "duration": 283,
    "start_time": "2025-02-25T05:28:23.402Z"
   },
   {
    "duration": 11,
    "start_time": "2025-02-25T05:28:23.687Z"
   },
   {
    "duration": 502,
    "start_time": "2025-02-25T05:28:23.700Z"
   },
   {
    "duration": 141,
    "start_time": "2025-02-25T05:28:24.204Z"
   },
   {
    "duration": 130,
    "start_time": "2025-02-25T05:28:24.354Z"
   },
   {
    "duration": 58,
    "start_time": "2025-02-25T05:28:24.485Z"
   },
   {
    "duration": 36,
    "start_time": "2025-02-25T05:28:24.544Z"
   },
   {
    "duration": 57,
    "start_time": "2025-02-25T05:28:24.582Z"
   },
   {
    "duration": 20,
    "start_time": "2025-02-25T05:28:24.640Z"
   },
   {
    "duration": 159,
    "start_time": "2025-02-25T05:28:24.663Z"
   },
   {
    "duration": 32,
    "start_time": "2025-02-25T05:28:24.824Z"
   },
   {
    "duration": 30,
    "start_time": "2025-02-25T05:28:24.858Z"
   },
   {
    "duration": 150,
    "start_time": "2025-02-25T05:28:24.890Z"
   },
   {
    "duration": 51,
    "start_time": "2025-02-25T05:28:25.042Z"
   },
   {
    "duration": 232,
    "start_time": "2025-02-25T05:28:25.095Z"
   },
   {
    "duration": 61,
    "start_time": "2025-02-25T05:29:09.375Z"
   },
   {
    "duration": 95,
    "start_time": "2025-02-25T05:29:12.399Z"
   },
   {
    "duration": 95,
    "start_time": "2025-02-25T05:29:22.096Z"
   },
   {
    "duration": 97,
    "start_time": "2025-02-25T05:30:01.236Z"
   },
   {
    "duration": 101,
    "start_time": "2025-02-25T05:30:12.925Z"
   },
   {
    "duration": 94,
    "start_time": "2025-02-25T05:30:18.426Z"
   },
   {
    "duration": 62,
    "start_time": "2025-02-25T05:30:43.373Z"
   },
   {
    "duration": 78,
    "start_time": "2025-02-25T05:30:48.050Z"
   },
   {
    "duration": 72,
    "start_time": "2025-02-25T05:30:51.125Z"
   },
   {
    "duration": 67,
    "start_time": "2025-02-25T05:30:56.161Z"
   },
   {
    "duration": 1298,
    "start_time": "2025-02-25T05:31:34.711Z"
   },
   {
    "duration": 2642,
    "start_time": "2025-02-25T05:31:36.011Z"
   },
   {
    "duration": 263,
    "start_time": "2025-02-25T05:31:38.657Z"
   },
   {
    "duration": 3,
    "start_time": "2025-02-25T05:31:38.921Z"
   },
   {
    "duration": 2878,
    "start_time": "2025-02-25T05:31:38.927Z"
   },
   {
    "duration": 3,
    "start_time": "2025-02-25T05:31:41.806Z"
   },
   {
    "duration": 12,
    "start_time": "2025-02-25T05:31:41.810Z"
   },
   {
    "duration": 9,
    "start_time": "2025-02-25T05:31:41.824Z"
   },
   {
    "duration": 21,
    "start_time": "2025-02-25T05:31:41.834Z"
   },
   {
    "duration": 4,
    "start_time": "2025-02-25T05:31:41.858Z"
   },
   {
    "duration": 5,
    "start_time": "2025-02-25T05:31:41.863Z"
   },
   {
    "duration": 250,
    "start_time": "2025-02-25T05:31:41.869Z"
   },
   {
    "duration": 200,
    "start_time": "2025-02-25T05:31:42.121Z"
   },
   {
    "duration": 8,
    "start_time": "2025-02-25T05:31:42.324Z"
   },
   {
    "duration": 159,
    "start_time": "2025-02-25T05:31:42.334Z"
   },
   {
    "duration": 46,
    "start_time": "2025-02-25T05:31:42.495Z"
   },
   {
    "duration": 33,
    "start_time": "2025-02-25T05:31:42.543Z"
   },
   {
    "duration": 6,
    "start_time": "2025-02-25T05:31:42.577Z"
   },
   {
    "duration": 236,
    "start_time": "2025-02-25T05:31:42.585Z"
   },
   {
    "duration": 12,
    "start_time": "2025-02-25T05:31:42.822Z"
   },
   {
    "duration": 645,
    "start_time": "2025-02-25T05:31:42.836Z"
   },
   {
    "duration": 135,
    "start_time": "2025-02-25T05:31:43.483Z"
   },
   {
    "duration": 128,
    "start_time": "2025-02-25T05:31:43.619Z"
   },
   {
    "duration": 63,
    "start_time": "2025-02-25T05:31:43.748Z"
   },
   {
    "duration": 44,
    "start_time": "2025-02-25T05:31:43.812Z"
   },
   {
    "duration": 29,
    "start_time": "2025-02-25T05:31:43.858Z"
   },
   {
    "duration": 8,
    "start_time": "2025-02-25T05:31:43.888Z"
   },
   {
    "duration": 176,
    "start_time": "2025-02-25T05:31:43.897Z"
   },
   {
    "duration": 21,
    "start_time": "2025-02-25T05:31:44.075Z"
   },
   {
    "duration": 39,
    "start_time": "2025-02-25T05:31:44.098Z"
   },
   {
    "duration": 143,
    "start_time": "2025-02-25T05:31:44.139Z"
   },
   {
    "duration": 48,
    "start_time": "2025-02-25T05:31:44.284Z"
   },
   {
    "duration": 203,
    "start_time": "2025-02-25T05:31:44.333Z"
   },
   {
    "duration": 65,
    "start_time": "2025-02-25T05:33:05.949Z"
   },
   {
    "duration": 63,
    "start_time": "2025-02-25T05:33:16.997Z"
   },
   {
    "duration": 60,
    "start_time": "2025-02-25T05:33:25.698Z"
   },
   {
    "duration": 112,
    "start_time": "2025-02-25T05:33:31.447Z"
   },
   {
    "duration": 60,
    "start_time": "2025-02-25T05:33:35.723Z"
   },
   {
    "duration": 56,
    "start_time": "2025-02-25T05:33:39.298Z"
   },
   {
    "duration": 59,
    "start_time": "2025-02-25T05:33:44.022Z"
   },
   {
    "duration": 62,
    "start_time": "2025-02-25T05:33:53.823Z"
   },
   {
    "duration": 54,
    "start_time": "2025-02-25T05:35:10.639Z"
   },
   {
    "duration": 80,
    "start_time": "2025-02-25T05:35:15.424Z"
   },
   {
    "duration": 56,
    "start_time": "2025-02-25T05:35:37.001Z"
   },
   {
    "duration": 87,
    "start_time": "2025-02-25T05:35:49.023Z"
   },
   {
    "duration": 74,
    "start_time": "2025-02-25T05:35:53.749Z"
   },
   {
    "duration": 130,
    "start_time": "2025-02-25T05:36:20.161Z"
   },
   {
    "duration": 1249,
    "start_time": "2025-02-25T05:36:28.660Z"
   },
   {
    "duration": 2658,
    "start_time": "2025-02-25T05:36:29.912Z"
   },
   {
    "duration": 266,
    "start_time": "2025-02-25T05:36:32.572Z"
   },
   {
    "duration": 3,
    "start_time": "2025-02-25T05:36:32.840Z"
   },
   {
    "duration": 2420,
    "start_time": "2025-02-25T05:36:32.854Z"
   },
   {
    "duration": 3,
    "start_time": "2025-02-25T05:36:35.275Z"
   },
   {
    "duration": 128,
    "start_time": "2025-02-25T05:36:35.280Z"
   },
   {
    "duration": 15,
    "start_time": "2025-02-25T05:36:35.410Z"
   },
   {
    "duration": 36,
    "start_time": "2025-02-25T05:36:35.427Z"
   },
   {
    "duration": 22,
    "start_time": "2025-02-25T05:36:35.465Z"
   },
   {
    "duration": 23,
    "start_time": "2025-02-25T05:36:35.489Z"
   },
   {
    "duration": 259,
    "start_time": "2025-02-25T05:36:35.515Z"
   },
   {
    "duration": 216,
    "start_time": "2025-02-25T05:36:35.776Z"
   },
   {
    "duration": 9,
    "start_time": "2025-02-25T05:36:35.996Z"
   },
   {
    "duration": 239,
    "start_time": "2025-02-25T05:36:36.007Z"
   },
   {
    "duration": 35,
    "start_time": "2025-02-25T05:36:36.248Z"
   },
   {
    "duration": 26,
    "start_time": "2025-02-25T05:36:36.285Z"
   },
   {
    "duration": 30,
    "start_time": "2025-02-25T05:36:36.313Z"
   },
   {
    "duration": 328,
    "start_time": "2025-02-25T05:36:36.345Z"
   },
   {
    "duration": 12,
    "start_time": "2025-02-25T05:36:36.675Z"
   },
   {
    "duration": 533,
    "start_time": "2025-02-25T05:36:36.689Z"
   },
   {
    "duration": 134,
    "start_time": "2025-02-25T05:36:37.224Z"
   },
   {
    "duration": 125,
    "start_time": "2025-02-25T05:36:37.359Z"
   },
   {
    "duration": 95,
    "start_time": "2025-02-25T05:36:37.486Z"
   },
   {
    "duration": 185,
    "start_time": "2025-02-25T05:36:37.583Z"
   },
   {
    "duration": 53,
    "start_time": "2025-02-25T05:36:37.770Z"
   },
   {
    "duration": 7,
    "start_time": "2025-02-25T05:36:37.825Z"
   },
   {
    "duration": 133,
    "start_time": "2025-02-25T05:36:37.834Z"
   },
   {
    "duration": 21,
    "start_time": "2025-02-25T05:36:37.968Z"
   },
   {
    "duration": 12,
    "start_time": "2025-02-25T05:36:37.990Z"
   },
   {
    "duration": 259,
    "start_time": "2025-02-25T05:36:38.004Z"
   },
   {
    "duration": 47,
    "start_time": "2025-02-25T05:36:38.265Z"
   },
   {
    "duration": 273,
    "start_time": "2025-02-25T05:36:38.314Z"
   },
   {
    "duration": 131,
    "start_time": "2025-02-25T05:38:08.863Z"
   },
   {
    "duration": 138,
    "start_time": "2025-02-25T05:38:12.519Z"
   },
   {
    "duration": 71,
    "start_time": "2025-02-25T05:38:20.161Z"
   },
   {
    "duration": 64,
    "start_time": "2025-02-25T05:38:34.061Z"
   },
   {
    "duration": 29,
    "start_time": "2025-02-25T05:38:50.023Z"
   },
   {
    "duration": 55,
    "start_time": "2025-02-25T05:38:52.462Z"
   },
   {
    "duration": 114,
    "start_time": "2025-02-25T05:39:26.673Z"
   },
   {
    "duration": 61,
    "start_time": "2025-02-25T05:40:23.088Z"
   },
   {
    "duration": 63,
    "start_time": "2025-02-25T05:40:32.712Z"
   },
   {
    "duration": 53,
    "start_time": "2025-02-25T05:40:37.599Z"
   },
   {
    "duration": 56,
    "start_time": "2025-02-25T05:41:06.413Z"
   },
   {
    "duration": 67,
    "start_time": "2025-02-25T05:41:09.275Z"
   },
   {
    "duration": 61,
    "start_time": "2025-02-25T05:42:27.949Z"
   },
   {
    "duration": 1286,
    "start_time": "2025-02-25T05:42:35.561Z"
   },
   {
    "duration": 2657,
    "start_time": "2025-02-25T05:42:36.849Z"
   },
   {
    "duration": 250,
    "start_time": "2025-02-25T05:42:39.508Z"
   },
   {
    "duration": 3,
    "start_time": "2025-02-25T05:42:39.761Z"
   },
   {
    "duration": 2401,
    "start_time": "2025-02-25T05:42:39.766Z"
   },
   {
    "duration": 3,
    "start_time": "2025-02-25T05:42:42.169Z"
   },
   {
    "duration": 18,
    "start_time": "2025-02-25T05:42:42.174Z"
   },
   {
    "duration": 11,
    "start_time": "2025-02-25T05:42:42.194Z"
   },
   {
    "duration": 21,
    "start_time": "2025-02-25T05:42:42.207Z"
   },
   {
    "duration": 5,
    "start_time": "2025-02-25T05:42:42.230Z"
   },
   {
    "duration": 11,
    "start_time": "2025-02-25T05:42:42.237Z"
   },
   {
    "duration": 259,
    "start_time": "2025-02-25T05:42:42.250Z"
   },
   {
    "duration": 218,
    "start_time": "2025-02-25T05:42:42.511Z"
   },
   {
    "duration": 9,
    "start_time": "2025-02-25T05:42:42.731Z"
   },
   {
    "duration": 162,
    "start_time": "2025-02-25T05:42:42.755Z"
   },
   {
    "duration": 48,
    "start_time": "2025-02-25T05:42:42.919Z"
   },
   {
    "duration": 22,
    "start_time": "2025-02-25T05:42:42.968Z"
   },
   {
    "duration": 17,
    "start_time": "2025-02-25T05:42:42.992Z"
   },
   {
    "duration": 243,
    "start_time": "2025-02-25T05:42:43.011Z"
   },
   {
    "duration": 12,
    "start_time": "2025-02-25T05:42:43.256Z"
   },
   {
    "duration": 480,
    "start_time": "2025-02-25T05:42:43.270Z"
   },
   {
    "duration": 127,
    "start_time": "2025-02-25T05:42:43.755Z"
   },
   {
    "duration": 128,
    "start_time": "2025-02-25T05:42:43.883Z"
   },
   {
    "duration": 66,
    "start_time": "2025-02-25T05:42:44.012Z"
   },
   {
    "duration": 81,
    "start_time": "2025-02-25T05:42:44.080Z"
   },
   {
    "duration": 29,
    "start_time": "2025-02-25T05:42:44.163Z"
   },
   {
    "duration": 8,
    "start_time": "2025-02-25T05:42:44.194Z"
   },
   {
    "duration": 161,
    "start_time": "2025-02-25T05:42:44.205Z"
   },
   {
    "duration": 22,
    "start_time": "2025-02-25T05:42:44.369Z"
   },
   {
    "duration": 115,
    "start_time": "2025-02-25T05:42:44.393Z"
   },
   {
    "duration": 156,
    "start_time": "2025-02-25T05:42:44.509Z"
   },
   {
    "duration": 57,
    "start_time": "2025-02-25T05:42:44.667Z"
   },
   {
    "duration": 228,
    "start_time": "2025-02-25T05:42:44.726Z"
   },
   {
    "duration": 67,
    "start_time": "2025-02-25T05:42:53.621Z"
   },
   {
    "duration": 67,
    "start_time": "2025-02-25T05:43:13.646Z"
   },
   {
    "duration": 65,
    "start_time": "2025-02-25T05:43:14.459Z"
   },
   {
    "duration": 68,
    "start_time": "2025-02-25T05:43:14.783Z"
   },
   {
    "duration": 0,
    "start_time": "2025-02-25T05:43:15.607Z"
   },
   {
    "duration": 62,
    "start_time": "2025-02-25T05:43:15.696Z"
   },
   {
    "duration": 1232,
    "start_time": "2025-02-25T05:43:20.766Z"
   },
   {
    "duration": 2701,
    "start_time": "2025-02-25T05:43:22.000Z"
   },
   {
    "duration": 295,
    "start_time": "2025-02-25T05:43:24.704Z"
   },
   {
    "duration": 3,
    "start_time": "2025-02-25T05:43:25.001Z"
   },
   {
    "duration": 2760,
    "start_time": "2025-02-25T05:43:25.006Z"
   },
   {
    "duration": 3,
    "start_time": "2025-02-25T05:43:27.768Z"
   },
   {
    "duration": 10,
    "start_time": "2025-02-25T05:43:27.772Z"
   },
   {
    "duration": 4,
    "start_time": "2025-02-25T05:43:27.784Z"
   },
   {
    "duration": 12,
    "start_time": "2025-02-25T05:43:27.790Z"
   },
   {
    "duration": 6,
    "start_time": "2025-02-25T05:43:27.804Z"
   },
   {
    "duration": 20,
    "start_time": "2025-02-25T05:43:27.812Z"
   },
   {
    "duration": 273,
    "start_time": "2025-02-25T05:43:27.834Z"
   },
   {
    "duration": 222,
    "start_time": "2025-02-25T05:43:28.109Z"
   },
   {
    "duration": 10,
    "start_time": "2025-02-25T05:43:28.334Z"
   },
   {
    "duration": 163,
    "start_time": "2025-02-25T05:43:28.345Z"
   },
   {
    "duration": 56,
    "start_time": "2025-02-25T05:43:28.510Z"
   },
   {
    "duration": 23,
    "start_time": "2025-02-25T05:43:28.568Z"
   },
   {
    "duration": 9,
    "start_time": "2025-02-25T05:43:28.593Z"
   },
   {
    "duration": 233,
    "start_time": "2025-02-25T05:43:28.604Z"
   },
   {
    "duration": 22,
    "start_time": "2025-02-25T05:43:28.838Z"
   },
   {
    "duration": 503,
    "start_time": "2025-02-25T05:43:28.862Z"
   },
   {
    "duration": 133,
    "start_time": "2025-02-25T05:43:29.368Z"
   },
   {
    "duration": 126,
    "start_time": "2025-02-25T05:43:29.504Z"
   },
   {
    "duration": 68,
    "start_time": "2025-02-25T05:43:29.632Z"
   },
   {
    "duration": 26,
    "start_time": "2025-02-25T05:43:29.702Z"
   },
   {
    "duration": 67,
    "start_time": "2025-02-25T05:43:29.730Z"
   },
   {
    "duration": 15,
    "start_time": "2025-02-25T05:43:29.799Z"
   },
   {
    "duration": 178,
    "start_time": "2025-02-25T05:43:29.815Z"
   },
   {
    "duration": 23,
    "start_time": "2025-02-25T05:43:29.995Z"
   },
   {
    "duration": 145,
    "start_time": "2025-02-25T05:43:30.020Z"
   },
   {
    "duration": 178,
    "start_time": "2025-02-25T05:43:30.167Z"
   },
   {
    "duration": 54,
    "start_time": "2025-02-25T05:43:30.347Z"
   },
   {
    "duration": 305,
    "start_time": "2025-02-25T05:43:30.403Z"
   },
   {
    "duration": 171,
    "start_time": "2025-02-25T05:43:37.983Z"
   },
   {
    "duration": 69,
    "start_time": "2025-02-25T05:43:44.958Z"
   },
   {
    "duration": 69,
    "start_time": "2025-02-25T05:44:11.434Z"
   },
   {
    "duration": 104,
    "start_time": "2025-02-25T05:51:06.718Z"
   },
   {
    "duration": 62,
    "start_time": "2025-02-25T05:51:11.968Z"
   },
   {
    "duration": 86,
    "start_time": "2025-02-25T05:51:15.696Z"
   },
   {
    "duration": 16,
    "start_time": "2025-02-25T05:55:50.576Z"
   },
   {
    "duration": 15,
    "start_time": "2025-02-25T05:56:08.799Z"
   },
   {
    "duration": 1679,
    "start_time": "2025-02-25T05:57:01.584Z"
   },
   {
    "duration": 1271,
    "start_time": "2025-02-25T05:57:16.811Z"
   },
   {
    "duration": 2594,
    "start_time": "2025-02-25T05:57:18.084Z"
   },
   {
    "duration": 255,
    "start_time": "2025-02-25T05:57:20.680Z"
   },
   {
    "duration": 3,
    "start_time": "2025-02-25T05:57:20.937Z"
   },
   {
    "duration": 2882,
    "start_time": "2025-02-25T05:57:20.942Z"
   },
   {
    "duration": 3,
    "start_time": "2025-02-25T05:57:23.826Z"
   },
   {
    "duration": 19,
    "start_time": "2025-02-25T05:57:23.830Z"
   },
   {
    "duration": 1376,
    "start_time": "2025-02-25T05:57:23.854Z"
   },
   {
    "duration": 0,
    "start_time": "2025-02-25T05:57:25.232Z"
   },
   {
    "duration": 0,
    "start_time": "2025-02-25T05:57:25.235Z"
   },
   {
    "duration": 0,
    "start_time": "2025-02-25T05:57:25.236Z"
   },
   {
    "duration": 0,
    "start_time": "2025-02-25T05:57:25.237Z"
   },
   {
    "duration": 0,
    "start_time": "2025-02-25T05:57:25.239Z"
   },
   {
    "duration": 0,
    "start_time": "2025-02-25T05:57:25.240Z"
   },
   {
    "duration": 0,
    "start_time": "2025-02-25T05:57:25.242Z"
   },
   {
    "duration": 0,
    "start_time": "2025-02-25T05:57:25.243Z"
   },
   {
    "duration": 0,
    "start_time": "2025-02-25T05:57:25.244Z"
   },
   {
    "duration": 0,
    "start_time": "2025-02-25T05:57:25.245Z"
   },
   {
    "duration": 0,
    "start_time": "2025-02-25T05:57:25.247Z"
   },
   {
    "duration": 0,
    "start_time": "2025-02-25T05:57:25.248Z"
   },
   {
    "duration": 0,
    "start_time": "2025-02-25T05:57:25.249Z"
   },
   {
    "duration": 0,
    "start_time": "2025-02-25T05:57:25.250Z"
   },
   {
    "duration": 0,
    "start_time": "2025-02-25T05:57:25.252Z"
   },
   {
    "duration": 0,
    "start_time": "2025-02-25T05:57:25.253Z"
   },
   {
    "duration": 0,
    "start_time": "2025-02-25T05:57:25.254Z"
   },
   {
    "duration": 0,
    "start_time": "2025-02-25T05:57:25.255Z"
   },
   {
    "duration": 0,
    "start_time": "2025-02-25T05:57:25.257Z"
   },
   {
    "duration": 0,
    "start_time": "2025-02-25T05:57:25.258Z"
   },
   {
    "duration": 0,
    "start_time": "2025-02-25T05:57:25.259Z"
   },
   {
    "duration": 0,
    "start_time": "2025-02-25T05:57:25.260Z"
   },
   {
    "duration": 0,
    "start_time": "2025-02-25T05:57:25.262Z"
   },
   {
    "duration": 0,
    "start_time": "2025-02-25T05:57:25.263Z"
   },
   {
    "duration": 0,
    "start_time": "2025-02-25T05:57:25.265Z"
   },
   {
    "duration": 0,
    "start_time": "2025-02-25T05:57:25.266Z"
   },
   {
    "duration": 33,
    "start_time": "2025-02-25T05:59:05.583Z"
   },
   {
    "duration": 1186,
    "start_time": "2025-02-25T05:59:13.101Z"
   },
   {
    "duration": 2554,
    "start_time": "2025-02-25T05:59:14.289Z"
   },
   {
    "duration": 243,
    "start_time": "2025-02-25T05:59:16.845Z"
   },
   {
    "duration": 2,
    "start_time": "2025-02-25T05:59:17.091Z"
   },
   {
    "duration": 2800,
    "start_time": "2025-02-25T05:59:17.095Z"
   },
   {
    "duration": 3,
    "start_time": "2025-02-25T05:59:19.897Z"
   },
   {
    "duration": 18,
    "start_time": "2025-02-25T05:59:19.901Z"
   },
   {
    "duration": 180,
    "start_time": "2025-02-25T05:59:19.921Z"
   },
   {
    "duration": 0,
    "start_time": "2025-02-25T05:59:20.104Z"
   },
   {
    "duration": 0,
    "start_time": "2025-02-25T05:59:20.105Z"
   },
   {
    "duration": 0,
    "start_time": "2025-02-25T05:59:20.106Z"
   },
   {
    "duration": 0,
    "start_time": "2025-02-25T05:59:20.107Z"
   },
   {
    "duration": 0,
    "start_time": "2025-02-25T05:59:20.108Z"
   },
   {
    "duration": 0,
    "start_time": "2025-02-25T05:59:20.109Z"
   },
   {
    "duration": 0,
    "start_time": "2025-02-25T05:59:20.110Z"
   },
   {
    "duration": 0,
    "start_time": "2025-02-25T05:59:20.111Z"
   },
   {
    "duration": 0,
    "start_time": "2025-02-25T05:59:20.112Z"
   },
   {
    "duration": 0,
    "start_time": "2025-02-25T05:59:20.113Z"
   },
   {
    "duration": 0,
    "start_time": "2025-02-25T05:59:20.114Z"
   },
   {
    "duration": 0,
    "start_time": "2025-02-25T05:59:20.115Z"
   },
   {
    "duration": 0,
    "start_time": "2025-02-25T05:59:20.116Z"
   },
   {
    "duration": 0,
    "start_time": "2025-02-25T05:59:20.117Z"
   },
   {
    "duration": 0,
    "start_time": "2025-02-25T05:59:20.118Z"
   },
   {
    "duration": 0,
    "start_time": "2025-02-25T05:59:20.119Z"
   },
   {
    "duration": 0,
    "start_time": "2025-02-25T05:59:20.121Z"
   },
   {
    "duration": 0,
    "start_time": "2025-02-25T05:59:20.122Z"
   },
   {
    "duration": 0,
    "start_time": "2025-02-25T05:59:20.157Z"
   },
   {
    "duration": 0,
    "start_time": "2025-02-25T05:59:20.158Z"
   },
   {
    "duration": 0,
    "start_time": "2025-02-25T05:59:20.159Z"
   },
   {
    "duration": 0,
    "start_time": "2025-02-25T05:59:20.160Z"
   },
   {
    "duration": 0,
    "start_time": "2025-02-25T05:59:20.161Z"
   },
   {
    "duration": 0,
    "start_time": "2025-02-25T05:59:20.166Z"
   },
   {
    "duration": 0,
    "start_time": "2025-02-25T05:59:20.167Z"
   },
   {
    "duration": 0,
    "start_time": "2025-02-25T05:59:20.169Z"
   },
   {
    "duration": 32,
    "start_time": "2025-02-25T05:59:44.375Z"
   },
   {
    "duration": 35,
    "start_time": "2025-02-25T06:04:16.413Z"
   },
   {
    "duration": 34,
    "start_time": "2025-02-25T06:04:32.233Z"
   },
   {
    "duration": 1351,
    "start_time": "2025-02-25T06:04:37.249Z"
   },
   {
    "duration": 2560,
    "start_time": "2025-02-25T06:04:38.602Z"
   },
   {
    "duration": 293,
    "start_time": "2025-02-25T06:04:41.164Z"
   },
   {
    "duration": 4,
    "start_time": "2025-02-25T06:04:41.459Z"
   },
   {
    "duration": 2710,
    "start_time": "2025-02-25T06:04:41.466Z"
   },
   {
    "duration": 3,
    "start_time": "2025-02-25T06:04:44.177Z"
   },
   {
    "duration": 53,
    "start_time": "2025-02-25T06:04:44.182Z"
   },
   {
    "duration": 137,
    "start_time": "2025-02-25T06:04:44.237Z"
   },
   {
    "duration": 0,
    "start_time": "2025-02-25T06:04:44.376Z"
   },
   {
    "duration": 0,
    "start_time": "2025-02-25T06:04:44.379Z"
   },
   {
    "duration": 0,
    "start_time": "2025-02-25T06:04:44.380Z"
   },
   {
    "duration": 0,
    "start_time": "2025-02-25T06:04:44.381Z"
   },
   {
    "duration": 0,
    "start_time": "2025-02-25T06:04:44.382Z"
   },
   {
    "duration": 0,
    "start_time": "2025-02-25T06:04:44.383Z"
   },
   {
    "duration": 0,
    "start_time": "2025-02-25T06:04:44.384Z"
   },
   {
    "duration": 0,
    "start_time": "2025-02-25T06:04:44.386Z"
   },
   {
    "duration": 0,
    "start_time": "2025-02-25T06:04:44.387Z"
   },
   {
    "duration": 0,
    "start_time": "2025-02-25T06:04:44.388Z"
   },
   {
    "duration": 0,
    "start_time": "2025-02-25T06:04:44.389Z"
   },
   {
    "duration": 0,
    "start_time": "2025-02-25T06:04:44.390Z"
   },
   {
    "duration": 0,
    "start_time": "2025-02-25T06:04:44.392Z"
   },
   {
    "duration": 0,
    "start_time": "2025-02-25T06:04:44.393Z"
   },
   {
    "duration": 0,
    "start_time": "2025-02-25T06:04:44.394Z"
   },
   {
    "duration": 0,
    "start_time": "2025-02-25T06:04:44.396Z"
   },
   {
    "duration": 0,
    "start_time": "2025-02-25T06:04:44.396Z"
   },
   {
    "duration": 0,
    "start_time": "2025-02-25T06:04:44.398Z"
   },
   {
    "duration": 0,
    "start_time": "2025-02-25T06:04:44.399Z"
   },
   {
    "duration": 0,
    "start_time": "2025-02-25T06:04:44.400Z"
   },
   {
    "duration": 0,
    "start_time": "2025-02-25T06:04:44.401Z"
   },
   {
    "duration": 0,
    "start_time": "2025-02-25T06:04:44.402Z"
   },
   {
    "duration": 0,
    "start_time": "2025-02-25T06:04:44.403Z"
   },
   {
    "duration": 0,
    "start_time": "2025-02-25T06:04:44.404Z"
   },
   {
    "duration": 0,
    "start_time": "2025-02-25T06:04:44.406Z"
   },
   {
    "duration": 0,
    "start_time": "2025-02-25T06:04:44.455Z"
   },
   {
    "duration": 27,
    "start_time": "2025-02-25T06:05:13.843Z"
   },
   {
    "duration": 3,
    "start_time": "2025-02-25T06:05:59.635Z"
   },
   {
    "duration": 8,
    "start_time": "2025-02-25T06:06:00.957Z"
   },
   {
    "duration": 3,
    "start_time": "2025-02-25T06:06:26.244Z"
   },
   {
    "duration": 19,
    "start_time": "2025-02-25T06:06:28.022Z"
   },
   {
    "duration": 5,
    "start_time": "2025-02-25T06:06:32.381Z"
   },
   {
    "duration": 6,
    "start_time": "2025-02-25T06:06:33.570Z"
   },
   {
    "duration": 1281,
    "start_time": "2025-02-25T06:06:45.628Z"
   },
   {
    "duration": 2577,
    "start_time": "2025-02-25T06:06:46.911Z"
   },
   {
    "duration": 294,
    "start_time": "2025-02-25T06:06:49.490Z"
   },
   {
    "duration": 2,
    "start_time": "2025-02-25T06:06:49.787Z"
   },
   {
    "duration": 2198,
    "start_time": "2025-02-25T06:06:49.791Z"
   },
   {
    "duration": 3,
    "start_time": "2025-02-25T06:06:51.990Z"
   },
   {
    "duration": 30,
    "start_time": "2025-02-25T06:06:51.994Z"
   },
   {
    "duration": 40,
    "start_time": "2025-02-25T06:06:52.026Z"
   },
   {
    "duration": 3,
    "start_time": "2025-02-25T06:06:52.068Z"
   },
   {
    "duration": 18,
    "start_time": "2025-02-25T06:06:52.074Z"
   },
   {
    "duration": 12,
    "start_time": "2025-02-25T06:06:52.094Z"
   },
   {
    "duration": 17,
    "start_time": "2025-02-25T06:06:52.108Z"
   },
   {
    "duration": 329,
    "start_time": "2025-02-25T06:06:52.127Z"
   },
   {
    "duration": 133,
    "start_time": "2025-02-25T06:06:52.458Z"
   },
   {
    "duration": 0,
    "start_time": "2025-02-25T06:06:52.593Z"
   },
   {
    "duration": 0,
    "start_time": "2025-02-25T06:06:52.594Z"
   },
   {
    "duration": 0,
    "start_time": "2025-02-25T06:06:52.596Z"
   },
   {
    "duration": 0,
    "start_time": "2025-02-25T06:06:52.600Z"
   },
   {
    "duration": 0,
    "start_time": "2025-02-25T06:06:52.602Z"
   },
   {
    "duration": 0,
    "start_time": "2025-02-25T06:06:52.604Z"
   },
   {
    "duration": 0,
    "start_time": "2025-02-25T06:06:52.606Z"
   },
   {
    "duration": 0,
    "start_time": "2025-02-25T06:06:52.607Z"
   },
   {
    "duration": 0,
    "start_time": "2025-02-25T06:06:52.609Z"
   },
   {
    "duration": 0,
    "start_time": "2025-02-25T06:06:52.611Z"
   },
   {
    "duration": 0,
    "start_time": "2025-02-25T06:06:52.612Z"
   },
   {
    "duration": 0,
    "start_time": "2025-02-25T06:06:52.614Z"
   },
   {
    "duration": 0,
    "start_time": "2025-02-25T06:06:52.615Z"
   },
   {
    "duration": 0,
    "start_time": "2025-02-25T06:06:52.617Z"
   },
   {
    "duration": 0,
    "start_time": "2025-02-25T06:06:52.656Z"
   },
   {
    "duration": 0,
    "start_time": "2025-02-25T06:06:52.658Z"
   },
   {
    "duration": 0,
    "start_time": "2025-02-25T06:06:52.660Z"
   },
   {
    "duration": 0,
    "start_time": "2025-02-25T06:06:52.661Z"
   },
   {
    "duration": 0,
    "start_time": "2025-02-25T06:06:52.663Z"
   },
   {
    "duration": 0,
    "start_time": "2025-02-25T06:06:52.664Z"
   },
   {
    "duration": 1208,
    "start_time": "2025-02-25T06:07:27.992Z"
   },
   {
    "duration": 2555,
    "start_time": "2025-02-25T06:07:29.202Z"
   },
   {
    "duration": 266,
    "start_time": "2025-02-25T06:07:31.760Z"
   },
   {
    "duration": 3,
    "start_time": "2025-02-25T06:07:32.028Z"
   },
   {
    "duration": 2200,
    "start_time": "2025-02-25T06:07:32.033Z"
   },
   {
    "duration": 3,
    "start_time": "2025-02-25T06:07:34.235Z"
   },
   {
    "duration": 35,
    "start_time": "2025-02-25T06:07:34.240Z"
   },
   {
    "duration": 56,
    "start_time": "2025-02-25T06:07:34.277Z"
   },
   {
    "duration": 3,
    "start_time": "2025-02-25T06:07:34.335Z"
   },
   {
    "duration": 12,
    "start_time": "2025-02-25T06:07:34.342Z"
   },
   {
    "duration": 32,
    "start_time": "2025-02-25T06:07:34.356Z"
   },
   {
    "duration": 19,
    "start_time": "2025-02-25T06:07:34.390Z"
   },
   {
    "duration": 260,
    "start_time": "2025-02-25T06:07:34.412Z"
   },
   {
    "duration": 166,
    "start_time": "2025-02-25T06:07:34.675Z"
   },
   {
    "duration": 0,
    "start_time": "2025-02-25T06:07:34.842Z"
   },
   {
    "duration": 0,
    "start_time": "2025-02-25T06:07:34.844Z"
   },
   {
    "duration": 0,
    "start_time": "2025-02-25T06:07:34.845Z"
   },
   {
    "duration": 0,
    "start_time": "2025-02-25T06:07:34.856Z"
   },
   {
    "duration": 0,
    "start_time": "2025-02-25T06:07:34.857Z"
   },
   {
    "duration": 0,
    "start_time": "2025-02-25T06:07:34.859Z"
   },
   {
    "duration": 0,
    "start_time": "2025-02-25T06:07:34.860Z"
   },
   {
    "duration": 0,
    "start_time": "2025-02-25T06:07:34.861Z"
   },
   {
    "duration": 0,
    "start_time": "2025-02-25T06:07:34.862Z"
   },
   {
    "duration": 0,
    "start_time": "2025-02-25T06:07:34.863Z"
   },
   {
    "duration": 0,
    "start_time": "2025-02-25T06:07:34.865Z"
   },
   {
    "duration": 0,
    "start_time": "2025-02-25T06:07:34.865Z"
   },
   {
    "duration": 0,
    "start_time": "2025-02-25T06:07:34.866Z"
   },
   {
    "duration": 0,
    "start_time": "2025-02-25T06:07:34.867Z"
   },
   {
    "duration": 0,
    "start_time": "2025-02-25T06:07:34.869Z"
   },
   {
    "duration": 0,
    "start_time": "2025-02-25T06:07:34.869Z"
   },
   {
    "duration": 0,
    "start_time": "2025-02-25T06:07:34.870Z"
   },
   {
    "duration": 0,
    "start_time": "2025-02-25T06:07:34.871Z"
   },
   {
    "duration": 0,
    "start_time": "2025-02-25T06:07:34.872Z"
   },
   {
    "duration": 0,
    "start_time": "2025-02-25T06:07:34.873Z"
   },
   {
    "duration": 7,
    "start_time": "2025-02-25T06:08:44.232Z"
   },
   {
    "duration": 195,
    "start_time": "2025-02-25T06:08:49.809Z"
   },
   {
    "duration": 4,
    "start_time": "2025-02-25T06:09:14.727Z"
   },
   {
    "duration": 3,
    "start_time": "2025-02-25T06:09:51.357Z"
   },
   {
    "duration": 7,
    "start_time": "2025-02-25T06:09:52.814Z"
   },
   {
    "duration": 4,
    "start_time": "2025-02-25T06:09:55.521Z"
   },
   {
    "duration": 4,
    "start_time": "2025-02-25T06:09:57.058Z"
   },
   {
    "duration": 1252,
    "start_time": "2025-02-25T06:10:03.769Z"
   },
   {
    "duration": 2611,
    "start_time": "2025-02-25T06:10:05.024Z"
   },
   {
    "duration": 257,
    "start_time": "2025-02-25T06:10:07.637Z"
   },
   {
    "duration": 3,
    "start_time": "2025-02-25T06:10:07.897Z"
   },
   {
    "duration": 2129,
    "start_time": "2025-02-25T06:10:07.901Z"
   },
   {
    "duration": 3,
    "start_time": "2025-02-25T06:10:10.032Z"
   },
   {
    "duration": 49,
    "start_time": "2025-02-25T06:10:10.036Z"
   },
   {
    "duration": 39,
    "start_time": "2025-02-25T06:10:10.087Z"
   },
   {
    "duration": 14,
    "start_time": "2025-02-25T06:10:10.128Z"
   },
   {
    "duration": 154,
    "start_time": "2025-02-25T06:10:10.145Z"
   },
   {
    "duration": 14,
    "start_time": "2025-02-25T06:10:10.301Z"
   },
   {
    "duration": 24,
    "start_time": "2025-02-25T06:10:10.317Z"
   },
   {
    "duration": 240,
    "start_time": "2025-02-25T06:10:10.343Z"
   },
   {
    "duration": 142,
    "start_time": "2025-02-25T06:10:10.585Z"
   },
   {
    "duration": 0,
    "start_time": "2025-02-25T06:10:10.729Z"
   },
   {
    "duration": 0,
    "start_time": "2025-02-25T06:10:10.731Z"
   },
   {
    "duration": 0,
    "start_time": "2025-02-25T06:10:10.732Z"
   },
   {
    "duration": 0,
    "start_time": "2025-02-25T06:10:10.736Z"
   },
   {
    "duration": 0,
    "start_time": "2025-02-25T06:10:10.737Z"
   },
   {
    "duration": 0,
    "start_time": "2025-02-25T06:10:10.738Z"
   },
   {
    "duration": 0,
    "start_time": "2025-02-25T06:10:10.755Z"
   },
   {
    "duration": 0,
    "start_time": "2025-02-25T06:10:10.757Z"
   },
   {
    "duration": 0,
    "start_time": "2025-02-25T06:10:10.758Z"
   },
   {
    "duration": 0,
    "start_time": "2025-02-25T06:10:10.759Z"
   },
   {
    "duration": 0,
    "start_time": "2025-02-25T06:10:10.761Z"
   },
   {
    "duration": 0,
    "start_time": "2025-02-25T06:10:10.762Z"
   },
   {
    "duration": 0,
    "start_time": "2025-02-25T06:10:10.763Z"
   },
   {
    "duration": 0,
    "start_time": "2025-02-25T06:10:10.765Z"
   },
   {
    "duration": 0,
    "start_time": "2025-02-25T06:10:10.766Z"
   },
   {
    "duration": 0,
    "start_time": "2025-02-25T06:10:10.767Z"
   },
   {
    "duration": 0,
    "start_time": "2025-02-25T06:10:10.769Z"
   },
   {
    "duration": 0,
    "start_time": "2025-02-25T06:10:10.769Z"
   },
   {
    "duration": 0,
    "start_time": "2025-02-25T06:10:10.771Z"
   },
   {
    "duration": 1,
    "start_time": "2025-02-25T06:10:10.771Z"
   },
   {
    "duration": 9,
    "start_time": "2025-02-25T06:10:37.480Z"
   },
   {
    "duration": 11,
    "start_time": "2025-02-25T06:10:54.229Z"
   },
   {
    "duration": 3,
    "start_time": "2025-02-25T06:10:57.842Z"
   },
   {
    "duration": 4,
    "start_time": "2025-02-25T06:11:00.216Z"
   },
   {
    "duration": 212,
    "start_time": "2025-02-25T06:11:15.479Z"
   },
   {
    "duration": 109,
    "start_time": "2025-02-25T06:11:29.276Z"
   },
   {
    "duration": 3,
    "start_time": "2025-02-25T06:11:34.105Z"
   },
   {
    "duration": 1231,
    "start_time": "2025-02-25T06:12:07.400Z"
   },
   {
    "duration": 2627,
    "start_time": "2025-02-25T06:12:08.633Z"
   },
   {
    "duration": 268,
    "start_time": "2025-02-25T06:12:11.262Z"
   },
   {
    "duration": 3,
    "start_time": "2025-02-25T06:12:11.533Z"
   },
   {
    "duration": 2224,
    "start_time": "2025-02-25T06:12:11.538Z"
   },
   {
    "duration": 2,
    "start_time": "2025-02-25T06:12:13.764Z"
   },
   {
    "duration": 7,
    "start_time": "2025-02-25T06:12:13.768Z"
   },
   {
    "duration": 33,
    "start_time": "2025-02-25T06:12:13.777Z"
   },
   {
    "duration": 3,
    "start_time": "2025-02-25T06:12:13.812Z"
   },
   {
    "duration": 9,
    "start_time": "2025-02-25T06:12:13.818Z"
   },
   {
    "duration": 26,
    "start_time": "2025-02-25T06:12:13.829Z"
   },
   {
    "duration": 8,
    "start_time": "2025-02-25T06:12:13.857Z"
   },
   {
    "duration": 247,
    "start_time": "2025-02-25T06:12:13.867Z"
   },
   {
    "duration": 142,
    "start_time": "2025-02-25T06:12:14.115Z"
   },
   {
    "duration": 0,
    "start_time": "2025-02-25T06:12:14.259Z"
   },
   {
    "duration": 0,
    "start_time": "2025-02-25T06:12:14.262Z"
   },
   {
    "duration": 0,
    "start_time": "2025-02-25T06:12:14.263Z"
   },
   {
    "duration": 0,
    "start_time": "2025-02-25T06:12:14.264Z"
   },
   {
    "duration": 0,
    "start_time": "2025-02-25T06:12:14.265Z"
   },
   {
    "duration": 0,
    "start_time": "2025-02-25T06:12:14.267Z"
   },
   {
    "duration": 0,
    "start_time": "2025-02-25T06:12:14.268Z"
   },
   {
    "duration": 0,
    "start_time": "2025-02-25T06:12:14.269Z"
   },
   {
    "duration": 0,
    "start_time": "2025-02-25T06:12:14.271Z"
   },
   {
    "duration": 0,
    "start_time": "2025-02-25T06:12:14.272Z"
   },
   {
    "duration": 0,
    "start_time": "2025-02-25T06:12:14.273Z"
   },
   {
    "duration": 0,
    "start_time": "2025-02-25T06:12:14.274Z"
   },
   {
    "duration": 0,
    "start_time": "2025-02-25T06:12:14.275Z"
   },
   {
    "duration": 0,
    "start_time": "2025-02-25T06:12:14.276Z"
   },
   {
    "duration": 0,
    "start_time": "2025-02-25T06:12:14.277Z"
   },
   {
    "duration": 0,
    "start_time": "2025-02-25T06:12:14.279Z"
   },
   {
    "duration": 0,
    "start_time": "2025-02-25T06:12:14.280Z"
   },
   {
    "duration": 0,
    "start_time": "2025-02-25T06:12:14.281Z"
   },
   {
    "duration": 0,
    "start_time": "2025-02-25T06:12:14.282Z"
   },
   {
    "duration": 0,
    "start_time": "2025-02-25T06:12:14.283Z"
   },
   {
    "duration": 1222,
    "start_time": "2025-02-25T06:12:38.780Z"
   },
   {
    "duration": 2524,
    "start_time": "2025-02-25T06:12:40.004Z"
   },
   {
    "duration": 256,
    "start_time": "2025-02-25T06:12:42.530Z"
   },
   {
    "duration": 3,
    "start_time": "2025-02-25T06:12:42.788Z"
   },
   {
    "duration": 2140,
    "start_time": "2025-02-25T06:12:42.792Z"
   },
   {
    "duration": 3,
    "start_time": "2025-02-25T06:12:44.934Z"
   },
   {
    "duration": 100,
    "start_time": "2025-02-25T06:12:44.938Z"
   },
   {
    "duration": 121,
    "start_time": "2025-02-25T06:12:45.042Z"
   },
   {
    "duration": 180,
    "start_time": "2025-02-25T06:12:45.165Z"
   },
   {
    "duration": 266,
    "start_time": "2025-02-25T06:12:45.348Z"
   },
   {
    "duration": 14,
    "start_time": "2025-02-25T06:12:45.615Z"
   },
   {
    "duration": 9,
    "start_time": "2025-02-25T06:12:45.631Z"
   },
   {
    "duration": 244,
    "start_time": "2025-02-25T06:12:45.642Z"
   },
   {
    "duration": 209,
    "start_time": "2025-02-25T06:12:45.888Z"
   },
   {
    "duration": 10,
    "start_time": "2025-02-25T06:12:46.099Z"
   },
   {
    "duration": 169,
    "start_time": "2025-02-25T06:12:46.110Z"
   },
   {
    "duration": 49,
    "start_time": "2025-02-25T06:12:46.281Z"
   },
   {
    "duration": 31,
    "start_time": "2025-02-25T06:12:46.332Z"
   },
   {
    "duration": 6,
    "start_time": "2025-02-25T06:12:46.365Z"
   },
   {
    "duration": 217,
    "start_time": "2025-02-25T06:12:46.373Z"
   },
   {
    "duration": 14,
    "start_time": "2025-02-25T06:12:46.593Z"
   },
   {
    "duration": 483,
    "start_time": "2025-02-25T06:12:46.609Z"
   },
   {
    "duration": 136,
    "start_time": "2025-02-25T06:12:47.094Z"
   },
   {
    "duration": 126,
    "start_time": "2025-02-25T06:12:47.233Z"
   },
   {
    "duration": 57,
    "start_time": "2025-02-25T06:12:47.362Z"
   },
   {
    "duration": 46,
    "start_time": "2025-02-25T06:12:47.421Z"
   },
   {
    "duration": 39,
    "start_time": "2025-02-25T06:12:47.469Z"
   },
   {
    "duration": 84,
    "start_time": "2025-02-25T06:12:47.512Z"
   },
   {
    "duration": 142,
    "start_time": "2025-02-25T06:12:47.598Z"
   },
   {
    "duration": 23,
    "start_time": "2025-02-25T06:12:47.742Z"
   },
   {
    "duration": 16,
    "start_time": "2025-02-25T06:12:47.767Z"
   },
   {
    "duration": 161,
    "start_time": "2025-02-25T06:12:47.785Z"
   },
   {
    "duration": 51,
    "start_time": "2025-02-25T06:12:47.948Z"
   },
   {
    "duration": 106,
    "start_time": "2025-02-25T06:12:48.001Z"
   },
   {
    "duration": 131,
    "start_time": "2025-02-25T06:13:52.608Z"
   },
   {
    "duration": 4,
    "start_time": "2025-02-25T06:15:41.471Z"
   },
   {
    "duration": 4,
    "start_time": "2025-02-25T06:15:43.821Z"
   },
   {
    "duration": 1199,
    "start_time": "2025-02-25T06:15:50.698Z"
   },
   {
    "duration": 2602,
    "start_time": "2025-02-25T06:15:51.900Z"
   },
   {
    "duration": 255,
    "start_time": "2025-02-25T06:15:54.505Z"
   },
   {
    "duration": 3,
    "start_time": "2025-02-25T06:15:54.762Z"
   },
   {
    "duration": 2175,
    "start_time": "2025-02-25T06:15:54.770Z"
   },
   {
    "duration": 3,
    "start_time": "2025-02-25T06:15:56.946Z"
   },
   {
    "duration": 12,
    "start_time": "2025-02-25T06:15:56.954Z"
   },
   {
    "duration": 49,
    "start_time": "2025-02-25T06:15:56.967Z"
   },
   {
    "duration": 9,
    "start_time": "2025-02-25T06:15:57.019Z"
   },
   {
    "duration": 23,
    "start_time": "2025-02-25T06:15:57.030Z"
   },
   {
    "duration": 13,
    "start_time": "2025-02-25T06:15:57.055Z"
   },
   {
    "duration": 26,
    "start_time": "2025-02-25T06:15:57.069Z"
   },
   {
    "duration": 234,
    "start_time": "2025-02-25T06:15:57.096Z"
   },
   {
    "duration": 160,
    "start_time": "2025-02-25T06:15:57.333Z"
   },
   {
    "duration": 0,
    "start_time": "2025-02-25T06:15:57.496Z"
   },
   {
    "duration": 0,
    "start_time": "2025-02-25T06:15:57.498Z"
   },
   {
    "duration": 0,
    "start_time": "2025-02-25T06:15:57.500Z"
   },
   {
    "duration": 0,
    "start_time": "2025-02-25T06:15:57.502Z"
   },
   {
    "duration": 0,
    "start_time": "2025-02-25T06:15:57.506Z"
   },
   {
    "duration": 0,
    "start_time": "2025-02-25T06:15:57.508Z"
   },
   {
    "duration": 0,
    "start_time": "2025-02-25T06:15:57.510Z"
   },
   {
    "duration": 0,
    "start_time": "2025-02-25T06:15:57.512Z"
   },
   {
    "duration": 0,
    "start_time": "2025-02-25T06:15:57.513Z"
   },
   {
    "duration": 0,
    "start_time": "2025-02-25T06:15:57.515Z"
   },
   {
    "duration": 0,
    "start_time": "2025-02-25T06:15:57.517Z"
   },
   {
    "duration": 0,
    "start_time": "2025-02-25T06:15:57.518Z"
   },
   {
    "duration": 0,
    "start_time": "2025-02-25T06:15:57.556Z"
   },
   {
    "duration": 0,
    "start_time": "2025-02-25T06:15:57.556Z"
   },
   {
    "duration": 0,
    "start_time": "2025-02-25T06:15:57.557Z"
   },
   {
    "duration": 0,
    "start_time": "2025-02-25T06:15:57.558Z"
   },
   {
    "duration": 0,
    "start_time": "2025-02-25T06:15:57.560Z"
   },
   {
    "duration": 0,
    "start_time": "2025-02-25T06:15:57.561Z"
   },
   {
    "duration": 0,
    "start_time": "2025-02-25T06:15:57.562Z"
   },
   {
    "duration": 0,
    "start_time": "2025-02-25T06:15:57.563Z"
   },
   {
    "duration": 4,
    "start_time": "2025-02-25T06:16:05.831Z"
   },
   {
    "duration": 5,
    "start_time": "2025-02-25T06:16:08.342Z"
   },
   {
    "duration": 5,
    "start_time": "2025-02-25T06:17:11.943Z"
   },
   {
    "duration": 6,
    "start_time": "2025-02-25T06:17:39.297Z"
   },
   {
    "duration": 4,
    "start_time": "2025-02-25T06:17:49.093Z"
   },
   {
    "duration": 1258,
    "start_time": "2025-02-25T06:18:05.440Z"
   },
   {
    "duration": 2551,
    "start_time": "2025-02-25T06:18:06.700Z"
   },
   {
    "duration": 249,
    "start_time": "2025-02-25T06:18:09.253Z"
   },
   {
    "duration": 3,
    "start_time": "2025-02-25T06:18:09.504Z"
   },
   {
    "duration": 2220,
    "start_time": "2025-02-25T06:18:09.508Z"
   },
   {
    "duration": 3,
    "start_time": "2025-02-25T06:18:11.730Z"
   },
   {
    "duration": 16,
    "start_time": "2025-02-25T06:18:11.735Z"
   },
   {
    "duration": 35,
    "start_time": "2025-02-25T06:18:11.755Z"
   },
   {
    "duration": 3,
    "start_time": "2025-02-25T06:18:11.793Z"
   },
   {
    "duration": 8,
    "start_time": "2025-02-25T06:18:11.800Z"
   },
   {
    "duration": 16,
    "start_time": "2025-02-25T06:18:11.810Z"
   },
   {
    "duration": 17,
    "start_time": "2025-02-25T06:18:11.828Z"
   },
   {
    "duration": 239,
    "start_time": "2025-02-25T06:18:11.854Z"
   },
   {
    "duration": 138,
    "start_time": "2025-02-25T06:18:12.094Z"
   },
   {
    "duration": 0,
    "start_time": "2025-02-25T06:18:12.234Z"
   },
   {
    "duration": 0,
    "start_time": "2025-02-25T06:18:12.235Z"
   },
   {
    "duration": 0,
    "start_time": "2025-02-25T06:18:12.236Z"
   },
   {
    "duration": 0,
    "start_time": "2025-02-25T06:18:12.237Z"
   },
   {
    "duration": 0,
    "start_time": "2025-02-25T06:18:12.238Z"
   },
   {
    "duration": 0,
    "start_time": "2025-02-25T06:18:12.239Z"
   },
   {
    "duration": 0,
    "start_time": "2025-02-25T06:18:12.255Z"
   },
   {
    "duration": 0,
    "start_time": "2025-02-25T06:18:12.256Z"
   },
   {
    "duration": 0,
    "start_time": "2025-02-25T06:18:12.257Z"
   },
   {
    "duration": 0,
    "start_time": "2025-02-25T06:18:12.258Z"
   },
   {
    "duration": 0,
    "start_time": "2025-02-25T06:18:12.259Z"
   },
   {
    "duration": 0,
    "start_time": "2025-02-25T06:18:12.260Z"
   },
   {
    "duration": 0,
    "start_time": "2025-02-25T06:18:12.261Z"
   },
   {
    "duration": 0,
    "start_time": "2025-02-25T06:18:12.262Z"
   },
   {
    "duration": 0,
    "start_time": "2025-02-25T06:18:12.263Z"
   },
   {
    "duration": 0,
    "start_time": "2025-02-25T06:18:12.264Z"
   },
   {
    "duration": 0,
    "start_time": "2025-02-25T06:18:12.265Z"
   },
   {
    "duration": 0,
    "start_time": "2025-02-25T06:18:12.265Z"
   },
   {
    "duration": 0,
    "start_time": "2025-02-25T06:18:12.266Z"
   },
   {
    "duration": 0,
    "start_time": "2025-02-25T06:18:12.267Z"
   },
   {
    "duration": 1264,
    "start_time": "2025-02-25T06:19:50.548Z"
   },
   {
    "duration": 2733,
    "start_time": "2025-02-25T06:19:51.816Z"
   },
   {
    "duration": 282,
    "start_time": "2025-02-25T06:19:54.552Z"
   },
   {
    "duration": 4,
    "start_time": "2025-02-25T06:19:54.836Z"
   },
   {
    "duration": 2155,
    "start_time": "2025-02-25T06:19:54.842Z"
   },
   {
    "duration": 4,
    "start_time": "2025-02-25T06:19:56.999Z"
   },
   {
    "duration": 38,
    "start_time": "2025-02-25T06:19:57.004Z"
   },
   {
    "duration": 32,
    "start_time": "2025-02-25T06:19:57.044Z"
   },
   {
    "duration": 4,
    "start_time": "2025-02-25T06:19:57.079Z"
   },
   {
    "duration": 18,
    "start_time": "2025-02-25T06:19:57.085Z"
   },
   {
    "duration": 18,
    "start_time": "2025-02-25T06:19:57.105Z"
   },
   {
    "duration": 5,
    "start_time": "2025-02-25T06:19:57.125Z"
   },
   {
    "duration": 259,
    "start_time": "2025-02-25T06:19:57.132Z"
   },
   {
    "duration": 176,
    "start_time": "2025-02-25T06:19:57.395Z"
   },
   {
    "duration": 0,
    "start_time": "2025-02-25T06:19:57.573Z"
   },
   {
    "duration": 0,
    "start_time": "2025-02-25T06:19:57.574Z"
   },
   {
    "duration": 0,
    "start_time": "2025-02-25T06:19:57.576Z"
   },
   {
    "duration": 0,
    "start_time": "2025-02-25T06:19:57.577Z"
   },
   {
    "duration": 0,
    "start_time": "2025-02-25T06:19:57.578Z"
   },
   {
    "duration": 0,
    "start_time": "2025-02-25T06:19:57.582Z"
   },
   {
    "duration": 0,
    "start_time": "2025-02-25T06:19:57.583Z"
   },
   {
    "duration": 0,
    "start_time": "2025-02-25T06:19:57.585Z"
   },
   {
    "duration": 0,
    "start_time": "2025-02-25T06:19:57.586Z"
   },
   {
    "duration": 0,
    "start_time": "2025-02-25T06:19:57.587Z"
   },
   {
    "duration": 0,
    "start_time": "2025-02-25T06:19:57.588Z"
   },
   {
    "duration": 1,
    "start_time": "2025-02-25T06:19:57.589Z"
   },
   {
    "duration": 0,
    "start_time": "2025-02-25T06:19:57.591Z"
   },
   {
    "duration": 0,
    "start_time": "2025-02-25T06:19:57.593Z"
   },
   {
    "duration": 0,
    "start_time": "2025-02-25T06:19:57.594Z"
   },
   {
    "duration": 0,
    "start_time": "2025-02-25T06:19:57.595Z"
   },
   {
    "duration": 0,
    "start_time": "2025-02-25T06:19:57.596Z"
   },
   {
    "duration": 0,
    "start_time": "2025-02-25T06:19:57.597Z"
   },
   {
    "duration": 0,
    "start_time": "2025-02-25T06:19:57.598Z"
   },
   {
    "duration": 0,
    "start_time": "2025-02-25T06:19:57.599Z"
   },
   {
    "duration": 5,
    "start_time": "2025-02-25T06:20:41.703Z"
   },
   {
    "duration": 18,
    "start_time": "2025-02-25T06:21:40.403Z"
   },
   {
    "duration": 15,
    "start_time": "2025-02-25T06:21:45.153Z"
   },
   {
    "duration": 1266,
    "start_time": "2025-02-25T06:21:49.441Z"
   },
   {
    "duration": 2784,
    "start_time": "2025-02-25T06:21:50.709Z"
   },
   {
    "duration": 254,
    "start_time": "2025-02-25T06:21:53.495Z"
   },
   {
    "duration": 3,
    "start_time": "2025-02-25T06:21:53.752Z"
   },
   {
    "duration": 2221,
    "start_time": "2025-02-25T06:21:53.756Z"
   },
   {
    "duration": 4,
    "start_time": "2025-02-25T06:21:55.978Z"
   },
   {
    "duration": 17,
    "start_time": "2025-02-25T06:21:55.983Z"
   },
   {
    "duration": 41,
    "start_time": "2025-02-25T06:21:56.002Z"
   },
   {
    "duration": 13,
    "start_time": "2025-02-25T06:21:56.045Z"
   },
   {
    "duration": 10,
    "start_time": "2025-02-25T06:21:56.061Z"
   },
   {
    "duration": 10,
    "start_time": "2025-02-25T06:21:56.073Z"
   },
   {
    "duration": 22,
    "start_time": "2025-02-25T06:21:56.086Z"
   },
   {
    "duration": 257,
    "start_time": "2025-02-25T06:21:56.110Z"
   },
   {
    "duration": 148,
    "start_time": "2025-02-25T06:21:56.370Z"
   },
   {
    "duration": 0,
    "start_time": "2025-02-25T06:21:56.520Z"
   },
   {
    "duration": 0,
    "start_time": "2025-02-25T06:21:56.522Z"
   },
   {
    "duration": 1,
    "start_time": "2025-02-25T06:21:56.523Z"
   },
   {
    "duration": 0,
    "start_time": "2025-02-25T06:21:56.525Z"
   },
   {
    "duration": 0,
    "start_time": "2025-02-25T06:21:56.527Z"
   },
   {
    "duration": 1,
    "start_time": "2025-02-25T06:21:56.528Z"
   },
   {
    "duration": 0,
    "start_time": "2025-02-25T06:21:56.530Z"
   },
   {
    "duration": 0,
    "start_time": "2025-02-25T06:21:56.532Z"
   },
   {
    "duration": 0,
    "start_time": "2025-02-25T06:21:56.533Z"
   },
   {
    "duration": 0,
    "start_time": "2025-02-25T06:21:56.556Z"
   },
   {
    "duration": 0,
    "start_time": "2025-02-25T06:21:56.558Z"
   },
   {
    "duration": 0,
    "start_time": "2025-02-25T06:21:56.560Z"
   },
   {
    "duration": 0,
    "start_time": "2025-02-25T06:21:56.561Z"
   },
   {
    "duration": 0,
    "start_time": "2025-02-25T06:21:56.563Z"
   },
   {
    "duration": 0,
    "start_time": "2025-02-25T06:21:56.564Z"
   },
   {
    "duration": 0,
    "start_time": "2025-02-25T06:21:56.565Z"
   },
   {
    "duration": 0,
    "start_time": "2025-02-25T06:21:56.567Z"
   },
   {
    "duration": 0,
    "start_time": "2025-02-25T06:21:56.569Z"
   },
   {
    "duration": 0,
    "start_time": "2025-02-25T06:21:56.570Z"
   },
   {
    "duration": 0,
    "start_time": "2025-02-25T06:21:56.572Z"
   },
   {
    "duration": 3,
    "start_time": "2025-02-25T06:22:34.995Z"
   },
   {
    "duration": 5,
    "start_time": "2025-02-25T06:22:36.920Z"
   },
   {
    "duration": 1252,
    "start_time": "2025-02-25T06:22:42.037Z"
   },
   {
    "duration": 2527,
    "start_time": "2025-02-25T06:22:43.292Z"
   },
   {
    "duration": 357,
    "start_time": "2025-02-25T06:22:45.821Z"
   },
   {
    "duration": 4,
    "start_time": "2025-02-25T06:22:46.180Z"
   },
   {
    "duration": 2322,
    "start_time": "2025-02-25T06:22:46.186Z"
   },
   {
    "duration": 3,
    "start_time": "2025-02-25T06:22:48.510Z"
   },
   {
    "duration": 27,
    "start_time": "2025-02-25T06:22:48.515Z"
   },
   {
    "duration": 144,
    "start_time": "2025-02-25T06:22:48.544Z"
   },
   {
    "duration": 3,
    "start_time": "2025-02-25T06:22:48.690Z"
   },
   {
    "duration": 26,
    "start_time": "2025-02-25T06:22:48.696Z"
   },
   {
    "duration": 19,
    "start_time": "2025-02-25T06:22:48.724Z"
   },
   {
    "duration": 15,
    "start_time": "2025-02-25T06:22:48.744Z"
   },
   {
    "duration": 251,
    "start_time": "2025-02-25T06:22:48.761Z"
   },
   {
    "duration": 218,
    "start_time": "2025-02-25T06:22:49.014Z"
   },
   {
    "duration": 10,
    "start_time": "2025-02-25T06:22:49.234Z"
   },
   {
    "duration": 160,
    "start_time": "2025-02-25T06:22:49.254Z"
   },
   {
    "duration": 28,
    "start_time": "2025-02-25T06:22:49.416Z"
   },
   {
    "duration": 21,
    "start_time": "2025-02-25T06:22:49.456Z"
   },
   {
    "duration": 12,
    "start_time": "2025-02-25T06:22:49.479Z"
   },
   {
    "duration": 227,
    "start_time": "2025-02-25T06:22:49.493Z"
   },
   {
    "duration": 11,
    "start_time": "2025-02-25T06:22:49.722Z"
   },
   {
    "duration": 481,
    "start_time": "2025-02-25T06:22:49.735Z"
   },
   {
    "duration": 128,
    "start_time": "2025-02-25T06:22:50.217Z"
   },
   {
    "duration": 124,
    "start_time": "2025-02-25T06:22:50.347Z"
   },
   {
    "duration": 59,
    "start_time": "2025-02-25T06:22:50.472Z"
   },
   {
    "duration": 38,
    "start_time": "2025-02-25T06:22:50.533Z"
   },
   {
    "duration": 123,
    "start_time": "2025-02-25T06:22:50.573Z"
   },
   {
    "duration": 7,
    "start_time": "2025-02-25T06:22:50.700Z"
   },
   {
    "duration": 145,
    "start_time": "2025-02-25T06:22:50.708Z"
   },
   {
    "duration": 30,
    "start_time": "2025-02-25T06:22:50.855Z"
   },
   {
    "duration": 56,
    "start_time": "2025-02-25T06:22:50.887Z"
   },
   {
    "duration": 250,
    "start_time": "2025-02-25T06:22:50.945Z"
   },
   {
    "duration": 44,
    "start_time": "2025-02-25T06:22:51.197Z"
   },
   {
    "duration": 470,
    "start_time": "2025-02-25T06:22:51.243Z"
   },
   {
    "duration": 764,
    "start_time": "2025-02-25T06:23:10.059Z"
   },
   {
    "duration": 54,
    "start_time": "2025-02-25T10:13:33.511Z"
   },
   {
    "duration": 1573,
    "start_time": "2025-02-25T10:13:38.783Z"
   },
   {
    "duration": 4502,
    "start_time": "2025-02-25T10:13:40.359Z"
   },
   {
    "duration": 285,
    "start_time": "2025-02-25T10:13:44.864Z"
   },
   {
    "duration": 4,
    "start_time": "2025-02-25T10:13:45.151Z"
   },
   {
    "duration": 3227,
    "start_time": "2025-02-25T10:13:45.157Z"
   },
   {
    "duration": 3,
    "start_time": "2025-02-25T10:13:48.386Z"
   },
   {
    "duration": 8,
    "start_time": "2025-02-25T10:13:48.391Z"
   },
   {
    "duration": 42,
    "start_time": "2025-02-25T10:13:48.401Z"
   },
   {
    "duration": 3,
    "start_time": "2025-02-25T10:13:48.445Z"
   },
   {
    "duration": 8,
    "start_time": "2025-02-25T10:13:48.471Z"
   },
   {
    "duration": 3,
    "start_time": "2025-02-25T10:13:48.481Z"
   },
   {
    "duration": 6,
    "start_time": "2025-02-25T10:13:48.486Z"
   },
   {
    "duration": 281,
    "start_time": "2025-02-25T10:13:48.494Z"
   },
   {
    "duration": 212,
    "start_time": "2025-02-25T10:13:48.776Z"
   },
   {
    "duration": 12,
    "start_time": "2025-02-25T10:13:48.990Z"
   },
   {
    "duration": 189,
    "start_time": "2025-02-25T10:13:49.005Z"
   },
   {
    "duration": 29,
    "start_time": "2025-02-25T10:13:49.196Z"
   },
   {
    "duration": 22,
    "start_time": "2025-02-25T10:13:49.227Z"
   },
   {
    "duration": 25,
    "start_time": "2025-02-25T10:13:49.251Z"
   },
   {
    "duration": 227,
    "start_time": "2025-02-25T10:13:49.278Z"
   },
   {
    "duration": 12,
    "start_time": "2025-02-25T10:13:49.507Z"
   },
   {
    "duration": 495,
    "start_time": "2025-02-25T10:13:49.521Z"
   },
   {
    "duration": 137,
    "start_time": "2025-02-25T10:13:50.018Z"
   },
   {
    "duration": 141,
    "start_time": "2025-02-25T10:13:50.157Z"
   },
   {
    "duration": 61,
    "start_time": "2025-02-25T10:13:50.300Z"
   },
   {
    "duration": 35,
    "start_time": "2025-02-25T10:13:50.363Z"
   },
   {
    "duration": 30,
    "start_time": "2025-02-25T10:13:50.400Z"
   },
   {
    "duration": 7,
    "start_time": "2025-02-25T10:13:50.434Z"
   },
   {
    "duration": 162,
    "start_time": "2025-02-25T10:13:50.443Z"
   },
   {
    "duration": 24,
    "start_time": "2025-02-25T10:13:50.607Z"
   },
   {
    "duration": 39,
    "start_time": "2025-02-25T10:13:50.633Z"
   },
   {
    "duration": 163,
    "start_time": "2025-02-25T10:13:50.674Z"
   },
   {
    "duration": 60,
    "start_time": "2025-02-25T10:13:50.839Z"
   },
   {
    "duration": 813,
    "start_time": "2025-02-25T10:13:50.901Z"
   },
   {
    "duration": 144,
    "start_time": "2025-02-25T10:39:50.491Z"
   },
   {
    "duration": 41,
    "start_time": "2025-02-25T10:40:01.729Z"
   },
   {
    "duration": 25,
    "start_time": "2025-02-25T10:40:13.878Z"
   },
   {
    "duration": 341,
    "start_time": "2025-02-25T10:42:49.622Z"
   },
   {
    "duration": 317,
    "start_time": "2025-02-25T10:45:08.316Z"
   },
   {
    "duration": 406,
    "start_time": "2025-02-25T10:45:16.905Z"
   },
   {
    "duration": 468,
    "start_time": "2025-02-25T10:45:46.143Z"
   },
   {
    "duration": 527,
    "start_time": "2025-02-25T10:47:18.046Z"
   },
   {
    "duration": 528,
    "start_time": "2025-02-25T10:47:25.319Z"
   },
   {
    "duration": 456,
    "start_time": "2025-02-25T10:48:40.372Z"
   },
   {
    "duration": 186,
    "start_time": "2025-02-25T10:49:13.703Z"
   },
   {
    "duration": 494,
    "start_time": "2025-02-25T10:51:51.910Z"
   },
   {
    "duration": 509,
    "start_time": "2025-02-25T10:52:50.099Z"
   },
   {
    "duration": 330,
    "start_time": "2025-02-25T10:53:10.698Z"
   },
   {
    "duration": 512,
    "start_time": "2025-02-25T10:53:36.810Z"
   },
   {
    "duration": 549,
    "start_time": "2025-02-25T10:54:00.074Z"
   },
   {
    "duration": 531,
    "start_time": "2025-02-25T10:54:07.414Z"
   },
   {
    "duration": 467,
    "start_time": "2025-02-25T10:54:21.349Z"
   },
   {
    "duration": 157,
    "start_time": "2025-02-25T11:56:41.077Z"
   },
   {
    "duration": 26,
    "start_time": "2025-02-25T11:58:19.464Z"
   },
   {
    "duration": 25,
    "start_time": "2025-02-25T11:58:22.465Z"
   },
   {
    "duration": 1018,
    "start_time": "2025-02-25T12:02:00.341Z"
   },
   {
    "duration": 855,
    "start_time": "2025-02-25T12:02:05.427Z"
   },
   {
    "duration": 144,
    "start_time": "2025-02-25T12:02:25.416Z"
   },
   {
    "duration": 134,
    "start_time": "2025-02-25T12:02:27.965Z"
   },
   {
    "duration": 122,
    "start_time": "2025-02-25T12:02:32.079Z"
   },
   {
    "duration": 35,
    "start_time": "2025-02-25T12:02:47.104Z"
   },
   {
    "duration": 37,
    "start_time": "2025-02-25T12:03:12.928Z"
   },
   {
    "duration": 481,
    "start_time": "2025-02-25T12:05:41.192Z"
   },
   {
    "duration": 499,
    "start_time": "2025-02-25T12:05:45.081Z"
   },
   {
    "duration": 38,
    "start_time": "2025-02-25T12:05:46.495Z"
   },
   {
    "duration": 28,
    "start_time": "2025-02-25T12:05:49.032Z"
   },
   {
    "duration": 23,
    "start_time": "2025-02-25T12:06:00.343Z"
   },
   {
    "duration": 3,
    "start_time": "2025-02-25T12:06:55.982Z"
   },
   {
    "duration": 25,
    "start_time": "2025-02-25T12:06:57.456Z"
   },
   {
    "duration": 66,
    "start_time": "2025-02-25T12:12:13.809Z"
   },
   {
    "duration": 17,
    "start_time": "2025-02-25T12:12:23.447Z"
   },
   {
    "duration": 1729,
    "start_time": "2025-02-25T12:21:05.008Z"
   },
   {
    "duration": 2826,
    "start_time": "2025-02-25T12:21:06.740Z"
   },
   {
    "duration": 300,
    "start_time": "2025-02-25T12:21:09.568Z"
   },
   {
    "duration": 4,
    "start_time": "2025-02-25T12:21:09.871Z"
   },
   {
    "duration": 2731,
    "start_time": "2025-02-25T12:21:09.876Z"
   },
   {
    "duration": 2,
    "start_time": "2025-02-25T12:21:12.609Z"
   },
   {
    "duration": 8,
    "start_time": "2025-02-25T12:21:12.613Z"
   },
   {
    "duration": 54,
    "start_time": "2025-02-25T12:21:12.623Z"
   },
   {
    "duration": 3,
    "start_time": "2025-02-25T12:21:12.679Z"
   },
   {
    "duration": 7,
    "start_time": "2025-02-25T12:21:12.685Z"
   },
   {
    "duration": 7,
    "start_time": "2025-02-25T12:21:12.694Z"
   },
   {
    "duration": 9,
    "start_time": "2025-02-25T12:21:12.702Z"
   },
   {
    "duration": 291,
    "start_time": "2025-02-25T12:21:12.713Z"
   },
   {
    "duration": 226,
    "start_time": "2025-02-25T12:21:13.006Z"
   },
   {
    "duration": 11,
    "start_time": "2025-02-25T12:21:13.234Z"
   },
   {
    "duration": 169,
    "start_time": "2025-02-25T12:21:13.247Z"
   },
   {
    "duration": 29,
    "start_time": "2025-02-25T12:21:13.418Z"
   },
   {
    "duration": 35,
    "start_time": "2025-02-25T12:21:13.449Z"
   },
   {
    "duration": 6,
    "start_time": "2025-02-25T12:21:13.486Z"
   },
   {
    "duration": 244,
    "start_time": "2025-02-25T12:21:13.494Z"
   },
   {
    "duration": 13,
    "start_time": "2025-02-25T12:21:13.740Z"
   },
   {
    "duration": 513,
    "start_time": "2025-02-25T12:21:13.754Z"
   },
   {
    "duration": 135,
    "start_time": "2025-02-25T12:21:14.269Z"
   },
   {
    "duration": 137,
    "start_time": "2025-02-25T12:21:14.405Z"
   },
   {
    "duration": 71,
    "start_time": "2025-02-25T12:21:14.544Z"
   },
   {
    "duration": 27,
    "start_time": "2025-02-25T12:21:14.617Z"
   },
   {
    "duration": 52,
    "start_time": "2025-02-25T12:21:14.646Z"
   },
   {
    "duration": 8,
    "start_time": "2025-02-25T12:21:14.701Z"
   },
   {
    "duration": 154,
    "start_time": "2025-02-25T12:21:14.710Z"
   },
   {
    "duration": 27,
    "start_time": "2025-02-25T12:21:14.866Z"
   },
   {
    "duration": 15,
    "start_time": "2025-02-25T12:21:14.894Z"
   },
   {
    "duration": 186,
    "start_time": "2025-02-25T12:21:14.911Z"
   },
   {
    "duration": 51,
    "start_time": "2025-02-25T12:21:15.099Z"
   },
   {
    "duration": 566,
    "start_time": "2025-02-25T12:21:15.152Z"
   },
   {
    "duration": 25,
    "start_time": "2025-02-25T12:21:15.720Z"
   },
   {
    "duration": 39,
    "start_time": "2025-02-25T12:21:15.747Z"
   },
   {
    "duration": 69,
    "start_time": "2025-02-25T12:21:15.788Z"
   },
   {
    "duration": 16,
    "start_time": "2025-02-25T12:21:15.871Z"
   },
   {
    "duration": 1291,
    "start_time": "2025-02-25T12:35:30.113Z"
   },
   {
    "duration": 2925,
    "start_time": "2025-02-25T12:35:31.407Z"
   },
   {
    "duration": 300,
    "start_time": "2025-02-25T12:35:34.335Z"
   },
   {
    "duration": 3,
    "start_time": "2025-02-25T12:35:34.637Z"
   },
   {
    "duration": 2772,
    "start_time": "2025-02-25T12:35:34.642Z"
   },
   {
    "duration": 3,
    "start_time": "2025-02-25T12:35:37.416Z"
   },
   {
    "duration": 12,
    "start_time": "2025-02-25T12:35:37.421Z"
   },
   {
    "duration": 50,
    "start_time": "2025-02-25T12:35:37.434Z"
   },
   {
    "duration": 3,
    "start_time": "2025-02-25T12:35:37.486Z"
   },
   {
    "duration": 16,
    "start_time": "2025-02-25T12:35:37.492Z"
   },
   {
    "duration": 5,
    "start_time": "2025-02-25T12:35:37.510Z"
   },
   {
    "duration": 9,
    "start_time": "2025-02-25T12:35:37.517Z"
   },
   {
    "duration": 269,
    "start_time": "2025-02-25T12:35:37.528Z"
   },
   {
    "duration": 214,
    "start_time": "2025-02-25T12:35:37.799Z"
   },
   {
    "duration": 10,
    "start_time": "2025-02-25T12:35:38.015Z"
   },
   {
    "duration": 201,
    "start_time": "2025-02-25T12:35:38.026Z"
   },
   {
    "duration": 43,
    "start_time": "2025-02-25T12:35:38.229Z"
   },
   {
    "duration": 24,
    "start_time": "2025-02-25T12:35:38.274Z"
   },
   {
    "duration": 6,
    "start_time": "2025-02-25T12:35:38.300Z"
   },
   {
    "duration": 241,
    "start_time": "2025-02-25T12:35:38.309Z"
   },
   {
    "duration": 21,
    "start_time": "2025-02-25T12:35:38.552Z"
   },
   {
    "duration": 531,
    "start_time": "2025-02-25T12:35:38.576Z"
   },
   {
    "duration": 136,
    "start_time": "2025-02-25T12:35:39.109Z"
   },
   {
    "duration": 134,
    "start_time": "2025-02-25T12:35:39.247Z"
   },
   {
    "duration": 68,
    "start_time": "2025-02-25T12:35:39.383Z"
   },
   {
    "duration": 44,
    "start_time": "2025-02-25T12:35:39.454Z"
   },
   {
    "duration": 30,
    "start_time": "2025-02-25T12:35:39.500Z"
   },
   {
    "duration": 7,
    "start_time": "2025-02-25T12:35:39.534Z"
   },
   {
    "duration": 170,
    "start_time": "2025-02-25T12:35:39.543Z"
   },
   {
    "duration": 22,
    "start_time": "2025-02-25T12:35:39.715Z"
   },
   {
    "duration": 12,
    "start_time": "2025-02-25T12:35:39.738Z"
   },
   {
    "duration": 163,
    "start_time": "2025-02-25T12:35:39.773Z"
   },
   {
    "duration": 67,
    "start_time": "2025-02-25T12:35:39.938Z"
   },
   {
    "duration": 552,
    "start_time": "2025-02-25T12:35:40.008Z"
   },
   {
    "duration": 33,
    "start_time": "2025-02-25T12:35:40.561Z"
   },
   {
    "duration": 21,
    "start_time": "2025-02-25T12:35:40.596Z"
   },
   {
    "duration": 83,
    "start_time": "2025-02-25T12:35:40.618Z"
   },
   {
    "duration": 14,
    "start_time": "2025-02-25T12:35:40.703Z"
   },
   {
    "duration": 1191,
    "start_time": "2025-02-25T13:01:10.532Z"
   },
   {
    "duration": 4487,
    "start_time": "2025-02-25T13:01:11.724Z"
   },
   {
    "duration": 288,
    "start_time": "2025-02-25T13:01:16.213Z"
   },
   {
    "duration": 2,
    "start_time": "2025-02-25T13:01:16.504Z"
   },
   {
    "duration": 2555,
    "start_time": "2025-02-25T13:01:16.507Z"
   },
   {
    "duration": 3,
    "start_time": "2025-02-25T13:01:19.064Z"
   },
   {
    "duration": 8,
    "start_time": "2025-02-25T13:01:19.074Z"
   },
   {
    "duration": 34,
    "start_time": "2025-02-25T13:01:19.083Z"
   },
   {
    "duration": 3,
    "start_time": "2025-02-25T13:01:19.118Z"
   },
   {
    "duration": 9,
    "start_time": "2025-02-25T13:01:19.123Z"
   },
   {
    "duration": 4,
    "start_time": "2025-02-25T13:01:19.134Z"
   },
   {
    "duration": 37,
    "start_time": "2025-02-25T13:01:19.140Z"
   },
   {
    "duration": 229,
    "start_time": "2025-02-25T13:01:19.178Z"
   },
   {
    "duration": 197,
    "start_time": "2025-02-25T13:01:19.408Z"
   },
   {
    "duration": 9,
    "start_time": "2025-02-25T13:01:19.607Z"
   },
   {
    "duration": 156,
    "start_time": "2025-02-25T13:01:19.618Z"
   },
   {
    "duration": 28,
    "start_time": "2025-02-25T13:01:19.776Z"
   },
   {
    "duration": 21,
    "start_time": "2025-02-25T13:01:19.805Z"
   },
   {
    "duration": 6,
    "start_time": "2025-02-25T13:01:19.827Z"
   },
   {
    "duration": 221,
    "start_time": "2025-02-25T13:01:19.834Z"
   },
   {
    "duration": 20,
    "start_time": "2025-02-25T13:01:20.056Z"
   },
   {
    "duration": 443,
    "start_time": "2025-02-25T13:01:20.078Z"
   },
   {
    "duration": 122,
    "start_time": "2025-02-25T13:01:20.523Z"
   },
   {
    "duration": 117,
    "start_time": "2025-02-25T13:01:20.647Z"
   },
   {
    "duration": 60,
    "start_time": "2025-02-25T13:01:20.766Z"
   },
   {
    "duration": 26,
    "start_time": "2025-02-25T13:01:20.828Z"
   },
   {
    "duration": 28,
    "start_time": "2025-02-25T13:01:20.874Z"
   },
   {
    "duration": 8,
    "start_time": "2025-02-25T13:01:20.906Z"
   },
   {
    "duration": 149,
    "start_time": "2025-02-25T13:01:20.915Z"
   },
   {
    "duration": 26,
    "start_time": "2025-02-25T13:01:21.066Z"
   },
   {
    "duration": 11,
    "start_time": "2025-02-25T13:01:21.093Z"
   },
   {
    "duration": 148,
    "start_time": "2025-02-25T13:01:21.105Z"
   },
   {
    "duration": 70,
    "start_time": "2025-02-25T13:01:21.254Z"
   },
   {
    "duration": 481,
    "start_time": "2025-02-25T13:01:21.327Z"
   },
   {
    "duration": 23,
    "start_time": "2025-02-25T13:01:21.809Z"
   },
   {
    "duration": 19,
    "start_time": "2025-02-25T13:01:21.833Z"
   },
   {
    "duration": 82,
    "start_time": "2025-02-25T13:01:21.854Z"
   },
   {
    "duration": 13,
    "start_time": "2025-02-25T13:01:21.938Z"
   },
   {
    "duration": 163,
    "start_time": "2025-02-25T14:09:04.177Z"
   },
   {
    "duration": 7,
    "start_time": "2025-02-25T14:11:36.035Z"
   },
   {
    "duration": 160,
    "start_time": "2025-02-25T14:11:38.716Z"
   },
   {
    "duration": 136,
    "start_time": "2025-02-25T14:11:45.991Z"
   },
   {
    "duration": 214,
    "start_time": "2025-02-25T14:11:52.936Z"
   },
   {
    "duration": 1507,
    "start_time": "2025-02-25T18:06:09.728Z"
   },
   {
    "duration": 4825,
    "start_time": "2025-02-25T18:06:11.237Z"
   },
   {
    "duration": 284,
    "start_time": "2025-02-25T18:06:16.065Z"
   },
   {
    "duration": 11,
    "start_time": "2025-02-25T18:06:16.351Z"
   },
   {
    "duration": 2354,
    "start_time": "2025-02-25T18:06:16.364Z"
   },
   {
    "duration": 3,
    "start_time": "2025-02-25T18:06:18.720Z"
   },
   {
    "duration": 11,
    "start_time": "2025-02-25T18:06:18.725Z"
   },
   {
    "duration": 51,
    "start_time": "2025-02-25T18:06:18.737Z"
   },
   {
    "duration": 3,
    "start_time": "2025-02-25T18:06:18.790Z"
   },
   {
    "duration": 10,
    "start_time": "2025-02-25T18:06:18.796Z"
   },
   {
    "duration": 6,
    "start_time": "2025-02-25T18:06:18.807Z"
   },
   {
    "duration": 10,
    "start_time": "2025-02-25T18:06:18.815Z"
   },
   {
    "duration": 276,
    "start_time": "2025-02-25T18:06:18.826Z"
   },
   {
    "duration": 215,
    "start_time": "2025-02-25T18:06:19.104Z"
   },
   {
    "duration": 11,
    "start_time": "2025-02-25T18:06:19.321Z"
   },
   {
    "duration": 171,
    "start_time": "2025-02-25T18:06:19.335Z"
   },
   {
    "duration": 31,
    "start_time": "2025-02-25T18:06:19.508Z"
   },
   {
    "duration": 34,
    "start_time": "2025-02-25T18:06:19.541Z"
   },
   {
    "duration": 6,
    "start_time": "2025-02-25T18:06:19.577Z"
   },
   {
    "duration": 253,
    "start_time": "2025-02-25T18:06:19.585Z"
   },
   {
    "duration": 12,
    "start_time": "2025-02-25T18:06:19.840Z"
   },
   {
    "duration": 480,
    "start_time": "2025-02-25T18:06:19.862Z"
   },
   {
    "duration": 146,
    "start_time": "2025-02-25T18:06:20.344Z"
   },
   {
    "duration": 147,
    "start_time": "2025-02-25T18:06:20.492Z"
   },
   {
    "duration": 69,
    "start_time": "2025-02-25T18:06:20.642Z"
   },
   {
    "duration": 29,
    "start_time": "2025-02-25T18:06:20.713Z"
   },
   {
    "duration": 33,
    "start_time": "2025-02-25T18:06:20.762Z"
   },
   {
    "duration": 8,
    "start_time": "2025-02-25T18:06:20.798Z"
   },
   {
    "duration": 156,
    "start_time": "2025-02-25T18:06:20.807Z"
   },
   {
    "duration": 22,
    "start_time": "2025-02-25T18:06:20.965Z"
   },
   {
    "duration": 72,
    "start_time": "2025-02-25T18:06:20.988Z"
   },
   {
    "duration": 163,
    "start_time": "2025-02-25T18:06:21.062Z"
   },
   {
    "duration": 59,
    "start_time": "2025-02-25T18:06:21.227Z"
   },
   {
    "duration": 591,
    "start_time": "2025-02-25T18:06:21.288Z"
   },
   {
    "duration": 23,
    "start_time": "2025-02-25T18:06:21.881Z"
   },
   {
    "duration": 25,
    "start_time": "2025-02-25T18:06:21.906Z"
   },
   {
    "duration": 83,
    "start_time": "2025-02-25T18:06:21.933Z"
   },
   {
    "duration": 15,
    "start_time": "2025-02-25T18:06:22.018Z"
   },
   {
    "duration": 1508,
    "start_time": "2025-02-26T13:30:00.017Z"
   },
   {
    "duration": 4750,
    "start_time": "2025-02-26T13:30:01.527Z"
   },
   {
    "duration": 285,
    "start_time": "2025-02-26T13:30:06.279Z"
   },
   {
    "duration": 7,
    "start_time": "2025-02-26T13:30:06.566Z"
   },
   {
    "duration": 2226,
    "start_time": "2025-02-26T13:30:06.577Z"
   },
   {
    "duration": 3,
    "start_time": "2025-02-26T13:30:08.805Z"
   },
   {
    "duration": 8,
    "start_time": "2025-02-26T13:30:08.810Z"
   },
   {
    "duration": 57,
    "start_time": "2025-02-26T13:30:08.820Z"
   },
   {
    "duration": 4,
    "start_time": "2025-02-26T13:30:08.878Z"
   },
   {
    "duration": 29,
    "start_time": "2025-02-26T13:30:08.884Z"
   },
   {
    "duration": 6,
    "start_time": "2025-02-26T13:30:08.915Z"
   },
   {
    "duration": 54,
    "start_time": "2025-02-26T13:30:08.922Z"
   },
   {
    "duration": 338,
    "start_time": "2025-02-26T13:30:08.978Z"
   },
   {
    "duration": 210,
    "start_time": "2025-02-26T13:30:09.319Z"
   },
   {
    "duration": 11,
    "start_time": "2025-02-26T13:30:09.531Z"
   },
   {
    "duration": 177,
    "start_time": "2025-02-26T13:30:09.545Z"
   },
   {
    "duration": 31,
    "start_time": "2025-02-26T13:30:09.724Z"
   },
   {
    "duration": 43,
    "start_time": "2025-02-26T13:30:09.757Z"
   },
   {
    "duration": 9,
    "start_time": "2025-02-26T13:30:09.803Z"
   },
   {
    "duration": 382,
    "start_time": "2025-02-26T13:30:09.814Z"
   },
   {
    "duration": 14,
    "start_time": "2025-02-26T13:30:10.197Z"
   },
   {
    "duration": 437,
    "start_time": "2025-02-26T13:30:10.212Z"
   },
   {
    "duration": 145,
    "start_time": "2025-02-26T13:30:10.651Z"
   },
   {
    "duration": 141,
    "start_time": "2025-02-26T13:30:10.797Z"
   },
   {
    "duration": 75,
    "start_time": "2025-02-26T13:30:10.940Z"
   },
   {
    "duration": 29,
    "start_time": "2025-02-26T13:30:11.017Z"
   },
   {
    "duration": 51,
    "start_time": "2025-02-26T13:30:11.048Z"
   },
   {
    "duration": 10,
    "start_time": "2025-02-26T13:30:11.101Z"
   },
   {
    "duration": 191,
    "start_time": "2025-02-26T13:30:11.112Z"
   },
   {
    "duration": 23,
    "start_time": "2025-02-26T13:30:11.305Z"
   },
   {
    "duration": 15,
    "start_time": "2025-02-26T13:30:11.330Z"
   },
   {
    "duration": 170,
    "start_time": "2025-02-26T13:30:11.371Z"
   },
   {
    "duration": 54,
    "start_time": "2025-02-26T13:30:11.543Z"
   },
   {
    "duration": 561,
    "start_time": "2025-02-26T13:30:11.599Z"
   },
   {
    "duration": 35,
    "start_time": "2025-02-26T13:30:12.162Z"
   },
   {
    "duration": 37,
    "start_time": "2025-02-26T13:30:12.199Z"
   },
   {
    "duration": 76,
    "start_time": "2025-02-26T13:30:12.238Z"
   },
   {
    "duration": 17,
    "start_time": "2025-02-26T13:30:12.316Z"
   },
   {
    "duration": 1117,
    "start_time": "2025-02-26T13:40:21.341Z"
   },
   {
    "duration": 52,
    "start_time": "2025-02-26T13:40:33.589Z"
   },
   {
    "duration": 9,
    "start_time": "2025-02-26T13:42:00.960Z"
   },
   {
    "duration": 11,
    "start_time": "2025-02-26T13:43:29.933Z"
   },
   {
    "duration": 12,
    "start_time": "2025-02-26T13:43:35.661Z"
   },
   {
    "duration": 11,
    "start_time": "2025-02-26T13:44:17.889Z"
   },
   {
    "duration": 165,
    "start_time": "2025-02-26T13:45:30.342Z"
   },
   {
    "duration": 162,
    "start_time": "2025-02-26T13:46:24.948Z"
   },
   {
    "duration": 142,
    "start_time": "2025-02-26T13:46:58.060Z"
   },
   {
    "duration": 195,
    "start_time": "2025-02-26T13:47:31.132Z"
   },
   {
    "duration": 283,
    "start_time": "2025-02-26T13:47:37.114Z"
   },
   {
    "duration": 9,
    "start_time": "2025-02-26T13:51:00.169Z"
   },
   {
    "duration": 1345,
    "start_time": "2025-02-27T05:21:42.264Z"
   },
   {
    "duration": 3958,
    "start_time": "2025-02-27T05:21:43.611Z"
   },
   {
    "duration": 230,
    "start_time": "2025-02-27T05:21:47.571Z"
   },
   {
    "duration": 3,
    "start_time": "2025-02-27T05:21:47.803Z"
   },
   {
    "duration": 2168,
    "start_time": "2025-02-27T05:21:47.807Z"
   },
   {
    "duration": 3,
    "start_time": "2025-02-27T05:21:49.976Z"
   },
   {
    "duration": 8,
    "start_time": "2025-02-27T05:21:49.980Z"
   },
   {
    "duration": 45,
    "start_time": "2025-02-27T05:21:49.989Z"
   },
   {
    "duration": 7,
    "start_time": "2025-02-27T05:21:50.035Z"
   },
   {
    "duration": 22,
    "start_time": "2025-02-27T05:21:50.044Z"
   },
   {
    "duration": 4,
    "start_time": "2025-02-27T05:21:50.067Z"
   },
   {
    "duration": 18,
    "start_time": "2025-02-27T05:21:50.072Z"
   },
   {
    "duration": 228,
    "start_time": "2025-02-27T05:21:50.092Z"
   },
   {
    "duration": 200,
    "start_time": "2025-02-27T05:21:50.321Z"
   },
   {
    "duration": 9,
    "start_time": "2025-02-27T05:21:50.523Z"
   },
   {
    "duration": 147,
    "start_time": "2025-02-27T05:21:50.533Z"
   },
   {
    "duration": 28,
    "start_time": "2025-02-27T05:21:50.682Z"
   },
   {
    "duration": 20,
    "start_time": "2025-02-27T05:21:50.712Z"
   },
   {
    "duration": 29,
    "start_time": "2025-02-27T05:21:50.733Z"
   },
   {
    "duration": 242,
    "start_time": "2025-02-27T05:21:50.763Z"
   },
   {
    "duration": 12,
    "start_time": "2025-02-27T05:21:51.007Z"
   },
   {
    "duration": 457,
    "start_time": "2025-02-27T05:21:51.020Z"
   },
   {
    "duration": 123,
    "start_time": "2025-02-27T05:21:51.478Z"
   },
   {
    "duration": 131,
    "start_time": "2025-02-27T05:21:51.602Z"
   },
   {
    "duration": 63,
    "start_time": "2025-02-27T05:21:51.734Z"
   },
   {
    "duration": 22,
    "start_time": "2025-02-27T05:21:51.798Z"
   },
   {
    "duration": 26,
    "start_time": "2025-02-27T05:21:51.822Z"
   },
   {
    "duration": 7,
    "start_time": "2025-02-27T05:21:51.863Z"
   },
   {
    "duration": 132,
    "start_time": "2025-02-27T05:21:51.871Z"
   },
   {
    "duration": 19,
    "start_time": "2025-02-27T05:21:52.005Z"
   },
   {
    "duration": 32,
    "start_time": "2025-02-27T05:21:52.026Z"
   },
   {
    "duration": 138,
    "start_time": "2025-02-27T05:21:52.059Z"
   },
   {
    "duration": 42,
    "start_time": "2025-02-27T05:21:52.199Z"
   },
   {
    "duration": 502,
    "start_time": "2025-02-27T05:21:52.243Z"
   },
   {
    "duration": 27,
    "start_time": "2025-02-27T05:21:52.746Z"
   },
   {
    "duration": 20,
    "start_time": "2025-02-27T05:21:52.775Z"
   },
   {
    "duration": 79,
    "start_time": "2025-02-27T05:21:52.796Z"
   },
   {
    "duration": 14,
    "start_time": "2025-02-27T05:21:52.877Z"
   },
   {
    "duration": 49,
    "start_time": "2025-02-27T05:21:52.892Z"
   },
   {
    "duration": 275,
    "start_time": "2025-02-27T05:21:52.942Z"
   },
   {
    "duration": 9,
    "start_time": "2025-02-27T05:21:53.218Z"
   },
   {
    "duration": 60,
    "start_time": "2025-02-27T05:22:32.007Z"
   },
   {
    "duration": 58,
    "start_time": "2025-02-27T05:22:39.651Z"
   },
   {
    "duration": 11,
    "start_time": "2025-02-27T05:22:41.690Z"
   },
   {
    "duration": 8,
    "start_time": "2025-02-27T05:22:52.201Z"
   },
   {
    "duration": 8,
    "start_time": "2025-02-27T05:22:58.313Z"
   },
   {
    "duration": 9,
    "start_time": "2025-02-27T05:23:21.583Z"
   },
   {
    "duration": 10,
    "start_time": "2025-02-27T05:23:30.348Z"
   },
   {
    "duration": 237,
    "start_time": "2025-02-27T05:25:15.441Z"
   },
   {
    "duration": 112,
    "start_time": "2025-02-27T05:25:42.985Z"
   },
   {
    "duration": 59,
    "start_time": "2025-02-27T05:25:53.221Z"
   },
   {
    "duration": 121,
    "start_time": "2025-02-27T05:26:03.686Z"
   },
   {
    "duration": 124,
    "start_time": "2025-02-27T05:26:08.960Z"
   },
   {
    "duration": 115,
    "start_time": "2025-02-27T05:26:52.932Z"
   },
   {
    "duration": 55,
    "start_time": "2025-02-27T05:32:41.686Z"
   },
   {
    "duration": 377,
    "start_time": "2025-02-27T05:32:57.802Z"
   },
   {
    "duration": 138,
    "start_time": "2025-02-27T05:33:06.013Z"
   },
   {
    "duration": 11,
    "start_time": "2025-02-27T05:33:31.055Z"
   },
   {
    "duration": 269,
    "start_time": "2025-02-27T05:35:33.296Z"
   },
   {
    "duration": 274,
    "start_time": "2025-02-27T05:35:44.040Z"
   },
   {
    "duration": 267,
    "start_time": "2025-02-27T05:36:05.622Z"
   },
   {
    "duration": 283,
    "start_time": "2025-02-27T05:36:07.941Z"
   },
   {
    "duration": 149,
    "start_time": "2025-02-27T05:36:37.477Z"
   },
   {
    "duration": 265,
    "start_time": "2025-02-27T05:36:47.980Z"
   },
   {
    "duration": 276,
    "start_time": "2025-02-27T05:37:46.511Z"
   },
   {
    "duration": 158,
    "start_time": "2025-02-27T05:38:25.439Z"
   },
   {
    "duration": 285,
    "start_time": "2025-02-27T05:38:31.778Z"
   },
   {
    "duration": 58,
    "start_time": "2025-02-27T05:42:00.589Z"
   },
   {
    "duration": 274,
    "start_time": "2025-02-27T05:43:50.181Z"
   },
   {
    "duration": 148,
    "start_time": "2025-02-27T05:46:25.017Z"
   },
   {
    "duration": 9,
    "start_time": "2025-02-27T05:49:43.670Z"
   },
   {
    "duration": 46,
    "start_time": "2025-03-01T04:57:03.661Z"
   },
   {
    "duration": 7,
    "start_time": "2025-03-01T04:57:07.826Z"
   },
   {
    "duration": 1239,
    "start_time": "2025-03-01T04:57:48.800Z"
   },
   {
    "duration": 3992,
    "start_time": "2025-03-01T04:57:50.041Z"
   },
   {
    "duration": 224,
    "start_time": "2025-03-01T04:57:54.035Z"
   },
   {
    "duration": 3,
    "start_time": "2025-03-01T04:57:54.261Z"
   },
   {
    "duration": 2286,
    "start_time": "2025-03-01T04:57:54.265Z"
   },
   {
    "duration": 3,
    "start_time": "2025-03-01T04:57:56.552Z"
   },
   {
    "duration": 7,
    "start_time": "2025-03-01T04:57:56.556Z"
   },
   {
    "duration": 35,
    "start_time": "2025-03-01T04:57:56.564Z"
   },
   {
    "duration": 2,
    "start_time": "2025-03-01T04:57:56.601Z"
   },
   {
    "duration": 6,
    "start_time": "2025-03-01T04:57:56.605Z"
   },
   {
    "duration": 9,
    "start_time": "2025-03-01T04:57:56.612Z"
   },
   {
    "duration": 32,
    "start_time": "2025-03-01T04:57:56.622Z"
   },
   {
    "duration": 213,
    "start_time": "2025-03-01T04:57:56.656Z"
   },
   {
    "duration": 165,
    "start_time": "2025-03-01T04:57:56.870Z"
   },
   {
    "duration": 12,
    "start_time": "2025-03-01T04:57:57.036Z"
   },
   {
    "duration": 136,
    "start_time": "2025-03-01T04:57:57.050Z"
   },
   {
    "duration": 36,
    "start_time": "2025-03-01T04:57:57.188Z"
   },
   {
    "duration": 64,
    "start_time": "2025-03-01T04:57:57.225Z"
   },
   {
    "duration": 15,
    "start_time": "2025-03-01T04:57:57.291Z"
   },
   {
    "duration": 187,
    "start_time": "2025-03-01T04:57:57.308Z"
   },
   {
    "duration": 11,
    "start_time": "2025-03-01T04:57:57.496Z"
   },
   {
    "duration": 478,
    "start_time": "2025-03-01T04:57:57.508Z"
   },
   {
    "duration": 116,
    "start_time": "2025-03-01T04:57:57.988Z"
   },
   {
    "duration": 116,
    "start_time": "2025-03-01T04:57:58.106Z"
   },
   {
    "duration": 73,
    "start_time": "2025-03-01T04:57:58.224Z"
   },
   {
    "duration": 23,
    "start_time": "2025-03-01T04:57:58.298Z"
   },
   {
    "duration": 45,
    "start_time": "2025-03-01T04:57:58.322Z"
   },
   {
    "duration": 6,
    "start_time": "2025-03-01T04:57:58.370Z"
   },
   {
    "duration": 123,
    "start_time": "2025-03-01T04:57:58.377Z"
   },
   {
    "duration": 60,
    "start_time": "2025-03-01T04:57:58.502Z"
   },
   {
    "duration": 9,
    "start_time": "2025-03-01T04:57:58.564Z"
   },
   {
    "duration": 136,
    "start_time": "2025-03-01T04:57:58.574Z"
   },
   {
    "duration": 44,
    "start_time": "2025-03-01T04:57:58.711Z"
   },
   {
    "duration": 430,
    "start_time": "2025-03-01T04:57:58.756Z"
   },
   {
    "duration": 20,
    "start_time": "2025-03-01T04:57:59.187Z"
   },
   {
    "duration": 93,
    "start_time": "2025-03-01T04:57:59.208Z"
   },
   {
    "duration": 59,
    "start_time": "2025-03-01T04:57:59.302Z"
   },
   {
    "duration": 11,
    "start_time": "2025-03-01T04:57:59.362Z"
   },
   {
    "duration": 109,
    "start_time": "2025-03-01T04:57:59.374Z"
   },
   {
    "duration": 240,
    "start_time": "2025-03-01T04:57:59.484Z"
   },
   {
    "duration": 136,
    "start_time": "2025-03-01T04:57:59.726Z"
   },
   {
    "duration": 8,
    "start_time": "2025-03-01T04:57:59.863Z"
   },
   {
    "duration": 13,
    "start_time": "2025-03-01T04:57:59.872Z"
   },
   {
    "duration": 1111,
    "start_time": "2025-03-01T05:14:11.097Z"
   },
   {
    "duration": 2238,
    "start_time": "2025-03-01T05:14:12.210Z"
   },
   {
    "duration": 216,
    "start_time": "2025-03-01T05:14:14.450Z"
   },
   {
    "duration": 2,
    "start_time": "2025-03-01T05:14:14.669Z"
   },
   {
    "duration": 2305,
    "start_time": "2025-03-01T05:14:14.673Z"
   },
   {
    "duration": 3,
    "start_time": "2025-03-01T05:14:16.979Z"
   },
   {
    "duration": 6,
    "start_time": "2025-03-01T05:14:16.984Z"
   },
   {
    "duration": 41,
    "start_time": "2025-03-01T05:14:16.992Z"
   },
   {
    "duration": 3,
    "start_time": "2025-03-01T05:14:17.047Z"
   },
   {
    "duration": 6,
    "start_time": "2025-03-01T05:14:17.052Z"
   },
   {
    "duration": 5,
    "start_time": "2025-03-01T05:14:17.059Z"
   },
   {
    "duration": 6,
    "start_time": "2025-03-01T05:14:17.066Z"
   },
   {
    "duration": 233,
    "start_time": "2025-03-01T05:14:17.074Z"
   },
   {
    "duration": 185,
    "start_time": "2025-03-01T05:14:17.309Z"
   },
   {
    "duration": 10,
    "start_time": "2025-03-01T05:14:17.495Z"
   },
   {
    "duration": 137,
    "start_time": "2025-03-01T05:14:17.506Z"
   },
   {
    "duration": 22,
    "start_time": "2025-03-01T05:14:17.648Z"
   },
   {
    "duration": 32,
    "start_time": "2025-03-01T05:14:17.672Z"
   },
   {
    "duration": 6,
    "start_time": "2025-03-01T05:14:17.706Z"
   },
   {
    "duration": 199,
    "start_time": "2025-03-01T05:14:17.714Z"
   },
   {
    "duration": 10,
    "start_time": "2025-03-01T05:14:17.915Z"
   },
   {
    "duration": 419,
    "start_time": "2025-03-01T05:14:17.927Z"
   },
   {
    "duration": 117,
    "start_time": "2025-03-01T05:14:18.348Z"
   },
   {
    "duration": 111,
    "start_time": "2025-03-01T05:14:18.467Z"
   },
   {
    "duration": 111,
    "start_time": "2025-03-01T05:14:18.580Z"
   },
   {
    "duration": 23,
    "start_time": "2025-03-01T05:14:18.692Z"
   },
   {
    "duration": 53,
    "start_time": "2025-03-01T05:14:18.717Z"
   },
   {
    "duration": 6,
    "start_time": "2025-03-01T05:14:18.773Z"
   },
   {
    "duration": 133,
    "start_time": "2025-03-01T05:14:18.781Z"
   },
   {
    "duration": 19,
    "start_time": "2025-03-01T05:14:18.915Z"
   },
   {
    "duration": 20,
    "start_time": "2025-03-01T05:14:18.935Z"
   },
   {
    "duration": 129,
    "start_time": "2025-03-01T05:14:18.956Z"
   },
   {
    "duration": 39,
    "start_time": "2025-03-01T05:14:19.087Z"
   },
   {
    "duration": 454,
    "start_time": "2025-03-01T05:14:19.128Z"
   },
   {
    "duration": 20,
    "start_time": "2025-03-01T05:14:19.583Z"
   },
   {
    "duration": 102,
    "start_time": "2025-03-01T05:14:19.605Z"
   },
   {
    "duration": 61,
    "start_time": "2025-03-01T05:14:19.708Z"
   },
   {
    "duration": 11,
    "start_time": "2025-03-01T05:14:19.771Z"
   },
   {
    "duration": 55,
    "start_time": "2025-03-01T05:14:19.784Z"
   },
   {
    "duration": 257,
    "start_time": "2025-03-01T05:14:19.848Z"
   },
   {
    "duration": 151,
    "start_time": "2025-03-01T05:14:20.106Z"
   },
   {
    "duration": 8,
    "start_time": "2025-03-01T05:14:20.259Z"
   },
   {
    "duration": 4,
    "start_time": "2025-03-01T05:14:20.269Z"
   },
   {
    "duration": 4,
    "start_time": "2025-03-01T05:17:02.874Z"
   },
   {
    "duration": 50,
    "start_time": "2025-03-01T05:18:42.975Z"
   },
   {
    "duration": 268,
    "start_time": "2025-03-01T05:18:58.162Z"
   },
   {
    "duration": 246,
    "start_time": "2025-03-01T05:19:02.849Z"
   },
   {
    "duration": 340,
    "start_time": "2025-03-01T05:19:11.512Z"
   },
   {
    "duration": 276,
    "start_time": "2025-03-01T05:19:17.987Z"
   },
   {
    "duration": 249,
    "start_time": "2025-03-01T05:19:22.012Z"
   },
   {
    "duration": 28,
    "start_time": "2025-03-01T06:02:48.602Z"
   },
   {
    "duration": 26,
    "start_time": "2025-03-01T06:03:00.340Z"
   },
   {
    "duration": 45,
    "start_time": "2025-03-01T06:03:42.766Z"
   },
   {
    "duration": 28,
    "start_time": "2025-03-01T06:04:48.878Z"
   },
   {
    "duration": 138,
    "start_time": "2025-03-01T06:07:20.041Z"
   },
   {
    "duration": 178,
    "start_time": "2025-03-01T06:07:25.916Z"
   },
   {
    "duration": 740,
    "start_time": "2025-03-01T06:09:15.890Z"
   },
   {
    "duration": 1151,
    "start_time": "2025-03-01T06:09:35.807Z"
   },
   {
    "duration": 2336,
    "start_time": "2025-03-01T06:09:36.960Z"
   },
   {
    "duration": 217,
    "start_time": "2025-03-01T06:09:39.298Z"
   },
   {
    "duration": 2,
    "start_time": "2025-03-01T06:09:39.517Z"
   },
   {
    "duration": 2260,
    "start_time": "2025-03-01T06:09:39.520Z"
   },
   {
    "duration": 2,
    "start_time": "2025-03-01T06:09:41.782Z"
   },
   {
    "duration": 59,
    "start_time": "2025-03-01T06:09:41.785Z"
   },
   {
    "duration": 32,
    "start_time": "2025-03-01T06:09:41.845Z"
   },
   {
    "duration": 78,
    "start_time": "2025-03-01T06:09:41.878Z"
   },
   {
    "duration": 13,
    "start_time": "2025-03-01T06:09:41.959Z"
   },
   {
    "duration": 5,
    "start_time": "2025-03-01T06:09:41.973Z"
   },
   {
    "duration": 8,
    "start_time": "2025-03-01T06:09:41.979Z"
   },
   {
    "duration": 224,
    "start_time": "2025-03-01T06:09:41.989Z"
   },
   {
    "duration": 180,
    "start_time": "2025-03-01T06:09:42.214Z"
   },
   {
    "duration": 10,
    "start_time": "2025-03-01T06:09:42.395Z"
   },
   {
    "duration": 148,
    "start_time": "2025-03-01T06:09:42.407Z"
   },
   {
    "duration": 28,
    "start_time": "2025-03-01T06:09:42.556Z"
   },
   {
    "duration": 19,
    "start_time": "2025-03-01T06:09:42.585Z"
   },
   {
    "duration": 58,
    "start_time": "2025-03-01T06:09:42.606Z"
   },
   {
    "duration": 200,
    "start_time": "2025-03-01T06:09:42.667Z"
   },
   {
    "duration": 11,
    "start_time": "2025-03-01T06:09:42.869Z"
   },
   {
    "duration": 468,
    "start_time": "2025-03-01T06:09:42.881Z"
   },
   {
    "duration": 124,
    "start_time": "2025-03-01T06:09:43.350Z"
   },
   {
    "duration": 124,
    "start_time": "2025-03-01T06:09:43.476Z"
   },
   {
    "duration": 63,
    "start_time": "2025-03-01T06:09:43.601Z"
   },
   {
    "duration": 21,
    "start_time": "2025-03-01T06:09:43.666Z"
   },
   {
    "duration": 64,
    "start_time": "2025-03-01T06:09:43.688Z"
   },
   {
    "duration": 9,
    "start_time": "2025-03-01T06:09:43.755Z"
   },
   {
    "duration": 202,
    "start_time": "2025-03-01T06:09:43.766Z"
   },
   {
    "duration": 20,
    "start_time": "2025-03-01T06:09:43.969Z"
   },
   {
    "duration": 18,
    "start_time": "2025-03-01T06:09:43.991Z"
   },
   {
    "duration": 139,
    "start_time": "2025-03-01T06:09:44.010Z"
   },
   {
    "duration": 43,
    "start_time": "2025-03-01T06:09:44.151Z"
   },
   {
    "duration": 474,
    "start_time": "2025-03-01T06:09:44.195Z"
   },
   {
    "duration": 22,
    "start_time": "2025-03-01T06:09:44.670Z"
   },
   {
    "duration": 23,
    "start_time": "2025-03-01T06:09:44.693Z"
   },
   {
    "duration": 73,
    "start_time": "2025-03-01T06:09:44.718Z"
   },
   {
    "duration": 12,
    "start_time": "2025-03-01T06:09:44.792Z"
   },
   {
    "duration": 61,
    "start_time": "2025-03-01T06:09:44.806Z"
   },
   {
    "duration": 329,
    "start_time": "2025-03-01T06:09:44.868Z"
   },
   {
    "duration": 159,
    "start_time": "2025-03-01T06:09:45.199Z"
   },
   {
    "duration": 10,
    "start_time": "2025-03-01T06:09:45.360Z"
   },
   {
    "duration": 896,
    "start_time": "2025-03-01T06:09:45.372Z"
   },
   {
    "duration": 0,
    "start_time": "2025-03-01T06:09:46.269Z"
   },
   {
    "duration": 771,
    "start_time": "2025-03-01T06:09:54.827Z"
   },
   {
    "duration": 237,
    "start_time": "2025-03-01T06:11:16.214Z"
   },
   {
    "duration": 212,
    "start_time": "2025-03-01T06:11:28.326Z"
   },
   {
    "duration": 189,
    "start_time": "2025-03-01T06:11:53.128Z"
   },
   {
    "duration": 13,
    "start_time": "2025-03-01T06:13:45.128Z"
   },
   {
    "duration": 1272,
    "start_time": "2025-03-01T06:15:09.554Z"
   },
   {
    "duration": 1231,
    "start_time": "2025-03-01T06:15:29.329Z"
   },
   {
    "duration": 1475,
    "start_time": "2025-03-01T06:15:54.328Z"
   },
   {
    "duration": 10,
    "start_time": "2025-03-01T06:15:58.665Z"
   },
   {
    "duration": 32,
    "start_time": "2025-03-01T06:16:17.142Z"
   },
   {
    "duration": 156,
    "start_time": "2025-03-01T06:21:14.336Z"
   },
   {
    "duration": 1686,
    "start_time": "2025-03-01T06:23:30.667Z"
   },
   {
    "duration": 1174,
    "start_time": "2025-03-01T06:23:55.161Z"
   },
   {
    "duration": 2440,
    "start_time": "2025-03-01T06:23:56.337Z"
   },
   {
    "duration": 238,
    "start_time": "2025-03-01T06:23:58.779Z"
   },
   {
    "duration": 3,
    "start_time": "2025-03-01T06:23:59.019Z"
   },
   {
    "duration": 2015,
    "start_time": "2025-03-01T06:23:59.025Z"
   },
   {
    "duration": 9,
    "start_time": "2025-03-01T06:24:01.042Z"
   },
   {
    "duration": 15,
    "start_time": "2025-03-01T06:24:01.054Z"
   },
   {
    "duration": 53,
    "start_time": "2025-03-01T06:24:01.071Z"
   },
   {
    "duration": 3,
    "start_time": "2025-03-01T06:24:01.125Z"
   },
   {
    "duration": 97,
    "start_time": "2025-03-01T06:24:01.129Z"
   },
   {
    "duration": 11,
    "start_time": "2025-03-01T06:24:01.228Z"
   },
   {
    "duration": 36,
    "start_time": "2025-03-01T06:24:01.241Z"
   },
   {
    "duration": 246,
    "start_time": "2025-03-01T06:24:01.278Z"
   },
   {
    "duration": 206,
    "start_time": "2025-03-01T06:24:01.528Z"
   },
   {
    "duration": 19,
    "start_time": "2025-03-01T06:24:01.735Z"
   },
   {
    "duration": 258,
    "start_time": "2025-03-01T06:24:01.759Z"
   },
   {
    "duration": 104,
    "start_time": "2025-03-01T06:24:02.019Z"
   },
   {
    "duration": 19,
    "start_time": "2025-03-01T06:24:02.124Z"
   },
   {
    "duration": 17,
    "start_time": "2025-03-01T06:24:02.145Z"
   },
   {
    "duration": 218,
    "start_time": "2025-03-01T06:24:02.164Z"
   },
   {
    "duration": 11,
    "start_time": "2025-03-01T06:24:02.384Z"
   },
   {
    "duration": 514,
    "start_time": "2025-03-01T06:24:02.397Z"
   },
   {
    "duration": 118,
    "start_time": "2025-03-01T06:24:02.913Z"
   },
   {
    "duration": 147,
    "start_time": "2025-03-01T06:24:03.032Z"
   },
   {
    "duration": 51,
    "start_time": "2025-03-01T06:24:03.180Z"
   },
   {
    "duration": 38,
    "start_time": "2025-03-01T06:24:03.233Z"
   },
   {
    "duration": 43,
    "start_time": "2025-03-01T06:24:03.272Z"
   },
   {
    "duration": 6,
    "start_time": "2025-03-01T06:24:03.316Z"
   },
   {
    "duration": 142,
    "start_time": "2025-03-01T06:24:03.324Z"
   },
   {
    "duration": 19,
    "start_time": "2025-03-01T06:24:03.467Z"
   },
   {
    "duration": 108,
    "start_time": "2025-03-01T06:24:03.487Z"
   },
   {
    "duration": 181,
    "start_time": "2025-03-01T06:24:03.596Z"
   },
   {
    "duration": 82,
    "start_time": "2025-03-01T06:24:03.778Z"
   },
   {
    "duration": 495,
    "start_time": "2025-03-01T06:24:03.861Z"
   },
   {
    "duration": 22,
    "start_time": "2025-03-01T06:24:04.363Z"
   },
   {
    "duration": 96,
    "start_time": "2025-03-01T06:24:04.387Z"
   },
   {
    "duration": 94,
    "start_time": "2025-03-01T06:24:04.485Z"
   },
   {
    "duration": 12,
    "start_time": "2025-03-01T06:24:04.580Z"
   },
   {
    "duration": 74,
    "start_time": "2025-03-01T06:24:04.594Z"
   },
   {
    "duration": 302,
    "start_time": "2025-03-01T06:24:04.669Z"
   },
   {
    "duration": 152,
    "start_time": "2025-03-01T06:24:04.974Z"
   },
   {
    "duration": 11,
    "start_time": "2025-03-01T06:24:05.128Z"
   },
   {
    "duration": 1585,
    "start_time": "2025-03-01T06:24:05.141Z"
   },
   {
    "duration": 118,
    "start_time": "2025-03-01T06:24:36.875Z"
   },
   {
    "duration": 135,
    "start_time": "2025-03-01T06:24:40.599Z"
   },
   {
    "duration": 1380,
    "start_time": "2025-03-01T06:24:47.387Z"
   },
   {
    "duration": 1243,
    "start_time": "2025-03-01T06:25:01.712Z"
   },
   {
    "duration": 66,
    "start_time": "2025-03-01T06:25:08.575Z"
   },
   {
    "duration": 1314,
    "start_time": "2025-03-01T06:25:30.976Z"
   },
   {
    "duration": 26,
    "start_time": "2025-03-01T06:25:39.388Z"
   },
   {
    "duration": 194,
    "start_time": "2025-03-01T06:25:58.088Z"
   },
   {
    "duration": 26,
    "start_time": "2025-03-01T06:30:29.263Z"
   },
   {
    "duration": 9,
    "start_time": "2025-03-01T06:30:44.426Z"
   },
   {
    "duration": 1353,
    "start_time": "2025-03-01T12:44:36.476Z"
   },
   {
    "duration": 4052,
    "start_time": "2025-03-01T12:44:37.831Z"
   },
   {
    "duration": 218,
    "start_time": "2025-03-01T12:44:41.885Z"
   },
   {
    "duration": 2,
    "start_time": "2025-03-01T12:44:42.110Z"
   },
   {
    "duration": 2087,
    "start_time": "2025-03-01T12:44:42.114Z"
   },
   {
    "duration": 2,
    "start_time": "2025-03-01T12:44:44.203Z"
   },
   {
    "duration": 20,
    "start_time": "2025-03-01T12:44:44.206Z"
   },
   {
    "duration": 39,
    "start_time": "2025-03-01T12:44:44.227Z"
   },
   {
    "duration": 3,
    "start_time": "2025-03-01T12:44:44.267Z"
   },
   {
    "duration": 16,
    "start_time": "2025-03-01T12:44:44.272Z"
   },
   {
    "duration": 10,
    "start_time": "2025-03-01T12:44:44.289Z"
   },
   {
    "duration": 7,
    "start_time": "2025-03-01T12:44:44.301Z"
   },
   {
    "duration": 221,
    "start_time": "2025-03-01T12:44:44.310Z"
   },
   {
    "duration": 194,
    "start_time": "2025-03-01T12:44:44.533Z"
   },
   {
    "duration": 9,
    "start_time": "2025-03-01T12:44:44.728Z"
   },
   {
    "duration": 144,
    "start_time": "2025-03-01T12:44:44.739Z"
   },
   {
    "duration": 36,
    "start_time": "2025-03-01T12:44:44.885Z"
   },
   {
    "duration": 66,
    "start_time": "2025-03-01T12:44:44.923Z"
   },
   {
    "duration": 5,
    "start_time": "2025-03-01T12:44:44.990Z"
   },
   {
    "duration": 204,
    "start_time": "2025-03-01T12:44:44.997Z"
   },
   {
    "duration": 15,
    "start_time": "2025-03-01T12:44:45.202Z"
   },
   {
    "duration": 440,
    "start_time": "2025-03-01T12:44:45.218Z"
   },
   {
    "duration": 123,
    "start_time": "2025-03-01T12:44:45.659Z"
   },
   {
    "duration": 119,
    "start_time": "2025-03-01T12:44:45.783Z"
   },
   {
    "duration": 56,
    "start_time": "2025-03-01T12:44:45.909Z"
   },
   {
    "duration": 42,
    "start_time": "2025-03-01T12:44:45.967Z"
   },
   {
    "duration": 27,
    "start_time": "2025-03-01T12:44:46.010Z"
   },
   {
    "duration": 7,
    "start_time": "2025-03-01T12:44:46.040Z"
   },
   {
    "duration": 139,
    "start_time": "2025-03-01T12:44:46.048Z"
   },
   {
    "duration": 28,
    "start_time": "2025-03-01T12:44:46.189Z"
   },
   {
    "duration": 10,
    "start_time": "2025-03-01T12:44:46.219Z"
   },
   {
    "duration": 148,
    "start_time": "2025-03-01T12:44:46.231Z"
   },
   {
    "duration": 50,
    "start_time": "2025-03-01T12:44:46.380Z"
   },
   {
    "duration": 460,
    "start_time": "2025-03-01T12:44:46.432Z"
   },
   {
    "duration": 27,
    "start_time": "2025-03-01T12:44:46.894Z"
   },
   {
    "duration": 79,
    "start_time": "2025-03-01T12:44:46.923Z"
   },
   {
    "duration": 67,
    "start_time": "2025-03-01T12:44:47.004Z"
   },
   {
    "duration": 12,
    "start_time": "2025-03-01T12:44:47.073Z"
   },
   {
    "duration": 53,
    "start_time": "2025-03-01T12:44:47.087Z"
   },
   {
    "duration": 281,
    "start_time": "2025-03-01T12:44:47.141Z"
   },
   {
    "duration": 147,
    "start_time": "2025-03-01T12:44:47.423Z"
   },
   {
    "duration": 9,
    "start_time": "2025-03-01T12:44:47.571Z"
   },
   {
    "duration": 195,
    "start_time": "2025-03-01T12:44:47.581Z"
   },
   {
    "duration": 7,
    "start_time": "2025-03-01T12:44:47.777Z"
   },
   {
    "duration": 107,
    "start_time": "2025-03-01T13:07:42.224Z"
   },
   {
    "duration": 216,
    "start_time": "2025-03-01T13:08:04.027Z"
   },
   {
    "duration": 101,
    "start_time": "2025-03-01T13:08:30.799Z"
   },
   {
    "duration": 146,
    "start_time": "2025-03-01T13:09:54.625Z"
   },
   {
    "duration": 12,
    "start_time": "2025-03-01T13:10:32.137Z"
   },
   {
    "duration": 235,
    "start_time": "2025-03-01T13:10:35.200Z"
   },
   {
    "duration": 133,
    "start_time": "2025-03-01T13:10:40.836Z"
   },
   {
    "duration": 230,
    "start_time": "2025-03-01T13:10:50.699Z"
   },
   {
    "duration": 110,
    "start_time": "2025-03-01T13:11:33.562Z"
   },
   {
    "duration": 124,
    "start_time": "2025-03-01T13:12:00.573Z"
   },
   {
    "duration": 7,
    "start_time": "2025-03-01T13:23:15.811Z"
   },
   {
    "duration": 6,
    "start_time": "2025-03-01T13:23:31.825Z"
   },
   {
    "duration": 7,
    "start_time": "2025-03-01T13:24:44.806Z"
   },
   {
    "duration": 7,
    "start_time": "2025-03-01T13:24:49.338Z"
   },
   {
    "duration": 6,
    "start_time": "2025-03-01T13:24:58.362Z"
   },
   {
    "duration": 6,
    "start_time": "2025-03-01T13:25:02.817Z"
   },
   {
    "duration": 7,
    "start_time": "2025-03-01T13:25:06.776Z"
   },
   {
    "duration": 6,
    "start_time": "2025-03-01T13:25:10.539Z"
   },
   {
    "duration": 6,
    "start_time": "2025-03-01T13:25:12.965Z"
   },
   {
    "duration": 5,
    "start_time": "2025-03-01T13:35:03.678Z"
   },
   {
    "duration": 5,
    "start_time": "2025-03-01T13:35:33.643Z"
   },
   {
    "duration": 6,
    "start_time": "2025-03-01T13:37:01.327Z"
   },
   {
    "duration": 4,
    "start_time": "2025-03-01T13:40:05.117Z"
   },
   {
    "duration": 29,
    "start_time": "2025-03-01T13:40:12.640Z"
   },
   {
    "duration": 10,
    "start_time": "2025-03-01T13:40:34.115Z"
   },
   {
    "duration": 117,
    "start_time": "2025-03-01T13:43:24.328Z"
   },
   {
    "duration": 7,
    "start_time": "2025-03-01T13:45:17.129Z"
   },
   {
    "duration": 7,
    "start_time": "2025-03-01T13:47:37.620Z"
   },
   {
    "duration": 6,
    "start_time": "2025-03-01T13:47:55.753Z"
   },
   {
    "duration": 6,
    "start_time": "2025-03-01T13:47:58.591Z"
   },
   {
    "duration": 7,
    "start_time": "2025-03-01T13:48:02.403Z"
   },
   {
    "duration": 7,
    "start_time": "2025-03-01T13:48:14.665Z"
   },
   {
    "duration": 6,
    "start_time": "2025-03-01T13:48:24.191Z"
   },
   {
    "duration": 6,
    "start_time": "2025-03-01T13:48:33.778Z"
   },
   {
    "duration": 6,
    "start_time": "2025-03-01T13:56:06.180Z"
   },
   {
    "duration": 10,
    "start_time": "2025-03-01T13:59:58.602Z"
   },
   {
    "duration": 123,
    "start_time": "2025-03-01T14:00:02.702Z"
   },
   {
    "duration": 1182,
    "start_time": "2025-03-01T14:00:11.482Z"
   },
   {
    "duration": 2367,
    "start_time": "2025-03-01T14:00:12.666Z"
   },
   {
    "duration": 219,
    "start_time": "2025-03-01T14:00:15.038Z"
   },
   {
    "duration": 3,
    "start_time": "2025-03-01T14:00:15.258Z"
   },
   {
    "duration": 3161,
    "start_time": "2025-03-01T14:00:15.263Z"
   },
   {
    "duration": 3,
    "start_time": "2025-03-01T14:00:18.426Z"
   },
   {
    "duration": 47,
    "start_time": "2025-03-01T14:00:18.431Z"
   },
   {
    "duration": 37,
    "start_time": "2025-03-01T14:00:18.480Z"
   },
   {
    "duration": 3,
    "start_time": "2025-03-01T14:00:18.520Z"
   },
   {
    "duration": 15,
    "start_time": "2025-03-01T14:00:18.524Z"
   },
   {
    "duration": 3,
    "start_time": "2025-03-01T14:00:18.541Z"
   },
   {
    "duration": 7,
    "start_time": "2025-03-01T14:00:18.546Z"
   },
   {
    "duration": 239,
    "start_time": "2025-03-01T14:00:18.555Z"
   },
   {
    "duration": 223,
    "start_time": "2025-03-01T14:00:18.796Z"
   },
   {
    "duration": 8,
    "start_time": "2025-03-01T14:00:19.021Z"
   },
   {
    "duration": 190,
    "start_time": "2025-03-01T14:00:19.031Z"
   },
   {
    "duration": 26,
    "start_time": "2025-03-01T14:00:19.222Z"
   },
   {
    "duration": 60,
    "start_time": "2025-03-01T14:00:19.250Z"
   },
   {
    "duration": 6,
    "start_time": "2025-03-01T14:00:19.311Z"
   },
   {
    "duration": 278,
    "start_time": "2025-03-01T14:00:19.318Z"
   },
   {
    "duration": 20,
    "start_time": "2025-03-01T14:00:19.597Z"
   },
   {
    "duration": 420,
    "start_time": "2025-03-01T14:00:19.618Z"
   },
   {
    "duration": 111,
    "start_time": "2025-03-01T14:00:20.040Z"
   },
   {
    "duration": 120,
    "start_time": "2025-03-01T14:00:20.153Z"
   },
   {
    "duration": 63,
    "start_time": "2025-03-01T14:00:20.275Z"
   },
   {
    "duration": 24,
    "start_time": "2025-03-01T14:00:20.340Z"
   },
   {
    "duration": 47,
    "start_time": "2025-03-01T14:00:20.369Z"
   },
   {
    "duration": 51,
    "start_time": "2025-03-01T14:00:20.418Z"
   },
   {
    "duration": 123,
    "start_time": "2025-03-01T14:00:20.471Z"
   },
   {
    "duration": 25,
    "start_time": "2025-03-01T14:00:20.596Z"
   },
   {
    "duration": 35,
    "start_time": "2025-03-01T14:00:20.624Z"
   },
   {
    "duration": 135,
    "start_time": "2025-03-01T14:00:20.660Z"
   },
   {
    "duration": 48,
    "start_time": "2025-03-01T14:00:20.797Z"
   },
   {
    "duration": 466,
    "start_time": "2025-03-01T14:00:20.847Z"
   },
   {
    "duration": 22,
    "start_time": "2025-03-01T14:00:21.314Z"
   },
   {
    "duration": 69,
    "start_time": "2025-03-01T14:00:21.338Z"
   },
   {
    "duration": 58,
    "start_time": "2025-03-01T14:00:21.409Z"
   },
   {
    "duration": 11,
    "start_time": "2025-03-01T14:00:21.469Z"
   },
   {
    "duration": 68,
    "start_time": "2025-03-01T14:00:21.481Z"
   },
   {
    "duration": 270,
    "start_time": "2025-03-01T14:00:21.550Z"
   },
   {
    "duration": 157,
    "start_time": "2025-03-01T14:00:21.821Z"
   },
   {
    "duration": 9,
    "start_time": "2025-03-01T14:00:21.979Z"
   },
   {
    "duration": 201,
    "start_time": "2025-03-01T14:00:21.989Z"
   },
   {
    "duration": 20,
    "start_time": "2025-03-01T14:00:22.191Z"
   },
   {
    "duration": 151,
    "start_time": "2025-03-01T14:00:22.214Z"
   },
   {
    "duration": 7,
    "start_time": "2025-03-01T14:00:22.367Z"
   },
   {
    "duration": 31,
    "start_time": "2025-03-01T14:00:22.376Z"
   },
   {
    "duration": 174,
    "start_time": "2025-03-01T14:00:22.409Z"
   },
   {
    "duration": 7,
    "start_time": "2025-03-01T14:00:22.585Z"
   },
   {
    "duration": 6,
    "start_time": "2025-03-01T14:01:08.853Z"
   },
   {
    "duration": 10,
    "start_time": "2025-03-01T14:01:15.277Z"
   },
   {
    "duration": 127,
    "start_time": "2025-03-01T14:01:23.752Z"
   },
   {
    "duration": 6,
    "start_time": "2025-03-01T14:01:26.115Z"
   },
   {
    "duration": 5,
    "start_time": "2025-03-01T14:05:32.415Z"
   },
   {
    "duration": 1143,
    "start_time": "2025-03-01T14:05:41.773Z"
   },
   {
    "duration": 2316,
    "start_time": "2025-03-01T14:05:42.919Z"
   },
   {
    "duration": 220,
    "start_time": "2025-03-01T14:05:45.237Z"
   },
   {
    "duration": 4,
    "start_time": "2025-03-01T14:05:45.459Z"
   },
   {
    "duration": 2057,
    "start_time": "2025-03-01T14:05:45.464Z"
   },
   {
    "duration": 3,
    "start_time": "2025-03-01T14:05:47.523Z"
   },
   {
    "duration": 10,
    "start_time": "2025-03-01T14:05:47.527Z"
   },
   {
    "duration": 40,
    "start_time": "2025-03-01T14:05:47.539Z"
   },
   {
    "duration": 3,
    "start_time": "2025-03-01T14:05:47.581Z"
   },
   {
    "duration": 23,
    "start_time": "2025-03-01T14:05:47.586Z"
   },
   {
    "duration": 14,
    "start_time": "2025-03-01T14:05:47.611Z"
   },
   {
    "duration": 12,
    "start_time": "2025-03-01T14:05:47.627Z"
   },
   {
    "duration": 220,
    "start_time": "2025-03-01T14:05:47.640Z"
   },
   {
    "duration": 176,
    "start_time": "2025-03-01T14:05:47.862Z"
   },
   {
    "duration": 8,
    "start_time": "2025-03-01T14:05:48.040Z"
   },
   {
    "duration": 143,
    "start_time": "2025-03-01T14:05:48.050Z"
   },
   {
    "duration": 38,
    "start_time": "2025-03-01T14:05:48.194Z"
   },
   {
    "duration": 20,
    "start_time": "2025-03-01T14:05:48.234Z"
   },
   {
    "duration": 5,
    "start_time": "2025-03-01T14:05:48.256Z"
   },
   {
    "duration": 225,
    "start_time": "2025-03-01T14:05:48.263Z"
   },
   {
    "duration": 20,
    "start_time": "2025-03-01T14:05:48.490Z"
   },
   {
    "duration": 445,
    "start_time": "2025-03-01T14:05:48.511Z"
   },
   {
    "duration": 117,
    "start_time": "2025-03-01T14:05:48.958Z"
   },
   {
    "duration": 116,
    "start_time": "2025-03-01T14:05:49.076Z"
   },
   {
    "duration": 58,
    "start_time": "2025-03-01T14:05:49.194Z"
   },
   {
    "duration": 24,
    "start_time": "2025-03-01T14:05:49.254Z"
   },
   {
    "duration": 39,
    "start_time": "2025-03-01T14:05:49.279Z"
   },
   {
    "duration": 6,
    "start_time": "2025-03-01T14:05:49.321Z"
   },
   {
    "duration": 145,
    "start_time": "2025-03-01T14:05:49.329Z"
   },
   {
    "duration": 20,
    "start_time": "2025-03-01T14:05:49.475Z"
   },
   {
    "duration": 20,
    "start_time": "2025-03-01T14:05:49.497Z"
   },
   {
    "duration": 141,
    "start_time": "2025-03-01T14:05:49.518Z"
   },
   {
    "duration": 56,
    "start_time": "2025-03-01T14:05:49.661Z"
   },
   {
    "duration": 462,
    "start_time": "2025-03-01T14:05:49.718Z"
   },
   {
    "duration": 31,
    "start_time": "2025-03-01T14:05:50.182Z"
   },
   {
    "duration": 23,
    "start_time": "2025-03-01T14:05:50.214Z"
   },
   {
    "duration": 62,
    "start_time": "2025-03-01T14:05:50.238Z"
   },
   {
    "duration": 16,
    "start_time": "2025-03-01T14:05:50.302Z"
   },
   {
    "duration": 67,
    "start_time": "2025-03-01T14:05:50.320Z"
   },
   {
    "duration": 261,
    "start_time": "2025-03-01T14:05:50.388Z"
   },
   {
    "duration": 150,
    "start_time": "2025-03-01T14:05:50.650Z"
   },
   {
    "duration": 15,
    "start_time": "2025-03-01T14:05:50.801Z"
   },
   {
    "duration": 193,
    "start_time": "2025-03-01T14:05:50.817Z"
   },
   {
    "duration": 8,
    "start_time": "2025-03-01T14:05:51.012Z"
   },
   {
    "duration": 194,
    "start_time": "2025-03-01T14:05:51.021Z"
   },
   {
    "duration": 5,
    "start_time": "2025-03-01T14:05:51.216Z"
   },
   {
    "duration": 80,
    "start_time": "2025-03-01T14:05:51.222Z"
   },
   {
    "duration": 151,
    "start_time": "2025-03-01T14:05:51.304Z"
   },
   {
    "duration": 6,
    "start_time": "2025-03-01T14:05:51.457Z"
   },
   {
    "duration": 6,
    "start_time": "2025-03-01T14:14:59.245Z"
   },
   {
    "duration": 1359,
    "start_time": "2025-03-01T17:31:51.307Z"
   },
   {
    "duration": 4445,
    "start_time": "2025-03-01T17:31:52.668Z"
   },
   {
    "duration": 237,
    "start_time": "2025-03-01T17:31:57.115Z"
   },
   {
    "duration": 3,
    "start_time": "2025-03-01T17:31:57.353Z"
   },
   {
    "duration": 1911,
    "start_time": "2025-03-01T17:31:57.357Z"
   },
   {
    "duration": 3,
    "start_time": "2025-03-01T17:31:59.269Z"
   },
   {
    "duration": 80,
    "start_time": "2025-03-01T17:31:59.274Z"
   },
   {
    "duration": 37,
    "start_time": "2025-03-01T17:31:59.356Z"
   },
   {
    "duration": 4,
    "start_time": "2025-03-01T17:31:59.394Z"
   },
   {
    "duration": 8,
    "start_time": "2025-03-01T17:31:59.401Z"
   },
   {
    "duration": 5,
    "start_time": "2025-03-01T17:31:59.410Z"
   },
   {
    "duration": 7,
    "start_time": "2025-03-01T17:31:59.416Z"
   },
   {
    "duration": 241,
    "start_time": "2025-03-01T17:31:59.425Z"
   },
   {
    "duration": 191,
    "start_time": "2025-03-01T17:31:59.668Z"
   },
   {
    "duration": 10,
    "start_time": "2025-03-01T17:31:59.861Z"
   },
   {
    "duration": 154,
    "start_time": "2025-03-01T17:31:59.873Z"
   },
   {
    "duration": 30,
    "start_time": "2025-03-01T17:32:00.029Z"
   },
   {
    "duration": 113,
    "start_time": "2025-03-01T17:32:00.061Z"
   },
   {
    "duration": 16,
    "start_time": "2025-03-01T17:32:00.175Z"
   },
   {
    "duration": 238,
    "start_time": "2025-03-01T17:32:00.194Z"
   },
   {
    "duration": 11,
    "start_time": "2025-03-01T17:32:00.434Z"
   },
   {
    "duration": 457,
    "start_time": "2025-03-01T17:32:00.447Z"
   },
   {
    "duration": 122,
    "start_time": "2025-03-01T17:32:00.913Z"
   },
   {
    "duration": 114,
    "start_time": "2025-03-01T17:32:01.037Z"
   },
   {
    "duration": 66,
    "start_time": "2025-03-01T17:32:01.153Z"
   },
   {
    "duration": 25,
    "start_time": "2025-03-01T17:32:01.220Z"
   },
   {
    "duration": 138,
    "start_time": "2025-03-01T17:32:01.247Z"
   },
   {
    "duration": 7,
    "start_time": "2025-03-01T17:32:01.389Z"
   },
   {
    "duration": 129,
    "start_time": "2025-03-01T17:32:01.397Z"
   },
   {
    "duration": 19,
    "start_time": "2025-03-01T17:32:01.528Z"
   },
   {
    "duration": 12,
    "start_time": "2025-03-01T17:32:01.549Z"
   },
   {
    "duration": 174,
    "start_time": "2025-03-01T17:32:01.562Z"
   },
   {
    "duration": 45,
    "start_time": "2025-03-01T17:32:01.738Z"
   },
   {
    "duration": 494,
    "start_time": "2025-03-01T17:32:01.785Z"
   },
   {
    "duration": 36,
    "start_time": "2025-03-01T17:32:02.281Z"
   },
   {
    "duration": 92,
    "start_time": "2025-03-01T17:32:02.319Z"
   },
   {
    "duration": 83,
    "start_time": "2025-03-01T17:32:02.412Z"
   },
   {
    "duration": 12,
    "start_time": "2025-03-01T17:32:02.497Z"
   },
   {
    "duration": 66,
    "start_time": "2025-03-01T17:32:02.511Z"
   },
   {
    "duration": 287,
    "start_time": "2025-03-01T17:32:02.579Z"
   },
   {
    "duration": 153,
    "start_time": "2025-03-01T17:32:02.867Z"
   },
   {
    "duration": 9,
    "start_time": "2025-03-01T17:32:03.022Z"
   },
   {
    "duration": 225,
    "start_time": "2025-03-01T17:32:03.032Z"
   },
   {
    "duration": 8,
    "start_time": "2025-03-01T17:32:03.258Z"
   },
   {
    "duration": 200,
    "start_time": "2025-03-01T17:32:03.268Z"
   },
   {
    "duration": 5,
    "start_time": "2025-03-01T17:32:03.470Z"
   },
   {
    "duration": 25,
    "start_time": "2025-03-01T17:32:03.477Z"
   },
   {
    "duration": 135,
    "start_time": "2025-03-01T17:32:03.504Z"
   },
   {
    "duration": 7,
    "start_time": "2025-03-01T17:32:03.641Z"
   },
   {
    "duration": 130,
    "start_time": "2025-03-01T17:40:19.548Z"
   },
   {
    "duration": 12,
    "start_time": "2025-03-01T17:40:26.248Z"
   },
   {
    "duration": 11,
    "start_time": "2025-03-01T17:40:38.848Z"
   },
   {
    "duration": 17,
    "start_time": "2025-03-01T17:40:59.438Z"
   },
   {
    "duration": 15,
    "start_time": "2025-03-01T17:43:27.999Z"
   },
   {
    "duration": 20,
    "start_time": "2025-03-01T17:44:43.329Z"
   },
   {
    "duration": 18,
    "start_time": "2025-03-01T17:46:10.509Z"
   },
   {
    "duration": 25,
    "start_time": "2025-03-01T17:46:23.079Z"
   },
   {
    "duration": 19,
    "start_time": "2025-03-01T17:46:41.739Z"
   },
   {
    "duration": 13,
    "start_time": "2025-03-01T17:46:57.319Z"
   },
   {
    "duration": 11,
    "start_time": "2025-03-01T17:47:09.109Z"
   },
   {
    "duration": 12,
    "start_time": "2025-03-01T17:47:19.839Z"
   },
   {
    "duration": 13,
    "start_time": "2025-03-01T17:47:27.168Z"
   },
   {
    "duration": 19,
    "start_time": "2025-03-01T17:47:39.539Z"
   },
   {
    "duration": 13,
    "start_time": "2025-03-01T17:47:49.009Z"
   },
   {
    "duration": 13,
    "start_time": "2025-03-01T17:47:55.419Z"
   },
   {
    "duration": 13,
    "start_time": "2025-03-01T17:48:03.981Z"
   },
   {
    "duration": 14,
    "start_time": "2025-03-01T17:48:27.369Z"
   },
   {
    "duration": 14,
    "start_time": "2025-03-01T17:48:32.219Z"
   },
   {
    "duration": 11,
    "start_time": "2025-03-01T17:49:00.470Z"
   },
   {
    "duration": 12,
    "start_time": "2025-03-01T17:52:26.719Z"
   },
   {
    "duration": 12,
    "start_time": "2025-03-01T17:53:15.010Z"
   },
   {
    "duration": 12,
    "start_time": "2025-03-01T17:54:33.290Z"
   },
   {
    "duration": 12,
    "start_time": "2025-03-01T18:17:44.583Z"
   },
   {
    "duration": 13,
    "start_time": "2025-03-01T18:17:55.733Z"
   },
   {
    "duration": 11,
    "start_time": "2025-03-01T18:18:10.015Z"
   },
   {
    "duration": 11,
    "start_time": "2025-03-01T18:18:21.933Z"
   },
   {
    "duration": 14,
    "start_time": "2025-03-01T18:19:05.894Z"
   },
   {
    "duration": 20,
    "start_time": "2025-03-01T18:19:12.045Z"
   },
   {
    "duration": 14,
    "start_time": "2025-03-01T18:19:41.484Z"
   },
   {
    "duration": 1536,
    "start_time": "2025-03-01T18:19:53.354Z"
   },
   {
    "duration": 16,
    "start_time": "2025-03-01T18:20:07.535Z"
   },
   {
    "duration": 12,
    "start_time": "2025-03-01T18:20:18.035Z"
   },
   {
    "duration": 14,
    "start_time": "2025-03-01T18:21:27.034Z"
   },
   {
    "duration": 15,
    "start_time": "2025-03-01T18:23:58.684Z"
   },
   {
    "duration": 86,
    "start_time": "2025-03-01T18:24:15.305Z"
   },
   {
    "duration": 15,
    "start_time": "2025-03-01T18:24:18.555Z"
   },
   {
    "duration": 33,
    "start_time": "2025-03-01T18:26:51.495Z"
   },
   {
    "duration": 16,
    "start_time": "2025-03-01T18:27:12.855Z"
   },
   {
    "duration": 13,
    "start_time": "2025-03-01T18:28:37.135Z"
   },
   {
    "duration": 13,
    "start_time": "2025-03-01T18:28:46.405Z"
   },
   {
    "duration": 29,
    "start_time": "2025-03-01T18:30:33.435Z"
   },
   {
    "duration": 30,
    "start_time": "2025-03-01T18:30:58.835Z"
   },
   {
    "duration": 32,
    "start_time": "2025-03-01T18:31:02.875Z"
   },
   {
    "duration": 30,
    "start_time": "2025-03-01T18:31:08.945Z"
   },
   {
    "duration": 31,
    "start_time": "2025-03-01T18:33:44.375Z"
   },
   {
    "duration": 33,
    "start_time": "2025-03-01T18:34:18.326Z"
   },
   {
    "duration": 35,
    "start_time": "2025-03-01T18:34:23.417Z"
   },
   {
    "duration": 7,
    "start_time": "2025-03-01T18:34:31.345Z"
   },
   {
    "duration": 30,
    "start_time": "2025-03-01T18:34:37.355Z"
   },
   {
    "duration": 12,
    "start_time": "2025-03-01T18:35:10.576Z"
   },
   {
    "duration": 1236,
    "start_time": "2025-03-01T18:35:38.121Z"
   },
   {
    "duration": 2517,
    "start_time": "2025-03-01T18:35:39.358Z"
   },
   {
    "duration": 272,
    "start_time": "2025-03-01T18:35:41.877Z"
   },
   {
    "duration": 3,
    "start_time": "2025-03-01T18:35:42.151Z"
   },
   {
    "duration": 2080,
    "start_time": "2025-03-01T18:35:42.156Z"
   },
   {
    "duration": 3,
    "start_time": "2025-03-01T18:35:44.238Z"
   },
   {
    "duration": 21,
    "start_time": "2025-03-01T18:35:44.242Z"
   },
   {
    "duration": 130,
    "start_time": "2025-03-01T18:35:44.265Z"
   },
   {
    "duration": 3,
    "start_time": "2025-03-01T18:35:44.397Z"
   },
   {
    "duration": 9,
    "start_time": "2025-03-01T18:35:44.401Z"
   },
   {
    "duration": 4,
    "start_time": "2025-03-01T18:35:44.411Z"
   },
   {
    "duration": 15,
    "start_time": "2025-03-01T18:35:44.416Z"
   },
   {
    "duration": 257,
    "start_time": "2025-03-01T18:35:44.433Z"
   },
   {
    "duration": 256,
    "start_time": "2025-03-01T18:35:44.693Z"
   },
   {
    "duration": 10,
    "start_time": "2025-03-01T18:35:44.950Z"
   },
   {
    "duration": 170,
    "start_time": "2025-03-01T18:35:44.962Z"
   },
   {
    "duration": 24,
    "start_time": "2025-03-01T18:35:45.134Z"
   },
   {
    "duration": 24,
    "start_time": "2025-03-01T18:35:45.160Z"
   },
   {
    "duration": 63,
    "start_time": "2025-03-01T18:35:45.186Z"
   },
   {
    "duration": 251,
    "start_time": "2025-03-01T18:35:45.255Z"
   },
   {
    "duration": 24,
    "start_time": "2025-03-01T18:35:45.508Z"
   },
   {
    "duration": 463,
    "start_time": "2025-03-01T18:35:45.534Z"
   },
   {
    "duration": 130,
    "start_time": "2025-03-01T18:35:45.999Z"
   },
   {
    "duration": 126,
    "start_time": "2025-03-01T18:35:46.131Z"
   },
   {
    "duration": 68,
    "start_time": "2025-03-01T18:35:46.258Z"
   },
   {
    "duration": 60,
    "start_time": "2025-03-01T18:35:46.328Z"
   },
   {
    "duration": 33,
    "start_time": "2025-03-01T18:35:46.390Z"
   },
   {
    "duration": 9,
    "start_time": "2025-03-01T18:35:46.426Z"
   },
   {
    "duration": 167,
    "start_time": "2025-03-01T18:35:46.436Z"
   },
   {
    "duration": 38,
    "start_time": "2025-03-01T18:35:46.605Z"
   },
   {
    "duration": 11,
    "start_time": "2025-03-01T18:35:46.644Z"
   },
   {
    "duration": 154,
    "start_time": "2025-03-01T18:35:46.656Z"
   },
   {
    "duration": 53,
    "start_time": "2025-03-01T18:35:46.814Z"
   },
   {
    "duration": 522,
    "start_time": "2025-03-01T18:35:46.869Z"
   },
   {
    "duration": 36,
    "start_time": "2025-03-01T18:35:47.393Z"
   },
   {
    "duration": 112,
    "start_time": "2025-03-01T18:35:47.430Z"
   },
   {
    "duration": 57,
    "start_time": "2025-03-01T18:35:47.543Z"
   },
   {
    "duration": 29,
    "start_time": "2025-03-01T18:35:47.602Z"
   },
   {
    "duration": 52,
    "start_time": "2025-03-01T18:35:47.633Z"
   },
   {
    "duration": 303,
    "start_time": "2025-03-01T18:35:47.687Z"
   },
   {
    "duration": 169,
    "start_time": "2025-03-01T18:35:47.994Z"
   },
   {
    "duration": 9,
    "start_time": "2025-03-01T18:35:48.165Z"
   },
   {
    "duration": 210,
    "start_time": "2025-03-01T18:35:48.175Z"
   },
   {
    "duration": 8,
    "start_time": "2025-03-01T18:35:48.387Z"
   },
   {
    "duration": 150,
    "start_time": "2025-03-01T18:35:48.396Z"
   },
   {
    "duration": 5,
    "start_time": "2025-03-01T18:35:48.547Z"
   },
   {
    "duration": 42,
    "start_time": "2025-03-01T18:35:48.554Z"
   },
   {
    "duration": 146,
    "start_time": "2025-03-01T18:35:48.598Z"
   },
   {
    "duration": 6,
    "start_time": "2025-03-01T18:35:48.745Z"
   },
   {
    "duration": 12,
    "start_time": "2025-03-01T18:35:48.753Z"
   },
   {
    "duration": 12,
    "start_time": "2025-03-01T18:35:48.767Z"
   },
   {
    "duration": 48,
    "start_time": "2025-03-01T18:35:48.780Z"
   },
   {
    "duration": 54,
    "start_time": "2025-03-01T18:36:28.957Z"
   },
   {
    "duration": 1332,
    "start_time": "2025-03-01T18:36:55.367Z"
   },
   {
    "duration": 2786,
    "start_time": "2025-03-01T18:36:56.701Z"
   },
   {
    "duration": 262,
    "start_time": "2025-03-01T18:36:59.489Z"
   },
   {
    "duration": 3,
    "start_time": "2025-03-01T18:36:59.753Z"
   },
   {
    "duration": 2109,
    "start_time": "2025-03-01T18:36:59.758Z"
   },
   {
    "duration": 3,
    "start_time": "2025-03-01T18:37:01.868Z"
   },
   {
    "duration": 14,
    "start_time": "2025-03-01T18:37:01.873Z"
   },
   {
    "duration": 58,
    "start_time": "2025-03-01T18:37:01.889Z"
   },
   {
    "duration": 3,
    "start_time": "2025-03-01T18:37:01.949Z"
   },
   {
    "duration": 16,
    "start_time": "2025-03-01T18:37:01.954Z"
   },
   {
    "duration": 19,
    "start_time": "2025-03-01T18:37:01.972Z"
   },
   {
    "duration": 13,
    "start_time": "2025-03-01T18:37:01.992Z"
   },
   {
    "duration": 277,
    "start_time": "2025-03-01T18:37:02.006Z"
   },
   {
    "duration": 216,
    "start_time": "2025-03-01T18:37:02.286Z"
   },
   {
    "duration": 26,
    "start_time": "2025-03-01T18:37:02.503Z"
   },
   {
    "duration": 249,
    "start_time": "2025-03-01T18:37:02.532Z"
   },
   {
    "duration": 38,
    "start_time": "2025-03-01T18:37:02.783Z"
   },
   {
    "duration": 33,
    "start_time": "2025-03-01T18:37:02.823Z"
   },
   {
    "duration": 5,
    "start_time": "2025-03-01T18:37:02.858Z"
   },
   {
    "duration": 256,
    "start_time": "2025-03-01T18:37:02.865Z"
   },
   {
    "duration": 22,
    "start_time": "2025-03-01T18:37:03.126Z"
   },
   {
    "duration": 522,
    "start_time": "2025-03-01T18:37:03.150Z"
   },
   {
    "duration": 133,
    "start_time": "2025-03-01T18:37:03.674Z"
   },
   {
    "duration": 142,
    "start_time": "2025-03-01T18:37:03.808Z"
   },
   {
    "duration": 77,
    "start_time": "2025-03-01T18:37:03.952Z"
   },
   {
    "duration": 28,
    "start_time": "2025-03-01T18:37:04.032Z"
   },
   {
    "duration": 27,
    "start_time": "2025-03-01T18:37:04.062Z"
   },
   {
    "duration": 13,
    "start_time": "2025-03-01T18:37:04.090Z"
   },
   {
    "duration": 159,
    "start_time": "2025-03-01T18:37:04.114Z"
   },
   {
    "duration": 21,
    "start_time": "2025-03-01T18:37:04.275Z"
   },
   {
    "duration": 85,
    "start_time": "2025-03-01T18:37:04.298Z"
   },
   {
    "duration": 170,
    "start_time": "2025-03-01T18:37:04.385Z"
   },
   {
    "duration": 42,
    "start_time": "2025-03-01T18:37:04.556Z"
   },
   {
    "duration": 545,
    "start_time": "2025-03-01T18:37:04.623Z"
   },
   {
    "duration": 21,
    "start_time": "2025-03-01T18:37:05.170Z"
   },
   {
    "duration": 49,
    "start_time": "2025-03-01T18:37:05.193Z"
   },
   {
    "duration": 98,
    "start_time": "2025-03-01T18:37:05.244Z"
   },
   {
    "duration": 14,
    "start_time": "2025-03-01T18:37:05.345Z"
   },
   {
    "duration": 79,
    "start_time": "2025-03-01T18:37:05.361Z"
   },
   {
    "duration": 414,
    "start_time": "2025-03-01T18:37:05.442Z"
   },
   {
    "duration": 185,
    "start_time": "2025-03-01T18:37:05.860Z"
   },
   {
    "duration": 9,
    "start_time": "2025-03-01T18:37:06.047Z"
   },
   {
    "duration": 237,
    "start_time": "2025-03-01T18:37:06.057Z"
   },
   {
    "duration": 7,
    "start_time": "2025-03-01T18:37:06.296Z"
   },
   {
    "duration": 191,
    "start_time": "2025-03-01T18:37:06.305Z"
   },
   {
    "duration": 23,
    "start_time": "2025-03-01T18:37:06.498Z"
   },
   {
    "duration": 89,
    "start_time": "2025-03-01T18:37:06.522Z"
   },
   {
    "duration": 166,
    "start_time": "2025-03-01T18:37:06.613Z"
   },
   {
    "duration": 7,
    "start_time": "2025-03-01T18:37:06.781Z"
   },
   {
    "duration": 28,
    "start_time": "2025-03-01T18:37:06.789Z"
   },
   {
    "duration": 24,
    "start_time": "2025-03-01T18:37:06.819Z"
   },
   {
    "duration": 29,
    "start_time": "2025-03-01T18:37:06.845Z"
   },
   {
    "duration": 52,
    "start_time": "2025-03-01T18:37:34.347Z"
   },
   {
    "duration": 1214,
    "start_time": "2025-03-01T18:38:06.548Z"
   },
   {
    "duration": 2582,
    "start_time": "2025-03-01T18:38:07.764Z"
   },
   {
    "duration": 276,
    "start_time": "2025-03-01T18:38:10.348Z"
   },
   {
    "duration": 3,
    "start_time": "2025-03-01T18:38:10.629Z"
   },
   {
    "duration": 1993,
    "start_time": "2025-03-01T18:38:10.634Z"
   },
   {
    "duration": 3,
    "start_time": "2025-03-01T18:38:12.630Z"
   },
   {
    "duration": 7,
    "start_time": "2025-03-01T18:38:12.634Z"
   },
   {
    "duration": 37,
    "start_time": "2025-03-01T18:38:12.643Z"
   },
   {
    "duration": 2,
    "start_time": "2025-03-01T18:38:12.682Z"
   },
   {
    "duration": 30,
    "start_time": "2025-03-01T18:38:12.686Z"
   },
   {
    "duration": 4,
    "start_time": "2025-03-01T18:38:12.726Z"
   },
   {
    "duration": 8,
    "start_time": "2025-03-01T18:38:12.731Z"
   },
   {
    "duration": 264,
    "start_time": "2025-03-01T18:38:12.740Z"
   },
   {
    "duration": 226,
    "start_time": "2025-03-01T18:38:13.017Z"
   },
   {
    "duration": 9,
    "start_time": "2025-03-01T18:38:13.244Z"
   },
   {
    "duration": 160,
    "start_time": "2025-03-01T18:38:13.255Z"
   },
   {
    "duration": 41,
    "start_time": "2025-03-01T18:38:13.416Z"
   },
   {
    "duration": 97,
    "start_time": "2025-03-01T18:38:13.459Z"
   },
   {
    "duration": 5,
    "start_time": "2025-03-01T18:38:13.558Z"
   },
   {
    "duration": 214,
    "start_time": "2025-03-01T18:38:13.565Z"
   },
   {
    "duration": 11,
    "start_time": "2025-03-01T18:38:13.781Z"
   },
   {
    "duration": 484,
    "start_time": "2025-03-01T18:38:13.794Z"
   },
   {
    "duration": 123,
    "start_time": "2025-03-01T18:38:14.280Z"
   },
   {
    "duration": 140,
    "start_time": "2025-03-01T18:38:14.405Z"
   },
   {
    "duration": 69,
    "start_time": "2025-03-01T18:38:14.546Z"
   },
   {
    "duration": 30,
    "start_time": "2025-03-01T18:38:14.618Z"
   },
   {
    "duration": 32,
    "start_time": "2025-03-01T18:38:14.650Z"
   },
   {
    "duration": 7,
    "start_time": "2025-03-01T18:38:14.683Z"
   },
   {
    "duration": 164,
    "start_time": "2025-03-01T18:38:14.691Z"
   },
   {
    "duration": 19,
    "start_time": "2025-03-01T18:38:14.857Z"
   },
   {
    "duration": 10,
    "start_time": "2025-03-01T18:38:14.878Z"
   },
   {
    "duration": 204,
    "start_time": "2025-03-01T18:38:14.890Z"
   },
   {
    "duration": 66,
    "start_time": "2025-03-01T18:38:15.096Z"
   },
   {
    "duration": 576,
    "start_time": "2025-03-01T18:38:15.163Z"
   },
   {
    "duration": 28,
    "start_time": "2025-03-01T18:38:15.744Z"
   },
   {
    "duration": 21,
    "start_time": "2025-03-01T18:38:15.774Z"
   },
   {
    "duration": 97,
    "start_time": "2025-03-01T18:38:15.796Z"
   },
   {
    "duration": 32,
    "start_time": "2025-03-01T18:38:15.895Z"
   },
   {
    "duration": 98,
    "start_time": "2025-03-01T18:38:15.929Z"
   },
   {
    "duration": 147,
    "start_time": "2025-03-01T18:38:16.031Z"
   },
   {
    "duration": 0,
    "start_time": "2025-03-01T18:38:16.181Z"
   },
   {
    "duration": 0,
    "start_time": "2025-03-01T18:38:16.184Z"
   },
   {
    "duration": 0,
    "start_time": "2025-03-01T18:38:16.186Z"
   },
   {
    "duration": 0,
    "start_time": "2025-03-01T18:38:16.187Z"
   },
   {
    "duration": 0,
    "start_time": "2025-03-01T18:38:16.189Z"
   },
   {
    "duration": 0,
    "start_time": "2025-03-01T18:38:16.191Z"
   },
   {
    "duration": 0,
    "start_time": "2025-03-01T18:38:16.193Z"
   },
   {
    "duration": 0,
    "start_time": "2025-03-01T18:38:16.214Z"
   },
   {
    "duration": 0,
    "start_time": "2025-03-01T18:38:16.215Z"
   },
   {
    "duration": 0,
    "start_time": "2025-03-01T18:38:16.220Z"
   },
   {
    "duration": 0,
    "start_time": "2025-03-01T18:38:16.222Z"
   },
   {
    "duration": 0,
    "start_time": "2025-03-01T18:38:16.223Z"
   },
   {
    "duration": 358,
    "start_time": "2025-03-01T18:38:36.277Z"
   },
   {
    "duration": 169,
    "start_time": "2025-03-01T18:38:40.158Z"
   },
   {
    "duration": 1224,
    "start_time": "2025-03-01T18:38:50.238Z"
   },
   {
    "duration": 2563,
    "start_time": "2025-03-01T18:38:51.464Z"
   },
   {
    "duration": 238,
    "start_time": "2025-03-01T18:38:54.031Z"
   },
   {
    "duration": 3,
    "start_time": "2025-03-01T18:38:54.270Z"
   },
   {
    "duration": 2186,
    "start_time": "2025-03-01T18:38:54.276Z"
   },
   {
    "duration": 3,
    "start_time": "2025-03-01T18:38:56.464Z"
   },
   {
    "duration": 6,
    "start_time": "2025-03-01T18:38:56.469Z"
   },
   {
    "duration": 63,
    "start_time": "2025-03-01T18:38:56.477Z"
   },
   {
    "duration": 4,
    "start_time": "2025-03-01T18:38:56.546Z"
   },
   {
    "duration": 38,
    "start_time": "2025-03-01T18:38:56.552Z"
   },
   {
    "duration": 4,
    "start_time": "2025-03-01T18:38:56.592Z"
   },
   {
    "duration": 7,
    "start_time": "2025-03-01T18:38:56.598Z"
   },
   {
    "duration": 248,
    "start_time": "2025-03-01T18:38:56.606Z"
   },
   {
    "duration": 186,
    "start_time": "2025-03-01T18:38:56.857Z"
   },
   {
    "duration": 8,
    "start_time": "2025-03-01T18:38:57.045Z"
   },
   {
    "duration": 287,
    "start_time": "2025-03-01T18:38:57.056Z"
   },
   {
    "duration": 95,
    "start_time": "2025-03-01T18:38:57.345Z"
   },
   {
    "duration": 83,
    "start_time": "2025-03-01T18:38:57.441Z"
   },
   {
    "duration": 40,
    "start_time": "2025-03-01T18:38:57.527Z"
   },
   {
    "duration": 472,
    "start_time": "2025-03-01T18:38:57.569Z"
   },
   {
    "duration": 11,
    "start_time": "2025-03-01T18:38:58.043Z"
   },
   {
    "duration": 846,
    "start_time": "2025-03-01T18:38:58.056Z"
   },
   {
    "duration": 132,
    "start_time": "2025-03-01T18:38:58.904Z"
   },
   {
    "duration": 129,
    "start_time": "2025-03-01T18:38:59.038Z"
   },
   {
    "duration": 75,
    "start_time": "2025-03-01T18:38:59.168Z"
   },
   {
    "duration": 24,
    "start_time": "2025-03-01T18:38:59.245Z"
   },
   {
    "duration": 55,
    "start_time": "2025-03-01T18:38:59.271Z"
   },
   {
    "duration": 9,
    "start_time": "2025-03-01T18:38:59.328Z"
   },
   {
    "duration": 145,
    "start_time": "2025-03-01T18:38:59.338Z"
   },
   {
    "duration": 36,
    "start_time": "2025-03-01T18:38:59.485Z"
   },
   {
    "duration": 20,
    "start_time": "2025-03-01T18:38:59.524Z"
   },
   {
    "duration": 152,
    "start_time": "2025-03-01T18:38:59.546Z"
   },
   {
    "duration": 56,
    "start_time": "2025-03-01T18:38:59.700Z"
   },
   {
    "duration": 531,
    "start_time": "2025-03-01T18:38:59.758Z"
   },
   {
    "duration": 37,
    "start_time": "2025-03-01T18:39:00.291Z"
   },
   {
    "duration": 113,
    "start_time": "2025-03-01T18:39:00.330Z"
   },
   {
    "duration": 76,
    "start_time": "2025-03-01T18:39:00.445Z"
   },
   {
    "duration": 17,
    "start_time": "2025-03-01T18:39:00.523Z"
   },
   {
    "duration": 113,
    "start_time": "2025-03-01T18:39:00.541Z"
   },
   {
    "duration": 316,
    "start_time": "2025-03-01T18:39:00.655Z"
   },
   {
    "duration": 181,
    "start_time": "2025-03-01T18:39:00.975Z"
   },
   {
    "duration": 10,
    "start_time": "2025-03-01T18:39:01.157Z"
   },
   {
    "duration": 225,
    "start_time": "2025-03-01T18:39:01.168Z"
   },
   {
    "duration": 8,
    "start_time": "2025-03-01T18:39:01.394Z"
   },
   {
    "duration": 271,
    "start_time": "2025-03-01T18:39:01.404Z"
   },
   {
    "duration": 6,
    "start_time": "2025-03-01T18:39:01.676Z"
   },
   {
    "duration": 12,
    "start_time": "2025-03-01T18:39:01.683Z"
   },
   {
    "duration": 153,
    "start_time": "2025-03-01T18:39:01.696Z"
   },
   {
    "duration": 6,
    "start_time": "2025-03-01T18:39:01.851Z"
   },
   {
    "duration": 117,
    "start_time": "2025-03-01T18:39:01.858Z"
   },
   {
    "duration": 20,
    "start_time": "2025-03-01T18:39:01.977Z"
   },
   {
    "duration": 38,
    "start_time": "2025-03-01T18:39:01.999Z"
   },
   {
    "duration": 8,
    "start_time": "2025-03-01T18:42:33.988Z"
   },
   {
    "duration": 13,
    "start_time": "2025-03-01T18:42:40.778Z"
   },
   {
    "duration": 64,
    "start_time": "2025-03-02T16:56:33.261Z"
   },
   {
    "duration": 1398,
    "start_time": "2025-03-02T16:56:38.116Z"
   },
   {
    "duration": 4048,
    "start_time": "2025-03-02T16:56:39.517Z"
   },
   {
    "duration": 262,
    "start_time": "2025-03-02T16:56:43.568Z"
   },
   {
    "duration": 3,
    "start_time": "2025-03-02T16:56:43.832Z"
   },
   {
    "duration": 2130,
    "start_time": "2025-03-02T16:56:43.837Z"
   },
   {
    "duration": 3,
    "start_time": "2025-03-02T16:56:45.968Z"
   },
   {
    "duration": 41,
    "start_time": "2025-03-02T16:56:45.973Z"
   },
   {
    "duration": 58,
    "start_time": "2025-03-02T16:56:46.016Z"
   },
   {
    "duration": 3,
    "start_time": "2025-03-02T16:56:46.076Z"
   },
   {
    "duration": 22,
    "start_time": "2025-03-02T16:56:46.082Z"
   },
   {
    "duration": 5,
    "start_time": "2025-03-02T16:56:46.106Z"
   },
   {
    "duration": 20,
    "start_time": "2025-03-02T16:56:46.113Z"
   },
   {
    "duration": 266,
    "start_time": "2025-03-02T16:56:46.135Z"
   },
   {
    "duration": 192,
    "start_time": "2025-03-02T16:56:46.403Z"
   },
   {
    "duration": 7,
    "start_time": "2025-03-02T16:56:46.597Z"
   },
   {
    "duration": 166,
    "start_time": "2025-03-02T16:56:46.606Z"
   },
   {
    "duration": 23,
    "start_time": "2025-03-02T16:56:46.773Z"
   },
   {
    "duration": 19,
    "start_time": "2025-03-02T16:56:46.797Z"
   },
   {
    "duration": 6,
    "start_time": "2025-03-02T16:56:46.818Z"
   },
   {
    "duration": 240,
    "start_time": "2025-03-02T16:56:46.826Z"
   },
   {
    "duration": 15,
    "start_time": "2025-03-02T16:56:47.068Z"
   },
   {
    "duration": 504,
    "start_time": "2025-03-02T16:56:47.085Z"
   },
   {
    "duration": 145,
    "start_time": "2025-03-02T16:56:47.593Z"
   },
   {
    "duration": 146,
    "start_time": "2025-03-02T16:56:47.741Z"
   },
   {
    "duration": 52,
    "start_time": "2025-03-02T16:56:47.889Z"
   },
   {
    "duration": 43,
    "start_time": "2025-03-02T16:56:47.943Z"
   },
   {
    "duration": 33,
    "start_time": "2025-03-02T16:56:47.989Z"
   },
   {
    "duration": 7,
    "start_time": "2025-03-02T16:56:48.026Z"
   },
   {
    "duration": 149,
    "start_time": "2025-03-02T16:56:48.035Z"
   },
   {
    "duration": 20,
    "start_time": "2025-03-02T16:56:48.186Z"
   },
   {
    "duration": 12,
    "start_time": "2025-03-02T16:56:48.208Z"
   },
   {
    "duration": 183,
    "start_time": "2025-03-02T16:56:48.221Z"
   },
   {
    "duration": 48,
    "start_time": "2025-03-02T16:56:48.406Z"
   },
   {
    "duration": 525,
    "start_time": "2025-03-02T16:56:48.455Z"
   },
   {
    "duration": 22,
    "start_time": "2025-03-02T16:56:48.982Z"
   },
   {
    "duration": 18,
    "start_time": "2025-03-02T16:56:49.006Z"
   },
   {
    "duration": 82,
    "start_time": "2025-03-02T16:56:49.026Z"
   },
   {
    "duration": 11,
    "start_time": "2025-03-02T16:56:49.110Z"
   },
   {
    "duration": 66,
    "start_time": "2025-03-02T16:56:49.124Z"
   },
   {
    "duration": 311,
    "start_time": "2025-03-02T16:56:49.192Z"
   },
   {
    "duration": 199,
    "start_time": "2025-03-02T16:56:49.505Z"
   },
   {
    "duration": 8,
    "start_time": "2025-03-02T16:56:49.707Z"
   },
   {
    "duration": 191,
    "start_time": "2025-03-02T16:56:49.717Z"
   },
   {
    "duration": 9,
    "start_time": "2025-03-02T16:56:49.909Z"
   },
   {
    "duration": 139,
    "start_time": "2025-03-02T16:56:49.919Z"
   },
   {
    "duration": 4,
    "start_time": "2025-03-02T16:56:50.060Z"
   },
   {
    "duration": 15,
    "start_time": "2025-03-02T16:56:50.070Z"
   },
   {
    "duration": 169,
    "start_time": "2025-03-02T16:56:50.087Z"
   },
   {
    "duration": 6,
    "start_time": "2025-03-02T16:56:50.258Z"
   },
   {
    "duration": 26,
    "start_time": "2025-03-02T16:56:50.272Z"
   },
   {
    "duration": 13,
    "start_time": "2025-03-02T16:56:50.300Z"
   },
   {
    "duration": 68,
    "start_time": "2025-03-02T16:56:50.315Z"
   },
   {
    "duration": 33,
    "start_time": "2025-03-02T16:59:32.993Z"
   },
   {
    "duration": 12,
    "start_time": "2025-03-02T17:05:54.744Z"
   },
   {
    "duration": 22,
    "start_time": "2025-03-02T17:07:54.286Z"
   },
   {
    "duration": 67,
    "start_time": "2025-03-02T17:22:01.808Z"
   },
   {
    "duration": 9,
    "start_time": "2025-03-02T17:22:06.425Z"
   },
   {
    "duration": 126,
    "start_time": "2025-03-02T17:22:08.414Z"
   },
   {
    "duration": 1227,
    "start_time": "2025-03-02T17:22:15.074Z"
   },
   {
    "duration": 2358,
    "start_time": "2025-03-02T17:22:16.303Z"
   },
   {
    "duration": 266,
    "start_time": "2025-03-02T17:22:18.664Z"
   },
   {
    "duration": 3,
    "start_time": "2025-03-02T17:22:18.932Z"
   },
   {
    "duration": 2316,
    "start_time": "2025-03-02T17:22:18.937Z"
   },
   {
    "duration": 3,
    "start_time": "2025-03-02T17:22:21.254Z"
   },
   {
    "duration": 27,
    "start_time": "2025-03-02T17:22:21.259Z"
   },
   {
    "duration": 43,
    "start_time": "2025-03-02T17:22:21.288Z"
   },
   {
    "duration": 32,
    "start_time": "2025-03-02T17:22:21.333Z"
   },
   {
    "duration": 33,
    "start_time": "2025-03-02T17:22:21.367Z"
   },
   {
    "duration": 51,
    "start_time": "2025-03-02T17:22:21.402Z"
   },
   {
    "duration": 24,
    "start_time": "2025-03-02T17:22:21.454Z"
   },
   {
    "duration": 219,
    "start_time": "2025-03-02T17:22:21.479Z"
   },
   {
    "duration": 178,
    "start_time": "2025-03-02T17:22:21.700Z"
   },
   {
    "duration": 8,
    "start_time": "2025-03-02T17:22:21.879Z"
   },
   {
    "duration": 150,
    "start_time": "2025-03-02T17:22:21.889Z"
   },
   {
    "duration": 30,
    "start_time": "2025-03-02T17:22:22.040Z"
   },
   {
    "duration": 33,
    "start_time": "2025-03-02T17:22:22.071Z"
   },
   {
    "duration": 17,
    "start_time": "2025-03-02T17:22:22.106Z"
   },
   {
    "duration": 230,
    "start_time": "2025-03-02T17:22:22.125Z"
   },
   {
    "duration": 20,
    "start_time": "2025-03-02T17:22:22.357Z"
   },
   {
    "duration": 455,
    "start_time": "2025-03-02T17:22:22.378Z"
   },
   {
    "duration": 123,
    "start_time": "2025-03-02T17:22:22.835Z"
   },
   {
    "duration": 121,
    "start_time": "2025-03-02T17:22:22.959Z"
   },
   {
    "duration": 58,
    "start_time": "2025-03-02T17:22:23.082Z"
   },
   {
    "duration": 50,
    "start_time": "2025-03-02T17:22:23.142Z"
   },
   {
    "duration": 35,
    "start_time": "2025-03-02T17:22:23.194Z"
   },
   {
    "duration": 17,
    "start_time": "2025-03-02T17:22:23.233Z"
   },
   {
    "duration": 149,
    "start_time": "2025-03-02T17:22:23.252Z"
   },
   {
    "duration": 28,
    "start_time": "2025-03-02T17:22:23.403Z"
   },
   {
    "duration": 51,
    "start_time": "2025-03-02T17:22:23.433Z"
   },
   {
    "duration": 182,
    "start_time": "2025-03-02T17:22:23.489Z"
   },
   {
    "duration": 54,
    "start_time": "2025-03-02T17:22:23.673Z"
   },
   {
    "duration": 478,
    "start_time": "2025-03-02T17:22:23.729Z"
   },
   {
    "duration": 23,
    "start_time": "2025-03-02T17:22:24.208Z"
   },
   {
    "duration": 43,
    "start_time": "2025-03-02T17:22:24.233Z"
   },
   {
    "duration": 103,
    "start_time": "2025-03-02T17:22:24.277Z"
   },
   {
    "duration": 12,
    "start_time": "2025-03-02T17:22:24.382Z"
   },
   {
    "duration": 59,
    "start_time": "2025-03-02T17:22:24.396Z"
   },
   {
    "duration": 287,
    "start_time": "2025-03-02T17:22:24.457Z"
   },
   {
    "duration": 156,
    "start_time": "2025-03-02T17:22:24.746Z"
   },
   {
    "duration": 11,
    "start_time": "2025-03-02T17:22:24.904Z"
   },
   {
    "duration": 111,
    "start_time": "2025-03-02T17:22:24.918Z"
   },
   {
    "duration": 8,
    "start_time": "2025-03-02T17:22:25.031Z"
   },
   {
    "duration": 144,
    "start_time": "2025-03-02T17:22:25.040Z"
   },
   {
    "duration": 6,
    "start_time": "2025-03-02T17:22:25.186Z"
   },
   {
    "duration": 45,
    "start_time": "2025-03-02T17:22:25.194Z"
   },
   {
    "duration": 170,
    "start_time": "2025-03-02T17:22:25.241Z"
   },
   {
    "duration": 6,
    "start_time": "2025-03-02T17:22:25.413Z"
   },
   {
    "duration": 36,
    "start_time": "2025-03-02T17:22:25.421Z"
   },
   {
    "duration": 39,
    "start_time": "2025-03-02T17:22:25.458Z"
   },
   {
    "duration": 12,
    "start_time": "2025-03-02T17:22:25.499Z"
   },
   {
    "duration": 47,
    "start_time": "2025-03-02T17:22:25.513Z"
   },
   {
    "duration": 4,
    "start_time": "2025-03-02T17:24:45.254Z"
   },
   {
    "duration": 5,
    "start_time": "2025-03-02T17:24:48.988Z"
   },
   {
    "duration": 15,
    "start_time": "2025-03-02T17:26:06.066Z"
   },
   {
    "duration": 14,
    "start_time": "2025-03-02T17:26:10.816Z"
   },
   {
    "duration": 71,
    "start_time": "2025-03-02T17:27:47.043Z"
   },
   {
    "duration": 12,
    "start_time": "2025-03-02T17:27:52.191Z"
   },
   {
    "duration": 13,
    "start_time": "2025-03-02T17:27:53.953Z"
   },
   {
    "duration": 10,
    "start_time": "2025-03-02T17:29:33.329Z"
   },
   {
    "duration": 13,
    "start_time": "2025-03-02T17:29:34.393Z"
   },
   {
    "duration": 13,
    "start_time": "2025-03-02T17:36:29.842Z"
   },
   {
    "duration": 13,
    "start_time": "2025-03-02T17:42:47.196Z"
   },
   {
    "duration": 14,
    "start_time": "2025-03-02T17:43:16.395Z"
   },
   {
    "duration": 15,
    "start_time": "2025-03-02T17:43:44.721Z"
   },
   {
    "duration": 8,
    "start_time": "2025-03-02T17:45:25.045Z"
   },
   {
    "duration": 6,
    "start_time": "2025-03-02T17:45:29.606Z"
   },
   {
    "duration": 9,
    "start_time": "2025-03-02T17:47:02.846Z"
   },
   {
    "duration": 9,
    "start_time": "2025-03-02T17:47:22.407Z"
   },
   {
    "duration": 8,
    "start_time": "2025-03-02T17:47:39.947Z"
   },
   {
    "duration": 7,
    "start_time": "2025-03-02T17:47:46.396Z"
   },
   {
    "duration": 7,
    "start_time": "2025-03-02T17:47:51.535Z"
   },
   {
    "duration": 11,
    "start_time": "2025-03-02T17:48:50.675Z"
   },
   {
    "duration": 7,
    "start_time": "2025-03-02T17:48:59.049Z"
   },
   {
    "duration": 12,
    "start_time": "2025-03-02T17:59:05.742Z"
   },
   {
    "duration": 9,
    "start_time": "2025-03-02T17:59:16.317Z"
   },
   {
    "duration": 116,
    "start_time": "2025-03-02T18:00:01.266Z"
   },
   {
    "duration": 7,
    "start_time": "2025-03-02T18:00:04.104Z"
   },
   {
    "duration": 13,
    "start_time": "2025-03-02T18:00:37.079Z"
   },
   {
    "duration": 19,
    "start_time": "2025-03-02T18:00:39.679Z"
   },
   {
    "duration": 9,
    "start_time": "2025-03-02T18:00:48.018Z"
   },
   {
    "duration": 7,
    "start_time": "2025-03-02T18:00:55.843Z"
   },
   {
    "duration": 8,
    "start_time": "2025-03-02T18:00:59.329Z"
   },
   {
    "duration": 6,
    "start_time": "2025-03-02T18:01:04.217Z"
   },
   {
    "duration": 9,
    "start_time": "2025-03-02T18:02:04.769Z"
   },
   {
    "duration": 11,
    "start_time": "2025-03-02T18:04:14.032Z"
   },
   {
    "duration": 10,
    "start_time": "2025-03-02T18:04:20.006Z"
   },
   {
    "duration": 131,
    "start_time": "2025-03-02T18:04:28.394Z"
   },
   {
    "duration": 121,
    "start_time": "2025-03-02T18:04:50.787Z"
   },
   {
    "duration": 233,
    "start_time": "2025-03-02T18:05:52.670Z"
   },
   {
    "duration": 134,
    "start_time": "2025-03-02T18:06:13.334Z"
   },
   {
    "duration": 9,
    "start_time": "2025-03-02T18:41:25.632Z"
   },
   {
    "duration": 11,
    "start_time": "2025-03-02T18:41:37.582Z"
   },
   {
    "duration": 1206,
    "start_time": "2025-03-02T18:41:42.725Z"
   },
   {
    "duration": 2406,
    "start_time": "2025-03-02T18:41:43.933Z"
   },
   {
    "duration": 270,
    "start_time": "2025-03-02T18:41:46.341Z"
   },
   {
    "duration": 3,
    "start_time": "2025-03-02T18:41:46.613Z"
   },
   {
    "duration": 2255,
    "start_time": "2025-03-02T18:41:46.617Z"
   },
   {
    "duration": 9,
    "start_time": "2025-03-02T18:41:48.876Z"
   },
   {
    "duration": 51,
    "start_time": "2025-03-02T18:41:48.886Z"
   },
   {
    "duration": 66,
    "start_time": "2025-03-02T18:41:48.939Z"
   },
   {
    "duration": 3,
    "start_time": "2025-03-02T18:41:49.007Z"
   },
   {
    "duration": 26,
    "start_time": "2025-03-02T18:41:49.012Z"
   },
   {
    "duration": 20,
    "start_time": "2025-03-02T18:41:49.039Z"
   },
   {
    "duration": 25,
    "start_time": "2025-03-02T18:41:49.061Z"
   },
   {
    "duration": 255,
    "start_time": "2025-03-02T18:41:49.088Z"
   },
   {
    "duration": 221,
    "start_time": "2025-03-02T18:41:49.345Z"
   },
   {
    "duration": 16,
    "start_time": "2025-03-02T18:41:49.569Z"
   },
   {
    "duration": 162,
    "start_time": "2025-03-02T18:41:49.588Z"
   },
   {
    "duration": 36,
    "start_time": "2025-03-02T18:41:49.751Z"
   },
   {
    "duration": 19,
    "start_time": "2025-03-02T18:41:49.789Z"
   },
   {
    "duration": 6,
    "start_time": "2025-03-02T18:41:49.809Z"
   },
   {
    "duration": 234,
    "start_time": "2025-03-02T18:41:49.816Z"
   },
   {
    "duration": 34,
    "start_time": "2025-03-02T18:41:50.051Z"
   },
   {
    "duration": 462,
    "start_time": "2025-03-02T18:41:50.087Z"
   },
   {
    "duration": 134,
    "start_time": "2025-03-02T18:41:50.551Z"
   },
   {
    "duration": 119,
    "start_time": "2025-03-02T18:41:50.687Z"
   },
   {
    "duration": 67,
    "start_time": "2025-03-02T18:41:50.808Z"
   },
   {
    "duration": 23,
    "start_time": "2025-03-02T18:41:50.880Z"
   },
   {
    "duration": 28,
    "start_time": "2025-03-02T18:41:50.904Z"
   },
   {
    "duration": 7,
    "start_time": "2025-03-02T18:41:50.935Z"
   },
   {
    "duration": 150,
    "start_time": "2025-03-02T18:41:50.944Z"
   },
   {
    "duration": 20,
    "start_time": "2025-03-02T18:41:51.096Z"
   },
   {
    "duration": 17,
    "start_time": "2025-03-02T18:41:51.118Z"
   },
   {
    "duration": 166,
    "start_time": "2025-03-02T18:41:51.136Z"
   },
   {
    "duration": 46,
    "start_time": "2025-03-02T18:41:51.304Z"
   },
   {
    "duration": 533,
    "start_time": "2025-03-02T18:41:51.352Z"
   },
   {
    "duration": 24,
    "start_time": "2025-03-02T18:41:51.887Z"
   },
   {
    "duration": 27,
    "start_time": "2025-03-02T18:41:51.912Z"
   },
   {
    "duration": 98,
    "start_time": "2025-03-02T18:41:51.940Z"
   },
   {
    "duration": 13,
    "start_time": "2025-03-02T18:41:52.039Z"
   },
   {
    "duration": 104,
    "start_time": "2025-03-02T18:41:52.053Z"
   },
   {
    "duration": 279,
    "start_time": "2025-03-02T18:41:52.158Z"
   },
   {
    "duration": 168,
    "start_time": "2025-03-02T18:41:52.439Z"
   },
   {
    "duration": 9,
    "start_time": "2025-03-02T18:41:52.609Z"
   },
   {
    "duration": 107,
    "start_time": "2025-03-02T18:41:52.619Z"
   },
   {
    "duration": 8,
    "start_time": "2025-03-02T18:41:52.727Z"
   },
   {
    "duration": 145,
    "start_time": "2025-03-02T18:41:52.736Z"
   },
   {
    "duration": 8,
    "start_time": "2025-03-02T18:41:52.882Z"
   },
   {
    "duration": 34,
    "start_time": "2025-03-02T18:41:52.891Z"
   },
   {
    "duration": 135,
    "start_time": "2025-03-02T18:41:52.927Z"
   },
   {
    "duration": 13,
    "start_time": "2025-03-02T18:41:53.064Z"
   },
   {
    "duration": 187,
    "start_time": "2025-03-02T18:41:53.087Z"
   },
   {
    "duration": 66,
    "start_time": "2025-03-02T18:41:53.279Z"
   },
   {
    "duration": 44,
    "start_time": "2025-03-02T18:41:53.347Z"
   },
   {
    "duration": 14,
    "start_time": "2025-03-02T18:41:53.394Z"
   },
   {
    "duration": 31,
    "start_time": "2025-03-02T18:41:53.409Z"
   },
   {
    "duration": 147,
    "start_time": "2025-03-02T18:41:53.442Z"
   },
   {
    "duration": 1187,
    "start_time": "2025-03-02T18:57:10.092Z"
   },
   {
    "duration": 4113,
    "start_time": "2025-03-02T18:57:11.282Z"
   },
   {
    "duration": 252,
    "start_time": "2025-03-02T18:57:15.397Z"
   },
   {
    "duration": 3,
    "start_time": "2025-03-02T18:57:15.651Z"
   },
   {
    "duration": 2455,
    "start_time": "2025-03-02T18:57:15.655Z"
   },
   {
    "duration": 3,
    "start_time": "2025-03-02T18:57:18.111Z"
   },
   {
    "duration": 32,
    "start_time": "2025-03-02T18:57:18.116Z"
   },
   {
    "duration": 82,
    "start_time": "2025-03-02T18:57:18.149Z"
   },
   {
    "duration": 3,
    "start_time": "2025-03-02T18:57:18.232Z"
   },
   {
    "duration": 31,
    "start_time": "2025-03-02T18:57:18.238Z"
   },
   {
    "duration": 33,
    "start_time": "2025-03-02T18:57:18.270Z"
   },
   {
    "duration": 36,
    "start_time": "2025-03-02T18:57:18.304Z"
   },
   {
    "duration": 263,
    "start_time": "2025-03-02T18:57:18.342Z"
   },
   {
    "duration": 191,
    "start_time": "2025-03-02T18:57:18.607Z"
   },
   {
    "duration": 8,
    "start_time": "2025-03-02T18:57:18.800Z"
   },
   {
    "duration": 152,
    "start_time": "2025-03-02T18:57:18.810Z"
   },
   {
    "duration": 41,
    "start_time": "2025-03-02T18:57:18.964Z"
   },
   {
    "duration": 20,
    "start_time": "2025-03-02T18:57:19.007Z"
   },
   {
    "duration": 34,
    "start_time": "2025-03-02T18:57:19.028Z"
   },
   {
    "duration": 246,
    "start_time": "2025-03-02T18:57:19.064Z"
   },
   {
    "duration": 12,
    "start_time": "2025-03-02T18:57:19.312Z"
   },
   {
    "duration": 458,
    "start_time": "2025-03-02T18:57:19.325Z"
   },
   {
    "duration": 131,
    "start_time": "2025-03-02T18:57:19.785Z"
   },
   {
    "duration": 128,
    "start_time": "2025-03-02T18:57:19.917Z"
   },
   {
    "duration": 70,
    "start_time": "2025-03-02T18:57:20.047Z"
   },
   {
    "duration": 24,
    "start_time": "2025-03-02T18:57:20.119Z"
   },
   {
    "duration": 43,
    "start_time": "2025-03-02T18:57:20.145Z"
   },
   {
    "duration": 13,
    "start_time": "2025-03-02T18:57:20.191Z"
   },
   {
    "duration": 158,
    "start_time": "2025-03-02T18:57:20.206Z"
   },
   {
    "duration": 20,
    "start_time": "2025-03-02T18:57:20.366Z"
   },
   {
    "duration": 44,
    "start_time": "2025-03-02T18:57:20.388Z"
   },
   {
    "duration": 158,
    "start_time": "2025-03-02T18:57:20.433Z"
   },
   {
    "duration": 44,
    "start_time": "2025-03-02T18:57:20.593Z"
   },
   {
    "duration": 548,
    "start_time": "2025-03-02T18:57:20.638Z"
   },
   {
    "duration": 24,
    "start_time": "2025-03-02T18:57:21.188Z"
   },
   {
    "duration": 50,
    "start_time": "2025-03-02T18:57:21.213Z"
   },
   {
    "duration": 107,
    "start_time": "2025-03-02T18:57:21.264Z"
   },
   {
    "duration": 13,
    "start_time": "2025-03-02T18:57:21.373Z"
   },
   {
    "duration": 68,
    "start_time": "2025-03-02T18:57:21.387Z"
   },
   {
    "duration": 317,
    "start_time": "2025-03-02T18:57:21.457Z"
   },
   {
    "duration": 164,
    "start_time": "2025-03-02T18:57:21.775Z"
   },
   {
    "duration": 10,
    "start_time": "2025-03-02T18:57:21.941Z"
   },
   {
    "duration": 70,
    "start_time": "2025-03-02T18:57:21.961Z"
   },
   {
    "duration": 9,
    "start_time": "2025-03-02T18:57:22.033Z"
   },
   {
    "duration": 134,
    "start_time": "2025-03-02T18:57:22.062Z"
   },
   {
    "duration": 5,
    "start_time": "2025-03-02T18:57:22.198Z"
   },
   {
    "duration": 41,
    "start_time": "2025-03-02T18:57:22.205Z"
   },
   {
    "duration": 133,
    "start_time": "2025-03-02T18:57:22.248Z"
   },
   {
    "duration": 6,
    "start_time": "2025-03-02T18:57:22.383Z"
   },
   {
    "duration": 51,
    "start_time": "2025-03-02T18:57:22.391Z"
   },
   {
    "duration": 31,
    "start_time": "2025-03-02T18:57:22.444Z"
   },
   {
    "duration": 35,
    "start_time": "2025-03-02T18:57:22.477Z"
   },
   {
    "duration": 25,
    "start_time": "2025-03-02T18:57:22.514Z"
   },
   {
    "duration": 18,
    "start_time": "2025-03-02T18:57:22.541Z"
   },
   {
    "duration": 150,
    "start_time": "2025-03-02T18:57:22.561Z"
   },
   {
    "duration": 1530,
    "start_time": "2025-03-03T05:31:26.493Z"
   },
   {
    "duration": 4590,
    "start_time": "2025-03-03T05:31:28.026Z"
   },
   {
    "duration": 264,
    "start_time": "2025-03-03T05:31:32.618Z"
   },
   {
    "duration": 3,
    "start_time": "2025-03-03T05:31:32.885Z"
   },
   {
    "duration": 2623,
    "start_time": "2025-03-03T05:31:32.892Z"
   },
   {
    "duration": 4,
    "start_time": "2025-03-03T05:31:35.517Z"
   },
   {
    "duration": 11,
    "start_time": "2025-03-03T05:31:35.522Z"
   },
   {
    "duration": 55,
    "start_time": "2025-03-03T05:31:35.535Z"
   },
   {
    "duration": 16,
    "start_time": "2025-03-03T05:31:35.592Z"
   },
   {
    "duration": 87,
    "start_time": "2025-03-03T05:31:35.611Z"
   },
   {
    "duration": 66,
    "start_time": "2025-03-03T05:31:35.700Z"
   },
   {
    "duration": 31,
    "start_time": "2025-03-03T05:31:35.768Z"
   },
   {
    "duration": 276,
    "start_time": "2025-03-03T05:31:35.801Z"
   },
   {
    "duration": 210,
    "start_time": "2025-03-03T05:31:36.080Z"
   },
   {
    "duration": 10,
    "start_time": "2025-03-03T05:31:36.292Z"
   },
   {
    "duration": 165,
    "start_time": "2025-03-03T05:31:36.304Z"
   },
   {
    "duration": 25,
    "start_time": "2025-03-03T05:31:36.471Z"
   },
   {
    "duration": 23,
    "start_time": "2025-03-03T05:31:36.498Z"
   },
   {
    "duration": 14,
    "start_time": "2025-03-03T05:31:36.523Z"
   },
   {
    "duration": 239,
    "start_time": "2025-03-03T05:31:36.561Z"
   },
   {
    "duration": 13,
    "start_time": "2025-03-03T05:31:36.802Z"
   },
   {
    "duration": 489,
    "start_time": "2025-03-03T05:31:36.817Z"
   },
   {
    "duration": 144,
    "start_time": "2025-03-03T05:31:37.309Z"
   },
   {
    "duration": 138,
    "start_time": "2025-03-03T05:31:37.455Z"
   },
   {
    "duration": 73,
    "start_time": "2025-03-03T05:31:37.595Z"
   },
   {
    "duration": 147,
    "start_time": "2025-03-03T05:31:37.670Z"
   },
   {
    "duration": 44,
    "start_time": "2025-03-03T05:31:37.820Z"
   },
   {
    "duration": 8,
    "start_time": "2025-03-03T05:31:37.866Z"
   },
   {
    "duration": 156,
    "start_time": "2025-03-03T05:31:37.876Z"
   },
   {
    "duration": 36,
    "start_time": "2025-03-03T05:31:38.034Z"
   },
   {
    "duration": 13,
    "start_time": "2025-03-03T05:31:38.072Z"
   },
   {
    "duration": 176,
    "start_time": "2025-03-03T05:31:38.087Z"
   },
   {
    "duration": 51,
    "start_time": "2025-03-03T05:31:38.265Z"
   },
   {
    "duration": 585,
    "start_time": "2025-03-03T05:31:38.317Z"
   },
   {
    "duration": 26,
    "start_time": "2025-03-03T05:31:38.904Z"
   },
   {
    "duration": 42,
    "start_time": "2025-03-03T05:31:38.931Z"
   },
   {
    "duration": 73,
    "start_time": "2025-03-03T05:31:38.975Z"
   },
   {
    "duration": 23,
    "start_time": "2025-03-03T05:31:39.050Z"
   },
   {
    "duration": 59,
    "start_time": "2025-03-03T05:31:39.074Z"
   },
   {
    "duration": 329,
    "start_time": "2025-03-03T05:31:39.135Z"
   },
   {
    "duration": 175,
    "start_time": "2025-03-03T05:31:39.468Z"
   },
   {
    "duration": 16,
    "start_time": "2025-03-03T05:31:39.645Z"
   },
   {
    "duration": 192,
    "start_time": "2025-03-03T05:31:39.663Z"
   },
   {
    "duration": 10,
    "start_time": "2025-03-03T05:31:39.856Z"
   },
   {
    "duration": 147,
    "start_time": "2025-03-03T05:31:39.868Z"
   },
   {
    "duration": 6,
    "start_time": "2025-03-03T05:31:40.017Z"
   },
   {
    "duration": 25,
    "start_time": "2025-03-03T05:31:40.025Z"
   },
   {
    "duration": 175,
    "start_time": "2025-03-03T05:31:40.052Z"
   },
   {
    "duration": 8,
    "start_time": "2025-03-03T05:31:40.229Z"
   },
   {
    "duration": 31,
    "start_time": "2025-03-03T05:31:40.239Z"
   },
   {
    "duration": 17,
    "start_time": "2025-03-03T05:31:40.272Z"
   },
   {
    "duration": 16,
    "start_time": "2025-03-03T05:31:40.291Z"
   },
   {
    "duration": 31,
    "start_time": "2025-03-03T05:31:40.309Z"
   },
   {
    "duration": 8,
    "start_time": "2025-03-03T05:31:40.342Z"
   },
   {
    "duration": 158,
    "start_time": "2025-03-03T05:31:40.352Z"
   },
   {
    "duration": 15,
    "start_time": "2025-03-03T05:33:48.897Z"
   },
   {
    "duration": 163,
    "start_time": "2025-03-03T05:33:52.198Z"
   },
   {
    "duration": 1364,
    "start_time": "2025-03-03T05:34:01.578Z"
   },
   {
    "duration": 2834,
    "start_time": "2025-03-03T05:34:02.944Z"
   },
   {
    "duration": 269,
    "start_time": "2025-03-03T05:34:05.780Z"
   },
   {
    "duration": 3,
    "start_time": "2025-03-03T05:34:06.051Z"
   },
   {
    "duration": 2638,
    "start_time": "2025-03-03T05:34:06.061Z"
   },
   {
    "duration": 4,
    "start_time": "2025-03-03T05:34:08.701Z"
   },
   {
    "duration": 8,
    "start_time": "2025-03-03T05:34:08.707Z"
   },
   {
    "duration": 57,
    "start_time": "2025-03-03T05:34:08.717Z"
   },
   {
    "duration": 5,
    "start_time": "2025-03-03T05:34:08.776Z"
   },
   {
    "duration": 9,
    "start_time": "2025-03-03T05:34:08.783Z"
   },
   {
    "duration": 6,
    "start_time": "2025-03-03T05:34:08.794Z"
   },
   {
    "duration": 39,
    "start_time": "2025-03-03T05:34:08.801Z"
   },
   {
    "duration": 288,
    "start_time": "2025-03-03T05:34:08.841Z"
   },
   {
    "duration": 211,
    "start_time": "2025-03-03T05:34:09.133Z"
   },
   {
    "duration": 20,
    "start_time": "2025-03-03T05:34:09.346Z"
   },
   {
    "duration": 179,
    "start_time": "2025-03-03T05:34:09.369Z"
   },
   {
    "duration": 53,
    "start_time": "2025-03-03T05:34:09.550Z"
   },
   {
    "duration": 24,
    "start_time": "2025-03-03T05:34:09.605Z"
   },
   {
    "duration": 7,
    "start_time": "2025-03-03T05:34:09.631Z"
   },
   {
    "duration": 398,
    "start_time": "2025-03-03T05:34:09.640Z"
   },
   {
    "duration": 22,
    "start_time": "2025-03-03T05:34:10.040Z"
   },
   {
    "duration": 532,
    "start_time": "2025-03-03T05:34:10.064Z"
   },
   {
    "duration": 153,
    "start_time": "2025-03-03T05:34:10.597Z"
   },
   {
    "duration": 150,
    "start_time": "2025-03-03T05:34:10.752Z"
   },
   {
    "duration": 80,
    "start_time": "2025-03-03T05:34:10.904Z"
   },
   {
    "duration": 30,
    "start_time": "2025-03-03T05:34:10.986Z"
   },
   {
    "duration": 64,
    "start_time": "2025-03-03T05:34:11.018Z"
   },
   {
    "duration": 9,
    "start_time": "2025-03-03T05:34:11.085Z"
   },
   {
    "duration": 165,
    "start_time": "2025-03-03T05:34:11.096Z"
   },
   {
    "duration": 26,
    "start_time": "2025-03-03T05:34:11.263Z"
   },
   {
    "duration": 16,
    "start_time": "2025-03-03T05:34:11.290Z"
   },
   {
    "duration": 185,
    "start_time": "2025-03-03T05:34:11.309Z"
   },
   {
    "duration": 50,
    "start_time": "2025-03-03T05:34:11.496Z"
   },
   {
    "duration": 615,
    "start_time": "2025-03-03T05:34:11.562Z"
   },
   {
    "duration": 28,
    "start_time": "2025-03-03T05:34:12.179Z"
   },
   {
    "duration": 28,
    "start_time": "2025-03-03T05:34:12.209Z"
   },
   {
    "duration": 69,
    "start_time": "2025-03-03T05:34:12.262Z"
   },
   {
    "duration": 28,
    "start_time": "2025-03-03T05:34:12.333Z"
   },
   {
    "duration": 60,
    "start_time": "2025-03-03T05:34:12.365Z"
   },
   {
    "duration": 343,
    "start_time": "2025-03-03T05:34:12.427Z"
   },
   {
    "duration": 188,
    "start_time": "2025-03-03T05:34:12.776Z"
   },
   {
    "duration": 12,
    "start_time": "2025-03-03T05:34:12.967Z"
   },
   {
    "duration": 108,
    "start_time": "2025-03-03T05:34:12.982Z"
   },
   {
    "duration": 10,
    "start_time": "2025-03-03T05:34:13.092Z"
   },
   {
    "duration": 159,
    "start_time": "2025-03-03T05:34:13.104Z"
   },
   {
    "duration": 6,
    "start_time": "2025-03-03T05:34:13.265Z"
   },
   {
    "duration": 12,
    "start_time": "2025-03-03T05:34:13.274Z"
   },
   {
    "duration": 193,
    "start_time": "2025-03-03T05:34:13.288Z"
   },
   {
    "duration": 12,
    "start_time": "2025-03-03T05:34:13.483Z"
   },
   {
    "duration": 15,
    "start_time": "2025-03-03T05:34:13.498Z"
   },
   {
    "duration": 52,
    "start_time": "2025-03-03T05:34:13.516Z"
   },
   {
    "duration": 10,
    "start_time": "2025-03-03T05:34:13.571Z"
   },
   {
    "duration": 17,
    "start_time": "2025-03-03T05:34:13.583Z"
   },
   {
    "duration": 13,
    "start_time": "2025-03-03T05:34:13.602Z"
   },
   {
    "duration": 359,
    "start_time": "2025-03-03T05:34:13.618Z"
   },
   {
    "duration": 14,
    "start_time": "2025-03-03T05:35:04.277Z"
   },
   {
    "duration": 155,
    "start_time": "2025-03-03T05:35:07.778Z"
   }
  ],
  "colab": {
   "provenance": []
  },
  "kernelspec": {
   "display_name": "Python 3 (ipykernel)",
   "language": "python",
   "name": "python3"
  },
  "language_info": {
   "codemirror_mode": {
    "name": "ipython",
    "version": 3
   },
   "file_extension": ".py",
   "mimetype": "text/x-python",
   "name": "python",
   "nbconvert_exporter": "python",
   "pygments_lexer": "ipython3",
   "version": "3.13.1"
  },
  "toc": {
   "base_numbering": 1,
   "nav_menu": {},
   "number_sections": true,
   "sideBar": true,
   "skip_h1_title": true,
   "title_cell": "Table of Contents",
   "title_sidebar": "Contents",
   "toc_cell": false,
   "toc_position": {
    "height": "calc(100% - 180px)",
    "left": "10px",
    "top": "150px",
    "width": "446.719px"
   },
   "toc_section_display": true,
   "toc_window_display": true
  }
 },
 "nbformat": 4,
 "nbformat_minor": 4
}
